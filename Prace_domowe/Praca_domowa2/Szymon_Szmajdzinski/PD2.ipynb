{
 "cells": [
  {
   "cell_type": "markdown",
   "metadata": {},
   "source": [
    "# Praca domowa 2\n",
    "## Simple convolution"
   ]
  },
  {
   "cell_type": "code",
   "execution_count": 1,
   "metadata": {},
   "outputs": [],
   "source": [
    "import cv2 \n",
    "from PIL import Image\n",
    "import numpy as np"
   ]
  },
  {
   "cell_type": "code",
   "execution_count": 2,
   "metadata": {},
   "outputs": [],
   "source": [
    "def processImage(image, color = False): \n",
    "    image = cv2.imread(image) \n",
    "    if color:\n",
    "        image = cv2.cvtColor(src=image, code=cv2.COLOR_BGR2RGB)\n",
    "    else:\n",
    "        image = cv2.cvtColor(src=image, code=cv2.COLOR_BGR2GRAY)  \n",
    "    return image\n",
    "\n",
    "image = processImage('Image.jpg')"
   ]
  },
  {
   "cell_type": "code",
   "execution_count": 3,
   "metadata": {},
   "outputs": [],
   "source": [
    "def convolve2D(image, kernels, strides=1):\n",
    "\n",
    "    x_ker, y_ker = kernels[0].shape\n",
    "    \n",
    "    # Jeśli obrazek jest kolorowy to wtedy jest troche inaczej \n",
    "    if len(image.shape) == 3:\n",
    "        x_size, y_size, z_size = image.shape\n",
    "    else: \n",
    "        x_size, y_size = image.shape\n",
    "        z_size = 1\n",
    "    \n",
    "    # Wymiary macierzy wyjściowej\n",
    "    x_out = int(((x_size - x_ker) / strides))+ 1\n",
    "    y_out = int(((y_size - y_ker) / strides)) + 1\n",
    "    z_out = z_size\n",
    "    \n",
    "    # Lista macierzy wyjściowych. Tyle wyników ile różnych filtrów\n",
    "    output_list = [0] * len(kernels)\n",
    "    out_index = 0\n",
    "    \n",
    "    for kernel in kernels:\n",
    "        output_RGB = np.zeros((x_out, y_out, z_out))\n",
    "        for i in range(z_out):\n",
    "            for y in range(0, y_size - y_ker, strides):\n",
    "                for x in range(0, x_size - x_ker, strides):\n",
    "                    # Warunek if aby mogła być jedna funkcja do kolorowych i zwykłych obrazków\n",
    "                    if len(image.shape) == 3:\n",
    "                        output_RGB[x// strides, y// strides, 2 - i] = int((kernel * image[x: x + x_ker, y: y + y_ker, i]).sum())\n",
    "                    else: \n",
    "                        output_RGB[x// strides, y// strides] = int((kernel * image[x: x + x_ker, y: y + y_ker]).sum())\n",
    "                    \n",
    "        output_list[out_index] = output_RGB\n",
    "        out_index += 1\n",
    "\n",
    "    return output_list"
   ]
  },
  {
   "cell_type": "markdown",
   "metadata": {},
   "source": [
    "### Obrazek czarno-biały "
   ]
  },
  {
   "cell_type": "code",
   "execution_count": 4,
   "metadata": {},
   "outputs": [],
   "source": [
    "kernel = [np.array([[1, 1, 1], [1, -8, 1], [1, 1, 1]])]\n",
    "output = convolve2D(image, kernel)\n",
    "#cv2.imwrite('pies1.jpeg', output[0])\n"
   ]
  },
  {
   "cell_type": "markdown",
   "metadata": {},
   "source": [
    "<img src=\"pies1.jpeg\">"
   ]
  },
  {
   "cell_type": "markdown",
   "metadata": {},
   "source": [
    "### Obrazek czarno-biały i wiele filtów "
   ]
  },
  {
   "cell_type": "code",
   "execution_count": 5,
   "metadata": {},
   "outputs": [],
   "source": [
    "kernel = [np.array([[1, 1, 1], [1, -8, 1], [1, 1, 1]]), np.array([[1, -1, 0], [-2, 8, 0], [0, -2, -3]])]\n",
    "output = convolve2D(image, kernel)\n",
    "#cv2.imwrite('pies4.jpeg', output[1])\n"
   ]
  },
  {
   "cell_type": "markdown",
   "metadata": {},
   "source": [
    "<img src=\"pies4.jpeg\">"
   ]
  },
  {
   "cell_type": "markdown",
   "metadata": {},
   "source": [
    "### Obrazek kolorowy"
   ]
  },
  {
   "cell_type": "code",
   "execution_count": 6,
   "metadata": {},
   "outputs": [],
   "source": [
    "kernel = [np.array([[1, -1, 0], [-2, 8, 0], [0, -2, -3]])]\n",
    "image = cv2.imread('Image.jpg') \n",
    "image = cv2.cvtColor(src=image, code=cv2.COLOR_BGR2RGB) \n",
    "output = convolve2D(image, kernel)\n",
    "#cv2.imwrite('pies2.jpeg', output[0])\n"
   ]
  },
  {
   "cell_type": "markdown",
   "metadata": {},
   "source": [
    "<img src=\"pies2.jpeg\">"
   ]
  },
  {
   "cell_type": "markdown",
   "metadata": {},
   "source": [
    "## Convolution using matrix multiplication"
   ]
  },
  {
   "cell_type": "code",
   "execution_count": 7,
   "metadata": {},
   "outputs": [],
   "source": [
    "def im2col(x,hh,ww,stride):\n",
    "    # x - macierz wejściowa\n",
    "    # hh - wysokość kernela\n",
    "    # ww - szerokość kernela\n",
    "    \n",
    "    h,w = x.shape\n",
    "    new_h = (h-hh) // stride + 1\n",
    "    new_w = (w-ww) // stride + 1\n",
    "    \n",
    "    # Tworzenie macierzy przekształconej gdzie każde okienko jest jednym wierszem\n",
    "    col = np.zeros([new_h*new_w,hh*ww])\n",
    "\n",
    "    for i in range(new_h):\n",
    "       for j in range(new_w):\n",
    "           patch = x[...,i*stride:i*stride+hh,j*stride:j*stride+ww]\n",
    "           col[i*new_w+j,:] = np.reshape(patch,-1)\n",
    "    return col"
   ]
  },
  {
   "cell_type": "code",
   "execution_count": 10,
   "metadata": {},
   "outputs": [],
   "source": [
    "def convolve2D_matrix(image,kernels,stride = 1):\n",
    "    \n",
    "    output_list = [0] * len(kernels)\n",
    "    out_index = 0\n",
    "    \n",
    "    x_ker, y_ker = kernels[0].shape\n",
    "    output_shape_y = (image.shape[1] - y_ker) + 1\n",
    "    output_shape_x = (image.shape[0] - x_ker) + 1\n",
    "    \n",
    "    for kernel in kernels:\n",
    "        mod_matrix = im2col(image, x_ker, y_ker, stride)\n",
    "        \n",
    "        # Mnożymy macierz przekształconą z spłaszczonym wektorem filtra\n",
    "        im2col_conv = np.dot(mod_matrix, kernel.flatten())\n",
    "        \n",
    "        # Przekształcamy wektor wynikowy do postaci macierzy \n",
    "        im2col_conv = im2col_conv.reshape(output_shape_x,output_shape_y)\n",
    "        \n",
    "        output_list[out_index] = im2col_conv\n",
    "        out_index += 1\n",
    "    return output_list\n",
    "        "
   ]
  },
  {
   "cell_type": "code",
   "execution_count": 11,
   "metadata": {},
   "outputs": [],
   "source": [
    "kernel = [np.array([[1, 1, 1], [1, -8, 1], [1, 1, 1]])]\n",
    "image = cv2.imread('Image.jpg') \n",
    "image = cv2.cvtColor(src=image, code=cv2.COLOR_BGR2GRAY) \n",
    "output = convolve2D_matrix(image, kernel, 1)\n",
    "#cv2.imwrite('pies3.jpeg', output[0])"
   ]
  },
  {
   "cell_type": "markdown",
   "metadata": {},
   "source": [
    "<img src=\"pies3.jpeg\">"
   ]
  },
  {
   "cell_type": "markdown",
   "metadata": {},
   "source": [
    "## Porównanie czasów "
   ]
  },
  {
   "cell_type": "code",
   "execution_count": 12,
   "metadata": {},
   "outputs": [
    {
     "name": "stdout",
     "output_type": "stream",
     "text": [
      " Czas zwykłej metody  2.4477066240000056\n",
      " Czas zwykłej metody  1.2656276669999897\n"
     ]
    }
   ],
   "source": [
    "from timeit import default_timer as timer\n",
    "kernel = [np.array([[1, 1, 1], [1, -8, 1], [1, 1, 1]])]\n",
    "\n",
    "start = timer()\n",
    "output = convolve2D(image, kernel)\n",
    "end = timer()\n",
    "print(\" Czas zwykłej metody: \", end - start)\n",
    "\n",
    "start = timer()\n",
    "output = convolve2D_matrix(image, kernel)\n",
    "end = timer()\n",
    "print(\" Czas metody z mnożeniem macierzy: \", end - start)"
   ]
  },
  {
   "cell_type": "markdown",
   "metadata": {},
   "source": [
    "Mnożenie macierzowe przyśpiesza operacje konwolucji, mimo wszystko musimy przejść po macierzy obrazka, aby utowrzyć macierz zmodyfikowaną, jest to czasochłonna operacja, ale samo mnożenie odbywa się szybciej."
   ]
  }
 ],
 "metadata": {
  "kernelspec": {
   "display_name": "Python 3",
   "language": "python",
   "name": "python3"
  },
  "language_info": {
   "codemirror_mode": {
    "name": "ipython",
    "version": 3
   },
   "file_extension": ".py",
   "mimetype": "text/x-python",
   "name": "python",
   "nbconvert_exporter": "python",
   "pygments_lexer": "ipython3",
   "version": "3.7.3"
  }
 },
 "nbformat": 4,
 "nbformat_minor": 2
}
