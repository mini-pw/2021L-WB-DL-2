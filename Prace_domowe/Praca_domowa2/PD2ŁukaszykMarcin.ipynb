{
 "cells": [
  {
   "cell_type": "markdown",
   "metadata": {},
   "source": [
    "# ELO PRACA DOMOWA NUMERO DOS"
   ]
  },
  {
   "cell_type": "code",
   "execution_count": 245,
   "metadata": {},
   "outputs": [],
   "source": [
    "import numpy as np\n",
    "from keras.datasets import mnist\n",
    "from matplotlib import pyplot"
   ]
  },
  {
   "cell_type": "code",
   "execution_count": 139,
   "metadata": {},
   "outputs": [],
   "source": [
    "img_b = [[0, 230, 60,34,45],\n",
    "         [45,45,23,105,230],\n",
    "         [8,188,0,123,245],\n",
    "         [14,19,124,189,92],\n",
    "         [45,96,172,233,153],\n",
    "         [21,37,193,125,150]]"
   ]
  },
  {
   "cell_type": "code",
   "execution_count": 140,
   "metadata": {},
   "outputs": [
    {
     "data": {
      "text/plain": [
       "[[[0, 230, 60, 34, 45],\n",
       "  [45, 45, 23, 105, 230],\n",
       "  [8, 188, 0, 123, 245],\n",
       "  [14, 19, 124, 189, 92],\n",
       "  [45, 96, 172, 233, 153]],\n",
       " [[0, 230, 60, 34, 45],\n",
       "  [45, 45, 23, 105, 230],\n",
       "  [8, 188, 0, 123, 245],\n",
       "  [14, 19, 124, 189, 92],\n",
       "  [45, 96, 172, 233, 153]],\n",
       " [[0, 230, 60, 34, 45],\n",
       "  [45, 45, 23, 105, 230],\n",
       "  [8, 188, 0, 123, 245],\n",
       "  [14, 19, 124, 189, 92],\n",
       "  [45, 96, 172, 233, 153]]]"
      ]
     },
     "execution_count": 140,
     "metadata": {},
     "output_type": "execute_result"
    }
   ],
   "source": [
    "t"
   ]
  },
  {
   "cell_type": "code",
   "execution_count": 141,
   "metadata": {},
   "outputs": [],
   "source": [
    "t = [img_b,img_b,img_b]"
   ]
  },
  {
   "cell_type": "code",
   "execution_count": 142,
   "metadata": {
    "scrolled": true
   },
   "outputs": [],
   "source": [
    "b = np.asarray(t)"
   ]
  },
  {
   "cell_type": "code",
   "execution_count": 51,
   "metadata": {},
   "outputs": [
    {
     "data": {
      "text/plain": [
       "(3, 5, 5)"
      ]
     },
     "execution_count": 51,
     "metadata": {},
     "output_type": "execute_result"
    }
   ],
   "source": [
    "b.shape"
   ]
  },
  {
   "cell_type": "code",
   "execution_count": 328,
   "metadata": {},
   "outputs": [],
   "source": [
    "fi1 = [[0,0,0],\n",
    "     [0,1,0],\n",
    "     [0,0,0]]\n",
    "fi2 = [[1,1,1],\n",
    "      [1,1,1],\n",
    "      [1,1,1]]\n",
    "fi = np.asarray([fi1,fi2])"
   ]
  },
  {
   "cell_type": "code",
   "execution_count": 366,
   "metadata": {},
   "outputs": [],
   "source": [
    "def conv(inpu,filt,stride):\n",
    "    siz = np.asarray(inpu.shape)\n",
    "    if(len(siz)==2):\n",
    "        siz = np.insert(siz,0,1)\n",
    "        inpu = np.reshape(inpu,siz)\n",
    "    fis = np.asarray(filt.shape)\n",
    "    fis = np.subtract(fis,np.ones(len(fis)))\n",
    "    print(fis)\n",
    "    zet = filt.shape[0]\n",
    "    fis = fis[1:3]\n",
    "    floop = zet,siz[1]-fis[0].astype(int),siz[2]-fis[1].astype(int)\n",
    "    floop = np.asarray(floop)\n",
    "    floop[1] = int(floop[1]/stride)\n",
    "    floop[2] = int(floop[2]/stride)\n",
    "    \n",
    "    out = np.zeros(floop)\n",
    "    #Mamy wyjściowe wymairy    \n",
    "    for n_f in range(zet):\n",
    "        f_sum = np.sum(filt[n_f])\n",
    "        for z in range(siz[0]):\n",
    "            for x in range(0,floop[1]):\n",
    "                for y in range(0,floop[2]):\n",
    "                    for fix in range(len(filt[n_f])):\n",
    "                        for fiy in range(len(filt[n_f][0])):\n",
    "                            out[n_f][x][y] += filt[n_f][fix][fiy]*inpu[z][x*stride-int((len(filt[n_f])-1)/2) + fix][y*stride -int((len(filt[n_f][0])-1)/2) + fiy ]/f_sum\n",
    "    \n",
    "    return out"
   ]
  },
  {
   "cell_type": "code",
   "execution_count": 352,
   "metadata": {},
   "outputs": [],
   "source": [
    "(train_X, train_y), (test_X, test_y) = mnist.load_data()"
   ]
  },
  {
   "cell_type": "code",
   "execution_count": 353,
   "metadata": {
    "scrolled": true
   },
   "outputs": [
    {
     "data": {
      "text/plain": [
       "<matplotlib.image.AxesImage at 0x20d10d2a460>"
      ]
     },
     "execution_count": 353,
     "metadata": {},
     "output_type": "execute_result"
    },
    {
     "data": {
      "image/png": "[encoded data removed]",
      "text/plain": [
       "<Figure size 432x288 with 1 Axes>"
      ]
     },
     "metadata": {
      "needs_background": "light"
     },
     "output_type": "display_data"
    }
   ],
   "source": [
    "pyplot.imshow(train_X[1], cmap=pyplot.get_cmap('gray'))"
   ]
  },
  {
   "cell_type": "markdown",
   "metadata": {},
   "source": [
    "Sprawdzanie działania:\n",
    "Spróbujmy rozmyć za pomocą maski biorącej średnią z każdej wartości"
   ]
  },
  {
   "cell_type": "code",
   "execution_count": 369,
   "metadata": {},
   "outputs": [
    {
     "name": "stdout",
     "output_type": "stream",
     "text": [
      "[1. 2. 2.]\n"
     ]
    }
   ],
   "source": [
    "d = conv(train_X[1],fi,1)"
   ]
  },
  {
   "cell_type": "code",
   "execution_count": 370,
   "metadata": {},
   "outputs": [
    {
     "data": {
      "text/plain": [
       "<matplotlib.image.AxesImage at 0x20d10e21910>"
      ]
     },
     "execution_count": 370,
     "metadata": {},
     "output_type": "execute_result"
    },
    {
     "data": {
      "image/png": "[encoded data removed]",
      "text/plain": [
       "<Figure size 432x288 with 1 Axes>"
      ]
     },
     "metadata": {
      "needs_background": "light"
     },
     "output_type": "display_data"
    }
   ],
   "source": [
    "pyplot.imshow(d[1], cmap=pyplot.get_cmap('gray'))"
   ]
  },
  {
   "cell_type": "markdown",
   "metadata": {},
   "source": [
    "Działa\n",
    "\n",
    "Można również z innym prametrem stride daając przeskalowany obraz"
   ]
  },
  {
   "cell_type": "code",
   "execution_count": 367,
   "metadata": {},
   "outputs": [
    {
     "name": "stdout",
     "output_type": "stream",
     "text": [
      "[1. 2. 2.]\n"
     ]
    }
   ],
   "source": [
    "d = conv(train_X[1],fi,2)"
   ]
  },
  {
   "cell_type": "code",
   "execution_count": 368,
   "metadata": {},
   "outputs": [
    {
     "data": {
      "text/plain": [
       "<matplotlib.image.AxesImage at 0x20d10dd5460>"
      ]
     },
     "execution_count": 368,
     "metadata": {},
     "output_type": "execute_result"
    },
    {
     "data": {
      "image/png": "[encoded data removed]",
      "text/plain": [
       "<Figure size 432x288 with 1 Axes>"
      ]
     },
     "metadata": {
      "needs_background": "light"
     },
     "output_type": "display_data"
    }
   ],
   "source": [
    "pyplot.imshow(d[1], cmap=pyplot.get_cmap('gray'))"
   ]
  },
  {
   "cell_type": "markdown",
   "metadata": {},
   "source": [
    "Reszty nie mam bo nie zarezerowowałem sobie czasu :/"
   ]
  },
  {
   "cell_type": "markdown",
   "metadata": {},
   "source": [
    "I przepraszam za jakość kodu. Ostatnio mało pisze w pythonie przez co kod może wydawać się bardziej prymitywny niż noramlnie\n",
    "\n",
    "Marcin Łukaszyk"
   ]
  },
  {
   "cell_type": "code",
   "execution_count": null,
   "metadata": {},
   "outputs": [],
   "source": []
  }
 ],
 "metadata": {
  "kernelspec": {
   "display_name": "Python 3",
   "language": "python",
   "name": "python3"
  },
  "language_info": {
   "codemirror_mode": {
    "name": "ipython",
    "version": 3
   },
   "file_extension": ".py",
   "mimetype": "text/x-python",
   "name": "python",
   "nbconvert_exporter": "python",
   "pygments_lexer": "ipython3",
   "version": "3.8.3"
  }
 },
 "nbformat": 4,
 "nbformat_minor": 4
}
