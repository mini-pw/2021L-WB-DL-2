{
 "cells": [
  {
   "cell_type": "markdown",
   "metadata": {},
   "source": [
    "# Praca domowa z warsztatów badawczych nr 2\n",
    "\n",
    "**Marceli Korbin**\n",
    "\n",
    "(niech będzie, że poprzednia miała numer 1)"
   ]
  },
  {
   "cell_type": "markdown",
   "metadata": {},
   "source": [
    "Celem pracy jest zaimplementowanie i przetestowanie funkcji dokonującej konwolucji. Wykonam to na dwa sposoby, które później porównam ze sobą."
   ]
  },
  {
   "cell_type": "code",
   "execution_count": 49,
   "metadata": {},
   "outputs": [],
   "source": [
    "from matplotlib.image import imread, imsave\n",
    "import numpy as np, copy, random, time"
   ]
  },
  {
   "cell_type": "markdown",
   "metadata": {},
   "source": [
    "## Implementacje\n",
    "\n",
    "### Metoda 1: filtrem wzdłuż obrazka"
   ]
  },
  {
   "cell_type": "code",
   "execution_count": 35,
   "metadata": {},
   "outputs": [],
   "source": [
    "def conv1(img, filters, stride=1):\n",
    "    output = np.empty([filters.shape[0],\n",
    "                       (img.shape[0]-filters.shape[1])//stride+1,\n",
    "                       (img.shape[1]-filters.shape[2])//stride+1])\n",
    "    # od razu przygotowuję wyjściową macierz do umieszczania w niej wyników obliczeń\n",
    "    for o in range(output.shape[0]): # pętla po filtrze\n",
    "        for x in range(0, output.shape[1], stride): # pętla po współrzędnej X\n",
    "            for y in range(0, output.shape[2], stride): # pętla po współrzędnej Y\n",
    "                subimg = np.array(img[x:x+filters.shape[1], y:y+filters.shape[2]])\n",
    "                # kawałek obrazka, który chcę przepuścić przez filtr\n",
    "                S = sum([sum([subimg[a][b]*filters[o][a][b]\n",
    "                              for b in range(filters.shape[2])])\n",
    "                         for a in range(filters.shape[1])])\n",
    "                if not np.isscalar(S):\n",
    "                    output[o][x][y] = sum(S[0:3])\n",
    "                else:\n",
    "                    output[o][x][y] = S\n",
    "                # mnożymy komórki po kolei parami i sumujemy wynik...\n",
    "    return output"
   ]
  },
  {
   "cell_type": "markdown",
   "metadata": {},
   "source": [
    "### Metoda 2: mnożenie macierzy\n",
    "\n",
    "Do tej funkcji samemu implementuję funkcję pomocniczą _im2col_. Nie uwzględniam parametru *stride*, bo w opisie drugiej funkcji nic o nim nie ma, ale za to postanowiłem uwzględnić obsługę kolorowych obrazków."
   ]
  },
  {
   "cell_type": "code",
   "execution_count": 4,
   "metadata": {},
   "outputs": [],
   "source": [
    "def im2col(img, block):\n",
    "    imgSize = (img.shape[0]-block[0]+1, img.shape[1]-block[1]+1)\n",
    "    # rozmiar macierzy wyjściowej po przepuszczeniu wejściowej przez filtr; np. dla 4,4 -> 2,2 mamy 3,3\n",
    "    outp = np.array([])\n",
    "    for x in range(block[0]):\n",
    "        for y in range(block[1]):\n",
    "            outp = np.append(outp, img[x:(x+imgSize[0]), y:(y+imgSize[1])])\n",
    "            # dodajemy po kolei kawałki macierzy; na razie wyjściowe dane są wektorem\n",
    "    return outp.reshape(block[0]*block[1], imgSize[0]*imgSize[1])\n",
    "    # pod koniec nadajemy odpowiedni kształt"
   ]
  },
  {
   "cell_type": "code",
   "execution_count": 5,
   "metadata": {},
   "outputs": [],
   "source": [
    "def conv2(img, filters):\n",
    "    K = filters.reshape((filters.shape[0], filters.shape[1]*filters.shape[2]))\n",
    "    # filtry, przez które przepuścimy obraz\n",
    "    dimm = 1 if img.ndim==2 else 3\n",
    "    KP = [None for i in range(dimm)]\n",
    "    # wymiary\n",
    "    for I in range(dimm):\n",
    "        if dimm==1:\n",
    "            imgLayer=img\n",
    "        else:\n",
    "            imgLayer=img[:,:,I] # osobno bierzemy kanały obrazu\n",
    "        P = im2col(imgLayer, filters.shape[1:])\n",
    "        # reprezentacja kolumnowa obrazu lub jego kanału\n",
    "        KP[I] = np.dot(K, P).reshape(filters.shape[0], img.shape[0]-filters.shape[1]+1, img.shape[1]-filters.shape[2]+1)\n",
    "        # mnożymy macierz i od razu nadajemy poprawny kształt\n",
    "    return np.apply_along_axis(sum, 0, np.array(KP))\n",
    "    # pod koniec sumujemy po kanałach"
   ]
  },
  {
   "cell_type": "markdown",
   "metadata": {},
   "source": [
    "## Demonstracja działania\n",
    "(i pomiar czasu)"
   ]
  },
  {
   "cell_type": "markdown",
   "metadata": {},
   "source": [
    "Przykładowa operacja konwolucji:\n",
    "\n",
    "![](https://camo.githubusercontent.com/3309220c48ab22c9a5dfe7656c3f1639b6b1755d/68747470733a2f2f7777772e64726f70626f782e636f6d2f732f6e3134713930677a386138726278622f32645f636f6e766f6c7574696f6e2e706e673f7261773d31)\n",
    "\n",
    "źródło: https://nasirml.wordpress.com/2019/01/08/convnet-in-tensorflow/"
   ]
  },
  {
   "cell_type": "code",
   "execution_count": 6,
   "metadata": {},
   "outputs": [
    {
     "data": {
      "text/plain": [
       "array([[0, 1, 1, 1, 0, 0, 0],\n",
       "       [0, 0, 1, 1, 1, 0, 0],\n",
       "       [0, 0, 0, 1, 1, 1, 0],\n",
       "       [0, 0, 0, 1, 1, 0, 0],\n",
       "       [0, 0, 1, 1, 0, 0, 0],\n",
       "       [0, 1, 1, 0, 0, 0, 0],\n",
       "       [1, 1, 0, 0, 0, 0, 0]])"
      ]
     },
     "execution_count": 6,
     "metadata": {},
     "output_type": "execute_result"
    }
   ],
   "source": [
    "I = np.array([[0, 1, 1, 1, 0, 0, 0],\n",
    "              [0, 0, 1, 1, 1, 0, 0],\n",
    "              [0, 0, 0, 1, 1, 1, 0],\n",
    "              [0, 0, 0, 1, 1, 0, 0],\n",
    "              [0, 0, 1, 1, 0, 0, 0],\n",
    "              [0, 1, 1, 0, 0, 0, 0],\n",
    "              [1, 1, 0, 0, 0, 0, 0]])\n",
    "I"
   ]
  },
  {
   "cell_type": "code",
   "execution_count": 7,
   "metadata": {},
   "outputs": [
    {
     "data": {
      "text/plain": [
       "array([[0., 1., 1., 1., 0., 0., 0., 1., 1., 1., 0., 0., 0., 1., 1., 0.,\n",
       "        0., 0., 1., 1., 0., 0., 1., 1., 0.],\n",
       "       [1., 1., 1., 0., 0., 0., 1., 1., 1., 0., 0., 0., 1., 1., 1., 0.,\n",
       "        0., 1., 1., 0., 0., 1., 1., 0., 0.],\n",
       "       [1., 1., 0., 0., 0., 1., 1., 1., 0., 0., 0., 1., 1., 1., 0., 0.,\n",
       "        1., 1., 0., 0., 1., 1., 0., 0., 0.],\n",
       "       [0., 0., 1., 1., 1., 0., 0., 0., 1., 1., 0., 0., 0., 1., 1., 0.,\n",
       "        0., 1., 1., 0., 0., 1., 1., 0., 0.],\n",
       "       [0., 1., 1., 1., 0., 0., 0., 1., 1., 1., 0., 0., 1., 1., 0., 0.,\n",
       "        1., 1., 0., 0., 1., 1., 0., 0., 0.],\n",
       "       [1., 1., 1., 0., 0., 0., 1., 1., 1., 0., 0., 1., 1., 0., 0., 1.,\n",
       "        1., 0., 0., 0., 1., 0., 0., 0., 0.],\n",
       "       [0., 0., 0., 1., 1., 0., 0., 0., 1., 1., 0., 0., 1., 1., 0., 0.,\n",
       "        1., 1., 0., 0., 1., 1., 0., 0., 0.],\n",
       "       [0., 0., 1., 1., 1., 0., 0., 1., 1., 0., 0., 1., 1., 0., 0., 1.,\n",
       "        1., 0., 0., 0., 1., 0., 0., 0., 0.],\n",
       "       [0., 1., 1., 1., 0., 0., 1., 1., 0., 0., 1., 1., 0., 0., 0., 1.,\n",
       "        0., 0., 0., 0., 0., 0., 0., 0., 0.]])"
      ]
     },
     "execution_count": 7,
     "metadata": {},
     "output_type": "execute_result"
    }
   ],
   "source": [
    "im2col(I, (3,3))"
   ]
  },
  {
   "cell_type": "markdown",
   "metadata": {},
   "source": [
    "(to dość dziwacznie wygląda, wiem)"
   ]
  },
  {
   "cell_type": "code",
   "execution_count": 13,
   "metadata": {},
   "outputs": [
    {
     "data": {
      "text/plain": [
       "array([[[1, 0, 1],\n",
       "        [0, 1, 0],\n",
       "        [1, 0, 1]]])"
      ]
     },
     "execution_count": 13,
     "metadata": {},
     "output_type": "execute_result"
    }
   ],
   "source": [
    "K = np.array([[[1, 0, 1], [0, 1, 0], [1, 0, 1]]])\n",
    "K"
   ]
  },
  {
   "cell_type": "code",
   "execution_count": 40,
   "metadata": {},
   "outputs": [
    {
     "data": {
      "text/plain": [
       "array([[[1., 4., 3., 4., 1.],\n",
       "        [1., 2., 4., 3., 3.],\n",
       "        [1., 2., 3., 4., 1.],\n",
       "        [1., 3., 3., 1., 1.],\n",
       "        [3., 3., 1., 1., 0.]]])"
      ]
     },
     "execution_count": 40,
     "metadata": {},
     "output_type": "execute_result"
    }
   ],
   "source": [
    "start = time.time() # odmierzymy sobie czas wykonania tych funkcji\n",
    "cv1 = conv1(I, K)\n",
    "speed1 = time.time()-start\n",
    "cv1"
   ]
  },
  {
   "cell_type": "code",
   "execution_count": 41,
   "metadata": {},
   "outputs": [
    {
     "data": {
      "text/plain": [
       "array([[[1., 4., 3., 4., 1.],\n",
       "        [1., 2., 4., 3., 3.],\n",
       "        [1., 2., 3., 4., 1.],\n",
       "        [1., 3., 3., 1., 1.],\n",
       "        [3., 3., 1., 1., 0.]]])"
      ]
     },
     "execution_count": 41,
     "metadata": {},
     "output_type": "execute_result"
    }
   ],
   "source": [
    "start = time.time()\n",
    "cv2 = conv2(I, K)\n",
    "speed2 = time.time()-start\n",
    "cv2"
   ]
  },
  {
   "cell_type": "markdown",
   "metadata": {},
   "source": [
    "Obie funkcje zadziałały.\n",
    "\n",
    "Która z nich tak przy okazji była szybsza?"
   ]
  },
  {
   "cell_type": "code",
   "execution_count": 42,
   "metadata": {},
   "outputs": [
    {
     "data": {
      "text/plain": [
       "0.0009944438934326172"
      ]
     },
     "execution_count": 42,
     "metadata": {},
     "output_type": "execute_result"
    }
   ],
   "source": [
    "speed1"
   ]
  },
  {
   "cell_type": "code",
   "execution_count": 43,
   "metadata": {},
   "outputs": [
    {
     "data": {
      "text/plain": [
       "0.0010004043579101562"
      ]
     },
     "execution_count": 43,
     "metadata": {},
     "output_type": "execute_result"
    }
   ],
   "source": [
    "speed2"
   ]
  },
  {
   "cell_type": "markdown",
   "metadata": {},
   "source": [
    "Na tym etapie nieznacznie szybsza była **pierwsza** implementacja. Różnica jest jednak nieznaczna i dotyczy małych macierzy, zatem przyda się sprawdzić efekty przy większych..."
   ]
  },
  {
   "cell_type": "markdown",
   "metadata": {},
   "source": [
    "## A może przetestujemy na prawdziwym obrazie?"
   ]
  },
  {
   "cell_type": "markdown",
   "metadata": {},
   "source": [
    "![](max.png)"
   ]
  },
  {
   "cell_type": "code",
   "execution_count": 44,
   "metadata": {},
   "outputs": [],
   "source": [
    "image = imread('max.png')"
   ]
  },
  {
   "cell_type": "code",
   "execution_count": 58,
   "metadata": {},
   "outputs": [],
   "source": [
    "F = np.array([[[2/27, 1/27, 0], [2/27, 1/27, 0], [2/27, 1/27, 0]]])"
   ]
  },
  {
   "cell_type": "code",
   "execution_count": 46,
   "metadata": {},
   "outputs": [
    {
     "data": {
      "text/plain": [
       "array([[[0.9019608 , 0.9254902 , 0.9254902 , 1.        ],\n",
       "        [0.9098039 , 0.93333334, 0.93333334, 1.        ],\n",
       "        [0.91764706, 0.9411765 , 0.9411765 , 1.        ],\n",
       "        ...,\n",
       "        [0.8235294 , 0.8039216 , 0.7882353 , 1.        ],\n",
       "        [0.8235294 , 0.8039216 , 0.7882353 , 1.        ],\n",
       "        [0.827451  , 0.80784315, 0.7921569 , 1.        ]],\n",
       "\n",
       "       [[0.9019608 , 0.9254902 , 0.9254902 , 1.        ],\n",
       "        [0.9098039 , 0.93333334, 0.93333334, 1.        ],\n",
       "        [0.91764706, 0.9411765 , 0.9411765 , 1.        ],\n",
       "        ...,\n",
       "        [0.81960785, 0.8       , 0.78431374, 1.        ],\n",
       "        [0.8235294 , 0.8039216 , 0.7882353 , 1.        ],\n",
       "        [0.827451  , 0.80784315, 0.7921569 , 1.        ]],\n",
       "\n",
       "       [[0.9019608 , 0.9254902 , 0.9254902 , 1.        ],\n",
       "        [0.9098039 , 0.93333334, 0.93333334, 1.        ],\n",
       "        [0.91764706, 0.9411765 , 0.9411765 , 1.        ],\n",
       "        ...,\n",
       "        [0.81960785, 0.8       , 0.78431374, 1.        ],\n",
       "        [0.8235294 , 0.8039216 , 0.7882353 , 1.        ],\n",
       "        [0.827451  , 0.80784315, 0.7921569 , 1.        ]],\n",
       "\n",
       "       ...,\n",
       "\n",
       "       [[0.7647059 , 0.6901961 , 0.6313726 , 1.        ],\n",
       "        [0.7647059 , 0.6901961 , 0.6313726 , 1.        ],\n",
       "        [0.7647059 , 0.69411767, 0.6392157 , 1.        ],\n",
       "        ...,\n",
       "        [0.10588235, 0.08627451, 0.07058824, 1.        ],\n",
       "        [0.10588235, 0.08627451, 0.07058824, 1.        ],\n",
       "        [0.10588235, 0.08627451, 0.07058824, 1.        ]],\n",
       "\n",
       "       [[0.7647059 , 0.6901961 , 0.6313726 , 1.        ],\n",
       "        [0.7647059 , 0.6901961 , 0.6313726 , 1.        ],\n",
       "        [0.7607843 , 0.6901961 , 0.63529414, 1.        ],\n",
       "        ...,\n",
       "        [0.10588235, 0.08627451, 0.07058824, 1.        ],\n",
       "        [0.10588235, 0.08627451, 0.07058824, 1.        ],\n",
       "        [0.10588235, 0.08627451, 0.07058824, 1.        ]],\n",
       "\n",
       "       [[0.7647059 , 0.6901961 , 0.6313726 , 1.        ],\n",
       "        [0.7647059 , 0.6901961 , 0.6313726 , 1.        ],\n",
       "        [0.7607843 , 0.6901961 , 0.63529414, 1.        ],\n",
       "        ...,\n",
       "        [0.10588235, 0.08627451, 0.07058824, 1.        ],\n",
       "        [0.10588235, 0.08627451, 0.07058824, 1.        ],\n",
       "        [0.10588235, 0.08627451, 0.07058824, 1.        ]]], dtype=float32)"
      ]
     },
     "execution_count": 46,
     "metadata": {},
     "output_type": "execute_result"
    }
   ],
   "source": [
    "image"
   ]
  },
  {
   "cell_type": "code",
   "execution_count": 59,
   "metadata": {},
   "outputs": [
    {
     "data": {
      "text/plain": [
       "array([[[0.07407407, 0.03703704, 0.        ],\n",
       "        [0.07407407, 0.03703704, 0.        ],\n",
       "        [0.07407407, 0.03703704, 0.        ]]])"
      ]
     },
     "execution_count": 59,
     "metadata": {},
     "output_type": "execute_result"
    }
   ],
   "source": [
    "F"
   ]
  },
  {
   "cell_type": "markdown",
   "metadata": {},
   "source": [
    "(to jest filtr o wierszach w stylu \\[2, 1, 0\\], z którego dałoby się stworzyć niemal od razu nowy obraz)"
   ]
  },
  {
   "cell_type": "code",
   "execution_count": 65,
   "metadata": {},
   "outputs": [],
   "source": [
    "start = time.time()\n",
    "cv1 = conv1(image, F)\n",
    "speed1 = time.time()-start"
   ]
  },
  {
   "cell_type": "code",
   "execution_count": 66,
   "metadata": {},
   "outputs": [],
   "source": [
    "start = time.time()\n",
    "cv2 = conv2(image, F)\n",
    "speed2 = time.time()-start"
   ]
  },
  {
   "cell_type": "markdown",
   "metadata": {},
   "source": [
    "Czas wykonania:"
   ]
  },
  {
   "cell_type": "code",
   "execution_count": 67,
   "metadata": {},
   "outputs": [
    {
     "data": {
      "text/plain": [
       "100.45329356193542"
      ]
     },
     "execution_count": 67,
     "metadata": {},
     "output_type": "execute_result"
    }
   ],
   "source": [
    "speed1"
   ]
  },
  {
   "cell_type": "code",
   "execution_count": 68,
   "metadata": {},
   "outputs": [
    {
     "data": {
      "text/plain": [
       "9.73493242263794"
      ]
     },
     "execution_count": 68,
     "metadata": {},
     "output_type": "execute_result"
    }
   ],
   "source": [
    "speed2"
   ]
  },
  {
   "cell_type": "markdown",
   "metadata": {},
   "source": [
    "Tym razem **druga** implementacja zostawiła pierwszą daleko w tyle (chyba można się spodziewać, którą implementacją będziemy się zajmować w przyszłości). A jak dokładnie wygląda przekształcone zdjęcie?"
   ]
  },
  {
   "cell_type": "code",
   "execution_count": 71,
   "metadata": {},
   "outputs": [],
   "source": [
    "img1 = np.empty((cv1.shape[1], cv1.shape[2], 4))\n",
    "img2 = np.empty((cv2.shape[1], cv2.shape[2], 4))\n",
    "for a in range(cv1.shape[1]):\n",
    "    for b in range(cv1.shape[2]):\n",
    "        img1[a][b] = np.array([cv1[0][a][b], cv1[0][a][b], cv1[0][a][b], 1])\n",
    "        img2[a][b] = np.array([cv2[0][a][b], cv2[0][a][b], cv2[0][a][b], 1])\n",
    "imsave('max1.png', img1)\n",
    "imsave('max2.png', img2)"
   ]
  },
  {
   "cell_type": "markdown",
   "metadata": {},
   "source": [
    "![](max1.png)"
   ]
  },
  {
   "cell_type": "markdown",
   "metadata": {},
   "source": [
    "![](max2.png)"
   ]
  },
  {
   "cell_type": "markdown",
   "metadata": {},
   "source": [
    "Zaskakująco dobrze! Muszę podkreślić, że zastosowałem pojedynczy, prosty filtr, a obraz jest o tyle większy, że zmiany mogą być niewidoczne. Ogółem jednak odnoszę wrażenie, że kontury/krawędzie udało się lekko \"zamazać\"."
   ]
  }
 ],
 "metadata": {
  "kernelspec": {
   "display_name": "Python 3",
   "language": "python",
   "name": "python3"
  },
  "language_info": {
   "codemirror_mode": {
    "name": "ipython",
    "version": 3
   },
   "file_extension": ".py",
   "mimetype": "text/x-python",
   "name": "python",
   "nbconvert_exporter": "python",
   "pygments_lexer": "ipython3",
   "version": "3.7.1"
  }
 },
 "nbformat": 4,
 "nbformat_minor": 4
}
