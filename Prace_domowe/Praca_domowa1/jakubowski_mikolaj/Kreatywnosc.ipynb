{
 "cells": [
  {
   "cell_type": "markdown",
   "metadata": {},
   "source": [
    "# Hipotezy"
   ]
  },
  {
   "cell_type": "markdown",
   "metadata": {},
   "source": [
    "Proszę mi wybaczyć, niestety pod sam koniec zorientowałem się, że bezmyślnie zmergowałem dwie tabelki dostępnym skryptem w R. Operuję więc tylko na powtarzających się częściowo rekordach, więc niektóre wyniki mogą być przekłamane."
   ]
  },
  {
   "cell_type": "markdown",
   "metadata": {},
   "source": [
    "## Libki"
   ]
  },
  {
   "cell_type": "code",
   "execution_count": 1,
   "metadata": {},
   "outputs": [],
   "source": [
    "import numpy as np\n",
    "import pandas as pd\n",
    "import math\n",
    "from matplotlib import pyplot"
   ]
  },
  {
   "cell_type": "markdown",
   "metadata": {},
   "source": [
    "## Dataset"
   ]
  },
  {
   "cell_type": "code",
   "execution_count": 2,
   "metadata": {
    "scrolled": true
   },
   "outputs": [
    {
     "data": {
      "text/html": [
       "<div>\n",
       "<style scoped>\n",
       "    .dataframe tbody tr th:only-of-type {\n",
       "        vertical-align: middle;\n",
       "    }\n",
       "\n",
       "    .dataframe tbody tr th {\n",
       "        vertical-align: top;\n",
       "    }\n",
       "\n",
       "    .dataframe thead th {\n",
       "        text-align: right;\n",
       "    }\n",
       "</style>\n",
       "<table border=\"1\" class=\"dataframe\">\n",
       "  <thead>\n",
       "    <tr style=\"text-align: right;\">\n",
       "      <th></th>\n",
       "      <th>school</th>\n",
       "      <th>sex</th>\n",
       "      <th>age</th>\n",
       "      <th>address</th>\n",
       "      <th>famsize</th>\n",
       "      <th>Pstatus</th>\n",
       "      <th>Medu</th>\n",
       "      <th>Fedu</th>\n",
       "      <th>Mjob</th>\n",
       "      <th>Fjob</th>\n",
       "      <th>...</th>\n",
       "      <th>famrel.y</th>\n",
       "      <th>freetime.y</th>\n",
       "      <th>goout.y</th>\n",
       "      <th>Dalc.y</th>\n",
       "      <th>Walc.y</th>\n",
       "      <th>health.y</th>\n",
       "      <th>absences.y</th>\n",
       "      <th>G1.y</th>\n",
       "      <th>G2.y</th>\n",
       "      <th>G3.y</th>\n",
       "    </tr>\n",
       "  </thead>\n",
       "  <tbody>\n",
       "    <tr>\n",
       "      <th>1</th>\n",
       "      <td>GP</td>\n",
       "      <td>F</td>\n",
       "      <td>15</td>\n",
       "      <td>R</td>\n",
       "      <td>GT3</td>\n",
       "      <td>T</td>\n",
       "      <td>1</td>\n",
       "      <td>1</td>\n",
       "      <td>at_home</td>\n",
       "      <td>other</td>\n",
       "      <td>...</td>\n",
       "      <td>3</td>\n",
       "      <td>1</td>\n",
       "      <td>2</td>\n",
       "      <td>1</td>\n",
       "      <td>1</td>\n",
       "      <td>1</td>\n",
       "      <td>4</td>\n",
       "      <td>13</td>\n",
       "      <td>13</td>\n",
       "      <td>13</td>\n",
       "    </tr>\n",
       "    <tr>\n",
       "      <th>2</th>\n",
       "      <td>GP</td>\n",
       "      <td>F</td>\n",
       "      <td>15</td>\n",
       "      <td>R</td>\n",
       "      <td>GT3</td>\n",
       "      <td>T</td>\n",
       "      <td>1</td>\n",
       "      <td>1</td>\n",
       "      <td>other</td>\n",
       "      <td>other</td>\n",
       "      <td>...</td>\n",
       "      <td>3</td>\n",
       "      <td>3</td>\n",
       "      <td>4</td>\n",
       "      <td>2</td>\n",
       "      <td>4</td>\n",
       "      <td>5</td>\n",
       "      <td>2</td>\n",
       "      <td>13</td>\n",
       "      <td>11</td>\n",
       "      <td>11</td>\n",
       "    </tr>\n",
       "    <tr>\n",
       "      <th>3</th>\n",
       "      <td>GP</td>\n",
       "      <td>F</td>\n",
       "      <td>15</td>\n",
       "      <td>R</td>\n",
       "      <td>GT3</td>\n",
       "      <td>T</td>\n",
       "      <td>2</td>\n",
       "      <td>2</td>\n",
       "      <td>at_home</td>\n",
       "      <td>other</td>\n",
       "      <td>...</td>\n",
       "      <td>4</td>\n",
       "      <td>3</td>\n",
       "      <td>1</td>\n",
       "      <td>1</td>\n",
       "      <td>1</td>\n",
       "      <td>2</td>\n",
       "      <td>8</td>\n",
       "      <td>14</td>\n",
       "      <td>13</td>\n",
       "      <td>12</td>\n",
       "    </tr>\n",
       "    <tr>\n",
       "      <th>4</th>\n",
       "      <td>GP</td>\n",
       "      <td>F</td>\n",
       "      <td>15</td>\n",
       "      <td>R</td>\n",
       "      <td>GT3</td>\n",
       "      <td>T</td>\n",
       "      <td>2</td>\n",
       "      <td>4</td>\n",
       "      <td>services</td>\n",
       "      <td>health</td>\n",
       "      <td>...</td>\n",
       "      <td>4</td>\n",
       "      <td>3</td>\n",
       "      <td>2</td>\n",
       "      <td>1</td>\n",
       "      <td>1</td>\n",
       "      <td>5</td>\n",
       "      <td>2</td>\n",
       "      <td>10</td>\n",
       "      <td>11</td>\n",
       "      <td>10</td>\n",
       "    </tr>\n",
       "    <tr>\n",
       "      <th>5</th>\n",
       "      <td>GP</td>\n",
       "      <td>F</td>\n",
       "      <td>15</td>\n",
       "      <td>R</td>\n",
       "      <td>GT3</td>\n",
       "      <td>T</td>\n",
       "      <td>3</td>\n",
       "      <td>3</td>\n",
       "      <td>services</td>\n",
       "      <td>services</td>\n",
       "      <td>...</td>\n",
       "      <td>4</td>\n",
       "      <td>2</td>\n",
       "      <td>1</td>\n",
       "      <td>2</td>\n",
       "      <td>3</td>\n",
       "      <td>3</td>\n",
       "      <td>2</td>\n",
       "      <td>13</td>\n",
       "      <td>13</td>\n",
       "      <td>13</td>\n",
       "    </tr>\n",
       "    <tr>\n",
       "      <th>...</th>\n",
       "      <td>...</td>\n",
       "      <td>...</td>\n",
       "      <td>...</td>\n",
       "      <td>...</td>\n",
       "      <td>...</td>\n",
       "      <td>...</td>\n",
       "      <td>...</td>\n",
       "      <td>...</td>\n",
       "      <td>...</td>\n",
       "      <td>...</td>\n",
       "      <td>...</td>\n",
       "      <td>...</td>\n",
       "      <td>...</td>\n",
       "      <td>...</td>\n",
       "      <td>...</td>\n",
       "      <td>...</td>\n",
       "      <td>...</td>\n",
       "      <td>...</td>\n",
       "      <td>...</td>\n",
       "      <td>...</td>\n",
       "      <td>...</td>\n",
       "    </tr>\n",
       "    <tr>\n",
       "      <th>378</th>\n",
       "      <td>MS</td>\n",
       "      <td>M</td>\n",
       "      <td>18</td>\n",
       "      <td>U</td>\n",
       "      <td>LE3</td>\n",
       "      <td>T</td>\n",
       "      <td>1</td>\n",
       "      <td>3</td>\n",
       "      <td>at_home</td>\n",
       "      <td>services</td>\n",
       "      <td>...</td>\n",
       "      <td>4</td>\n",
       "      <td>3</td>\n",
       "      <td>3</td>\n",
       "      <td>2</td>\n",
       "      <td>3</td>\n",
       "      <td>3</td>\n",
       "      <td>0</td>\n",
       "      <td>9</td>\n",
       "      <td>10</td>\n",
       "      <td>9</td>\n",
       "    </tr>\n",
       "    <tr>\n",
       "      <th>379</th>\n",
       "      <td>MS</td>\n",
       "      <td>M</td>\n",
       "      <td>18</td>\n",
       "      <td>U</td>\n",
       "      <td>LE3</td>\n",
       "      <td>T</td>\n",
       "      <td>4</td>\n",
       "      <td>4</td>\n",
       "      <td>teacher</td>\n",
       "      <td>services</td>\n",
       "      <td>...</td>\n",
       "      <td>4</td>\n",
       "      <td>2</td>\n",
       "      <td>2</td>\n",
       "      <td>2</td>\n",
       "      <td>2</td>\n",
       "      <td>5</td>\n",
       "      <td>0</td>\n",
       "      <td>15</td>\n",
       "      <td>16</td>\n",
       "      <td>16</td>\n",
       "    </tr>\n",
       "    <tr>\n",
       "      <th>380</th>\n",
       "      <td>MS</td>\n",
       "      <td>M</td>\n",
       "      <td>19</td>\n",
       "      <td>R</td>\n",
       "      <td>GT3</td>\n",
       "      <td>T</td>\n",
       "      <td>1</td>\n",
       "      <td>1</td>\n",
       "      <td>other</td>\n",
       "      <td>other</td>\n",
       "      <td>...</td>\n",
       "      <td>4</td>\n",
       "      <td>4</td>\n",
       "      <td>4</td>\n",
       "      <td>3</td>\n",
       "      <td>3</td>\n",
       "      <td>5</td>\n",
       "      <td>4</td>\n",
       "      <td>8</td>\n",
       "      <td>9</td>\n",
       "      <td>10</td>\n",
       "    </tr>\n",
       "    <tr>\n",
       "      <th>381</th>\n",
       "      <td>MS</td>\n",
       "      <td>M</td>\n",
       "      <td>19</td>\n",
       "      <td>R</td>\n",
       "      <td>GT3</td>\n",
       "      <td>T</td>\n",
       "      <td>1</td>\n",
       "      <td>1</td>\n",
       "      <td>other</td>\n",
       "      <td>services</td>\n",
       "      <td>...</td>\n",
       "      <td>5</td>\n",
       "      <td>4</td>\n",
       "      <td>4</td>\n",
       "      <td>3</td>\n",
       "      <td>3</td>\n",
       "      <td>2</td>\n",
       "      <td>8</td>\n",
       "      <td>10</td>\n",
       "      <td>9</td>\n",
       "      <td>11</td>\n",
       "    </tr>\n",
       "    <tr>\n",
       "      <th>382</th>\n",
       "      <td>MS</td>\n",
       "      <td>M</td>\n",
       "      <td>19</td>\n",
       "      <td>R</td>\n",
       "      <td>GT3</td>\n",
       "      <td>T</td>\n",
       "      <td>1</td>\n",
       "      <td>1</td>\n",
       "      <td>other</td>\n",
       "      <td>services</td>\n",
       "      <td>...</td>\n",
       "      <td>4</td>\n",
       "      <td>3</td>\n",
       "      <td>2</td>\n",
       "      <td>1</td>\n",
       "      <td>3</td>\n",
       "      <td>5</td>\n",
       "      <td>0</td>\n",
       "      <td>5</td>\n",
       "      <td>8</td>\n",
       "      <td>0</td>\n",
       "    </tr>\n",
       "  </tbody>\n",
       "</table>\n",
       "<p>382 rows × 53 columns</p>\n",
       "</div>"
      ],
      "text/plain": [
       "    school sex  age address famsize Pstatus  Medu  Fedu      Mjob      Fjob  \\\n",
       "1       GP   F   15       R     GT3       T     1     1   at_home     other   \n",
       "2       GP   F   15       R     GT3       T     1     1     other     other   \n",
       "3       GP   F   15       R     GT3       T     2     2   at_home     other   \n",
       "4       GP   F   15       R     GT3       T     2     4  services    health   \n",
       "5       GP   F   15       R     GT3       T     3     3  services  services   \n",
       "..     ...  ..  ...     ...     ...     ...   ...   ...       ...       ...   \n",
       "378     MS   M   18       U     LE3       T     1     3   at_home  services   \n",
       "379     MS   M   18       U     LE3       T     4     4   teacher  services   \n",
       "380     MS   M   19       R     GT3       T     1     1     other     other   \n",
       "381     MS   M   19       R     GT3       T     1     1     other  services   \n",
       "382     MS   M   19       R     GT3       T     1     1     other  services   \n",
       "\n",
       "     ... famrel.y freetime.y goout.y Dalc.y  Walc.y  health.y  absences.y  \\\n",
       "1    ...        3          1       2      1       1         1           4   \n",
       "2    ...        3          3       4      2       4         5           2   \n",
       "3    ...        4          3       1      1       1         2           8   \n",
       "4    ...        4          3       2      1       1         5           2   \n",
       "5    ...        4          2       1      2       3         3           2   \n",
       "..   ...      ...        ...     ...    ...     ...       ...         ...   \n",
       "378  ...        4          3       3      2       3         3           0   \n",
       "379  ...        4          2       2      2       2         5           0   \n",
       "380  ...        4          4       4      3       3         5           4   \n",
       "381  ...        5          4       4      3       3         2           8   \n",
       "382  ...        4          3       2      1       3         5           0   \n",
       "\n",
       "    G1.y G2.y G3.y  \n",
       "1     13   13   13  \n",
       "2     13   11   11  \n",
       "3     14   13   12  \n",
       "4     10   11   10  \n",
       "5     13   13   13  \n",
       "..   ...  ...  ...  \n",
       "378    9   10    9  \n",
       "379   15   16   16  \n",
       "380    8    9   10  \n",
       "381   10    9   11  \n",
       "382    5    8    0  \n",
       "\n",
       "[382 rows x 53 columns]"
      ]
     },
     "execution_count": 2,
     "metadata": {},
     "output_type": "execute_result"
    }
   ],
   "source": [
    "df = pd.read_csv('student.csv', sep=';')\n",
    "df = df.dropna()\n",
    "df"
   ]
  },
  {
   "cell_type": "markdown",
   "metadata": {},
   "source": [
    "## H1"
   ]
  },
  {
   "cell_type": "markdown",
   "metadata": {},
   "source": [
    "Na początek sprawdzę totalny banał. Mianowicie czy średnie wyniki końcowe pomiędzy płciami różnią się istotnie. Wykorzystam do tego pewien test statystyczny, którego nazwy nie pamiętam, ale działa dla dużych prób przy nieznanych wariancjach."
   ]
  },
  {
   "cell_type": "code",
   "execution_count": 3,
   "metadata": {},
   "outputs": [],
   "source": [
    "x_boys = df.loc[df.loc[:, \"sex\"] == \"M\", \"G3.y\"]\n",
    "x_girls = df.loc[df.loc[:, \"sex\"] == \"F\", \"G3.y\"]"
   ]
  },
  {
   "cell_type": "markdown",
   "metadata": {},
   "source": [
    "Przyjmijmy oczywiście standardowe alpha = 0,05. Statystyka testowa $T=(\\bar{x_b}-\\bar{x_g})/\\sqrt{\\frac{S_xb^2}{n_xb}+\\frac{S_xg^2}{n_xg}}$.  \n",
    "Z obszarem krytycznym obustronnym. Ufff... Zatem:"
   ]
  },
  {
   "cell_type": "code",
   "execution_count": 4,
   "metadata": {},
   "outputs": [
    {
     "data": {
      "text/plain": [
       "-3.9630232215901717"
      ]
     },
     "execution_count": 4,
     "metadata": {},
     "output_type": "execute_result"
    }
   ],
   "source": [
    "(x_boys.mean()-x_girls.mean())/( math.sqrt(x_boys.var()/len(x_boys) + x_girls.var()/len(x_girls)) )"
   ]
  },
  {
   "cell_type": "markdown",
   "metadata": {},
   "source": [
    "Zdecydowanie wpada nam to w ogonek obszaru krytycznego. Możemy zatem wnioskować, że 'Girls Get It Done' i istotnie przodują w końcowych wynikach nad chłopcami. (Tak naprawdę jest to mało ambitny i kreatywny przykład, ale w ramach rekompensaty tego lenistwa, stawiam hipotezę bonusową: co najmniej połowa oddanych prac domowych będzie zawierać hipotezę \"chłopcy vs dziewczyny\". Zawrę to w mojej kolejnej PD)"
   ]
  },
  {
   "cell_type": "markdown",
   "metadata": {},
   "source": [
    "## H2"
   ]
  },
  {
   "cell_type": "markdown",
   "metadata": {},
   "source": [
    "To może już dość tych testów statystycznych. Swoje się już popisałem.  \n",
    "Postawmy teraz hipotezę następującą: czy studenci pijący dużo alkoholu, olewają pierwszy termin i przykładają się dopiero do drugiego?  \n",
    "Trzeba jeszcze jakoś zdefiniować dużo. Przyjmijmy sobie, że bierzemy pod uwagę picie w tygodniu na poziomie [3, 5] lub w weekendy [4, 5]. Dlaczego? Bo niewiele wiemy o tych wskaźnikach, a coś przyjąć trzeba."
   ]
  },
  {
   "cell_type": "code",
   "execution_count": 5,
   "metadata": {},
   "outputs": [],
   "source": [
    "drinking_indexes = np.logical_or(df.loc[:, \"Dalc.y\"] > 2, df.loc[:, \"Walc.y\"] > 3)\n",
    "g1_drinking = df.loc[drinking_indexes, \"G1.y\"]\n",
    "g2_drinking = df.loc[drinking_indexes, \"G2.y\"]"
   ]
  },
  {
   "cell_type": "code",
   "execution_count": 6,
   "metadata": {},
   "outputs": [],
   "source": [
    "sober_indexes = np.logical_not(drinking_indexes)\n",
    "g1_sober = df.loc[sober_indexes, \"G1.y\"]\n",
    "g2_sober = df.loc[sober_indexes, \"G2.y\"]"
   ]
  },
  {
   "cell_type": "code",
   "execution_count": 7,
   "metadata": {},
   "outputs": [
    {
     "data": {
      "text/plain": [
       "-0.047058823529411764"
      ]
     },
     "execution_count": 7,
     "metadata": {},
     "output_type": "execute_result"
    }
   ],
   "source": [
    "(g2_drinking - g1_drinking).mean()"
   ]
  },
  {
   "cell_type": "code",
   "execution_count": 8,
   "metadata": {},
   "outputs": [
    {
     "data": {
      "text/plain": [
       "0.1750841750841751"
      ]
     },
     "execution_count": 8,
     "metadata": {},
     "output_type": "execute_result"
    }
   ],
   "source": [
    "(g2_sober - g1_sober).mean()"
   ]
  },
  {
   "cell_type": "markdown",
   "metadata": {},
   "source": [
    "Co ciekawe okazało się trochę na odwrót, czyli że to bardziej trzeźwi studenci poprawiają swoje wyniki a pijący pogarszają. Ale skoro już jesteśmy przy tym temacie..."
   ]
  },
  {
   "cell_type": "markdown",
   "metadata": {},
   "source": [
    "## H3"
   ]
  },
  {
   "cell_type": "markdown",
   "metadata": {},
   "source": [
    "Czy często pijący studenci radzą sobie generalnie gorzej od pijących rzadziej?"
   ]
  },
  {
   "cell_type": "code",
   "execution_count": 9,
   "metadata": {},
   "outputs": [
    {
     "data": {
      "image/png": "[encoded data removed]",
      "text/plain": [
       "<Figure size 432x288 with 1 Axes>"
      ]
     },
     "metadata": {
      "needs_background": "light"
     },
     "output_type": "display_data"
    }
   ],
   "source": [
    "pyplot.hist(g1_drinking, alpha=0.5, label='g1')\n",
    "pyplot.hist(g2_drinking, alpha=0.5, label='g2')\n",
    "pyplot.xlim(0, 18)\n",
    "pyplot.legend(loc='upper right')\n",
    "pyplot.show()"
   ]
  },
  {
   "cell_type": "code",
   "execution_count": 10,
   "metadata": {},
   "outputs": [
    {
     "data": {
      "image/png": "[encoded data removed]",
      "text/plain": [
       "<Figure size 432x288 with 1 Axes>"
      ]
     },
     "metadata": {
      "needs_background": "light"
     },
     "output_type": "display_data"
    }
   ],
   "source": [
    "pyplot.hist(g1_sober, alpha=0.5, label='g1')\n",
    "pyplot.hist(g2_sober, alpha=0.5, label='g2')\n",
    "pyplot.xlim(0, 18)\n",
    "pyplot.legend(loc='upper right')\n",
    "pyplot.show()"
   ]
  },
  {
   "cell_type": "markdown",
   "metadata": {},
   "source": [
    "Generalnie gołym okiem widać, że tak. Ale co ciekawe są to róznice raczej drugiego terminu, pierwszy wypozycjonowany jest dość centralnie w obu przypadkch (wciąż mamy oczywiście różnicę średniej na poziomie 1/2 pkt). Drugi termin zdecydowanie przechyla szalę na rzecz studentów utrzymujących wyższy poziom trzeźwości."
   ]
  },
  {
   "cell_type": "markdown",
   "metadata": {},
   "source": [
    "## H4"
   ]
  },
  {
   "cell_type": "markdown",
   "metadata": {},
   "source": [
    "Słyszałem kiedyś, że ludzie kochający są zdrowsi. To niech będzie moją kolejną hipotezą."
   ]
  },
  {
   "cell_type": "code",
   "execution_count": 11,
   "metadata": {},
   "outputs": [],
   "source": [
    "romantic = df.loc[df.loc[:, \"romantic.y\"] == \"yes\", \"health.y\"]\n",
    "alone = df.loc[df.loc[:, \"romantic.y\"] == \"no\", \"health.y\"] # ta nazwa zmiennej to tylko taki żarcik"
   ]
  },
  {
   "cell_type": "code",
   "execution_count": 12,
   "metadata": {},
   "outputs": [
    {
     "data": {
      "text/plain": [
       "0.1578303041717679"
      ]
     },
     "execution_count": 12,
     "metadata": {},
     "output_type": "execute_result"
    }
   ],
   "source": [
    "romantic.mean() - alone.mean()"
   ]
  },
  {
   "cell_type": "code",
   "execution_count": 13,
   "metadata": {},
   "outputs": [
    {
     "data": {
      "text/plain": [
       "4.477332834664608"
      ]
     },
     "execution_count": 13,
     "metadata": {},
     "output_type": "execute_result"
    }
   ],
   "source": [
    "romantic.mean()/alone.mean()*100 - 100"
   ]
  },
  {
   "cell_type": "code",
   "execution_count": 14,
   "metadata": {},
   "outputs": [
    {
     "data": {
      "image/png": "[encoded data removed]",
      "text/plain": [
       "<Figure size 432x288 with 1 Axes>"
      ]
     },
     "metadata": {
      "needs_background": "light"
     },
     "output_type": "display_data"
    }
   ],
   "source": [
    "pyplot.hist(romantic, alpha=0.5, label='rom')\n",
    "pyplot.hist(alone, alpha=0.5, label='alo')\n",
    "pyplot.legend(loc='upper right')\n",
    "pyplot.show()"
   ]
  },
  {
   "cell_type": "markdown",
   "metadata": {},
   "source": [
    "Rozkłady są na pierwszy rzut oka niemal indentyczne, jednak różnica w średniej zachodzi na poziomie prawie 5% (ku mojemu zaskoczeniu). Jestem w takim razie w stanie uwierzyć, że jednak ziarnko prawdy w tym jest."
   ]
  },
  {
   "cell_type": "markdown",
   "metadata": {},
   "source": [
    "## H5"
   ]
  },
  {
   "cell_type": "markdown",
   "metadata": {},
   "source": [
    "To ostatnia ciekawostka do sprawdzenia: czy studenci, którzy uczęszczali do przedszkola, mają teraz lepsze kontakty towarzyskie?"
   ]
  },
  {
   "cell_type": "code",
   "execution_count": 15,
   "metadata": {},
   "outputs": [],
   "source": [
    "nursery = df.loc[df.loc[:, \"nursery\"] == \"yes\", \"goout.y\"]\n",
    "home = df.loc[df.loc[:, \"nursery\"] == \"no\", \"goout.y\"]"
   ]
  },
  {
   "cell_type": "code",
   "execution_count": 16,
   "metadata": {},
   "outputs": [
    {
     "data": {
      "text/plain": [
       "-0.0431003584229388"
      ]
     },
     "execution_count": 16,
     "metadata": {},
     "output_type": "execute_result"
    }
   ],
   "source": [
    "nursery.mean() - home.mean()"
   ]
  },
  {
   "cell_type": "markdown",
   "metadata": {},
   "source": [
    "Nie dość, że ta różnica jest bardzo mała, to jeszcze:"
   ]
  },
  {
   "cell_type": "code",
   "execution_count": 17,
   "metadata": {},
   "outputs": [
    {
     "data": {
      "text/plain": [
       "4.305555555555555"
      ]
     },
     "execution_count": 17,
     "metadata": {},
     "output_type": "execute_result"
    }
   ],
   "source": [
    "len(nursery) / len(home)"
   ]
  },
  {
   "cell_type": "markdown",
   "metadata": {},
   "source": [
    "To mamy aż 4 razy więcej rekorków, od osób które chodziło do przedszkola. Tak mały błąd jest zatem jak najbardziej dopuszczalny, a postawioną hipotezę należy odrzucić."
   ]
  }
 ],
 "metadata": {
  "kernelspec": {
   "display_name": "Python 3",
   "language": "python",
   "name": "python3"
  },
  "language_info": {
   "codemirror_mode": {
    "name": "ipython",
    "version": 3
   },
   "file_extension": ".py",
   "mimetype": "text/x-python",
   "name": "python",
   "nbconvert_exporter": "python",
   "pygments_lexer": "ipython3",
   "version": "3.7.4"
  }
 },
 "nbformat": 4,
 "nbformat_minor": 2
}
