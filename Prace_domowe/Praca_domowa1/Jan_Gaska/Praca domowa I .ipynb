{
 "cells": [
  {
   "cell_type": "markdown",
   "metadata": {},
   "source": [
    "# Praca domowa I\n",
    "## Pięć hipotez dotyczących danych uczniów portugalskich\n",
    "W pracy przedstawiłem pięć hipotez, które według mnie są intrygujące, ciekawe lub po prostu ważne ze względów edukacyjnych, oraz przede wszystkim \"na oko\" prawdziwych. Ostatecznie dokonam także własnego werdyktu dotyczącego danych zagadnień i zadecyduję czy sformułowana hipoteza jest należyta do pozostawienia, bądź należy ją odrzucić."
   ]
  },
  {
   "cell_type": "markdown",
   "metadata": {},
   "source": [
    "## Dane\n",
    "Użyłem danych z następującej strony : https://archive.ics.uci.edu/ml/datasets/Student+Performance\n",
    "\n",
    "Na podanej stronie znajduje się precyzyjny opis podanej ramki danych, zatem pominę jej opis w treści raportu.\n",
    "Do wykonania kodu należy posiadać obywdie ramki danych w lokalizacji egzekucji kodu."
   ]
  },
  {
   "cell_type": "code",
   "execution_count": 2,
   "metadata": {},
   "outputs": [],
   "source": [
    "## Przygotowanie danych:\n",
    "import pandas as pd\n",
    "import numpy as np\n",
    "import warnings\n",
    "warnings.filterwarnings('ignore')\n",
    "studenci_mat = pd.read_csv(\"student-mat.csv\",sep=\";\")\n",
    "studenci_por = pd.read_csv(\"student-por.csv\",sep=\";\")\n",
    "studenci_razem = pd.concat([studenci_mat,studenci_por])\n"
   ]
  },
  {
   "cell_type": "markdown",
   "metadata": {},
   "source": [
    "## Hipoteza I\n",
    "Hipotezy rozpocznę od podanej poniżej, która wydała mi się na pierwszy rzut oka oczywista.\n",
    "Oficjalna treść brzmi następująco : \n",
    "\n",
    "*Studenci, których rodzice nie współmieszkają mają średnio więcej nieobecności oraz średnio niższe G1, G2 oraz G3*\n",
    "\n",
    "Uważam, iż postawiona hipoteza jest matematycznie łatwo udowadnialna, oraz \"na logikę\" poprawna. Zatem nie widzę powodów by należało ją odrzucić. Przetestowanie zachodzących zależności nie powinno sprawić problemu oraz rezultaty będą jednoznaczne. Hipoteza skupia się na rodzinach rozwiedzionych w porównaniu z rodzinami zżytymi. Fakt, iż rodzice żyją w separacji dość żadko świadczy o pozytywnych doświadczeniach domowych, co implikuje wzmożony stres, niepokój oraz brak czasu potencjalnego ucznia, co nidgy nie wpływa pozytywnie na obecności, ani na oceny."
   ]
  },
  {
   "cell_type": "code",
   "execution_count": 17,
   "metadata": {},
   "outputs": [
    {
     "data": {
      "text/html": [
       "<div>\n",
       "<style scoped>\n",
       "    .dataframe tbody tr th:only-of-type {\n",
       "        vertical-align: middle;\n",
       "    }\n",
       "\n",
       "    .dataframe tbody tr th {\n",
       "        vertical-align: top;\n",
       "    }\n",
       "\n",
       "    .dataframe thead th {\n",
       "        text-align: right;\n",
       "    }\n",
       "</style>\n",
       "<table border=\"1\" class=\"dataframe\">\n",
       "  <thead>\n",
       "    <tr style=\"text-align: right;\">\n",
       "      <th></th>\n",
       "      <th>G1</th>\n",
       "      <th>G2</th>\n",
       "      <th>G3</th>\n",
       "    </tr>\n",
       "    <tr>\n",
       "      <th>Pstatus</th>\n",
       "      <th></th>\n",
       "      <th></th>\n",
       "      <th></th>\n",
       "    </tr>\n",
       "  </thead>\n",
       "  <tbody>\n",
       "    <tr>\n",
       "      <th>A</th>\n",
       "      <td>11.214876</td>\n",
       "      <td>11.338843</td>\n",
       "      <td>11.669421</td>\n",
       "    </tr>\n",
       "    <tr>\n",
       "      <th>T</th>\n",
       "      <td>11.213434</td>\n",
       "      <td>11.234020</td>\n",
       "      <td>11.299025</td>\n",
       "    </tr>\n",
       "  </tbody>\n",
       "</table>\n",
       "</div>"
      ],
      "text/plain": [
       "                G1         G2         G3\n",
       "Pstatus                                 \n",
       "A        11.214876  11.338843  11.669421\n",
       "T        11.213434  11.234020  11.299025"
      ]
     },
     "execution_count": 17,
     "metadata": {},
     "output_type": "execute_result"
    }
   ],
   "source": [
    "temp = studenci_razem[['Pstatus','G1','G2','G3']]\n",
    "temp.groupby(['Pstatus']).mean()"
   ]
  },
  {
   "cell_type": "markdown",
   "metadata": {},
   "source": [
    "### Konkluzja\n",
    "Ostatecznie muszę całkowicie odrzucić moją hipotezę. Jej wyniki okazały się całkowicie odwrotne od początkowo przeze mnie domniemanych. A zatem hipotezę należy odrzucić na rzecz jej odwrotnej. Dododem jest powyższa tabelka demonstrująca średnią uczniów z rodzicami nie żyjącymi razem, i z rodzicami żyjącymi razem oraz ich średnimi z odpowiednich ocen G1, G2 i G3."
   ]
  },
  {
   "cell_type": "markdown",
   "metadata": {},
   "source": [
    "## Hipoteza II\n",
    "\n"
   ]
  },
  {
   "cell_type": "markdown",
   "metadata": {},
   "source": [
    "Drugą hipotezą będzie stwierdzenie, iż \"umotywowani\" studenci osiągają ogólnie większą średnią ogólną ocen oraz śrenio studiują dłużej oraz średnio osiągają mniejszą ilość prażek w kursach. A, zatem \"poprawna\" treść hipotezy brzmi następująco :\n",
    "\n",
    "*Grupa studentów, która pragnie podjąć edukację wyższą, oraz która wybrała daną szkołę z poglądów preferencji kursów, ma wyższą średnią niż grupa dopełniająca, oraz średnio osiągają mniejszą ilość porażek w przedmiotach*\n",
    "\n",
    "Postawiona hipoteza celuje w stwierdzenie faktu, iż uczniowie pragnący dostać się na uczelnie wyższą, oraz Ci, których wybór dokonany został na podstawie zainteresowań, osiągają lepsze wyniki, gdyż po prostu są bardziej zmotywowani niż ich rówieśnicy.\n",
    "Poprawność hipotezy stwierdzę po przeanalizowaniu finalnej tabeli danych.\n"
   ]
  },
  {
   "cell_type": "code",
   "execution_count": 34,
   "metadata": {},
   "outputs": [
    {
     "data": {
      "text/html": [
       "<div>\n",
       "<style scoped>\n",
       "    .dataframe tbody tr th:only-of-type {\n",
       "        vertical-align: middle;\n",
       "    }\n",
       "\n",
       "    .dataframe tbody tr th {\n",
       "        vertical-align: top;\n",
       "    }\n",
       "\n",
       "    .dataframe thead th {\n",
       "        text-align: right;\n",
       "    }\n",
       "</style>\n",
       "<table border=\"1\" class=\"dataframe\">\n",
       "  <thead>\n",
       "    <tr style=\"text-align: right;\">\n",
       "      <th></th>\n",
       "      <th></th>\n",
       "      <th>failures</th>\n",
       "      <th>mean</th>\n",
       "    </tr>\n",
       "    <tr>\n",
       "      <th>reason</th>\n",
       "      <th>higher</th>\n",
       "      <th></th>\n",
       "      <th></th>\n",
       "    </tr>\n",
       "  </thead>\n",
       "  <tbody>\n",
       "    <tr>\n",
       "      <th rowspan=\"2\" valign=\"top\">course</th>\n",
       "      <th>no</th>\n",
       "      <td>0.938776</td>\n",
       "      <td>8.374150</td>\n",
       "    </tr>\n",
       "    <tr>\n",
       "      <th>yes</th>\n",
       "      <td>0.265092</td>\n",
       "      <td>11.201225</td>\n",
       "    </tr>\n",
       "    <tr>\n",
       "      <th rowspan=\"2\" valign=\"top\">home</th>\n",
       "      <th>no</th>\n",
       "      <td>0.800000</td>\n",
       "      <td>8.600000</td>\n",
       "    </tr>\n",
       "    <tr>\n",
       "      <th>yes</th>\n",
       "      <td>0.205761</td>\n",
       "      <td>11.507545</td>\n",
       "    </tr>\n",
       "    <tr>\n",
       "      <th rowspan=\"2\" valign=\"top\">other</th>\n",
       "      <th>no</th>\n",
       "      <td>0.937500</td>\n",
       "      <td>8.791667</td>\n",
       "    </tr>\n",
       "    <tr>\n",
       "      <th>yes</th>\n",
       "      <td>0.130435</td>\n",
       "      <td>11.195652</td>\n",
       "    </tr>\n",
       "    <tr>\n",
       "      <th rowspan=\"2\" valign=\"top\">reputation</th>\n",
       "      <th>no</th>\n",
       "      <td>0.555556</td>\n",
       "      <td>8.370370</td>\n",
       "    </tr>\n",
       "    <tr>\n",
       "      <th>yes</th>\n",
       "      <td>0.146444</td>\n",
       "      <td>12.191074</td>\n",
       "    </tr>\n",
       "  </tbody>\n",
       "</table>\n",
       "</div>"
      ],
      "text/plain": [
       "                   failures       mean\n",
       "reason     higher                     \n",
       "course     no      0.938776   8.374150\n",
       "           yes     0.265092  11.201225\n",
       "home       no      0.800000   8.600000\n",
       "           yes     0.205761  11.507545\n",
       "other      no      0.937500   8.791667\n",
       "           yes     0.130435  11.195652\n",
       "reputation no      0.555556   8.370370\n",
       "           yes     0.146444  12.191074"
      ]
     },
     "execution_count": 34,
     "metadata": {},
     "output_type": "execute_result"
    }
   ],
   "source": [
    "temp = studenci_razem[['reason','higher','G1','G2','G3','failures']]\n",
    "temp['mean'] = temp['G1'] + temp['G2'] + temp['G3']\n",
    "temp['mean'] = temp['mean']/3\n",
    "temp = temp.drop(columns = ['G1','G2','G3'])\n",
    "temp.groupby(['reason','higher']).mean()"
   ]
  },
  {
   "cell_type": "markdown",
   "metadata": {},
   "source": [
    "### Konkluzja\n",
    "Tym razem niestety takżę muszę odrzucić wcześniej postawioną tezę, uczniowie z wymienionej przeze mnie grupy radzili sobie nienajgorzej, jednakże najlepiej poradzili sobie, i w zasadzie spełniliby warunki mojej hipotezy, uczniowie, którzy wybrali szkołę ze względu na jej reputacje i tacy, którzy chcą podjąć wyższą edukacje. Ogólnie średnie uczniów uczniów chcących podjąć edukację wyższą są znacznie wyższe, a ilość porażek niższa."
   ]
  },
  {
   "cell_type": "markdown",
   "metadata": {},
   "source": [
    "## Hipoteza III\n",
    "Tutaj zajmę się śmiałą hipotezą, pochodzenia rodziców najlepszych uczniów w klasie pod względem ocen. Tradycja rodzinna oraz wpływ rodziców maja ogromny wpływ na zaradność akademicką oraz na sukces życiowy. Zatem precyzyjną treścią hipotezy będzie :\n",
    "\n",
    "*Uczniowie, których rodzice posiadają wyższe wykształcenie, jedeno z rodziców pracuje jako nauczyciel, żyją wspólnie, ich liczność rodziny jest mniejsza lub równa 3, znajdują się w rankingu średniej ocen powyżej osób, ktróe nie spełniają wcześniej wymienionych warunków*\n",
    "\n",
    "Tutaj stwierdzam, iż doświadczenie pedagogiczne rodziców wywiera newralgiczny wpływ na sukces akademicki, owocujący w wysoką średnią. Poniżej dokonuje sprawdzenia hipotezy."
   ]
  },
  {
   "cell_type": "code",
   "execution_count": 62,
   "metadata": {},
   "outputs": [
    {
     "data": {
      "text/plain": [
       "[12.244444444444442, 11.252996436669903]"
      ]
     },
     "execution_count": 62,
     "metadata": {},
     "output_type": "execute_result"
    }
   ],
   "source": [
    "temp = studenci_razem[['Medu','Fedu','Pstatus','famsize','Mjob','Fjob','G1','G2','G3']]\n",
    "temp['mean'] = temp['G1'] + temp['G2'] + temp['G3']\n",
    "temp['mean'] = temp['mean']/3\n",
    "temp = temp.drop(columns = ['G1','G2','G3'])\n",
    "grupa_1 = temp[(temp['Pstatus'] == 'T') & (temp['famsize']=='LE3')&(temp['Medu'] + temp['Fedu'] == 8)&((temp['Mjob']=='teacher')|(temp['Fjob']=='teacher'))]\n",
    "grupa_2 = temp[~((temp['Pstatus'] == 'T') & (temp['famsize']=='LE3')&(temp['Medu'] + temp['Fedu'] == 8)&((temp['Mjob']=='teacher')|(temp['Fjob']=='teacher')))].dropna()\n",
    "\n",
    "srednia_1 = grupa_1['mean'].mean()\n",
    "srednia_2 = grupa_2['mean'].mean()\n",
    "\n",
    "[srednia_1,srednia_2]"
   ]
  },
  {
   "cell_type": "markdown",
   "metadata": {},
   "source": [
    "### Konkluzja\n",
    "Jak widzimy, w teorii hipoteza została potwierdzona, lecz w praktyce jest ona nieznacznie większa, a przynajmniej mniej niż zakładałem, wyższa niż powinna być. Należy pamiętać, iż jest ona barna z dwóch oddzielnych grup, więc wynik powinien być jeszcze bardziej widzoczny. Ostatecznie, niechętnie, akceptuje hipotezę."
   ]
  },
  {
   "cell_type": "markdown",
   "metadata": {},
   "source": [
    "## Hipoteza IV\n",
    "Odchodząc od analizy ocen uczniów, w tej hipotezie stwierdzę zależność pomiędzy niektórymi danymi, a wykształceniem rodziców, tudzież stwierdzę przynależność rodziny do danego klasy społecznej.\n",
    "\n",
    "*Jeżeli rodzina danego studenta jest liczniejsza niż 3, nie bierze udziału w zajęciach pozalekcyjnych, nie chodził do żłobka, nie posiada dostępu do internetu w domu oraz nie podjął dodatkowych płatnych zajęć, to suma wykształceń jego rodziców, wyrażona poprzez skale podaną w ramce danych, jest mniejsza/równa cztery*\n",
    "\n",
    "Jak wiemy przynależność do niższej klasy społecznej wiąże się z niską ilością środków na edukację i życie, oraz jest ściśle związane z (raczej) niższym poziomem wyedukowania rodziców. Zatem stwierdzam, iż na podstawie wymienionych w hipotezie czynników da się stwierdzić przynależność do ubogiej klasy społeczeństwa, co przekłada się w wykształceniu rodziców.\n",
    "W testach będę musiał sprawdzić ilość kolumn spełniających wszysktie warunki wraz z hipotezą i porównać ją z warunkami bez hipotezy."
   ]
  },
  {
   "cell_type": "code",
   "execution_count": 14,
   "metadata": {},
   "outputs": [
    {
     "name": "stdout",
     "output_type": "stream",
     "text": [
      "[49, 69]\n",
      "65\n"
     ]
    }
   ],
   "source": [
    "temp = studenci_razem[['famsize','activities','nursery','internet','paid','Medu','Fedu']]\n",
    "grupa_3 = temp[(temp['famsize'] == 'GT3') & (temp['activities']=='no')&(temp['nursery'] == 'no')&(temp['paid']=='no')]\n",
    "a = grupa_3[(grupa_3['Medu'] + grupa_3['Fedu']) <= 4].count()\n",
    "b = grupa_3.count()\n",
    "print([a[1],b[1]])\n",
    "c = grupa_3[(grupa_3['Medu'] + grupa_3['Fedu']) <= 6].count()\n",
    "print(c[1])"
   ]
  },
  {
   "cell_type": "markdown",
   "metadata": {},
   "source": [
    "### Konkluzja\n",
    "No i niestety po praz kolejny jestem zmuszony obalić moją hipotezę, jednakże była ona dość bliska prawdy. Z grupy 69 studentów spełniających podany przeze mnie warunek, tylko dwudziestu nie spełniało twierdzenie hipotezy. Gdy zwiększymy liczbę stwierdzenia z 4 do 6, wtedy prawie wszyscy studenci spełniają warunek."
   ]
  },
  {
   "cell_type": "markdown",
   "metadata": {},
   "source": [
    "## Hipoteza V\n",
    "Na koniec proste jednowymiarowe stwierdzenie dotyczące stwierdzenia pobytu studenta (miasto/teren wiejski), zważywszy ilość nieobecności oraz średni dojazd do szkoły. A więc zatem:\n",
    "\n",
    "*Uczniowie, którzy należą do grupy, która dojężdza do szkoły 4 godziny lub więcej, mieszka na terenie wiejskim ma ilość nieobecności co najmniej o 15% większą niż średnia*\n",
    "\n",
    "Jak wiemy problemy z dojazdem występują głównie wśród uczniów, dla których konieczne jest pokonanie trasy od terenu wiejskiego do terenu miejskiego, długi czas dojazdu implikuje także spóźnienia przekraczające \"górny limit\" łapiący się na spóźnienie, skutkujące nieobecnością. "
   ]
  },
  {
   "cell_type": "code",
   "execution_count": 82,
   "metadata": {},
   "outputs": [
    {
     "data": {
      "text/plain": [
       "[4.434865900383142, 3.7333333333333334]"
      ]
     },
     "execution_count": 82,
     "metadata": {},
     "output_type": "execute_result"
    }
   ],
   "source": [
    "temp = studenci_razem[['absences','traveltime','address']]\n",
    "temp = temp[(temp['address'] == 'R')]\n",
    "temp = temp[temp['traveltime'] == 4]\n",
    "[studenci_razem['absences'].mean(),temp['absences'].mean()]"
   ]
  },
  {
   "cell_type": "markdown",
   "metadata": {},
   "source": [
    "### Konkluzje\n",
    "Tym razem hipoteza zostaje potwierdzona, rzeczywiście uczniowie mieszkający w terenie wiejskim, tacy, którzy dojeżdżają do szkoły przynajmniej 4 godziny, rzeczywiście mają więcej niż 15% więcej nieobecności niż reszta grupy."
   ]
  },
  {
   "cell_type": "markdown",
   "metadata": {},
   "source": [
    "## Podsumowanie\n",
    "Ostatecznie niedużo hipotez mogłem zaakceptować, jednakże wiele z nich było \"bliskich\" spełnienia binarnych warunków założeń. Jednakże także należy zważyć fakt, iż postawione przeze mnie hipotezy zawierały dość \"mocne\" warunki, zatem być może były odrobinę zbyt wygórowane."
   ]
  }
 ],
 "metadata": {
  "kernelspec": {
   "display_name": "Python 3",
   "language": "python",
   "name": "python3"
  },
  "language_info": {
   "codemirror_mode": {
    "name": "ipython",
    "version": 3
   },
   "file_extension": ".py",
   "mimetype": "text/x-python",
   "name": "python",
   "nbconvert_exporter": "python",
   "pygments_lexer": "ipython3",
   "version": "3.7.3"
  }
 },
 "nbformat": 4,
 "nbformat_minor": 2
}
