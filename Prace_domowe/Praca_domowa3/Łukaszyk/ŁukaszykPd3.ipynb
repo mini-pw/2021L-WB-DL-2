{
  "nbformat": 4,
  "nbformat_minor": 0,
  "metadata": {
    "colab": {
      "name": "Untitled1.ipynb",
      "provenance": [],
      "collapsed_sections": []
    },
    "kernelspec": {
      "name": "python3",
      "display_name": "Python 3"
    },
    "language_info": {
      "name": "python"
    },
    "accelerator": "GPU"
  },
  "cells": [
    {
      "cell_type": "markdown",
      "metadata": {
        "id": "4nzjnY6GoOvr"
      },
      "source": [
        "**Ablation study**\n",
        "\n",
        "Jest to sposób na analize metody działania sieci neuronowych. Została ona zapożyczona z nauk biologicznych w których naukowcy usuwali części narządów organizmów i obserowoali jak brak wpływa na działanie organizmu. W analogiczny sposób naukowcy badają jaki wpływ na działanie sieci neuronowych mają poszczególne jej fragmenty.\n",
        "\n",
        "Do przeprowadzenia takiego badania posłużę się siecią z [tego](https://colab.research.google.com/github/google/eng-edu/blob/master/ml/pc/exercises/image_classification_part1.ipynb) notebooka dotyczącym sieci rozpoznawającej psy i koty."
      ]
    },
    {
      "cell_type": "code",
      "metadata": {
        "colab": {
          "base_uri": "https://localhost:8080/"
        },
        "id": "d_zFtDJwpE5E",
        "outputId": "29359bbc-2d00-43e2-a4c3-8d389cf4f7d8"
      },
      "source": [
        "!wget --no-check-certificate \\\n",
        "    https://storage.googleapis.com/mledu-datasets/cats_and_dogs_filtered.zip \\\n",
        "    -O /tmp/cats_and_dogs_filtered.zip"
      ],
      "execution_count": 1,
      "outputs": [
        {
          "output_type": "stream",
          "text": [
            "--2021-04-11 20:12:09--  https://storage.googleapis.com/mledu-datasets/cats_and_dogs_filtered.zip\n",
            "Resolving storage.googleapis.com (storage.googleapis.com)... 74.125.142.128, 74.125.195.128, 142.250.99.128, ...\n",
            "Connecting to storage.googleapis.com (storage.googleapis.com)|74.125.142.128|:443... connected.\n",
            "HTTP request sent, awaiting response... 200 OK\n",
            "Length: 68606236 (65M) [application/zip]\n",
            "Saving to: ‘/tmp/cats_and_dogs_filtered.zip’\n",
            "\n",
            "/tmp/cats_and_dogs_ 100%[===================>]  65.43M  79.1MB/s    in 0.8s    \n",
            "\n",
            "2021-04-11 20:12:10 (79.1 MB/s) - ‘/tmp/cats_and_dogs_filtered.zip’ saved [68606236/68606236]\n",
            "\n"
          ],
          "name": "stdout"
        }
      ]
    },
    {
      "cell_type": "code",
      "metadata": {
        "id": "F-X5lflNpr7i"
      },
      "source": [
        "import os\n",
        "import zipfile\n",
        "\n",
        "local_zip = '/tmp/cats_and_dogs_filtered.zip'\n",
        "zip_ref = zipfile.ZipFile(local_zip, 'r')\n",
        "zip_ref.extractall('/tmp')\n",
        "zip_ref.close()"
      ],
      "execution_count": 2,
      "outputs": []
    },
    {
      "cell_type": "code",
      "metadata": {
        "id": "5fKal7B4pvV0"
      },
      "source": [
        "base_dir = '/tmp/cats_and_dogs_filtered'\n",
        "train_dir = os.path.join(base_dir, 'train')\n",
        "validation_dir = os.path.join(base_dir, 'validation')\n",
        "\n",
        "# Directory with our training cat pictures\n",
        "train_cats_dir = os.path.join(train_dir, 'cats')\n",
        "\n",
        "# Directory with our training dog pictures\n",
        "train_dogs_dir = os.path.join(train_dir, 'dogs')\n",
        "\n",
        "# Directory with our validation cat pictures\n",
        "validation_cats_dir = os.path.join(validation_dir, 'cats')\n",
        "\n",
        "# Directory with our validation dog pictures\n",
        "validation_dogs_dir = os.path.join(validation_dir, 'dogs')"
      ],
      "execution_count": 3,
      "outputs": []
    },
    {
      "cell_type": "code",
      "metadata": {
        "id": "cTx00QtXp6wJ"
      },
      "source": [
        "from tensorflow.keras import layers\n",
        "from tensorflow.keras import Model\n",
        "img_input = layers.Input(shape=(150, 150, 3))\n",
        "x = layers.Conv2D(16, 3, activation='relu')(img_input)\n",
        "x = layers.MaxPooling2D(2)(x)\n",
        "x = layers.Conv2D(32, 3, activation='relu')(x)\n",
        "x = layers.MaxPooling2D(2)(x)\n",
        "x = layers.Conv2D(64, 3, activation='relu')(x)\n",
        "x = layers.MaxPooling2D(2)(x)\n",
        "x = layers.Flatten()(x)\n",
        "x = layers.Dense(512, activation='relu')(x)\n",
        "output = layers.Dense(1, activation='sigmoid')(x)\n",
        "model = Model(img_input, output)"
      ],
      "execution_count": 4,
      "outputs": []
    },
    {
      "cell_type": "markdown",
      "metadata": {
        "id": "Wfa9gw_KqMYp"
      },
      "source": [
        "Mamy architekture sieci."
      ]
    },
    {
      "cell_type": "code",
      "metadata": {
        "colab": {
          "base_uri": "https://localhost:8080/"
        },
        "id": "p4x7GuG5qQAB",
        "outputId": "93efed4a-2824-416a-942c-11624f13bfe3"
      },
      "source": [
        "model.summary()"
      ],
      "execution_count": 5,
      "outputs": [
        {
          "output_type": "stream",
          "text": [
            "Model: \"model\"\n",
            "_________________________________________________________________\n",
            "Layer (type)                 Output Shape              Param #   \n",
            "=================================================================\n",
            "input_1 (InputLayer)         [(None, 150, 150, 3)]     0         \n",
            "_________________________________________________________________\n",
            "conv2d (Conv2D)              (None, 148, 148, 16)      448       \n",
            "_________________________________________________________________\n",
            "max_pooling2d (MaxPooling2D) (None, 74, 74, 16)        0         \n",
            "_________________________________________________________________\n",
            "conv2d_1 (Conv2D)            (None, 72, 72, 32)        4640      \n",
            "_________________________________________________________________\n",
            "max_pooling2d_1 (MaxPooling2 (None, 36, 36, 32)        0         \n",
            "_________________________________________________________________\n",
            "conv2d_2 (Conv2D)            (None, 34, 34, 64)        18496     \n",
            "_________________________________________________________________\n",
            "max_pooling2d_2 (MaxPooling2 (None, 17, 17, 64)        0         \n",
            "_________________________________________________________________\n",
            "flatten (Flatten)            (None, 18496)             0         \n",
            "_________________________________________________________________\n",
            "dense (Dense)                (None, 512)               9470464   \n",
            "_________________________________________________________________\n",
            "dense_1 (Dense)              (None, 1)                 513       \n",
            "=================================================================\n",
            "Total params: 9,494,561\n",
            "Trainable params: 9,494,561\n",
            "Non-trainable params: 0\n",
            "_________________________________________________________________\n"
          ],
          "name": "stdout"
        }
      ]
    },
    {
      "cell_type": "code",
      "metadata": {
        "id": "zHIGijb9qU1j"
      },
      "source": [
        "from tensorflow.keras.optimizers import RMSprop\n",
        "\n",
        "model.compile(loss='binary_crossentropy',\n",
        "              optimizer=RMSprop(lr=0.001),\n",
        "              metrics=['acc'])"
      ],
      "execution_count": 6,
      "outputs": []
    },
    {
      "cell_type": "code",
      "metadata": {
        "colab": {
          "base_uri": "https://localhost:8080/"
        },
        "id": "WWU0ntovqbaR",
        "outputId": "b68d17e3-238d-4f06-cce4-7756fb6e46b5"
      },
      "source": [
        "from tensorflow.keras.preprocessing.image import ImageDataGenerator\n",
        "\n",
        "# All images will be rescaled by 1./255\n",
        "train_datagen = ImageDataGenerator(rescale=1./255)\n",
        "val_datagen = ImageDataGenerator(rescale=1./255)\n",
        "\n",
        "# Flow training images in batches of 20 using train_datagen generator\n",
        "train_generator = train_datagen.flow_from_directory(\n",
        "        train_dir,  # This is the source directory for training images\n",
        "        target_size=(150, 150),  # All images will be resized to 150x150\n",
        "        batch_size=20,\n",
        "        # Since we use binary_crossentropy loss, we need binary labels\n",
        "        class_mode='binary')\n",
        "\n",
        "# Flow validation images in batches of 20 using val_datagen generator\n",
        "validation_generator = val_datagen.flow_from_directory(\n",
        "        validation_dir,\n",
        "        target_size=(150, 150),\n",
        "        batch_size=20,\n",
        "        class_mode='binary')"
      ],
      "execution_count": 7,
      "outputs": [
        {
          "output_type": "stream",
          "text": [
            "Found 2000 images belonging to 2 classes.\n",
            "Found 1000 images belonging to 2 classes.\n"
          ],
          "name": "stdout"
        }
      ]
    },
    {
      "cell_type": "markdown",
      "metadata": {
        "id": "HJlRHgRvqjCR"
      },
      "source": [
        "Dane zostało odpowiednio zmodyfikowane aby były możliwe do wykorzystywania.\n",
        "\n",
        "Teraz następuje proces trenowania na normalnej sieci"
      ]
    },
    {
      "cell_type": "code",
      "metadata": {
        "colab": {
          "base_uri": "https://localhost:8080/"
        },
        "id": "urXoM4Q_q4Rp",
        "outputId": "c773d93b-fbf3-49ef-e5ce-b899afb56b6f"
      },
      "source": [
        "history = model.fit_generator(\n",
        "      train_generator,\n",
        "      steps_per_epoch=100,  # 2000 images = batch_size * steps\n",
        "      epochs=15,\n",
        "      validation_data=validation_generator,\n",
        "      validation_steps=50,  # 1000 images = batch_size * steps\n",
        "      verbose=2)"
      ],
      "execution_count": 8,
      "outputs": [
        {
          "output_type": "stream",
          "text": [
            "/usr/local/lib/python3.7/dist-packages/tensorflow/python/keras/engine/training.py:1844: UserWarning: `Model.fit_generator` is deprecated and will be removed in a future version. Please use `Model.fit`, which supports generators.\n",
            "  warnings.warn('`Model.fit_generator` is deprecated and '\n"
          ],
          "name": "stderr"
        },
        {
          "output_type": "stream",
          "text": [
            "Epoch 1/15\n",
            "100/100 - 41s - loss: 0.7533 - acc: 0.5650 - val_loss: 0.6586 - val_acc: 0.6060\n",
            "Epoch 2/15\n",
            "100/100 - 8s - loss: 0.6125 - acc: 0.6710 - val_loss: 0.5793 - val_acc: 0.7020\n",
            "Epoch 3/15\n",
            "100/100 - 8s - loss: 0.5493 - acc: 0.7220 - val_loss: 0.6859 - val_acc: 0.6110\n",
            "Epoch 4/15\n",
            "100/100 - 8s - loss: 0.4863 - acc: 0.7620 - val_loss: 0.5637 - val_acc: 0.7120\n",
            "Epoch 5/15\n",
            "100/100 - 8s - loss: 0.4195 - acc: 0.8080 - val_loss: 0.5456 - val_acc: 0.7390\n",
            "Epoch 6/15\n",
            "100/100 - 8s - loss: 0.3525 - acc: 0.8500 - val_loss: 0.5952 - val_acc: 0.7120\n",
            "Epoch 7/15\n",
            "100/100 - 8s - loss: 0.2612 - acc: 0.8875 - val_loss: 0.6889 - val_acc: 0.7120\n",
            "Epoch 8/15\n",
            "100/100 - 8s - loss: 0.1983 - acc: 0.9190 - val_loss: 0.7075 - val_acc: 0.7410\n",
            "Epoch 9/15\n",
            "100/100 - 8s - loss: 0.1245 - acc: 0.9550 - val_loss: 1.0341 - val_acc: 0.7130\n",
            "Epoch 10/15\n",
            "100/100 - 8s - loss: 0.0996 - acc: 0.9685 - val_loss: 1.0950 - val_acc: 0.7070\n",
            "Epoch 11/15\n",
            "100/100 - 8s - loss: 0.0746 - acc: 0.9710 - val_loss: 1.3764 - val_acc: 0.6940\n",
            "Epoch 12/15\n",
            "100/100 - 8s - loss: 0.0435 - acc: 0.9865 - val_loss: 1.2582 - val_acc: 0.7140\n",
            "Epoch 13/15\n",
            "100/100 - 8s - loss: 0.0464 - acc: 0.9795 - val_loss: 1.4373 - val_acc: 0.7250\n",
            "Epoch 14/15\n",
            "100/100 - 8s - loss: 0.0351 - acc: 0.9905 - val_loss: 1.4721 - val_acc: 0.7320\n",
            "Epoch 15/15\n",
            "100/100 - 8s - loss: 0.0970 - acc: 0.9810 - val_loss: 1.5696 - val_acc: 0.7310\n"
          ],
          "name": "stdout"
        }
      ]
    },
    {
      "cell_type": "code",
      "metadata": {
        "colab": {
          "base_uri": "https://localhost:8080/",
          "height": 562
        },
        "id": "5GJFQwtMsAO7",
        "outputId": "00b2f23c-7fcf-4c43-f7a5-129371e5ea81"
      },
      "source": [
        "import matplotlib.pyplot as plt\n",
        "# Retrieve a list of accuracy results on training and validation data\n",
        "# sets for each training epoch\n",
        "acc = history.history['acc']\n",
        "val_acc = history.history['val_acc']\n",
        "\n",
        "# Retrieve a list of list results on training and validation data\n",
        "# sets for each training epoch\n",
        "loss = history.history['loss']\n",
        "val_loss = history.history['val_loss']\n",
        "\n",
        "# Get number of epochs\n",
        "epochs = range(len(acc))\n",
        "\n",
        "# Plot training and validation accuracy per epoch\n",
        "plt.plot(epochs, acc)\n",
        "plt.plot(epochs, val_acc)\n",
        "plt.title('Training and validation accuracy')\n",
        "\n",
        "plt.figure()\n",
        "\n",
        "# Plot training and validation loss per epoch\n",
        "plt.plot(epochs, loss)\n",
        "plt.plot(epochs, val_loss)\n",
        "plt.title('Training and validation loss')"
      ],
      "execution_count": 9,
      "outputs": [
        {
          "output_type": "execute_result",
          "data": {
            "text/plain": [
              "Text(0.5, 1.0, 'Training and validation loss')"
            ]
          },
          "metadata": {
            "tags": []
          },
          "execution_count": 9
        },
        {
          "output_type": "display_data",
          "data": {
            "image/png": "[encoded data removed]",
            "text/plain": [
              "<Figure size 432x288 with 1 Axes>"
            ]
          },
          "metadata": {
            "tags": [],
            "needs_background": "light"
          }
        },
        {
          "output_type": "display_data",
          "data": {
            "image/png": "[encoded data removed]",
            "text/plain": [
              "<Figure size 432x288 with 1 Axes>"
            ]
          },
          "metadata": {
            "tags": [],
            "needs_background": "light"
          }
        }
      ]
    },
    {
      "cell_type": "markdown",
      "metadata": {
        "id": "PVHKSkehs1gx"
      },
      "source": [
        "Jak widać nasza sieć ma wysoką celoność na zbiorze treningowym ale zauważalnie gorszą na zbiorze walidacyjnym.Oznacza to że nastąpiło zjawisko przeuczenia.\n",
        "\n",
        "Sprwdźmy teraz co się stanie jak usuniemy część sieci.\n",
        "\n",
        "Pierwszym kandydatem jest usunięcie \"zwykłych\" warstw.  "
      ]
    },
    {
      "cell_type": "code",
      "metadata": {
        "id": "FIWQH_pHtdGu"
      },
      "source": [
        "img_input = layers.Input(shape=(150, 150, 3))\n",
        "x = layers.Conv2D(16, 3, activation='relu')(img_input)\n",
        "x = layers.MaxPooling2D(2)(x)\n",
        "x = layers.Conv2D(32, 3, activation='relu')(x)\n",
        "x = layers.MaxPooling2D(2)(x)\n",
        "x = layers.Conv2D(64, 3, activation='relu')(x)\n",
        "x = layers.MaxPooling2D(2)(x)\n",
        "x = layers.Flatten()(x)\n",
        "output = layers.Dense(1, activation='sigmoid')(x)\n",
        "model = Model(img_input, output)"
      ],
      "execution_count": 10,
      "outputs": []
    },
    {
      "cell_type": "code",
      "metadata": {
        "colab": {
          "base_uri": "https://localhost:8080/"
        },
        "id": "3hXGWkNBtmBR",
        "outputId": "d82bd4b0-5907-4038-8874-d4ccfa3f1ebc"
      },
      "source": [
        "model.summary()"
      ],
      "execution_count": 11,
      "outputs": [
        {
          "output_type": "stream",
          "text": [
            "Model: \"model_1\"\n",
            "_________________________________________________________________\n",
            "Layer (type)                 Output Shape              Param #   \n",
            "=================================================================\n",
            "input_2 (InputLayer)         [(None, 150, 150, 3)]     0         \n",
            "_________________________________________________________________\n",
            "conv2d_3 (Conv2D)            (None, 148, 148, 16)      448       \n",
            "_________________________________________________________________\n",
            "max_pooling2d_3 (MaxPooling2 (None, 74, 74, 16)        0         \n",
            "_________________________________________________________________\n",
            "conv2d_4 (Conv2D)            (None, 72, 72, 32)        4640      \n",
            "_________________________________________________________________\n",
            "max_pooling2d_4 (MaxPooling2 (None, 36, 36, 32)        0         \n",
            "_________________________________________________________________\n",
            "conv2d_5 (Conv2D)            (None, 34, 34, 64)        18496     \n",
            "_________________________________________________________________\n",
            "max_pooling2d_5 (MaxPooling2 (None, 17, 17, 64)        0         \n",
            "_________________________________________________________________\n",
            "flatten_1 (Flatten)          (None, 18496)             0         \n",
            "_________________________________________________________________\n",
            "dense_2 (Dense)              (None, 1)                 18497     \n",
            "=================================================================\n",
            "Total params: 42,081\n",
            "Trainable params: 42,081\n",
            "Non-trainable params: 0\n",
            "_________________________________________________________________\n"
          ],
          "name": "stdout"
        }
      ]
    },
    {
      "cell_type": "code",
      "metadata": {
        "id": "udT2SFaptyYZ"
      },
      "source": [
        "model.compile(loss='binary_crossentropy',\n",
        "              optimizer=RMSprop(lr=0.001),\n",
        "              metrics=['acc'])"
      ],
      "execution_count": 12,
      "outputs": []
    },
    {
      "cell_type": "code",
      "metadata": {
        "colab": {
          "base_uri": "https://localhost:8080/"
        },
        "id": "yVt6PCFcts6P",
        "outputId": "b001c261-2a86-4cd0-f14b-655ffeb268f4"
      },
      "source": [
        "history = model.fit_generator(\n",
        "      train_generator,\n",
        "      steps_per_epoch=100,  # 2000 images = batch_size * steps\n",
        "      epochs=15,\n",
        "      validation_data=validation_generator,\n",
        "      validation_steps=50,  # 1000 images = batch_size * steps\n",
        "      verbose=2)"
      ],
      "execution_count": 13,
      "outputs": [
        {
          "output_type": "stream",
          "text": [
            "Epoch 1/15\n"
          ],
          "name": "stdout"
        },
        {
          "output_type": "stream",
          "text": [
            "/usr/local/lib/python3.7/dist-packages/tensorflow/python/keras/engine/training.py:1844: UserWarning: `Model.fit_generator` is deprecated and will be removed in a future version. Please use `Model.fit`, which supports generators.\n",
            "  warnings.warn('`Model.fit_generator` is deprecated and '\n"
          ],
          "name": "stderr"
        },
        {
          "output_type": "stream",
          "text": [
            "100/100 - 9s - loss: 0.6916 - acc: 0.5535 - val_loss: 0.6339 - val_acc: 0.6390\n",
            "Epoch 2/15\n",
            "100/100 - 8s - loss: 0.6179 - acc: 0.6715 - val_loss: 0.5846 - val_acc: 0.6910\n",
            "Epoch 3/15\n",
            "100/100 - 8s - loss: 0.5532 - acc: 0.7280 - val_loss: 0.5519 - val_acc: 0.7180\n",
            "Epoch 4/15\n",
            "100/100 - 8s - loss: 0.5142 - acc: 0.7425 - val_loss: 0.5664 - val_acc: 0.7080\n",
            "Epoch 5/15\n",
            "100/100 - 8s - loss: 0.4748 - acc: 0.7685 - val_loss: 0.5464 - val_acc: 0.7140\n",
            "Epoch 6/15\n",
            "100/100 - 8s - loss: 0.4315 - acc: 0.8035 - val_loss: 0.5542 - val_acc: 0.7250\n",
            "Epoch 7/15\n",
            "100/100 - 8s - loss: 0.3882 - acc: 0.8240 - val_loss: 0.5652 - val_acc: 0.7320\n",
            "Epoch 8/15\n",
            "100/100 - 8s - loss: 0.3516 - acc: 0.8435 - val_loss: 0.5748 - val_acc: 0.7170\n",
            "Epoch 9/15\n",
            "100/100 - 8s - loss: 0.3236 - acc: 0.8700 - val_loss: 0.7960 - val_acc: 0.6800\n",
            "Epoch 10/15\n",
            "100/100 - 8s - loss: 0.2834 - acc: 0.8785 - val_loss: 0.5825 - val_acc: 0.7200\n",
            "Epoch 11/15\n",
            "100/100 - 8s - loss: 0.2500 - acc: 0.8900 - val_loss: 0.6495 - val_acc: 0.7240\n",
            "Epoch 12/15\n",
            "100/100 - 8s - loss: 0.2057 - acc: 0.9160 - val_loss: 0.8428 - val_acc: 0.7110\n",
            "Epoch 13/15\n",
            "100/100 - 8s - loss: 0.1815 - acc: 0.9265 - val_loss: 1.0209 - val_acc: 0.6860\n",
            "Epoch 14/15\n",
            "100/100 - 8s - loss: 0.1550 - acc: 0.9370 - val_loss: 0.8062 - val_acc: 0.7270\n",
            "Epoch 15/15\n",
            "100/100 - 8s - loss: 0.1203 - acc: 0.9565 - val_loss: 0.8677 - val_acc: 0.7190\n"
          ],
          "name": "stdout"
        }
      ]
    },
    {
      "cell_type": "code",
      "metadata": {
        "colab": {
          "base_uri": "https://localhost:8080/",
          "height": 562
        },
        "id": "vB8cSwuWt4Ly",
        "outputId": "45fd0312-a5f0-4548-804a-9b23bed02374"
      },
      "source": [
        "acc = history.history['acc']\n",
        "val_acc = history.history['val_acc']\n",
        "loss = history.history['loss']\n",
        "val_loss = history.history['val_loss']\n",
        "epochs = range(len(acc))\n",
        "plt.plot(epochs, acc)\n",
        "plt.plot(epochs, val_acc)\n",
        "plt.title('Training and validation accuracy')\n",
        "\n",
        "plt.figure()\n",
        "\n",
        "plt.plot(epochs, loss)\n",
        "plt.plot(epochs, val_loss)\n",
        "plt.title('Training and validation loss')"
      ],
      "execution_count": 14,
      "outputs": [
        {
          "output_type": "execute_result",
          "data": {
            "text/plain": [
              "Text(0.5, 1.0, 'Training and validation loss')"
            ]
          },
          "metadata": {
            "tags": []
          },
          "execution_count": 14
        },
        {
          "output_type": "display_data",
          "data": {
            "image/png": "[encoded data removed]",
            "text/plain": [
              "<Figure size 432x288 with 1 Axes>"
            ]
          },
          "metadata": {
            "tags": [],
            "needs_background": "light"
          }
        },
        {
          "output_type": "display_data",
          "data": {
            "image/png": "[encoded data removed]",
            "text/plain": [
              "<Figure size 432x288 with 1 Axes>"
            ]
          },
          "metadata": {
            "tags": [],
            "needs_background": "light"
          }
        }
      ]
    },
    {
      "cell_type": "markdown",
      "metadata": {
        "id": "xmfhgtdOt_r_"
      },
      "source": [
        "Jak widać poprzez uproszczenie modelu zmniejszył się czas uczenia (10%) ale starciła na tym celnośc na zbiorze treningowym. Celnośc na zbiorze walidacyjnym natomiast pozostała na podobnym poziomie.\n",
        "\n",
        "Spróbujmy teraz dodać dodatkową warstwe konwolucyjną."
      ]
    },
    {
      "cell_type": "code",
      "metadata": {
        "id": "jPxTTzxLvy1I"
      },
      "source": [
        "img_input = layers.Input(shape=(150, 150, 3))\n",
        "x = layers.Conv2D(16, 3, activation='relu')(img_input)\n",
        "x = layers.MaxPooling2D(2)(x)\n",
        "x = layers.Conv2D(32, 3, activation='relu')(x)\n",
        "x = layers.MaxPooling2D(2)(x)\n",
        "x = layers.Conv2D(64, 3, activation='relu')(x)\n",
        "x = layers.MaxPooling2D(2)(x)\n",
        "x = layers.Conv2D(128, 3, activation='relu')(x)\n",
        "x = layers.MaxPooling2D(2)(x)\n",
        "x = layers.Flatten()(x)\n",
        "x = layers.Dense(512, activation='relu')(x)\n",
        "output = layers.Dense(1, activation='sigmoid')(x)\n",
        "model = Model(img_input, output)"
      ],
      "execution_count": 15,
      "outputs": []
    },
    {
      "cell_type": "code",
      "metadata": {
        "colab": {
          "base_uri": "https://localhost:8080/"
        },
        "id": "Kt7DrggXv7kO",
        "outputId": "269802e5-73d1-4ad0-d550-c371cc825cbb"
      },
      "source": [
        "model.summary()"
      ],
      "execution_count": 16,
      "outputs": [
        {
          "output_type": "stream",
          "text": [
            "Model: \"model_2\"\n",
            "_________________________________________________________________\n",
            "Layer (type)                 Output Shape              Param #   \n",
            "=================================================================\n",
            "input_3 (InputLayer)         [(None, 150, 150, 3)]     0         \n",
            "_________________________________________________________________\n",
            "conv2d_6 (Conv2D)            (None, 148, 148, 16)      448       \n",
            "_________________________________________________________________\n",
            "max_pooling2d_6 (MaxPooling2 (None, 74, 74, 16)        0         \n",
            "_________________________________________________________________\n",
            "conv2d_7 (Conv2D)            (None, 72, 72, 32)        4640      \n",
            "_________________________________________________________________\n",
            "max_pooling2d_7 (MaxPooling2 (None, 36, 36, 32)        0         \n",
            "_________________________________________________________________\n",
            "conv2d_8 (Conv2D)            (None, 34, 34, 64)        18496     \n",
            "_________________________________________________________________\n",
            "max_pooling2d_8 (MaxPooling2 (None, 17, 17, 64)        0         \n",
            "_________________________________________________________________\n",
            "conv2d_9 (Conv2D)            (None, 15, 15, 128)       73856     \n",
            "_________________________________________________________________\n",
            "max_pooling2d_9 (MaxPooling2 (None, 7, 7, 128)         0         \n",
            "_________________________________________________________________\n",
            "flatten_2 (Flatten)          (None, 6272)              0         \n",
            "_________________________________________________________________\n",
            "dense_3 (Dense)              (None, 512)               3211776   \n",
            "_________________________________________________________________\n",
            "dense_4 (Dense)              (None, 1)                 513       \n",
            "=================================================================\n",
            "Total params: 3,309,729\n",
            "Trainable params: 3,309,729\n",
            "Non-trainable params: 0\n",
            "_________________________________________________________________\n"
          ],
          "name": "stdout"
        }
      ]
    },
    {
      "cell_type": "code",
      "metadata": {
        "id": "SdHiHgbQv_3e"
      },
      "source": [
        "model.compile(loss='binary_crossentropy',\n",
        "              optimizer=RMSprop(lr=0.001),\n",
        "              metrics=['acc'])"
      ],
      "execution_count": 17,
      "outputs": []
    },
    {
      "cell_type": "code",
      "metadata": {
        "colab": {
          "base_uri": "https://localhost:8080/"
        },
        "id": "EbiBPXkIwCud",
        "outputId": "a22fc930-96fb-4b2a-ce89-300dee4c7a3b"
      },
      "source": [
        "history = model.fit_generator(\n",
        "      train_generator,\n",
        "      steps_per_epoch=100,  # 2000 images = batch_size * steps\n",
        "      epochs=15,\n",
        "      validation_data=validation_generator,\n",
        "      validation_steps=50,  # 1000 images = batch_size * steps\n",
        "      verbose=2)"
      ],
      "execution_count": 18,
      "outputs": [
        {
          "output_type": "stream",
          "text": [
            "Epoch 1/15\n"
          ],
          "name": "stdout"
        },
        {
          "output_type": "stream",
          "text": [
            "/usr/local/lib/python3.7/dist-packages/tensorflow/python/keras/engine/training.py:1844: UserWarning: `Model.fit_generator` is deprecated and will be removed in a future version. Please use `Model.fit`, which supports generators.\n",
            "  warnings.warn('`Model.fit_generator` is deprecated and '\n"
          ],
          "name": "stderr"
        },
        {
          "output_type": "stream",
          "text": [
            "100/100 - 9s - loss: 0.7431 - acc: 0.5180 - val_loss: 0.6943 - val_acc: 0.5000\n",
            "Epoch 2/15\n",
            "100/100 - 8s - loss: 0.6926 - acc: 0.5545 - val_loss: 0.6574 - val_acc: 0.6070\n",
            "Epoch 3/15\n",
            "100/100 - 8s - loss: 0.6413 - acc: 0.6370 - val_loss: 0.5908 - val_acc: 0.6840\n",
            "Epoch 4/15\n",
            "100/100 - 8s - loss: 0.5815 - acc: 0.7015 - val_loss: 0.5534 - val_acc: 0.7100\n",
            "Epoch 5/15\n",
            "100/100 - 8s - loss: 0.5218 - acc: 0.7325 - val_loss: 0.5547 - val_acc: 0.7220\n",
            "Epoch 6/15\n",
            "100/100 - 8s - loss: 0.4622 - acc: 0.7845 - val_loss: 0.6095 - val_acc: 0.7300\n",
            "Epoch 7/15\n",
            "100/100 - 8s - loss: 0.4151 - acc: 0.8115 - val_loss: 0.5416 - val_acc: 0.7180\n",
            "Epoch 8/15\n",
            "100/100 - 8s - loss: 0.3543 - acc: 0.8455 - val_loss: 0.6478 - val_acc: 0.7090\n",
            "Epoch 9/15\n",
            "100/100 - 8s - loss: 0.2964 - acc: 0.8760 - val_loss: 0.6834 - val_acc: 0.7440\n",
            "Epoch 10/15\n",
            "100/100 - 8s - loss: 0.2610 - acc: 0.8920 - val_loss: 0.6483 - val_acc: 0.7410\n",
            "Epoch 11/15\n",
            "100/100 - 8s - loss: 0.1914 - acc: 0.9180 - val_loss: 1.0882 - val_acc: 0.6800\n",
            "Epoch 12/15\n",
            "100/100 - 8s - loss: 0.1574 - acc: 0.9410 - val_loss: 1.0658 - val_acc: 0.7080\n",
            "Epoch 13/15\n",
            "100/100 - 8s - loss: 0.1342 - acc: 0.9565 - val_loss: 1.1598 - val_acc: 0.7380\n",
            "Epoch 14/15\n",
            "100/100 - 8s - loss: 0.1114 - acc: 0.9645 - val_loss: 1.1426 - val_acc: 0.7170\n",
            "Epoch 15/15\n",
            "100/100 - 8s - loss: 0.1011 - acc: 0.9645 - val_loss: 1.1817 - val_acc: 0.7210\n"
          ],
          "name": "stdout"
        }
      ]
    },
    {
      "cell_type": "code",
      "metadata": {
        "colab": {
          "base_uri": "https://localhost:8080/",
          "height": 562
        },
        "id": "KxVLthZQwFdu",
        "outputId": "72dd7502-f7fc-4e90-808d-caf9cf5e67a4"
      },
      "source": [
        "acc = history.history['acc']\n",
        "val_acc = history.history['val_acc']\n",
        "loss = history.history['loss']\n",
        "val_loss = history.history['val_loss']\n",
        "epochs = range(len(acc))\n",
        "plt.plot(epochs, acc)\n",
        "plt.plot(epochs, val_acc)\n",
        "plt.title('Training and validation accuracy')\n",
        "\n",
        "plt.figure()\n",
        "\n",
        "plt.plot(epochs, loss)\n",
        "plt.plot(epochs, val_loss)\n",
        "plt.title('Training and validation loss')"
      ],
      "execution_count": 19,
      "outputs": [
        {
          "output_type": "execute_result",
          "data": {
            "text/plain": [
              "Text(0.5, 1.0, 'Training and validation loss')"
            ]
          },
          "metadata": {
            "tags": []
          },
          "execution_count": 19
        },
        {
          "output_type": "display_data",
          "data": {
            "image/png": "[encoded data removed]",
            "text/plain": [
              "<Figure size 432x288 with 1 Axes>"
            ]
          },
          "metadata": {
            "tags": [],
            "needs_background": "light"
          }
        },
        {
          "output_type": "display_data",
          "data": {
            "image/png": "[encoded data removed]",
            "text/plain": [
              "<Figure size 432x288 with 1 Axes>"
            ]
          },
          "metadata": {
            "tags": [],
            "needs_background": "light"
          }
        }
      ]
    },
    {
      "cell_type": "markdown",
      "metadata": {
        "id": "w39YLQOoxLNV"
      },
      "source": [
        "Nie zmieniło to dużo w spodobie działania sieci.\n",
        "\n",
        "Spróbujmy teraz odjąć sieć konwolucyjną:\n"
      ]
    },
    {
      "cell_type": "code",
      "metadata": {
        "id": "L578k4Y0VPsM"
      },
      "source": [
        "img_input = layers.Input(shape=(150, 150, 3))\n",
        "x = layers.Conv2D(16, 3, activation='relu')(img_input)\n",
        "x = layers.MaxPooling2D(2)(x)\n",
        "x = layers.Conv2D(32, 3, activation='relu')(x)\n",
        "x = layers.MaxPooling2D(2)(x)\n",
        "x = layers.Flatten()(x)\n",
        "x = layers.Dense(512, activation='relu')(x)\n",
        "output = layers.Dense(1, activation='sigmoid')(x)\n",
        "model = Model(img_input, output)"
      ],
      "execution_count": 20,
      "outputs": []
    },
    {
      "cell_type": "code",
      "metadata": {
        "id": "CDi9sCslVXYI"
      },
      "source": [
        "model.compile(loss='binary_crossentropy',\n",
        "              optimizer=RMSprop(lr=0.001),\n",
        "              metrics=['acc'])"
      ],
      "execution_count": 21,
      "outputs": []
    },
    {
      "cell_type": "code",
      "metadata": {
        "colab": {
          "base_uri": "https://localhost:8080/"
        },
        "id": "hVAVtOWmVZvc",
        "outputId": "ebed8470-8ec7-4677-da6b-13739bfcbf4c"
      },
      "source": [
        "history = model.fit_generator(\n",
        "      train_generator,\n",
        "      steps_per_epoch=100,  # 2000 images = batch_size * steps\n",
        "      epochs=15,\n",
        "      validation_data=validation_generator,\n",
        "      validation_steps=50,  # 1000 images = batch_size * steps\n",
        "      verbose=2)"
      ],
      "execution_count": 22,
      "outputs": [
        {
          "output_type": "stream",
          "text": [
            "/usr/local/lib/python3.7/dist-packages/tensorflow/python/keras/engine/training.py:1844: UserWarning: `Model.fit_generator` is deprecated and will be removed in a future version. Please use `Model.fit`, which supports generators.\n",
            "  warnings.warn('`Model.fit_generator` is deprecated and '\n"
          ],
          "name": "stderr"
        },
        {
          "output_type": "stream",
          "text": [
            "Epoch 1/15\n",
            "100/100 - 9s - loss: 1.1409 - acc: 0.5815 - val_loss: 0.6214 - val_acc: 0.6670\n",
            "Epoch 2/15\n",
            "100/100 - 8s - loss: 0.5789 - acc: 0.7150 - val_loss: 0.6388 - val_acc: 0.6210\n",
            "Epoch 3/15\n",
            "100/100 - 8s - loss: 0.4383 - acc: 0.7970 - val_loss: 0.6752 - val_acc: 0.6750\n",
            "Epoch 4/15\n",
            "100/100 - 8s - loss: 0.3066 - acc: 0.8700 - val_loss: 0.7452 - val_acc: 0.6750\n",
            "Epoch 5/15\n",
            "100/100 - 8s - loss: 0.2099 - acc: 0.9225 - val_loss: 0.6972 - val_acc: 0.6940\n",
            "Epoch 6/15\n",
            "100/100 - 8s - loss: 0.1210 - acc: 0.9560 - val_loss: 0.9590 - val_acc: 0.6950\n",
            "Epoch 7/15\n",
            "100/100 - 8s - loss: 0.0656 - acc: 0.9815 - val_loss: 1.0991 - val_acc: 0.6840\n",
            "Epoch 8/15\n",
            "100/100 - 8s - loss: 0.0462 - acc: 0.9835 - val_loss: 1.2454 - val_acc: 0.6900\n",
            "Epoch 9/15\n",
            "100/100 - 8s - loss: 0.0667 - acc: 0.9855 - val_loss: 1.3318 - val_acc: 0.6800\n",
            "Epoch 10/15\n",
            "100/100 - 8s - loss: 0.0150 - acc: 0.9960 - val_loss: 1.6365 - val_acc: 0.6920\n",
            "Epoch 11/15\n",
            "100/100 - 8s - loss: 0.0715 - acc: 0.9890 - val_loss: 1.5884 - val_acc: 0.6910\n",
            "Epoch 12/15\n",
            "100/100 - 8s - loss: 0.0952 - acc: 0.9920 - val_loss: 1.6990 - val_acc: 0.6970\n",
            "Epoch 13/15\n",
            "100/100 - 8s - loss: 0.0745 - acc: 0.9905 - val_loss: 1.7531 - val_acc: 0.6980\n",
            "Epoch 14/15\n",
            "100/100 - 8s - loss: 0.0182 - acc: 0.9955 - val_loss: 1.8214 - val_acc: 0.6950\n",
            "Epoch 15/15\n",
            "100/100 - 8s - loss: 0.0532 - acc: 0.9895 - val_loss: 2.4488 - val_acc: 0.6620\n"
          ],
          "name": "stdout"
        }
      ]
    },
    {
      "cell_type": "code",
      "metadata": {
        "colab": {
          "base_uri": "https://localhost:8080/",
          "height": 562
        },
        "id": "biraxnPVWSEI",
        "outputId": "a8bc1ada-0871-4cc3-c9c6-4b5e7313aedd"
      },
      "source": [
        "acc = history.history['acc']\n",
        "val_acc = history.history['val_acc']\n",
        "loss = history.history['loss']\n",
        "val_loss = history.history['val_loss']\n",
        "epochs = range(len(acc))\n",
        "plt.plot(epochs, acc)\n",
        "plt.plot(epochs, val_acc)\n",
        "plt.title('Training and validation accuracy')\n",
        "\n",
        "plt.figure()\n",
        "\n",
        "plt.plot(epochs, loss)\n",
        "plt.plot(epochs, val_loss)\n",
        "plt.title('Training and validation loss')"
      ],
      "execution_count": 23,
      "outputs": [
        {
          "output_type": "execute_result",
          "data": {
            "text/plain": [
              "Text(0.5, 1.0, 'Training and validation loss')"
            ]
          },
          "metadata": {
            "tags": []
          },
          "execution_count": 23
        },
        {
          "output_type": "display_data",
          "data": {
            "image/png": "[encoded data removed]",
            "text/plain": [
              "<Figure size 432x288 with 1 Axes>"
            ]
          },
          "metadata": {
            "tags": [],
            "needs_background": "light"
          }
        },
        {
          "output_type": "display_data",
          "data": {
            "image/png": "[encoded data removed]",
            "text/plain": [
              "<Figure size 432x288 with 1 Axes>"
            ]
          },
          "metadata": {
            "tags": [],
            "needs_background": "light"
          }
        }
      ]
    },
    {
      "cell_type": "markdown",
      "metadata": {
        "id": "8wezFOiSWaU_"
      },
      "source": [
        "To również nic nie daje. \n",
        "Spróbujmy zatem zmienić funkcje aktywacji z ReLu na tanh."
      ]
    },
    {
      "cell_type": "code",
      "metadata": {
        "id": "smtRwDOEWsDp"
      },
      "source": [
        "img_input = layers.Input(shape=(150, 150, 3))\n",
        "x = layers.Conv2D(16, 3, activation='tanh')(img_input)\n",
        "x = layers.MaxPooling2D(2)(x)\n",
        "x = layers.Conv2D(32, 3, activation='tanh')(x)\n",
        "x = layers.MaxPooling2D(2)(x)\n",
        "x = layers.Conv2D(64, 3, activation='tanh')(x)\n",
        "x = layers.MaxPooling2D(2)(x)\n",
        "x = layers.Flatten()(x)\n",
        "x = layers.Dense(512, activation='tanh')(x)\n",
        "output = layers.Dense(1, activation='sigmoid')(x)\n",
        "model = Model(img_input, output)"
      ],
      "execution_count": 24,
      "outputs": []
    },
    {
      "cell_type": "code",
      "metadata": {
        "id": "jrDSs2JnW2j5"
      },
      "source": [
        "model.compile(loss='binary_crossentropy',\n",
        "              optimizer=RMSprop(lr=0.001),\n",
        "              metrics=['acc'])"
      ],
      "execution_count": 25,
      "outputs": []
    },
    {
      "cell_type": "code",
      "metadata": {
        "colab": {
          "base_uri": "https://localhost:8080/"
        },
        "id": "kgMyRPpxW4hK",
        "outputId": "9aa95765-6aa4-48e7-f7f3-3e8b68095b7f"
      },
      "source": [
        "history = model.fit_generator(\n",
        "      train_generator,\n",
        "      steps_per_epoch=100,  # 2000 images = batch_size * steps\n",
        "      epochs=15,\n",
        "      validation_data=validation_generator,\n",
        "      validation_steps=50,  # 1000 images = batch_size * steps\n",
        "      verbose=2)"
      ],
      "execution_count": 26,
      "outputs": [
        {
          "output_type": "stream",
          "text": [
            "/usr/local/lib/python3.7/dist-packages/tensorflow/python/keras/engine/training.py:1844: UserWarning: `Model.fit_generator` is deprecated and will be removed in a future version. Please use `Model.fit`, which supports generators.\n",
            "  warnings.warn('`Model.fit_generator` is deprecated and '\n"
          ],
          "name": "stderr"
        },
        {
          "output_type": "stream",
          "text": [
            "Epoch 1/15\n",
            "100/100 - 9s - loss: 3.3225 - acc: 0.4965 - val_loss: 0.6958 - val_acc: 0.5000\n",
            "Epoch 2/15\n",
            "100/100 - 8s - loss: 0.7117 - acc: 0.5120 - val_loss: 0.6998 - val_acc: 0.5000\n",
            "Epoch 3/15\n",
            "100/100 - 8s - loss: 0.7225 - acc: 0.4980 - val_loss: 0.7060 - val_acc: 0.5000\n",
            "Epoch 4/15\n",
            "100/100 - 8s - loss: 0.7157 - acc: 0.5105 - val_loss: 0.7053 - val_acc: 0.5080\n",
            "Epoch 5/15\n",
            "100/100 - 8s - loss: 0.7131 - acc: 0.5160 - val_loss: 0.7326 - val_acc: 0.5000\n",
            "Epoch 6/15\n",
            "100/100 - 8s - loss: 0.7115 - acc: 0.5180 - val_loss: 0.6860 - val_acc: 0.5350\n",
            "Epoch 7/15\n",
            "100/100 - 8s - loss: 0.7151 - acc: 0.5475 - val_loss: 0.6934 - val_acc: 0.5060\n",
            "Epoch 8/15\n",
            "100/100 - 8s - loss: 0.7153 - acc: 0.4920 - val_loss: 0.6863 - val_acc: 0.5250\n",
            "Epoch 9/15\n",
            "100/100 - 8s - loss: 0.7062 - acc: 0.5250 - val_loss: 0.6928 - val_acc: 0.5080\n",
            "Epoch 10/15\n",
            "100/100 - 8s - loss: 0.7139 - acc: 0.5175 - val_loss: 0.7038 - val_acc: 0.5020\n",
            "Epoch 11/15\n",
            "100/100 - 8s - loss: 0.7135 - acc: 0.4985 - val_loss: 0.7041 - val_acc: 0.5000\n",
            "Epoch 12/15\n",
            "100/100 - 8s - loss: 0.7067 - acc: 0.5090 - val_loss: 0.6951 - val_acc: 0.4990\n",
            "Epoch 13/15\n",
            "100/100 - 8s - loss: 0.7060 - acc: 0.5175 - val_loss: 0.7419 - val_acc: 0.5280\n",
            "Epoch 14/15\n",
            "100/100 - 8s - loss: 0.6800 - acc: 0.5575 - val_loss: 0.6550 - val_acc: 0.6020\n",
            "Epoch 15/15\n",
            "100/100 - 8s - loss: 0.6939 - acc: 0.5670 - val_loss: 0.6559 - val_acc: 0.5980\n"
          ],
          "name": "stdout"
        }
      ]
    },
    {
      "cell_type": "code",
      "metadata": {
        "colab": {
          "base_uri": "https://localhost:8080/",
          "height": 562
        },
        "id": "P1IoSursW6QQ",
        "outputId": "ada590ce-5796-474c-fb32-4cbb0657238a"
      },
      "source": [
        "acc = history.history['acc']\n",
        "val_acc = history.history['val_acc']\n",
        "loss = history.history['loss']\n",
        "val_loss = history.history['val_loss']\n",
        "epochs = range(len(acc))\n",
        "plt.plot(epochs, acc)\n",
        "plt.plot(epochs, val_acc)\n",
        "plt.title('Training and validation accuracy')\n",
        "\n",
        "plt.figure()\n",
        "\n",
        "plt.plot(epochs, loss)\n",
        "plt.plot(epochs, val_loss)\n",
        "plt.title('Training and validation loss')"
      ],
      "execution_count": 27,
      "outputs": [
        {
          "output_type": "execute_result",
          "data": {
            "text/plain": [
              "Text(0.5, 1.0, 'Training and validation loss')"
            ]
          },
          "metadata": {
            "tags": []
          },
          "execution_count": 27
        },
        {
          "output_type": "display_data",
          "data": {
            "image/png": "[encoded data removed]",
            "text/plain": [
              "<Figure size 432x288 with 1 Axes>"
            ]
          },
          "metadata": {
            "tags": [],
            "needs_background": "light"
          }
        },
        {
          "output_type": "display_data",
          "data": {
            "image/png": "[encoded data removed]",
            "text/plain": [
              "<Figure size 432x288 with 1 Axes>"
            ]
          },
          "metadata": {
            "tags": [],
            "needs_background": "light"
          }
        }
      ]
    },
    {
      "cell_type": "markdown",
      "metadata": {
        "id": "gD45hQL9Zq4-"
      },
      "source": [
        "\n",
        "Jak widać sieć nie może się nawet nauczyć tak aby mieć dobry wynik na zbiorze testowym.\n",
        "\n",
        "Podsumowując jak widać część z elementów sieci (Ilość warstw konwolucyjnych, Ilość połączeń warstw gęstych) nie ma znaczącego wpływu na tak prostą sieć jednakże bardzo duży wpływ ma funkcja aktywacji"
      ]
    }
  ]
}