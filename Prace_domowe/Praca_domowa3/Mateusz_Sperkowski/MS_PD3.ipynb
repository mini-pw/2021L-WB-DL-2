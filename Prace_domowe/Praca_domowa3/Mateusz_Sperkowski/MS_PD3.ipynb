{
  "nbformat": 4,
  "nbformat_minor": 0,
  "metadata": {
    "colab": {
      "name": "WB1-PD3.ipynb",
      "provenance": [],
      "collapsed_sections": []
    },
    "kernelspec": {
      "display_name": "Python 3",
      "name": "python3"
    },
    "language_info": {
      "name": "python"
    },
    "accelerator": "GPU"
  },
  "cells": [
    {
      "cell_type": "markdown",
      "metadata": {
        "id": "f9JUIdYZbbrL"
      },
      "source": [
        "# Ablation Study\n",
        "Ablation Study pierwotnie był częścią eksperymentalnej neuropsychologii, tzn. usuwano części mózgów zwierząt i obserwowano zmiany w ich zachowaniach. Znając połączenie sieci neuronowych z tym jak faktycznie działają mózgi, oczywiste staje sie pochodzenie tego terminu w tej dziedzinie. W uczeniu maszynowym Ablation Study jest eksperymentalnym sprawdzaniem funkcjonowania sieci neuronowych, poprzez przykładowo usuwanie warstw ukrytych, lub feature'ów i mierzenie efektów zmian różnymi miarami skutecznosci (accuracy, recall, f1, itd.). W ten sposob możemy lepiej zrozumiec funkcjonowanie naszego systemu, jak wpływają kolejne warstwy na wynik.\n",
        "(https://arxiv.org/abs/1901.08644)\n",
        "\n",
        "Ponizej przedstawiam moje eksperymenty, dla przykladu implementacji CNN na zbiorze MNIST, z dokumentacji biblioteki Keras.\n",
        "https://keras.io/examples/vision/mnist_convnet/\n"
      ]
    },
    {
      "cell_type": "code",
      "metadata": {
        "id": "omSW7z9hfsQY"
      },
      "source": [
        "import numpy as np\n",
        "from tensorflow import keras\n",
        "from tensorflow.keras import layers\n",
        "from tensorflow.keras.preprocessing import image\n",
        "import os\n",
        "import random\n",
        "import tensorflow as tf\n",
        "from keras import backend as K"
      ],
      "execution_count": 1,
      "outputs": []
    },
    {
      "cell_type": "code",
      "metadata": {
        "id": "Udenvqw_70sI"
      },
      "source": [
        "seed_value = 22\n",
        "os.environ['PYTHONHASHSEED']=str(seed_value)\n",
        "random.seed(seed_value)\n",
        "np.random.seed(seed_value)\n",
        "tf.compat.v1.set_random_seed(seed_value)\n",
        "session_conf = tf.compat.v1.ConfigProto(intra_op_parallelism_threads=1, inter_op_parallelism_threads=1)\n",
        "sess = tf.compat.v1.Session(graph=tf.compat.v1.get_default_graph(), config=session_conf)\n",
        "tf.compat.v1.keras.backend.set_session(sess)"
      ],
      "execution_count": 2,
      "outputs": []
    },
    {
      "cell_type": "markdown",
      "metadata": {
        "id": "J_ISBRC_0V52"
      },
      "source": [
        "Niestety nawet używając w tylu miejscach ziaren losowości wciąż nie ma tych samych wyników w kolejnych próbach. Z tego co znalazłem to problem jest w odpalaniu na GPU kodu, na CPU wychodzą te same wyniki.\n",
        "https://stackoverflow.com/questions/32419510/how-to-get-reproducible-results-in-keras"
      ]
    },
    {
      "cell_type": "markdown",
      "metadata": {
        "id": "APwBcg3Qhsel"
      },
      "source": [
        "## Potrzebne definicje"
      ]
    },
    {
      "cell_type": "code",
      "metadata": {
        "id": "xlebwmNJnEd4"
      },
      "source": [
        "# Code from Keras example\n",
        "def load_mnist():\n",
        "  # Model / data parameters\n",
        "  num_classes = 10\n",
        "  input_shape = (28, 28, 1)\n",
        "\n",
        "  # the data, split between train and test sets\n",
        "  (x_train, y_train), (x_test, y_test) = keras.datasets.mnist.load_data()\n",
        "\n",
        "  # Scale images to the [0, 1] range\n",
        "  x_train = x_train.astype(\"float32\") / 255\n",
        "  x_test = x_test.astype(\"float32\") / 255\n",
        "  # Make sure images have shape (28, 28, 1)\n",
        "  x_train = np.expand_dims(x_train, -1)\n",
        "  x_test = np.expand_dims(x_test, -1)\n",
        "  print(\"x_train shape:\", x_train.shape)\n",
        "  print(x_train.shape[0], \"train samples\")\n",
        "  print(x_test.shape[0], \"test samples\")\n",
        "\n",
        "\n",
        "  # convert class vectors to binary class matrices\n",
        "  y_train = keras.utils.to_categorical(y_train, num_classes)\n",
        "  y_test = keras.utils.to_categorical(y_test, num_classes)\n",
        "  return (x_train, y_train), (x_test, y_test)"
      ],
      "execution_count": 3,
      "outputs": []
    },
    {
      "cell_type": "code",
      "metadata": {
        "id": "locsHrpCmtUc"
      },
      "source": [
        "# Code from Keras Example\n",
        "def compile_and_fit(data, model_test, batch_size = 128, epochs = 15, verbose=False, optimizer=\"adam\", loss=\"categorical_crossentropy\", metrics=[\"accuracy\"]):\n",
        "  (x_train, y_train), (x_test, y_test) = data\n",
        "\n",
        "  model_test.compile(loss=loss, optimizer=optimizer, metrics=metrics)\n",
        "  print(\"Fitting model\")\n",
        "  model_test.fit(x_train, y_train, batch_size=batch_size, epochs=epochs, validation_split=0.1, verbose = (1 if verbose else 0))"
      ],
      "execution_count": 4,
      "outputs": []
    },
    {
      "cell_type": "code",
      "metadata": {
        "id": "yFMkD_MSqF0P"
      },
      "source": [
        "# Code from now on is written by me\n",
        "def evaluate(data, model_eval):\n",
        "  (_, _), (x_test, y_test) = data\n",
        "  score = model_eval.evaluate(x_test, y_test, verbose=0)\n",
        "  return score"
      ],
      "execution_count": 5,
      "outputs": []
    },
    {
      "cell_type": "code",
      "metadata": {
        "id": "n7XM1orvfArk"
      },
      "source": [
        "def print_score(score):\n",
        "  print(\"Test loss:\", score[0])\n",
        "  print(\"Test accuracy:\", score[1])"
      ],
      "execution_count": 6,
      "outputs": []
    },
    {
      "cell_type": "code",
      "metadata": {
        "colab": {
          "base_uri": "https://localhost:8080/"
        },
        "id": "1olasIOvCPfP",
        "outputId": "2b837dfc-4e43-4416-a8c4-061cd1722e3b"
      },
      "source": [
        "data = load_mnist()\n",
        "def ablation(model, data=data, verbose=False, batch_size = 128, epochs = 15, optimizer=\"adam\", loss=\"categorical_crossentropy\", metrics=[\"accuracy\"]):\n",
        "  if verbose:\n",
        "    print(model.summary())\n",
        "  compile_and_fit(data, model, verbose=verbose, batch_size = batch_size, epochs = epochs, optimizer=optimizer, loss=loss, metrics=metrics)\n",
        "  score = evaluate(data, model)\n",
        "  print_score(score)\n",
        "  return score"
      ],
      "execution_count": 7,
      "outputs": [
        {
          "output_type": "stream",
          "text": [
            "x_train shape: (60000, 28, 28, 1)\n",
            "60000 train samples\n",
            "10000 test samples\n"
          ],
          "name": "stdout"
        }
      ]
    },
    {
      "cell_type": "code",
      "metadata": {
        "id": "obpn8ofuRqYh"
      },
      "source": [
        "input_shape = (28, 28, 1)\n",
        "num_classes = 10"
      ],
      "execution_count": 8,
      "outputs": []
    },
    {
      "cell_type": "code",
      "metadata": {
        "id": "oOKPFjuKfxzw"
      },
      "source": [
        "layers_original = [\n",
        "        keras.Input(shape=input_shape),\n",
        "        layers.Conv2D(32, kernel_size=(3, 3), activation=\"relu\"),\n",
        "        layers.MaxPooling2D(pool_size=(2, 2)),\n",
        "        layers.Conv2D(64, kernel_size=(3, 3), activation=\"relu\"),\n",
        "        layers.MaxPooling2D(pool_size=(2, 2)),\n",
        "        layers.Flatten(),\n",
        "        layers.Dropout(0.5),\n",
        "        layers.Dense(num_classes, activation=\"softmax\"),\n",
        "    ]\n",
        "model_original = keras.Sequential(layers_original)\n",
        "\n",
        "model_add_conv = keras.Sequential(\n",
        "    [\n",
        "        keras.Input(shape=input_shape),\n",
        "        layers.Conv2D(32, kernel_size=(3, 3), activation=\"relu\"),\n",
        "        layers.MaxPooling2D(pool_size=(2, 2)),\n",
        "        layers.Conv2D(64, kernel_size=(3, 3), activation=\"relu\"),\n",
        "        layers.MaxPooling2D(pool_size=(2, 2)),\n",
        "        layers.Conv2D(128, kernel_size=(3, 3), activation=\"relu\"),\n",
        "        layers.MaxPooling2D(pool_size=(2, 2)),\n",
        "        layers.Flatten(),\n",
        "        layers.Dropout(0.5),\n",
        "        layers.Dense(num_classes, activation=\"softmax\"),\n",
        "    ]\n",
        ")\n",
        "\n",
        "model_add_dense = keras.Sequential(\n",
        "    [\n",
        "        keras.Input(shape=input_shape),\n",
        "        layers.Conv2D(32, kernel_size=(3, 3), activation=\"relu\"),\n",
        "        layers.MaxPooling2D(pool_size=(2, 2)),\n",
        "        layers.Conv2D(64, kernel_size=(3, 3), activation=\"relu\"),\n",
        "        layers.MaxPooling2D(pool_size=(2, 2)),\n",
        "        layers.Flatten(),\n",
        "        layers.Dense(512, activation='relu'),\n",
        "        layers.Dropout(0.5),\n",
        "        layers.Dense(num_classes, activation=\"softmax\"),\n",
        "    ]\n",
        ")\n",
        "\n",
        "model_avg_pool = keras.Sequential(\n",
        "    [\n",
        "        keras.Input(shape=input_shape),\n",
        "        layers.Conv2D(32, kernel_size=(3, 3), activation=\"relu\"),\n",
        "        layers.AveragePooling2D(pool_size=(2, 2)),\n",
        "        layers.Conv2D(64, kernel_size=(3, 3), activation=\"relu\"),\n",
        "        layers.AveragePooling2D(pool_size=(2, 2)),\n",
        "        layers.Flatten(),\n",
        "        layers.Dropout(0.5),\n",
        "        layers.Dense(num_classes, activation=\"softmax\"),\n",
        "    ]\n",
        ")\n",
        "\n",
        "model_sigmoid_output = keras.Sequential(\n",
        "    [\n",
        "        keras.Input(shape=input_shape),\n",
        "        layers.Conv2D(32, kernel_size=(3, 3), activation=\"relu\"),\n",
        "        layers.MaxPooling2D(pool_size=(2, 2)),\n",
        "        layers.Conv2D(64, kernel_size=(3, 3), activation=\"relu\"),\n",
        "        layers.MaxPooling2D(pool_size=(2, 2)),\n",
        "        layers.Flatten(),\n",
        "        layers.Dropout(0.5),\n",
        "        layers.Dense(num_classes, activation=\"sigmoid\"),\n",
        "    ]\n",
        ")\n",
        "\n",
        "model_dropout_low = keras.Sequential(\n",
        "    [\n",
        "        keras.Input(shape=input_shape),\n",
        "        layers.Conv2D(32, kernel_size=(3, 3), activation=\"relu\"),\n",
        "        layers.MaxPooling2D(pool_size=(2, 2)),\n",
        "        layers.Conv2D(64, kernel_size=(3, 3), activation=\"relu\"),\n",
        "        layers.MaxPooling2D(pool_size=(2, 2)),\n",
        "        layers.Flatten(),\n",
        "        layers.Dropout(0.2),\n",
        "        layers.Dense(num_classes, activation=\"softmax\"),\n",
        "    ]\n",
        ")\n",
        "\n",
        "model_dropout_high = keras.Sequential(\n",
        "    [\n",
        "        keras.Input(shape=input_shape),\n",
        "        layers.Conv2D(32, kernel_size=(3, 3), activation=\"relu\"),\n",
        "        layers.MaxPooling2D(pool_size=(2, 2)),\n",
        "        layers.Conv2D(64, kernel_size=(3, 3), activation=\"relu\"),\n",
        "        layers.MaxPooling2D(pool_size=(2, 2)),\n",
        "        layers.Flatten(),\n",
        "        layers.Dropout(0.8),\n",
        "        layers.Dense(num_classes, activation=\"softmax\"),\n",
        "    ]\n",
        ")\n",
        "#https://keras.io/api/layers/\n",
        "#https://github.com/fchollet/deep-learning-with-python-notebooks"
      ],
      "execution_count": 9,
      "outputs": []
    },
    {
      "cell_type": "markdown",
      "metadata": {
        "id": "XP6V9vuohnH5"
      },
      "source": [
        "## Testy Zmian Warstw"
      ]
    },
    {
      "cell_type": "code",
      "metadata": {
        "colab": {
          "base_uri": "https://localhost:8080/"
        },
        "id": "zaWPjot6WyDW",
        "outputId": "31f55008-a4c8-4f4b-bd8e-02195fb8a92e"
      },
      "source": [
        "original = ablation(model_original, verbose=True)\n",
        "#Original Model"
      ],
      "execution_count": 10,
      "outputs": [
        {
          "output_type": "stream",
          "text": [
            "Model: \"sequential\"\n",
            "_________________________________________________________________\n",
            "Layer (type)                 Output Shape              Param #   \n",
            "=================================================================\n",
            "conv2d (Conv2D)              (None, 26, 26, 32)        320       \n",
            "_________________________________________________________________\n",
            "max_pooling2d (MaxPooling2D) (None, 13, 13, 32)        0         \n",
            "_________________________________________________________________\n",
            "conv2d_1 (Conv2D)            (None, 11, 11, 64)        18496     \n",
            "_________________________________________________________________\n",
            "max_pooling2d_1 (MaxPooling2 (None, 5, 5, 64)          0         \n",
            "_________________________________________________________________\n",
            "flatten (Flatten)            (None, 1600)              0         \n",
            "_________________________________________________________________\n",
            "dropout (Dropout)            (None, 1600)              0         \n",
            "_________________________________________________________________\n",
            "dense (Dense)                (None, 10)                16010     \n",
            "=================================================================\n",
            "Total params: 34,826\n",
            "Trainable params: 34,826\n",
            "Non-trainable params: 0\n",
            "_________________________________________________________________\n",
            "None\n",
            "Fitting model\n",
            "Epoch 1/15\n",
            "422/422 [==============================] - 5s 6ms/step - loss: 0.7660 - accuracy: 0.7609 - val_loss: 0.0852 - val_accuracy: 0.9772\n",
            "Epoch 2/15\n",
            "422/422 [==============================] - 2s 5ms/step - loss: 0.1246 - accuracy: 0.9619 - val_loss: 0.0566 - val_accuracy: 0.9843\n",
            "Epoch 3/15\n",
            "422/422 [==============================] - 2s 5ms/step - loss: 0.0923 - accuracy: 0.9726 - val_loss: 0.0512 - val_accuracy: 0.9867\n",
            "Epoch 4/15\n",
            "422/422 [==============================] - 2s 5ms/step - loss: 0.0740 - accuracy: 0.9768 - val_loss: 0.0450 - val_accuracy: 0.9868\n",
            "Epoch 5/15\n",
            "422/422 [==============================] - 2s 5ms/step - loss: 0.0653 - accuracy: 0.9800 - val_loss: 0.0426 - val_accuracy: 0.9888\n",
            "Epoch 6/15\n",
            "422/422 [==============================] - 2s 5ms/step - loss: 0.0569 - accuracy: 0.9821 - val_loss: 0.0409 - val_accuracy: 0.9883\n",
            "Epoch 7/15\n",
            "422/422 [==============================] - 2s 5ms/step - loss: 0.0518 - accuracy: 0.9838 - val_loss: 0.0352 - val_accuracy: 0.9907\n",
            "Epoch 8/15\n",
            "422/422 [==============================] - 2s 5ms/step - loss: 0.0496 - accuracy: 0.9841 - val_loss: 0.0328 - val_accuracy: 0.9913\n",
            "Epoch 9/15\n",
            "422/422 [==============================] - 2s 5ms/step - loss: 0.0449 - accuracy: 0.9863 - val_loss: 0.0352 - val_accuracy: 0.9895\n",
            "Epoch 10/15\n",
            "422/422 [==============================] - 2s 5ms/step - loss: 0.0427 - accuracy: 0.9861 - val_loss: 0.0312 - val_accuracy: 0.9908\n",
            "Epoch 11/15\n",
            "422/422 [==============================] - 2s 5ms/step - loss: 0.0366 - accuracy: 0.9875 - val_loss: 0.0321 - val_accuracy: 0.9917\n",
            "Epoch 12/15\n",
            "422/422 [==============================] - 2s 5ms/step - loss: 0.0379 - accuracy: 0.9874 - val_loss: 0.0317 - val_accuracy: 0.9917\n",
            "Epoch 13/15\n",
            "422/422 [==============================] - 2s 5ms/step - loss: 0.0390 - accuracy: 0.9881 - val_loss: 0.0308 - val_accuracy: 0.9905\n",
            "Epoch 14/15\n",
            "422/422 [==============================] - 2s 5ms/step - loss: 0.0306 - accuracy: 0.9906 - val_loss: 0.0313 - val_accuracy: 0.9922\n",
            "Epoch 15/15\n",
            "422/422 [==============================] - 2s 5ms/step - loss: 0.0302 - accuracy: 0.9899 - val_loss: 0.0309 - val_accuracy: 0.9920\n",
            "Test loss: 0.02682262286543846\n",
            "Test accuracy: 0.991599977016449\n"
          ],
          "name": "stdout"
        }
      ]
    },
    {
      "cell_type": "code",
      "metadata": {
        "colab": {
          "base_uri": "https://localhost:8080/"
        },
        "id": "99A59tJVbHO6",
        "outputId": "baeed2ba-6251-46b3-8917-7afceae31e1e"
      },
      "source": [
        "ablation(model_add_conv)\n",
        "#One additional convolution layer with 128 filters and relu activation"
      ],
      "execution_count": 11,
      "outputs": [
        {
          "output_type": "stream",
          "text": [
            "Fitting model\n",
            "Test loss: 0.03916343301534653\n",
            "Test accuracy: 0.9883999824523926\n"
          ],
          "name": "stdout"
        },
        {
          "output_type": "execute_result",
          "data": {
            "text/plain": [
              "[0.03916343301534653, 0.9883999824523926]"
            ]
          },
          "metadata": {
            "tags": []
          },
          "execution_count": 11
        }
      ]
    },
    {
      "cell_type": "code",
      "metadata": {
        "colab": {
          "base_uri": "https://localhost:8080/"
        },
        "id": "1lqP-9NjKgkH",
        "outputId": "072f1861-e428-4964-afa6-a17d2fb02539"
      },
      "source": [
        "ablation(model_add_dense)\n",
        "#One additional dense layer with 512 neurons and relu activation"
      ],
      "execution_count": 12,
      "outputs": [
        {
          "output_type": "stream",
          "text": [
            "Fitting model\n",
            "Test loss: 0.02572786621749401\n",
            "Test accuracy: 0.9934999942779541\n"
          ],
          "name": "stdout"
        },
        {
          "output_type": "execute_result",
          "data": {
            "text/plain": [
              "[0.02572786621749401, 0.9934999942779541]"
            ]
          },
          "metadata": {
            "tags": []
          },
          "execution_count": 12
        }
      ]
    },
    {
      "cell_type": "code",
      "metadata": {
        "colab": {
          "base_uri": "https://localhost:8080/"
        },
        "id": "vXZn9LqXR0k8",
        "outputId": "76616a7c-7c79-42d6-a997-b8a9c5dd5c85"
      },
      "source": [
        "ablation(model_avg_pool)\n",
        "#Pooling change from max2D to avg2D"
      ],
      "execution_count": 13,
      "outputs": [
        {
          "output_type": "stream",
          "text": [
            "Fitting model\n",
            "Test loss: 0.03129206970334053\n",
            "Test accuracy: 0.989799976348877\n"
          ],
          "name": "stdout"
        },
        {
          "output_type": "execute_result",
          "data": {
            "text/plain": [
              "[0.03129206970334053, 0.989799976348877]"
            ]
          },
          "metadata": {
            "tags": []
          },
          "execution_count": 13
        }
      ]
    },
    {
      "cell_type": "markdown",
      "metadata": {
        "id": "JxG6pKTdcuEv"
      },
      "source": [
        "## Zmiana Parametrow Warstw"
      ]
    },
    {
      "cell_type": "code",
      "metadata": {
        "colab": {
          "base_uri": "https://localhost:8080/"
        },
        "id": "poYnqfvRfKRh",
        "outputId": "f17dc6a9-5707-4a08-8799-985597427205"
      },
      "source": [
        "print(\"Original Model Score\")\n",
        "print_score(original)"
      ],
      "execution_count": 14,
      "outputs": [
        {
          "output_type": "stream",
          "text": [
            "Original Model Score\n",
            "Test loss: 0.02682262286543846\n",
            "Test accuracy: 0.991599977016449\n"
          ],
          "name": "stdout"
        }
      ]
    },
    {
      "cell_type": "code",
      "metadata": {
        "colab": {
          "base_uri": "https://localhost:8080/"
        },
        "id": "2oB6FpsvTdOR",
        "outputId": "8f55a806-9424-44f2-efe4-405137020ae6"
      },
      "source": [
        "ablation(model_sigmoid_output)\n",
        "#Sigmoid activation function in the output dense layer (prev. softmax)"
      ],
      "execution_count": 15,
      "outputs": [
        {
          "output_type": "stream",
          "text": [
            "Fitting model\n",
            "Test loss: 0.026978613808751106\n",
            "Test accuracy: 0.9905999898910522\n"
          ],
          "name": "stdout"
        },
        {
          "output_type": "execute_result",
          "data": {
            "text/plain": [
              "[0.026978613808751106, 0.9905999898910522]"
            ]
          },
          "metadata": {
            "tags": []
          },
          "execution_count": 15
        }
      ]
    },
    {
      "cell_type": "code",
      "metadata": {
        "colab": {
          "base_uri": "https://localhost:8080/"
        },
        "id": "o5sB8JemfO4R",
        "outputId": "93a94f92-0523-4229-c03e-e4da77ba8983"
      },
      "source": [
        "ablation(model_dropout_low)\n",
        "#Only the dropout factor is changed from the original model (from 0.5 to 0.2)"
      ],
      "execution_count": 16,
      "outputs": [
        {
          "output_type": "stream",
          "text": [
            "Fitting model\n",
            "Test loss: 0.025646276772022247\n",
            "Test accuracy: 0.9919000267982483\n"
          ],
          "name": "stdout"
        },
        {
          "output_type": "execute_result",
          "data": {
            "text/plain": [
              "[0.025646276772022247, 0.9919000267982483]"
            ]
          },
          "metadata": {
            "tags": []
          },
          "execution_count": 16
        }
      ]
    },
    {
      "cell_type": "code",
      "metadata": {
        "colab": {
          "base_uri": "https://localhost:8080/"
        },
        "id": "7-_8ldbafXq8",
        "outputId": "bd1780e5-e60d-4b59-f3e6-23feb2555158"
      },
      "source": [
        "ablation(model_dropout_high)\n",
        "#Only the dropout factor is changed from the original model (from 0.5 to 0.8)"
      ],
      "execution_count": 17,
      "outputs": [
        {
          "output_type": "stream",
          "text": [
            "Fitting model\n",
            "Test loss: 0.03042452409863472\n",
            "Test accuracy: 0.9894999861717224\n"
          ],
          "name": "stdout"
        },
        {
          "output_type": "execute_result",
          "data": {
            "text/plain": [
              "[0.03042452409863472, 0.9894999861717224]"
            ]
          },
          "metadata": {
            "tags": []
          },
          "execution_count": 17
        }
      ]
    },
    {
      "cell_type": "markdown",
      "metadata": {
        "id": "7_xlIvZSdbun"
      },
      "source": [
        "## Zmiana Parametrow Treningu"
      ]
    },
    {
      "cell_type": "code",
      "metadata": {
        "colab": {
          "base_uri": "https://localhost:8080/"
        },
        "id": "RSzSWb0xejKT",
        "outputId": "502c8605-11f1-4483-a86e-1cfdb745cc0d"
      },
      "source": [
        "models = [None, None, None]\n",
        "for i in range(len(models)):\n",
        "  models[i] = keras.Sequential(layers_original)\n",
        "\n",
        "ablation(models[0], verbose=True, batch_size=512, epochs=10)"
      ],
      "execution_count": 18,
      "outputs": [
        {
          "output_type": "stream",
          "text": [
            "Model: \"sequential_7\"\n",
            "_________________________________________________________________\n",
            "Layer (type)                 Output Shape              Param #   \n",
            "=================================================================\n",
            "conv2d (Conv2D)              (None, 26, 26, 32)        320       \n",
            "_________________________________________________________________\n",
            "max_pooling2d (MaxPooling2D) (None, 13, 13, 32)        0         \n",
            "_________________________________________________________________\n",
            "conv2d_1 (Conv2D)            (None, 11, 11, 64)        18496     \n",
            "_________________________________________________________________\n",
            "max_pooling2d_1 (MaxPooling2 (None, 5, 5, 64)          0         \n",
            "_________________________________________________________________\n",
            "flatten (Flatten)            (None, 1600)              0         \n",
            "_________________________________________________________________\n",
            "dropout (Dropout)            (None, 1600)              0         \n",
            "_________________________________________________________________\n",
            "dense (Dense)                (None, 10)                16010     \n",
            "=================================================================\n",
            "Total params: 34,826\n",
            "Trainable params: 34,826\n",
            "Non-trainable params: 0\n",
            "_________________________________________________________________\n",
            "None\n",
            "Fitting model\n",
            "Epoch 1/10\n",
            "106/106 [==============================] - 2s 13ms/step - loss: 0.0287 - accuracy: 0.9901 - val_loss: 0.0312 - val_accuracy: 0.9923\n",
            "Epoch 2/10\n",
            "106/106 [==============================] - 1s 10ms/step - loss: 0.0276 - accuracy: 0.9912 - val_loss: 0.0280 - val_accuracy: 0.9917\n",
            "Epoch 3/10\n",
            "106/106 [==============================] - 1s 10ms/step - loss: 0.0260 - accuracy: 0.9915 - val_loss: 0.0290 - val_accuracy: 0.9927\n",
            "Epoch 4/10\n",
            "106/106 [==============================] - 1s 10ms/step - loss: 0.0238 - accuracy: 0.9922 - val_loss: 0.0289 - val_accuracy: 0.9927\n",
            "Epoch 5/10\n",
            "106/106 [==============================] - 1s 10ms/step - loss: 0.0246 - accuracy: 0.9923 - val_loss: 0.0302 - val_accuracy: 0.9922\n",
            "Epoch 6/10\n",
            "106/106 [==============================] - 1s 10ms/step - loss: 0.0252 - accuracy: 0.9922 - val_loss: 0.0309 - val_accuracy: 0.9920\n",
            "Epoch 7/10\n",
            "106/106 [==============================] - 1s 10ms/step - loss: 0.0243 - accuracy: 0.9919 - val_loss: 0.0296 - val_accuracy: 0.9918\n",
            "Epoch 8/10\n",
            "106/106 [==============================] - 1s 10ms/step - loss: 0.0210 - accuracy: 0.9929 - val_loss: 0.0282 - val_accuracy: 0.9922\n",
            "Epoch 9/10\n",
            "106/106 [==============================] - 1s 10ms/step - loss: 0.0231 - accuracy: 0.9922 - val_loss: 0.0301 - val_accuracy: 0.9918\n",
            "Epoch 10/10\n",
            "106/106 [==============================] - 1s 10ms/step - loss: 0.0224 - accuracy: 0.9925 - val_loss: 0.0294 - val_accuracy: 0.9915\n",
            "Test loss: 0.02474917471408844\n",
            "Test accuracy: 0.9907000064849854\n"
          ],
          "name": "stdout"
        },
        {
          "output_type": "execute_result",
          "data": {
            "text/plain": [
              "[0.02474917471408844, 0.9907000064849854]"
            ]
          },
          "metadata": {
            "tags": []
          },
          "execution_count": 18
        }
      ]
    },
    {
      "cell_type": "code",
      "metadata": {
        "colab": {
          "base_uri": "https://localhost:8080/"
        },
        "id": "_jGMh65vpiXu",
        "outputId": "d0335141-57d5-4c19-9573-36ef9b55a69d"
      },
      "source": [
        "ablation(models[1], batch_size=64, epochs=20)"
      ],
      "execution_count": 19,
      "outputs": [
        {
          "output_type": "stream",
          "text": [
            "Fitting model\n",
            "Test loss: 0.02691711112856865\n",
            "Test accuracy: 0.9923999905586243\n"
          ],
          "name": "stdout"
        },
        {
          "output_type": "execute_result",
          "data": {
            "text/plain": [
              "[0.02691711112856865, 0.9923999905586243]"
            ]
          },
          "metadata": {
            "tags": []
          },
          "execution_count": 19
        }
      ]
    },
    {
      "cell_type": "code",
      "metadata": {
        "colab": {
          "base_uri": "https://localhost:8080/"
        },
        "id": "xrWcWC45s3tM",
        "outputId": "35f03dd5-561f-4d0a-a606-e72e89318624"
      },
      "source": [
        "ablation(models[2], batch_size=128, epochs=15, loss='poisson', optimizer='Adadelta')"
      ],
      "execution_count": 20,
      "outputs": [
        {
          "output_type": "stream",
          "text": [
            "Fitting model\n",
            "Test loss: 0.10261466354131699\n",
            "Test accuracy: 0.9926999807357788\n"
          ],
          "name": "stdout"
        },
        {
          "output_type": "execute_result",
          "data": {
            "text/plain": [
              "[0.10261466354131699, 0.9926999807357788]"
            ]
          },
          "metadata": {
            "tags": []
          },
          "execution_count": 20
        }
      ]
    },
    {
      "cell_type": "markdown",
      "metadata": {
        "id": "6EGcmdgZdWiO"
      },
      "source": [
        "## Augmentacja Danych"
      ]
    },
    {
      "cell_type": "code",
      "metadata": {
        "id": "jLI5axURdYVf",
        "colab": {
          "base_uri": "https://localhost:8080/"
        },
        "outputId": "05ed16df-95ac-48f7-a23b-2c54a2a46a5b"
      },
      "source": [
        "datagenerator = image.ImageDataGenerator(\n",
        "    featurewise_center=True,\n",
        "    featurewise_std_normalization=True,\n",
        "    rotation_range=20,\n",
        "    horizontal_flip=True)\n",
        "(X_train, y_train), (X_test, y_test) = data\n",
        "model_original_2 = keras.Sequential(layers_original)\n",
        "\n",
        "datagenerator.fit(X_train)\n",
        "\n",
        "model_original_2.compile(optimizer=\"adam\", loss=\"categorical_crossentropy\", metrics=[\"accuracy\"])\n",
        "model_original_2.fit(datagenerator.flow(X_train, y_train, batch_size = 128), epochs = 15)"
      ],
      "execution_count": 21,
      "outputs": [
        {
          "output_type": "stream",
          "text": [
            "Epoch 1/15\n",
            "469/469 [==============================] - 12s 25ms/step - loss: 2.0209 - accuracy: 0.7276\n",
            "Epoch 2/15\n",
            "469/469 [==============================] - 12s 25ms/step - loss: 0.3986 - accuracy: 0.8777\n",
            "Epoch 3/15\n",
            "469/469 [==============================] - 12s 25ms/step - loss: 0.3060 - accuracy: 0.9063\n",
            "Epoch 4/15\n",
            "469/469 [==============================] - 12s 25ms/step - loss: 0.2555 - accuracy: 0.9184\n",
            "Epoch 5/15\n",
            "469/469 [==============================] - 11s 24ms/step - loss: 0.2267 - accuracy: 0.9286\n",
            "Epoch 6/15\n",
            "469/469 [==============================] - 12s 25ms/step - loss: 0.2014 - accuracy: 0.9368\n",
            "Epoch 7/15\n",
            "469/469 [==============================] - 12s 25ms/step - loss: 0.1917 - accuracy: 0.9399\n",
            "Epoch 8/15\n",
            "469/469 [==============================] - 12s 25ms/step - loss: 0.1789 - accuracy: 0.9426\n",
            "Epoch 9/15\n",
            "469/469 [==============================] - 12s 25ms/step - loss: 0.1609 - accuracy: 0.9484\n",
            "Epoch 10/15\n",
            "469/469 [==============================] - 11s 24ms/step - loss: 0.1583 - accuracy: 0.9499\n",
            "Epoch 11/15\n",
            "469/469 [==============================] - 12s 25ms/step - loss: 0.1525 - accuracy: 0.9520\n",
            "Epoch 12/15\n",
            "469/469 [==============================] - 12s 25ms/step - loss: 0.1562 - accuracy: 0.9506\n",
            "Epoch 13/15\n",
            "469/469 [==============================] - 12s 25ms/step - loss: 0.1448 - accuracy: 0.9531\n",
            "Epoch 14/15\n",
            "469/469 [==============================] - 12s 25ms/step - loss: 0.1429 - accuracy: 0.9544\n",
            "Epoch 15/15\n",
            "469/469 [==============================] - 12s 25ms/step - loss: 0.1336 - accuracy: 0.9574\n"
          ],
          "name": "stdout"
        },
        {
          "output_type": "execute_result",
          "data": {
            "text/plain": [
              "<tensorflow.python.keras.callbacks.History at 0x7fe66632c310>"
            ]
          },
          "metadata": {
            "tags": []
          },
          "execution_count": 21
        }
      ]
    },
    {
      "cell_type": "code",
      "metadata": {
        "colab": {
          "base_uri": "https://localhost:8080/"
        },
        "id": "V40DxBrX0c2z",
        "outputId": "c73de416-0a72-42f8-9667-1308e7249bfb"
      },
      "source": [
        "print_score(model_original_2.evaluate(X_test, y_test, verbose=0))"
      ],
      "execution_count": 22,
      "outputs": [
        {
          "output_type": "stream",
          "text": [
            "Test loss: 0.24782820045948029\n",
            "Test accuracy: 0.9642000198364258\n"
          ],
          "name": "stdout"
        }
      ]
    },
    {
      "cell_type": "markdown",
      "metadata": {
        "id": "BLW_OZIRH534"
      },
      "source": [
        "## Wnioski\n",
        "Ablation study jest użytecznym narzędziem do lepszego zrozumienia działania naszej sieci neuronowej. W tym przypadku tylko ustawienie loss='poisson', optimizer='Adadelta', miało istotny wpływ na skutecznosc, i to tylko na finalną wartość loss. Augmentacja danych w przypadku zbioru MNIST oczywiście nie ma sensu i w wyniku otrzymujemy znacznie gorszą skuteczność na zbiorze testowym. Cała reszta zmian nie miała znacznego wpływu na naszą skuteczność, w różnych odpaleniach (z powodów losowości GPU) czasem otrzymane były wyższe wartości od pierwotnego modelu a czasem niższe. Wydaje się to być spowodowane tym, że ten zbiór danych jest wyjątkowo prostym zadaniem dla sieci neuronowych."
      ]
    }
  ]
}