{
  "nbformat": 4,
  "nbformat_minor": 0,
  "metadata": {
    "colab": {
      "name": "praca_domowa_nr_3.ipynb",
      "provenance": [],
      "collapsed_sections": []
    },
    "kernelspec": {
      "name": "python3",
      "display_name": "Python 3"
    },
    "language_info": {
      "name": "python"
    }
  },
  "cells": [
    {
      "cell_type": "markdown",
      "metadata": {
        "id": "fABP-SV_gGES"
      },
      "source": [
        "# Pd nr 3 - Ablation study"
      ]
    },
    {
      "cell_type": "markdown",
      "metadata": {
        "id": "eIbieYg-gLLl"
      },
      "source": [
        "## 1. Czym jest <em>Ablation study</em>?\n",
        "<em>Ablation study</em> jest pojeciem, które swoje początki miało w badaniach psychologcznych oraz medycznych. Jest to metoda, w której role i funkcje tkanek i organów organizmów żywych były odkrywane poprzez ich usuwanie i obserwowanie tego jak organizm się zachowuje pod ich nieobecność. Już nawet definicja z dziedzin tak odległych od uczenia maszynowego pozwala nam złapać intuicje, jakie ona moze mieć zastosowanie w przypadku problemów ML-owych. W kontekście uczenia maszynowego mozemy zdefiniować <em> ablation study </em> jako sprawdzanie działania architektur ML-owych poprzez usuwanie pewnych jej elemntów w celu zdobycia informacji na temat ich działania, a także ich wpływu na wydajność modelu."
      ]
    },
    {
      "cell_type": "markdown",
      "metadata": {
        "id": "001Kx_4qgUT2"
      },
      "source": [
        "## 2. <em>Ablation study</em> na wybranej sieci CNN"
      ]
    },
    {
      "cell_type": "code",
      "metadata": {
        "id": "GrJMgZ3agKTw"
      },
      "source": [
        "import numpy as np\n",
        "import tensorflow as tf\n",
        "\n",
        "import pandas as pd\n",
        "import matplotlib.pyplot as plt\n",
        "from tensorflow.keras import datasets, layers, models"
      ],
      "execution_count": 53,
      "outputs": []
    },
    {
      "cell_type": "code",
      "metadata": {
        "id": "w8gcB2FrgYmD"
      },
      "source": [
        "(x_train, y_train), (x_test, y_test) = keras.datasets.mnist.load_data()"
      ],
      "execution_count": 54,
      "outputs": []
    },
    {
      "cell_type": "code",
      "metadata": {
        "colab": {
          "base_uri": "https://localhost:8080/",
          "height": 578
        },
        "id": "HP-r5_cqg0I6",
        "outputId": "2f74a9ca-dd45-4451-ba7a-e64c833dc3ef"
      },
      "source": [
        "plt.figure(figsize=(10,10))\n",
        "for i in range(25):\n",
        "    plt.subplot(5,5,i+1)\n",
        "    plt.xticks([])\n",
        "    plt.yticks([])\n",
        "    plt.grid(False)\n",
        "    plt.imshow(x_train[i], cmap=plt.cm.binary)\n",
        "plt.show()"
      ],
      "execution_count": 55,
      "outputs": [
        {
          "output_type": "display_data",
          "data": {
            "image/png": "[encoded data removed]",
            "text/plain": [
              "<Figure size 720x720 with 25 Axes>"
            ]
          },
          "metadata": {
            "tags": []
          }
        }
      ]
    },
    {
      "cell_type": "markdown",
      "metadata": {
        "id": "AyKVkAY1g_U6"
      },
      "source": [
        "## 2.1. Startowa architektura"
      ]
    },
    {
      "cell_type": "code",
      "metadata": {
        "id": "jZJ75V2Xpe8k"
      },
      "source": [
        "def plot_model_per_epoch(fitted_model):\n",
        "  table = pd.DataFrame.from_dict(fitted_model.history).reset_index().drop([\"index\"], axis = 1)\n",
        "  plt.figure(figsize = (20,10))\n",
        "  plt.plot(table['index'], table['accuracy'], color = 'skyblue', label = 'accuracy')\n",
        "  plt.plot(table['index'], table['val_accuracy'], color = 'orange', label = 'test accuracy')\n",
        "  plt.grid(alpha = 0.2)\n",
        "  plt.ylabel('Accuracy')\n",
        "  plt.xlabel('Epoch')\n",
        "  plt.legend(prop={'size': 20})\n",
        "  plt.show()"
      ],
      "execution_count": 56,
      "outputs": []
    },
    {
      "cell_type": "code",
      "metadata": {
        "colab": {
          "base_uri": "https://localhost:8080/"
        },
        "id": "mWlkJvqNkei8",
        "outputId": "2588cafb-5458-495f-bef0-bfd0d5d16868"
      },
      "source": [
        "# Model / data parameters\n",
        "num_classes = 10\n",
        "input_shape = (28, 28, 1)\n",
        "\n",
        "# the data, split between train and test sets\n",
        "(x_train, y_train), (x_test, y_test) = keras.datasets.mnist.load_data()\n",
        "\n",
        "# Scale images to the [0, 1] range\n",
        "x_train = x_train.astype(\"float32\") / 255\n",
        "x_test = x_test.astype(\"float32\") / 255\n",
        "# Make sure images have shape (28, 28, 1)\n",
        "x_train = np.expand_dims(x_train, -1)\n",
        "x_test = np.expand_dims(x_test, -1)\n",
        "print(\"x_train shape:\", x_train.shape)\n",
        "print(x_train.shape[0], \"train samples\")\n",
        "print(x_test.shape[0], \"test samples\")\n",
        "\n",
        "\n",
        "# convert class vectors to binary class matrices\n",
        "y_train = keras.utils.to_categorical(y_train, num_classes)\n",
        "y_test = keras.utils.to_categorical(y_test, num_classes)"
      ],
      "execution_count": 57,
      "outputs": [
        {
          "output_type": "stream",
          "text": [
            "x_train shape: (60000, 28, 28, 1)\n",
            "60000 train samples\n",
            "10000 test samples\n"
          ],
          "name": "stdout"
        }
      ]
    },
    {
      "cell_type": "code",
      "metadata": {
        "colab": {
          "base_uri": "https://localhost:8080/"
        },
        "id": "K3nYBPoHhDq4",
        "outputId": "57a94175-e38c-4a81-d74c-7c1ef752da59"
      },
      "source": [
        "model = keras.Sequential(\n",
        "    [\n",
        "        keras.Input(shape=input_shape),\n",
        "        layers.Conv2D(32, kernel_size=(3, 3), activation=\"relu\"),\n",
        "        layers.MaxPooling2D(pool_size=(2, 2)),\n",
        "        layers.Conv2D(64, kernel_size=(3, 3), activation=\"relu\"),\n",
        "        layers.MaxPooling2D(pool_size=(2, 2)),\n",
        "        layers.Conv2D(32, kernel_size=(3, 3), activation=\"relu\"),\n",
        "        layers.MaxPooling2D(pool_size=(2, 2)),\n",
        "        layers.Flatten(),\n",
        "        layers.Dropout(0.5),\n",
        "        layers.Dense(num_classes, activation=\"softmax\"),\n",
        "    ]\n",
        ")\n",
        "\n",
        "model.summary()"
      ],
      "execution_count": 58,
      "outputs": [
        {
          "output_type": "stream",
          "text": [
            "Model: \"sequential_9\"\n",
            "_________________________________________________________________\n",
            "Layer (type)                 Output Shape              Param #   \n",
            "=================================================================\n",
            "conv2d_26 (Conv2D)           (None, 26, 26, 32)        320       \n",
            "_________________________________________________________________\n",
            "max_pooling2d_19 (MaxPooling (None, 13, 13, 32)        0         \n",
            "_________________________________________________________________\n",
            "conv2d_27 (Conv2D)           (None, 11, 11, 64)        18496     \n",
            "_________________________________________________________________\n",
            "max_pooling2d_20 (MaxPooling (None, 5, 5, 64)          0         \n",
            "_________________________________________________________________\n",
            "conv2d_28 (Conv2D)           (None, 3, 3, 32)          18464     \n",
            "_________________________________________________________________\n",
            "max_pooling2d_21 (MaxPooling (None, 1, 1, 32)          0         \n",
            "_________________________________________________________________\n",
            "flatten_9 (Flatten)          (None, 32)                0         \n",
            "_________________________________________________________________\n",
            "dropout_2 (Dropout)          (None, 32)                0         \n",
            "_________________________________________________________________\n",
            "dense_13 (Dense)             (None, 10)                330       \n",
            "=================================================================\n",
            "Total params: 37,610\n",
            "Trainable params: 37,610\n",
            "Non-trainable params: 0\n",
            "_________________________________________________________________\n"
          ],
          "name": "stdout"
        }
      ]
    },
    {
      "cell_type": "code",
      "metadata": {
        "colab": {
          "base_uri": "https://localhost:8080/"
        },
        "id": "h5nyFYq6h4WF",
        "outputId": "80104419-42c0-4626-a8b7-14aa8945c90e"
      },
      "source": [
        "batch_size = 128\n",
        "epochs = 5\n",
        "\n",
        "model.compile(loss=\"categorical_crossentropy\", optimizer=\"adam\", metrics=[\"accuracy\"])\n",
        "\n",
        "fitted_model = model.fit(x_train, y_train, batch_size=batch_size, epochs=epochs, validation_split=0.1)"
      ],
      "execution_count": 59,
      "outputs": [
        {
          "output_type": "stream",
          "text": [
            "Epoch 1/5\n",
            "422/422 [==============================] - 39s 91ms/step - loss: 1.2978 - accuracy: 0.5615 - val_loss: 0.1965 - val_accuracy: 0.9468\n",
            "Epoch 2/5\n",
            "422/422 [==============================] - 38s 91ms/step - loss: 0.4905 - accuracy: 0.8381 - val_loss: 0.1229 - val_accuracy: 0.9648\n",
            "Epoch 3/5\n",
            "422/422 [==============================] - 38s 91ms/step - loss: 0.3813 - accuracy: 0.8765 - val_loss: 0.0954 - val_accuracy: 0.9713\n",
            "Epoch 4/5\n",
            "422/422 [==============================] - 38s 90ms/step - loss: 0.3278 - accuracy: 0.8921 - val_loss: 0.0790 - val_accuracy: 0.9763\n",
            "Epoch 5/5\n",
            "422/422 [==============================] - 38s 91ms/step - loss: 0.2789 - accuracy: 0.9082 - val_loss: 0.0773 - val_accuracy: 0.9780\n"
          ],
          "name": "stdout"
        }
      ]
    },
    {
      "cell_type": "code",
      "metadata": {
        "colab": {
          "base_uri": "https://localhost:8080/"
        },
        "id": "hj-xqQlnl5-9",
        "outputId": "528276af-35f9-467f-9ccd-df0c5da145e3"
      },
      "source": [
        "score = model.evaluate(x_test, y_test, verbose=0)\n",
        "print(\"Test loss:\", score[0])\n",
        "print(\"Test accuracy:\", score[1])"
      ],
      "execution_count": 60,
      "outputs": [
        {
          "output_type": "stream",
          "text": [
            "Test loss: 0.0849137157201767\n",
            "Test accuracy: 0.9760000109672546\n"
          ],
          "name": "stdout"
        }
      ]
    },
    {
      "cell_type": "markdown",
      "metadata": {
        "id": "bExAixQfggpL"
      },
      "source": [
        "## 2.2. Dodawanie/usuwanie warstwy\n",
        "\n",
        "Porównamy wyniki po usunięciu jednej warstwy z 32 neuronami."
      ]
    },
    {
      "cell_type": "code",
      "metadata": {
        "colab": {
          "base_uri": "https://localhost:8080/"
        },
        "id": "u8mFBM79gzmN",
        "outputId": "29c955d9-07ee-4918-8f85-9c156dfcde6b"
      },
      "source": [
        "model_1 = keras.Sequential(\n",
        "    [\n",
        "        keras.Input(shape=input_shape),\n",
        "        layers.Conv2D(32, kernel_size=(3, 3), activation=\"relu\"),\n",
        "        layers.MaxPooling2D(pool_size=(2, 2)),\n",
        "        layers.Conv2D(64, kernel_size=(3, 3), activation=\"relu\"),\n",
        "        layers.MaxPooling2D(pool_size=(2, 2)),\n",
        "        layers.Flatten(),\n",
        "        layers.Dropout(0.5),\n",
        "        layers.Dense(num_classes, activation=\"softmax\"),\n",
        "    ]\n",
        ")\n",
        "\n",
        "model_1.summary()"
      ],
      "execution_count": 61,
      "outputs": [
        {
          "output_type": "stream",
          "text": [
            "Model: \"sequential_10\"\n",
            "_________________________________________________________________\n",
            "Layer (type)                 Output Shape              Param #   \n",
            "=================================================================\n",
            "conv2d_29 (Conv2D)           (None, 26, 26, 32)        320       \n",
            "_________________________________________________________________\n",
            "max_pooling2d_22 (MaxPooling (None, 13, 13, 32)        0         \n",
            "_________________________________________________________________\n",
            "conv2d_30 (Conv2D)           (None, 11, 11, 64)        18496     \n",
            "_________________________________________________________________\n",
            "max_pooling2d_23 (MaxPooling (None, 5, 5, 64)          0         \n",
            "_________________________________________________________________\n",
            "flatten_10 (Flatten)         (None, 1600)              0         \n",
            "_________________________________________________________________\n",
            "dropout_3 (Dropout)          (None, 1600)              0         \n",
            "_________________________________________________________________\n",
            "dense_14 (Dense)             (None, 10)                16010     \n",
            "=================================================================\n",
            "Total params: 34,826\n",
            "Trainable params: 34,826\n",
            "Non-trainable params: 0\n",
            "_________________________________________________________________\n"
          ],
          "name": "stdout"
        }
      ]
    },
    {
      "cell_type": "code",
      "metadata": {
        "colab": {
          "base_uri": "https://localhost:8080/"
        },
        "id": "naF1zbhtgojr",
        "outputId": "7e7c2e32-a02d-4bbe-cb56-3f00b49fbfee"
      },
      "source": [
        "batch_size = 128\n",
        "epochs = 5\n",
        "\n",
        "model_1.compile(loss=\"categorical_crossentropy\", optimizer=\"adam\", metrics=[\"accuracy\"])\n",
        "\n",
        "fitted_model_1 = model_1.fit(x_train, y_train, batch_size=batch_size, epochs=epochs, validation_split=0.1)"
      ],
      "execution_count": 63,
      "outputs": [
        {
          "output_type": "stream",
          "text": [
            "Epoch 1/5\n",
            "422/422 [==============================] - 38s 89ms/step - loss: 0.7640 - accuracy: 0.7693 - val_loss: 0.0830 - val_accuracy: 0.9777\n",
            "Epoch 2/5\n",
            "422/422 [==============================] - 37s 89ms/step - loss: 0.1174 - accuracy: 0.9640 - val_loss: 0.0631 - val_accuracy: 0.9827\n",
            "Epoch 3/5\n",
            "422/422 [==============================] - 37s 88ms/step - loss: 0.0856 - accuracy: 0.9747 - val_loss: 0.0468 - val_accuracy: 0.9862\n",
            "Epoch 4/5\n",
            "422/422 [==============================] - 37s 89ms/step - loss: 0.0689 - accuracy: 0.9787 - val_loss: 0.0386 - val_accuracy: 0.9905\n",
            "Epoch 5/5\n",
            "422/422 [==============================] - 37s 88ms/step - loss: 0.0544 - accuracy: 0.9826 - val_loss: 0.0371 - val_accuracy: 0.9902\n"
          ],
          "name": "stdout"
        }
      ]
    },
    {
      "cell_type": "code",
      "metadata": {
        "colab": {
          "base_uri": "https://localhost:8080/",
          "height": 279
        },
        "id": "TnciJhksp5X1",
        "outputId": "d595ee6a-8127-4d46-fd4c-a09448535dd8"
      },
      "source": [
        "model_info = pd.DataFrame.from_dict(fitted_model.history).reset_index().drop([\"index\"], axis = 1)\n",
        "model_info_1 = pd.DataFrame.from_dict(fitted_model_1.history).reset_index().drop([\"index\"], axis = 1)\n",
        "\n",
        "fig = plt.figure()\n",
        "ax1 = fig.add_subplot(111)\n",
        "ax1.plot(model_info_1.index + 1, model_info_1['val_accuracy'], label = 'Model without layer')\n",
        "ax1.plot(model_info.index + 1, model_info['val_accuracy'], label = 'Model with layer')\n",
        "plt.legend(loc=\"lower right\")\n",
        "plt.title(\"Porównanie accuracy na zbiorze walidayjnym\")\n",
        "plt.ylabel('Accuracy value')\n",
        "plt.xlabel('Epoch number')\n",
        "plt.show()"
      ],
      "execution_count": 70,
      "outputs": [
        {
          "output_type": "display_data",
          "data": {
            "image/png": "[encoded data removed]",
            "text/plain": [
              "<Figure size 432x288 with 1 Axes>"
            ]
          },
          "metadata": {
            "tags": [],
            "needs_background": "light"
          }
        }
      ]
    },
    {
      "cell_type": "markdown",
      "metadata": {
        "id": "dlUP98Qmt8ip"
      },
      "source": [
        "Widzimy, że w przypadku zbioru MNISTowego accuracy na zbiroze walidacyjnym jest wyzszy niż na treningowym. Może to wynika z mniejszego overfittingu spowodowanego mniejszą ilością warstw, sprawdźmy jak sytuacja wyglaa na trainie."
      ]
    },
    {
      "cell_type": "code",
      "metadata": {
        "colab": {
          "base_uri": "https://localhost:8080/",
          "height": 295
        },
        "id": "9jvAviDUuBT2",
        "outputId": "9d3a35f1-26a7-4f9c-a7da-67a80845762d"
      },
      "source": [
        "fig = plt.figure()\n",
        "ax1 = fig.add_subplot(111)\n",
        "ax1.plot(model_info_1.index + 1, model_info_1['accuracy'], label = 'Model without layer')\n",
        "ax1.plot(model_info.index + 1, model_info['accuracy'], label = 'Model with layer')\n",
        "plt.legend(loc=\"lower right\")\n",
        "plt.title(\"Porównanie accuracy na zbiorze treningowym\")\n",
        "plt.ylabel('Accuracy value')\n",
        "plt.xlabel('Epoch number')\n",
        "plt.show()"
      ],
      "execution_count": 72,
      "outputs": [
        {
          "output_type": "display_data",
          "data": {
            "image/png": "[encoded data removed]",
            "text/plain": [
              "<Figure size 432x288 with 1 Axes>"
            ]
          },
          "metadata": {
            "tags": [],
            "needs_background": "light"
          }
        }
      ]
    },
    {
      "cell_type": "markdown",
      "metadata": {
        "id": "KgTHR9qluPix"
      },
      "source": [
        "Jednak wniosek o overfittingu na zbiorze treningowym jest błeny. Widzimy, że po prostu w przypadku używanego zbiorku odjecie warstwy ma pozytywny wpływ na wyniki."
      ]
    },
    {
      "cell_type": "markdown",
      "metadata": {
        "id": "tcaTCjgZs1F4"
      },
      "source": [
        "## 2.3. Zmiana parametrów *warstw*"
      ]
    },
    {
      "cell_type": "markdown",
      "metadata": {
        "id": "cN0x3KS8ut-y"
      },
      "source": [
        "Porównamy wyniki po zmienieniu liczby neuronów w jednej z warstw z 64 na 32 neurony."
      ]
    },
    {
      "cell_type": "code",
      "metadata": {
        "colab": {
          "base_uri": "https://localhost:8080/"
        },
        "id": "jNx6bPtps65r",
        "outputId": "49d4bc48-8c3c-49b6-b89e-d007f1aa0276"
      },
      "source": [
        "model_2 = keras.Sequential(\n",
        "    [\n",
        "        keras.Input(shape=input_shape),\n",
        "        layers.Conv2D(32, kernel_size=(3, 3), activation=\"relu\"),\n",
        "        layers.MaxPooling2D(pool_size=(2, 2)),\n",
        "        layers.Conv2D(32, kernel_size=(3, 3), activation=\"relu\"),\n",
        "        layers.MaxPooling2D(pool_size=(2, 2)),\n",
        "        layers.Conv2D(32, kernel_size=(3, 3), activation=\"relu\"),\n",
        "        layers.MaxPooling2D(pool_size=(2, 2)),\n",
        "        layers.Flatten(),\n",
        "        layers.Dropout(0.5),\n",
        "        layers.Dense(num_classes, activation=\"softmax\"),\n",
        "    ]\n",
        ")\n",
        "\n",
        "model_2.summary()"
      ],
      "execution_count": 73,
      "outputs": [
        {
          "output_type": "stream",
          "text": [
            "Model: \"sequential_11\"\n",
            "_________________________________________________________________\n",
            "Layer (type)                 Output Shape              Param #   \n",
            "=================================================================\n",
            "conv2d_31 (Conv2D)           (None, 26, 26, 32)        320       \n",
            "_________________________________________________________________\n",
            "max_pooling2d_24 (MaxPooling (None, 13, 13, 32)        0         \n",
            "_________________________________________________________________\n",
            "conv2d_32 (Conv2D)           (None, 11, 11, 32)        9248      \n",
            "_________________________________________________________________\n",
            "max_pooling2d_25 (MaxPooling (None, 5, 5, 32)          0         \n",
            "_________________________________________________________________\n",
            "conv2d_33 (Conv2D)           (None, 3, 3, 32)          9248      \n",
            "_________________________________________________________________\n",
            "max_pooling2d_26 (MaxPooling (None, 1, 1, 32)          0         \n",
            "_________________________________________________________________\n",
            "flatten_11 (Flatten)         (None, 32)                0         \n",
            "_________________________________________________________________\n",
            "dropout_4 (Dropout)          (None, 32)                0         \n",
            "_________________________________________________________________\n",
            "dense_15 (Dense)             (None, 10)                330       \n",
            "=================================================================\n",
            "Total params: 19,146\n",
            "Trainable params: 19,146\n",
            "Non-trainable params: 0\n",
            "_________________________________________________________________\n"
          ],
          "name": "stdout"
        }
      ]
    },
    {
      "cell_type": "code",
      "metadata": {
        "colab": {
          "base_uri": "https://localhost:8080/"
        },
        "id": "v-yiwi1Gt98b",
        "outputId": "e66cf9df-19a9-4bd8-876e-41cefc22ac7f"
      },
      "source": [
        "batch_size = 128\n",
        "epochs = 5\n",
        "\n",
        "model_2.compile(loss=\"categorical_crossentropy\", optimizer=\"adam\", metrics=[\"accuracy\"])\n",
        "\n",
        "fitted_model_2 = model_2.fit(x_train, y_train, batch_size=batch_size, epochs=epochs, validation_split=0.1)"
      ],
      "execution_count": 74,
      "outputs": [
        {
          "output_type": "stream",
          "text": [
            "Epoch 1/5\n",
            "422/422 [==============================] - 32s 76ms/step - loss: 1.4060 - accuracy: 0.5202 - val_loss: 0.1994 - val_accuracy: 0.9475\n",
            "Epoch 2/5\n",
            "422/422 [==============================] - 32s 75ms/step - loss: 0.4993 - accuracy: 0.8426 - val_loss: 0.1250 - val_accuracy: 0.9662\n",
            "Epoch 3/5\n",
            "422/422 [==============================] - 32s 75ms/step - loss: 0.3830 - accuracy: 0.8798 - val_loss: 0.1100 - val_accuracy: 0.9677\n",
            "Epoch 4/5\n",
            "422/422 [==============================] - 32s 75ms/step - loss: 0.3334 - accuracy: 0.8936 - val_loss: 0.0982 - val_accuracy: 0.9728\n",
            "Epoch 5/5\n",
            "422/422 [==============================] - 32s 76ms/step - loss: 0.2983 - accuracy: 0.9060 - val_loss: 0.0897 - val_accuracy: 0.9752\n"
          ],
          "name": "stdout"
        }
      ]
    },
    {
      "cell_type": "code",
      "metadata": {
        "colab": {
          "base_uri": "https://localhost:8080/",
          "height": 295
        },
        "id": "AxD7UgNPvAck",
        "outputId": "7018666b-09ee-4b9c-e0fc-976a6d6c95eb"
      },
      "source": [
        "model_info_2 = pd.DataFrame.from_dict(fitted_model_2.history).reset_index().drop([\"index\"], axis = 1)\n",
        "\n",
        "fig = plt.figure()\n",
        "ax1 = fig.add_subplot(111)\n",
        "ax1.plot(model_info_2.index + 1, model_info_2['val_accuracy'], label = 'Model without 32 neurons')\n",
        "ax1.plot(model_info.index + 1, model_info['val_accuracy'], label = 'Model with 64 neurons')\n",
        "plt.legend(loc=\"lower right\")\n",
        "plt.title(\"Porównanie accuracy na zbiorze walidayjnym\")\n",
        "plt.ylabel('Accuracy value')\n",
        "plt.xlabel('Epoch number')\n",
        "plt.show()"
      ],
      "execution_count": 76,
      "outputs": [
        {
          "output_type": "display_data",
          "data": {
            "image/png": "[encoded data removed]",
            "text/plain": [
              "<Figure size 432x288 with 1 Axes>"
            ]
          },
          "metadata": {
            "tags": [],
            "needs_background": "light"
          }
        }
      ]
    },
    {
      "cell_type": "markdown",
      "metadata": {
        "id": "Nqojw2m2wQcR"
      },
      "source": [
        "Tutaj z kolei widzimy, ze uproszczenie architektury (przynajmniej dla tych 5 rozważanych epok) ma negatywny wpływ na wyniki."
      ]
    },
    {
      "cell_type": "markdown",
      "metadata": {
        "id": "EH6Pv6DWwlo9"
      },
      "source": [
        "## 2.4. Zmiana parametrów treningu\n",
        "\n",
        "Zmienimy zarówno funkcję kosztu, jak i rozmiar batcha - zobaczymy jak to się przekłada na wyniki."
      ]
    },
    {
      "cell_type": "code",
      "metadata": {
        "colab": {
          "base_uri": "https://localhost:8080/"
        },
        "id": "hmtABPY1vJOF",
        "outputId": "9c1092a1-7519-4454-bd21-3f895257fbfc"
      },
      "source": [
        "batch_size = 64\n",
        "epochs = 5\n",
        "\n",
        "model.compile(loss=\"categorical_crossentropy\", optimizer=\"adam\", metrics=[\"accuracy\"])\n",
        "\n",
        "fitted_model_3 = model.fit(x_train, y_train, batch_size=batch_size, epochs=epochs, validation_split=0.1)"
      ],
      "execution_count": 77,
      "outputs": [
        {
          "output_type": "stream",
          "text": [
            "Epoch 1/5\n",
            "844/844 [==============================] - 43s 50ms/step - loss: 0.2725 - accuracy: 0.9100 - val_loss: 0.0700 - val_accuracy: 0.9785\n",
            "Epoch 2/5\n",
            "844/844 [==============================] - 42s 50ms/step - loss: 0.2511 - accuracy: 0.9167 - val_loss: 0.0651 - val_accuracy: 0.9800\n",
            "Epoch 3/5\n",
            "844/844 [==============================] - 42s 50ms/step - loss: 0.2366 - accuracy: 0.9231 - val_loss: 0.0662 - val_accuracy: 0.9812\n",
            "Epoch 4/5\n",
            "844/844 [==============================] - 42s 50ms/step - loss: 0.2129 - accuracy: 0.9306 - val_loss: 0.0716 - val_accuracy: 0.9813\n",
            "Epoch 5/5\n",
            "844/844 [==============================] - 42s 50ms/step - loss: 0.1970 - accuracy: 0.9347 - val_loss: 0.0617 - val_accuracy: 0.9830\n"
          ],
          "name": "stdout"
        }
      ]
    },
    {
      "cell_type": "code",
      "metadata": {
        "colab": {
          "base_uri": "https://localhost:8080/",
          "height": 295
        },
        "id": "69IjYvZXxQRD",
        "outputId": "99bcb957-7d95-4179-c08d-ab1e6f1e5415"
      },
      "source": [
        "model_info_3 = pd.DataFrame.from_dict(fitted_model_3.history).reset_index().drop([\"index\"], axis = 1)\n",
        "\n",
        "fig = plt.figure()\n",
        "ax1 = fig.add_subplot(111)\n",
        "ax1.plot(model_info_3.index + 1, model_info_3['val_accuracy'], label = 'Model with 64 batch size')\n",
        "ax1.plot(model_info.index + 1, model_info['val_accuracy'], label = 'Model with 128 batch size')\n",
        "plt.legend(loc=\"lower right\")\n",
        "plt.title(\"Porównanie accuracy na zbiorze walidayjnym\")\n",
        "plt.ylabel('Accuracy value')\n",
        "plt.xlabel('Epoch number')\n",
        "plt.show()"
      ],
      "execution_count": 79,
      "outputs": [
        {
          "output_type": "display_data",
          "data": {
            "image/png": "[encoded data removed]",
            "text/plain": [
              "<Figure size 432x288 with 1 Axes>"
            ]
          },
          "metadata": {
            "tags": [],
            "needs_background": "light"
          }
        }
      ]
    },
    {
      "cell_type": "code",
      "metadata": {
        "colab": {
          "base_uri": "https://localhost:8080/"
        },
        "id": "-lWaA8PA05Qv",
        "outputId": "3e1f312e-cb6e-4002-c25f-47797440eda7"
      },
      "source": [
        "batch_size = 128\n",
        "epochs = 5\n",
        "\n",
        "model.compile(loss=\"poisson\", optimizer=\"adam\", metrics=[\"accuracy\"])\n",
        "\n",
        "fitted_model_4 = model.fit(x_train, y_train, batch_size=batch_size, epochs=epochs, validation_split=0.1)"
      ],
      "execution_count": 82,
      "outputs": [
        {
          "output_type": "stream",
          "text": [
            "Epoch 1/5\n",
            "422/422 [==============================] - 40s 94ms/step - loss: 0.1188 - accuracy: 0.9387 - val_loss: 0.1056 - val_accuracy: 0.9847\n",
            "Epoch 2/5\n",
            "422/422 [==============================] - 40s 94ms/step - loss: 0.1182 - accuracy: 0.9399 - val_loss: 0.1054 - val_accuracy: 0.9843\n",
            "Epoch 3/5\n",
            "422/422 [==============================] - 40s 94ms/step - loss: 0.1169 - accuracy: 0.9422 - val_loss: 0.1057 - val_accuracy: 0.9845\n",
            "Epoch 4/5\n",
            "422/422 [==============================] - 40s 94ms/step - loss: 0.1168 - accuracy: 0.9439 - val_loss: 0.1057 - val_accuracy: 0.9847\n",
            "Epoch 5/5\n",
            "422/422 [==============================] - 40s 94ms/step - loss: 0.1156 - accuracy: 0.9462 - val_loss: 0.1058 - val_accuracy: 0.9853\n"
          ],
          "name": "stdout"
        }
      ]
    },
    {
      "cell_type": "code",
      "metadata": {
        "colab": {
          "base_uri": "https://localhost:8080/",
          "height": 295
        },
        "id": "2MIX447z1B20",
        "outputId": "590c682f-8de1-434c-bb53-0a23ecfcc8fd"
      },
      "source": [
        "model_info_4 = pd.DataFrame.from_dict(fitted_model_4.history).reset_index().drop([\"index\"], axis = 1)\n",
        "\n",
        "fig = plt.figure()\n",
        "ax1 = fig.add_subplot(111)\n",
        "ax1.plot(model_info_4.index + 1, model_info_4['val_accuracy'], label = 'Model with poisson loss')\n",
        "ax1.plot(model_info.index + 1, model_info['val_accuracy'], label = 'Model with cross_entropy loss')\n",
        "plt.legend(loc=\"lower right\")\n",
        "plt.title(\"Porównanie accuracy na zbiorze walidayjnym\")\n",
        "plt.ylabel('Accuracy value')\n",
        "plt.xlabel('Epoch number')\n",
        "plt.show()"
      ],
      "execution_count": 83,
      "outputs": [
        {
          "output_type": "display_data",
          "data": {
            "image/png": "[encoded data removed]",
            "text/plain": [
              "<Figure size 432x288 with 1 Axes>"
            ]
          },
          "metadata": {
            "tags": [],
            "needs_background": "light"
          }
        }
      ]
    },
    {
      "cell_type": "markdown",
      "metadata": {
        "id": "W1qaCDKC2T6T"
      },
      "source": [
        "Widzimy, że funkcja kosztu poisson poradziłą sobie sporo lepiej - szybkosć zbieżnosci dużo szybasz, już od pierwszej epoki obserwujemy lepsze wyniki."
      ]
    },
    {
      "cell_type": "markdown",
      "metadata": {
        "id": "PXv7SaUY1zhZ"
      },
      "source": [
        "## 2.5. Zmiana funkcji wyjściowej\n",
        "\n"
      ]
    },
    {
      "cell_type": "code",
      "metadata": {
        "colab": {
          "base_uri": "https://localhost:8080/"
        },
        "id": "ClqrZ1KN1POE",
        "outputId": "72f9828d-9e7c-4eae-de96-d0e92b8185a4"
      },
      "source": [
        "model_5 = keras.Sequential(\n",
        "    [\n",
        "        keras.Input(shape=input_shape),\n",
        "        layers.Conv2D(32, kernel_size=(3, 3), activation=\"relu\"),\n",
        "        layers.MaxPooling2D(pool_size=(2, 2)),\n",
        "        layers.Conv2D(64, kernel_size=(3, 3), activation=\"relu\"),\n",
        "        layers.MaxPooling2D(pool_size=(2, 2)),\n",
        "        layers.Conv2D(32, kernel_size=(3, 3), activation=\"relu\"),\n",
        "        layers.MaxPooling2D(pool_size=(2, 2)),\n",
        "        layers.Flatten(),\n",
        "        layers.Dropout(0.5),\n",
        "        layers.Dense(num_classes, activation=\"sigmoid\"),\n",
        "    ]\n",
        ")\n",
        "\n",
        "model_5.summary()"
      ],
      "execution_count": 84,
      "outputs": [
        {
          "output_type": "stream",
          "text": [
            "Model: \"sequential_12\"\n",
            "_________________________________________________________________\n",
            "Layer (type)                 Output Shape              Param #   \n",
            "=================================================================\n",
            "conv2d_34 (Conv2D)           (None, 26, 26, 32)        320       \n",
            "_________________________________________________________________\n",
            "max_pooling2d_27 (MaxPooling (None, 13, 13, 32)        0         \n",
            "_________________________________________________________________\n",
            "conv2d_35 (Conv2D)           (None, 11, 11, 64)        18496     \n",
            "_________________________________________________________________\n",
            "max_pooling2d_28 (MaxPooling (None, 5, 5, 64)          0         \n",
            "_________________________________________________________________\n",
            "conv2d_36 (Conv2D)           (None, 3, 3, 32)          18464     \n",
            "_________________________________________________________________\n",
            "max_pooling2d_29 (MaxPooling (None, 1, 1, 32)          0         \n",
            "_________________________________________________________________\n",
            "flatten_12 (Flatten)         (None, 32)                0         \n",
            "_________________________________________________________________\n",
            "dropout_5 (Dropout)          (None, 32)                0         \n",
            "_________________________________________________________________\n",
            "dense_16 (Dense)             (None, 10)                330       \n",
            "=================================================================\n",
            "Total params: 37,610\n",
            "Trainable params: 37,610\n",
            "Non-trainable params: 0\n",
            "_________________________________________________________________\n"
          ],
          "name": "stdout"
        }
      ]
    },
    {
      "cell_type": "code",
      "metadata": {
        "colab": {
          "base_uri": "https://localhost:8080/"
        },
        "id": "GrL0pRoM2wA1",
        "outputId": "548eec14-25da-4e79-d203-d2bdf96e134e"
      },
      "source": [
        "batch_size = 128\n",
        "epochs = 5\n",
        "\n",
        "model_5.compile(loss=\"categorical_crossentropy\", optimizer=\"adam\", metrics=[\"accuracy\"])\n",
        "\n",
        "fitted_model_5 = model_5.fit(x_train, y_train, batch_size=batch_size, epochs=epochs, validation_split=0.1)"
      ],
      "execution_count": 85,
      "outputs": [
        {
          "output_type": "stream",
          "text": [
            "Epoch 1/5\n",
            "422/422 [==============================] - 40s 95ms/step - loss: 1.3113 - accuracy: 0.5539 - val_loss: 0.1668 - val_accuracy: 0.9532\n",
            "Epoch 2/5\n",
            "422/422 [==============================] - 40s 94ms/step - loss: 0.4103 - accuracy: 0.8690 - val_loss: 0.1094 - val_accuracy: 0.9702\n",
            "Epoch 3/5\n",
            "422/422 [==============================] - 40s 95ms/step - loss: 0.3280 - accuracy: 0.8973 - val_loss: 0.0931 - val_accuracy: 0.9743\n",
            "Epoch 4/5\n",
            "422/422 [==============================] - 40s 95ms/step - loss: 0.2732 - accuracy: 0.9140 - val_loss: 0.0758 - val_accuracy: 0.9795\n",
            "Epoch 5/5\n",
            "422/422 [==============================] - 40s 94ms/step - loss: 0.2461 - accuracy: 0.9215 - val_loss: 0.0661 - val_accuracy: 0.9807\n"
          ],
          "name": "stdout"
        }
      ]
    },
    {
      "cell_type": "code",
      "metadata": {
        "colab": {
          "base_uri": "https://localhost:8080/",
          "height": 295
        },
        "id": "_IRTtsRz20Ir",
        "outputId": "82efb820-6ef7-49b9-ad1b-e868f9c0781d"
      },
      "source": [
        "model_info_5 = pd.DataFrame.from_dict(fitted_model_5.history).reset_index().drop([\"index\"], axis = 1)\n",
        "\n",
        "fig = plt.figure()\n",
        "ax1 = fig.add_subplot(111)\n",
        "ax1.plot(model_info_5.index + 1, model_info_5['val_accuracy'], label = 'Model with sigmoid')\n",
        "ax1.plot(model_info.index + 1, model_info['val_accuracy'], label = 'Model with softmax')\n",
        "plt.legend(loc=\"lower right\")\n",
        "plt.title(\"Porównanie accuracy na zbiorze walidayjnym\")\n",
        "plt.ylabel('Accuracy value')\n",
        "plt.xlabel('Epoch number')\n",
        "plt.show()"
      ],
      "execution_count": 86,
      "outputs": [
        {
          "output_type": "display_data",
          "data": {
            "image/png": "[encoded data removed]",
            "text/plain": [
              "<Figure size 432x288 with 1 Axes>"
            ]
          },
          "metadata": {
            "tags": [],
            "needs_background": "light"
          }
        }
      ]
    },
    {
      "cell_type": "markdown",
      "metadata": {
        "id": "20vw0O5v29Ky"
      },
      "source": [
        "## 3. Podsumowanie"
      ]
    },
    {
      "cell_type": "markdown",
      "metadata": {
        "id": "lvA0kDoT2_vv"
      },
      "source": [
        "Widzimy, że o ile metoda <em> Ablation study </em> nie jest może najlepszą możliwą, bo widzimy tylko pewne efekty zmien, a nie rozumiemy co dokładnie za nimi stoi, ale pozwala nam to złapać chociaż jakąkolwiek intuicję, która w obcowaniu z sieciami jest niezbędna - zwłaszcza w bardziej skomplikowanych architekturach."
      ]
    }
  ]
}