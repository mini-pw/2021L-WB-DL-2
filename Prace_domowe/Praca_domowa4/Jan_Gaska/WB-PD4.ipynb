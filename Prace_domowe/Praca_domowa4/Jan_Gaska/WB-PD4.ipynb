{
 "cells": [
  {
   "cell_type": "markdown",
   "metadata": {},
   "source": [
    "## Sensitive analysis\n",
    "Teraz pod lupę weźmiemy zagadnienie oszacowania, przeanalizowania wrażliwości danej sieci neuronowej na pewne parametry, m.in dane wejściowe, wagi w danych warstwach. Podana analiza pozwala na głębsze zrozumienie modelu, jego funkcjonowania pod względem obróbki danych oraz pracy na nich.  Dlatego w tej pracy domowej, przechodząc przez zbiór danych MNIST, krok po kroku, dokonam testów i wykonam *Sensitive analysis*.  \n",
    "Również w pracy domowej będę wykorzystywał wiedzę z danego artykułu : https://arxiv.org/abs/1901.07152  \n",
    "Zawiera on dużo wskazówek oraz jest bazą do wyciągania wniosków przed przystąpieniem do wykonywania pracy.   \n",
    "Link do zbioru danych MNIST :  http://yann.lecun.com/exdb/mnist/  \n",
    "Do testów wykorzystałem sprawdzoną i wysoce funkcjonującą siec neuronową na zbiorze MNIST, utworzoną przez autorów powyższego artykułu : https://github.com/shu-hai/SA_DNN/blob/master/aaaipapercodes/DenseNet121.py, jednakże dokonałem jej transkrypcji na  najnowszą wersję kerasa i tensorflowa, gdyż udostępniony przez autorów kod był przestarzały pod tym względem i nie \"kooperował\" z użytkownikiem (było to po prostu o wiele łatwiejsze wyjście, oczywiście mógłbym operować na tamtejszym modelu 1:1, jednakże byłoby to dośc uporczywe).  \n",
    "Korzystając z sieci neuronowej utworzonej przez autorów artykułu naukowego będę w stanie jak najbardziej zbliżyć się do uzyskanych przezeń wyników, przy założeniu, iż dostosuję się do wykonanych przezeń korków. "
   ]
  },
  {
   "cell_type": "markdown",
   "metadata": {},
   "source": [
    "## Niepeweności pomiarowe w sieciach neuronowych\n",
    "Zjawisko niepeności polega na, jak wskazuje nazwa, na pewnym odchyleniu naszych danych wejściowych, bądź odchylenie wag w naszej sieci neuronowej. Odchylenia mogą pojawić się w sytuacjach pracy na lekko odchylonych danych względem pierwotnch, lub operowania na modelu wyuczonym na lekko zmodyfikowanych danych, obarczonych pewnym błędem względem oryginału.  \n",
    "Poradzić sobie możemy z takimi problemami za pomocą narzędzi statystycznych oraz niewielkich poprawek na modelu. Zazwyczaj takie odchylenia mają swoje sposoby na poprawę, gdyż zazwyczaj (zazwyczaj!), błędy takie są modelowane za pomocą funkcji liniowych, bądź kwadratowych, które są dość proste w implementacji. "
   ]
  },
  {
   "cell_type": "markdown",
   "metadata": {},
   "source": [
    "### Zaimportujmy potrzebne biblioteki"
   ]
  },
  {
   "cell_type": "code",
   "execution_count": 1,
   "metadata": {},
   "outputs": [],
   "source": [
    "import tensorflow as tf\n",
    "from tensorflow.keras import datasets, layers, models\n",
    "import matplotlib.pyplot as plt\n",
    "import numpy as np\n",
    "import keras\n",
    "import matplotlib.pyplot as plt\n",
    "from keras.preprocessing.image import ImageDataGenerator\n",
    "from keras import datasets\n",
    "from PIL import Image"
   ]
  },
  {
   "cell_type": "markdown",
   "metadata": {},
   "source": [
    "Poniżej dokonuję definicji potrzebnych elementów wykorzystywanych przy sieci neuronowej oraz ją samą. Kod pochodzi ze wcześniej podanego odniesienia. "
   ]
  },
  {
   "cell_type": "markdown",
   "metadata": {},
   "source": [
    "Tutaj przygotowuję zbiór danych."
   ]
  },
  {
   "cell_type": "code",
   "execution_count": 2,
   "metadata": {},
   "outputs": [],
   "source": [
    "mnist = tf.keras.datasets.mnist\n",
    "(x_train, y_train), (x_test, y_test) = mnist.load_data()\n",
    "y_train = y_train.reshape(-1)\n",
    "y_test = y_test.reshape(-1)\n",
    "x_test = x_test /255\n",
    "x_train = x_train /255\n",
    "x_train = np.expand_dims(x_train, -1)\n",
    "x_test = np.expand_dims(x_test, -1)"
   ]
  },
  {
   "cell_type": "markdown",
   "metadata": {},
   "source": [
    "Funkcje pomocnicze"
   ]
  },
  {
   "cell_type": "code",
   "execution_count": 28,
   "metadata": {},
   "outputs": [],
   "source": [
    "def plot_model(model,x_set,y_set,epochs = 5):\n",
    "    history = model.fit(x_set,y_set,epochs = 5)\n",
    "    \n",
    "    fig, axs = plt.subplots(1,2)\n",
    "    plot(history.history['accuracy'])\n",
    "    axs[0,0].set_title('Model Accuracy')\n",
    "    axs[0,0].ylabel('accuracy')\n",
    "    axs[0,0].xlabel('epoch')\n",
    "    \n",
    "    plot(history.history['loss'])\n",
    "    axs[0,1].set_title('Model Loss')\n",
    "    axs[0,1].ylabel('loss')\n",
    "    axs[0,1].xlabel('epoch')"
   ]
  },
  {
   "cell_type": "markdown",
   "metadata": {},
   "source": [
    "Przygotujmy naszą sieć neuronową."
   ]
  },
  {
   "cell_type": "code",
   "execution_count": 3,
   "metadata": {},
   "outputs": [],
   "source": [
    "model = keras.Sequential(\n",
    "[\n",
    "    keras.Input(shape = (28,28,1)),\n",
    "    layers.Conv2D(64,kernel_size = (2,2),padding=\"same\",strides=(1,1),activation = 'relu'),\n",
    "    layers.MaxPooling2D(pool_size=(2, 2)),\n",
    "    layers.Conv2D(64,kernel_size = (3,3),padding=\"same\",strides=(1,1),activation = 'relu'),\n",
    "    layers.MaxPooling2D(pool_size=(2, 2)),\n",
    "    \n",
    "    \n",
    "    layers.Flatten(),\n",
    "    layers.Dense(64,activation = 'relu'),\n",
    "    layers.Dense(10,activation = 'softmax'),\n",
    "]\n",
    ")"
   ]
  },
  {
   "cell_type": "markdown",
   "metadata": {},
   "source": [
    "Na początku sprawdźmy poprawność naszej sieci neuronowej na niezmodyfikowanym zbiorze danych."
   ]
  },
  {
   "cell_type": "code",
   "execution_count": 47,
   "metadata": {},
   "outputs": [
    {
     "data": {
      "text/plain": [
       "(10000, 28, 28)"
      ]
     },
     "execution_count": 47,
     "metadata": {},
     "output_type": "execute_result"
    }
   ],
   "source": [
    "x_test.shape"
   ]
  },
  {
   "cell_type": "code",
   "execution_count": 65,
   "metadata": {},
   "outputs": [],
   "source": [
    "model.compile(optimizer = 'adam', loss = 'sparse_categorical_crossentropy',metrics=['accuracy'])"
   ]
  },
  {
   "cell_type": "code",
   "execution_count": 66,
   "metadata": {},
   "outputs": [
    {
     "name": "stdout",
     "output_type": "stream",
     "text": [
      "Epoch 1/5\n",
      "1875/1875 [==============================] - 67s 35ms/step - loss: 0.2798 - accuracy: 0.9126\n",
      "Epoch 2/5\n",
      "1875/1875 [==============================] - 65s 35ms/step - loss: 0.0470 - accuracy: 0.9857\n",
      "Epoch 3/5\n",
      "1875/1875 [==============================] - 65s 35ms/step - loss: 0.0284 - accuracy: 0.9906\n",
      "Epoch 4/5\n",
      "1875/1875 [==============================] - 66s 35ms/step - loss: 0.0191 - accuracy: 0.9935\n",
      "Epoch 5/5\n",
      "1875/1875 [==============================] - 66s 35ms/step - loss: 0.0144 - accuracy: 0.9953\n"
     ]
    },
    {
     "data": {
      "text/plain": [
       "<tensorflow.python.keras.callbacks.History at 0x21f763c5518>"
      ]
     },
     "execution_count": 66,
     "metadata": {},
     "output_type": "execute_result"
    }
   ],
   "source": [
    "model.fit(x_train,y_train,epochs = 5)"
   ]
  },
  {
   "cell_type": "code",
   "execution_count": 29,
   "metadata": {},
   "outputs": [
    {
     "name": "stdout",
     "output_type": "stream",
     "text": [
      "313/313 [==============================] - 3s 10ms/step - loss: 0.0280 - accuracy: 0.9916\n"
     ]
    },
    {
     "data": {
      "text/plain": [
       "[0.027962487190961838, 0.991599977016449]"
      ]
     },
     "execution_count": 29,
     "metadata": {},
     "output_type": "execute_result"
    }
   ],
   "source": [
    "model.evaluate(x_test,y_test)"
   ]
  },
  {
   "cell_type": "markdown",
   "metadata": {},
   "source": [
    "Jak widzimy po wynikach, nasza sieć neuronowa działa praktycznie idealnie na oryginalnej tabelce danych, ale czas to zmienić i dokonać trochę eksperymentów."
   ]
  },
  {
   "cell_type": "markdown",
   "metadata": {},
   "source": [
    "## Perturbacja danych wejściowych\n",
    "Na początek weźmy pod uwagę zmiany w naszej sieci neuronowej gdy dokonamy modyfikacji naszych danych wejściowych treningowych oraz nań wytrenowaniu naszego modelu.  \n",
    "Zacznijmy od zniekształcenia naszego zbioru treningowego poprzez zastowowanie operacji podobnej do augmentacji danych, z tym wyjątkiem, iż tym razem pozbędziemy się wszystkich oryginalnych danych... Być może jak na początek jest to zbyt brutalna operacja, lecz przekonamy się!"
   ]
  },
  {
   "cell_type": "code",
   "execution_count": 86,
   "metadata": {},
   "outputs": [],
   "source": [
    "## Generator nowych danych\n",
    "gen = ImageDataGenerator(\n",
    "rotation_range = 45,\n",
    "width_shift_range = 0.2,\n",
    "height_shift_range = 0.2,\n",
    "shear_range = 0.2,\n",
    "zoom_range =0.2,\n",
    "fill_mode = 'constant',\n",
    "cval = 25\n",
    ")"
   ]
  },
  {
   "cell_type": "code",
   "execution_count": 136,
   "metadata": {},
   "outputs": [],
   "source": [
    "gen.fit(x_test)\n",
    "## By zresetować wagi należy użyć clone_model, w przeciwnym razie zachowalibyśmy je !!!\n",
    "model_2 = tf.keras.models.clone_model(model)"
   ]
  },
  {
   "cell_type": "code",
   "execution_count": 138,
   "metadata": {},
   "outputs": [
    {
     "name": "stdout",
     "output_type": "stream",
     "text": [
      "Epoch 1/5\n",
      "469/469 [==============================] - 83s 175ms/step - loss: 2.3304 - accuracy: 0.1392\n",
      "Epoch 2/5\n",
      "469/469 [==============================] - 83s 178ms/step - loss: 1.4692 - accuracy: 0.4899\n",
      "Epoch 3/5\n",
      "469/469 [==============================] - 86s 184ms/step - loss: 0.9803 - accuracy: 0.6753\n",
      "Epoch 4/5\n",
      "469/469 [==============================] - 83s 176ms/step - loss: 0.7458 - accuracy: 0.7576\n",
      "Epoch 5/5\n",
      "469/469 [==============================] - 86s 183ms/step - loss: 0.6188 - accuracy: 0.8030\n"
     ]
    },
    {
     "data": {
      "text/plain": [
       "<tensorflow.python.keras.callbacks.History at 0x1b173b57b00>"
      ]
     },
     "execution_count": 138,
     "metadata": {},
     "output_type": "execute_result"
    }
   ],
   "source": [
    "model_2.compile(optimizer = 'adam', loss = 'sparse_categorical_crossentropy',metrics=['accuracy'])\n",
    "model_2.fit(gen.flow(x_train, y_train, batch_size = 128), epochs = 5)"
   ]
  },
  {
   "cell_type": "code",
   "execution_count": 139,
   "metadata": {},
   "outputs": [
    {
     "name": "stdout",
     "output_type": "stream",
     "text": [
      "313/313 [==============================] - 3s 9ms/step - loss: 0.4997 - accuracy: 0.8295\n"
     ]
    },
    {
     "data": {
      "text/plain": [
       "[0.49965396523475647, 0.8295000195503235]"
      ]
     },
     "execution_count": 139,
     "metadata": {},
     "output_type": "execute_result"
    }
   ],
   "source": [
    "model_2.evaluate(x_test,y_test)"
   ]
  },
  {
   "cell_type": "markdown",
   "metadata": {},
   "source": [
    "Wytrenowaliśmy nasz model na zmienionych danych i dokonaliśmy testu na danych oryninalnych i efekt był dość porządny, spadek o około 18 punktów procentowych, czyli nasz model wydaje się dość odporny na takie \"ataki\", lecz sprawdźmy jeszcze dwa pomniejsze przypadki perturbacji danych wejściowych."
   ]
  },
  {
   "cell_type": "code",
   "execution_count": 90,
   "metadata": {},
   "outputs": [],
   "source": [
    "gen2 = ImageDataGenerator(\n",
    "rotation_range = 2,\n",
    "width_shift_range = 0.05,\n",
    "height_shift_range = 0.05,\n",
    "shear_range = 0.05,\n",
    "zoom_range =0.05,\n",
    "fill_mode = 'constant',\n",
    ")"
   ]
  },
  {
   "cell_type": "code",
   "execution_count": 140,
   "metadata": {},
   "outputs": [],
   "source": [
    "gen2.fit(x_test)\n",
    "model_3 = tf.keras.models.clone_model(model)"
   ]
  },
  {
   "cell_type": "code",
   "execution_count": 141,
   "metadata": {},
   "outputs": [
    {
     "name": "stdout",
     "output_type": "stream",
     "text": [
      "Epoch 1/5\n",
      "3750/3750 [==============================] - 99s 26ms/step - loss: 0.3308 - accuracy: 0.8922\n",
      "Epoch 2/5\n",
      "3750/3750 [==============================] - 93s 25ms/step - loss: 0.0648 - accuracy: 0.9798\n",
      "Epoch 3/5\n",
      "3750/3750 [==============================] - 87s 23ms/step - loss: 0.0490 - accuracy: 0.9841\n",
      "Epoch 4/5\n",
      "3750/3750 [==============================] - 85s 23ms/step - loss: 0.0413 - accuracy: 0.9870\n",
      "Epoch 5/5\n",
      "3750/3750 [==============================] - 85s 23ms/step - loss: 0.0338 - accuracy: 0.9892\n"
     ]
    },
    {
     "data": {
      "text/plain": [
       "<tensorflow.python.keras.callbacks.History at 0x1b16cf45b70>"
      ]
     },
     "execution_count": 141,
     "metadata": {},
     "output_type": "execute_result"
    }
   ],
   "source": [
    "model_3.compile(optimizer = 'adam', loss = 'sparse_categorical_crossentropy',metrics=['accuracy'])\n",
    "model_3.fit(gen2.flow(x_train, y_train, batch_size = 16), epochs = 5)"
   ]
  },
  {
   "cell_type": "code",
   "execution_count": 142,
   "metadata": {},
   "outputs": [
    {
     "name": "stdout",
     "output_type": "stream",
     "text": [
      "313/313 [==============================] - 3s 10ms/step - loss: 0.0319 - accuracy: 0.9896\n"
     ]
    },
    {
     "data": {
      "text/plain": [
       "[0.03193701058626175, 0.9896000027656555]"
      ]
     },
     "execution_count": 142,
     "metadata": {},
     "output_type": "execute_result"
    }
   ],
   "source": [
    "model_3.evaluate(x_test,y_test)"
   ]
  },
  {
   "cell_type": "markdown",
   "metadata": {},
   "source": [
    "Jak widać nasz model pozostał praktycznie nietknięty, jednakże poniżej zaprezentuję graficzne przedstawienie \"zmiany\" danych względem oryginału."
   ]
  },
  {
   "cell_type": "code",
   "execution_count": 143,
   "metadata": {},
   "outputs": [
    {
     "data": {
      "text/plain": [
       "<tensorflow.python.keras.preprocessing.image.NumpyArrayIterator at 0x1b16e22d4e0>"
      ]
     },
     "execution_count": 143,
     "metadata": {},
     "output_type": "execute_result"
    }
   ],
   "source": [
    "gen2.flow(x_train)"
   ]
  },
  {
   "cell_type": "code",
   "execution_count": 144,
   "metadata": {},
   "outputs": [
    {
     "data": {
      "image/png": "[encoded data removed]",
      "text/plain": [
       "<Figure size 1440x1440 with 10 Axes>"
      ]
     },
     "metadata": {
      "needs_background": "light"
     },
     "output_type": "display_data"
    }
   ],
   "source": [
    "def plotImages(images_arr):\n",
    "    fig, axes = plt.subplots(1, 10, figsize=(20,20))\n",
    "    axes = axes.flatten()\n",
    "    for img, ax in zip(images_arr, axes):\n",
    "        ax.imshow(img)\n",
    "    plt.tight_layout()\n",
    "    plt.show()\n",
    "    \n",
    "    \n",
    "augmented_images = [next(gen2.flow(x_train))[i] for i in range(10)]\n",
    "plotImages(augmented_images)"
   ]
  },
  {
   "cell_type": "code",
   "execution_count": 99,
   "metadata": {},
   "outputs": [
    {
     "data": {
      "image/png": "[encoded data removed]",
      "text/plain": [
       "<Figure size 1440x1440 with 10 Axes>"
      ]
     },
     "metadata": {
      "needs_background": "light"
     },
     "output_type": "display_data"
    }
   ],
   "source": [
    "##Dane oryginalne\n",
    "plotImages([x_test[i] for i in range(10)])"
   ]
  },
  {
   "cell_type": "markdown",
   "metadata": {},
   "source": [
    "Jak widać dane nie są zbytnio różne od danych wejściowych w zbiorze MNIST, a jednak taka niewielka zmiana spowodowała niefunkcjonalność modelu."
   ]
  },
  {
   "cell_type": "markdown",
   "metadata": {},
   "source": [
    "Dobrze, wypróbujmy teraz najmniejszą możliwą zmianę, tudzież zmianę jednego pikselu na losową wartość dla każdej grafiki i na ów danych przetestujmy nasz model. Dlaczego, skoro i tak nasz model dobrze sobie radzi?  Sprawdźmy w jakim stopniu zmiana jednego piksela może wpłynąć na dane.\n",
    "Najpierw będziemy potrzebowali funkcji pomocniczej zmieniającej 1 piskel w danych."
   ]
  },
  {
   "cell_type": "code",
   "execution_count": 98,
   "metadata": {},
   "outputs": [],
   "source": [
    "import random as rn\n",
    "\n",
    "def pixel(array):\n",
    "    rn.seed(1337)\n",
    "    copy = array.copy()\n",
    "    for x in copy:\n",
    "        x_r = rn.randint(0,27)\n",
    "        y_r = rn.randint(0,27)\n",
    "        val = rn.uniform(0,1)\n",
    "        x[x_r][y_r][0] = val\n",
    "    return copy"
   ]
  },
  {
   "cell_type": "code",
   "execution_count": 114,
   "metadata": {},
   "outputs": [
    {
     "data": {
      "image/png": "[encoded data removed]",
      "text/plain": [
       "<Figure size 1440x1440 with 10 Axes>"
      ]
     },
     "metadata": {
      "needs_background": "light"
     },
     "output_type": "display_data"
    }
   ],
   "source": [
    "plotImages([pixel(x_train)[i] for i in range(10)])"
   ]
  },
  {
   "cell_type": "markdown",
   "metadata": {},
   "source": [
    "Jak widać miejscowo można zaobserwować klarownie pojedyńcze zmienione piksele. A teraz sprawdźmy jak poradzi sobie nasz model na tej minimalnej perturbacji."
   ]
  },
  {
   "cell_type": "code",
   "execution_count": 145,
   "metadata": {},
   "outputs": [
    {
     "name": "stdout",
     "output_type": "stream",
     "text": [
      "Epoch 1/5\n",
      "1875/1875 [==============================] - 89s 47ms/step - loss: 0.3242 - accuracy: 0.8976\n",
      "Epoch 2/5\n",
      "1875/1875 [==============================] - 96s 51ms/step - loss: 0.0491 - accuracy: 0.9843\n",
      "Epoch 3/5\n",
      "1875/1875 [==============================] - 92s 49ms/step - loss: 0.0322 - accuracy: 0.9900\n",
      "Epoch 4/5\n",
      "1875/1875 [==============================] - 89s 47ms/step - loss: 0.0213 - accuracy: 0.9937\n",
      "Epoch 5/5\n",
      "1875/1875 [==============================] - 85s 45ms/step - loss: 0.0155 - accuracy: 0.9952\n"
     ]
    },
    {
     "data": {
      "text/plain": [
       "<tensorflow.python.keras.callbacks.History at 0x1b175566eb8>"
      ]
     },
     "execution_count": 145,
     "metadata": {},
     "output_type": "execute_result"
    }
   ],
   "source": [
    "model_4 = tf.keras.models.clone_model(model)\n",
    "model_4.compile(optimizer = 'adam', loss = 'sparse_categorical_crossentropy',metrics=['accuracy'])\n",
    "model_4.fit(pixel(x_train),y_train,epochs = 5)"
   ]
  },
  {
   "cell_type": "code",
   "execution_count": 146,
   "metadata": {},
   "outputs": [
    {
     "name": "stdout",
     "output_type": "stream",
     "text": [
      "313/313 [==============================] - 3s 10ms/step - loss: 0.0442 - accuracy: 0.9871\n"
     ]
    },
    {
     "data": {
      "text/plain": [
       "[0.04421951621770859, 0.9871000051498413]"
      ]
     },
     "execution_count": 146,
     "metadata": {},
     "output_type": "execute_result"
    }
   ],
   "source": [
    "model_4.evaluate(x_test,y_test)"
   ]
  },
  {
   "cell_type": "markdown",
   "metadata": {},
   "source": [
    "Zmiana jednego piksela praktycznie nie wpływa na wyniki, choć wynik na zbiorze testowym uległ pogorszeniu o niecały punkt procentowy."
   ]
  },
  {
   "cell_type": "markdown",
   "metadata": {},
   "source": [
    "## Perturbacja wag w określonej warstwie\n",
    "Na początku ustawmy ręcznie wagi dla określonej warstwy jako stałe arbitralne wartości i sprawdźmy reakcje sieci neuronowej. "
   ]
  },
  {
   "cell_type": "code",
   "execution_count": 67,
   "metadata": {},
   "outputs": [],
   "source": [
    "model_5 = tf.keras.models.clone_model(model)"
   ]
  },
  {
   "cell_type": "code",
   "execution_count": 135,
   "metadata": {},
   "outputs": [
    {
     "data": {
      "text/plain": [
       "[array([[[[-1.21045232e-01, -5.36748469e-02,  1.29365474e-01,\n",
       "           -1.40081584e-01, -1.33318409e-01, -1.14914879e-01,\n",
       "            8.26455653e-02,  6.58971369e-02, -1.38035119e-02,\n",
       "            1.41302943e-01, -3.43335792e-02,  1.49601430e-01,\n",
       "           -1.06349736e-01, -8.01233202e-02,  4.46631312e-02,\n",
       "            1.14324927e-01,  4.58939373e-02,  1.15494847e-01,\n",
       "            3.81925404e-02, -1.34445921e-01,  1.32089347e-01,\n",
       "            6.89441860e-02, -1.15234286e-01, -4.10872176e-02,\n",
       "            1.42128170e-02, -2.59790123e-02, -5.51417470e-03,\n",
       "           -5.88330999e-02, -7.65708759e-02,  9.02570337e-02,\n",
       "           -8.76188949e-02,  1.17958426e-01,  3.31192166e-02,\n",
       "            5.61189651e-02, -1.31852254e-01, -1.18892811e-01,\n",
       "            1.02808088e-01,  1.22224301e-01,  1.16515547e-01,\n",
       "           -1.31595075e-01,  1.28191739e-01, -3.83253098e-02,\n",
       "           -1.20114930e-01,  2.50434130e-02,  1.21600509e-01,\n",
       "            9.08361673e-02, -9.09627900e-02, -6.43680692e-02,\n",
       "           -1.01843223e-01, -5.69193959e-02, -1.14655003e-01,\n",
       "           -3.68447080e-02,  3.20433080e-02,  1.49319798e-01,\n",
       "           -1.21035241e-01,  8.49678516e-02,  1.36435330e-01,\n",
       "           -2.15152055e-02, -6.68578297e-02, -5.01565561e-02,\n",
       "           -1.00154072e-01, -5.38418144e-02,  4.58020568e-02,\n",
       "           -5.30809686e-02]],\n",
       " \n",
       "         [[-5.56274876e-02, -1.24582976e-01,  1.75476968e-02,\n",
       "           -4.07847613e-02,  6.45755678e-02,  5.30411303e-02,\n",
       "           -4.27337438e-02, -6.03274703e-02,  1.50029361e-01,\n",
       "            1.47802532e-02,  3.70315611e-02, -1.14065006e-01,\n",
       "            3.04524899e-02, -1.05533049e-01, -1.50351524e-02,\n",
       "           -8.81295353e-02, -1.09013163e-01,  7.27649033e-02,\n",
       "           -1.13577992e-02, -1.47517070e-01, -2.86333486e-02,\n",
       "           -4.38835695e-02, -6.18334115e-03, -1.08850904e-01,\n",
       "           -4.35005948e-02, -3.63032743e-02, -4.45181504e-02,\n",
       "           -1.28291696e-02, -1.40326202e-01, -7.98249170e-02,\n",
       "            2.49019861e-02,  1.88291073e-02, -8.87662172e-05,\n",
       "            5.71456552e-03,  1.51126653e-01,  2.20759362e-02,\n",
       "            1.24177188e-01,  7.04487711e-02,  7.35895634e-02,\n",
       "            1.94945037e-02,  8.27202201e-03, -5.51310033e-02,\n",
       "           -1.51797071e-01, -6.27619252e-02, -3.08348089e-02,\n",
       "           -9.55318809e-02, -2.45961994e-02, -3.73803750e-02,\n",
       "           -1.07714266e-01, -3.13134342e-02,  1.29298776e-01,\n",
       "            1.29732937e-01, -1.62471980e-02,  1.37650520e-02,\n",
       "           -3.29439491e-02,  1.08932018e-01, -4.78491187e-03,\n",
       "           -1.20439991e-01,  4.91562486e-03, -7.12295696e-02,\n",
       "           -6.64932504e-02, -5.55343926e-03,  5.16914874e-02,\n",
       "            1.46321952e-02]]],\n",
       " \n",
       " \n",
       "        [[[-1.21669240e-01,  1.46772444e-01, -1.51584387e-01,\n",
       "           -1.19579621e-01,  6.18394464e-02, -2.17398703e-02,\n",
       "           -2.58857161e-02,  1.39234513e-01, -2.77601928e-02,\n",
       "           -3.04630250e-02, -1.51711553e-02, -1.08527146e-01,\n",
       "           -1.41296983e-02,  2.64629722e-03, -3.61990407e-02,\n",
       "            8.43080282e-02, -8.00488517e-02,  1.04718596e-01,\n",
       "           -4.73882407e-02,  7.50272870e-02, -6.99207187e-03,\n",
       "           -1.09546296e-01,  1.49647713e-01, -1.25250697e-01,\n",
       "            2.18013972e-02,  1.13429606e-01,  1.49645925e-01,\n",
       "            1.59268528e-02, -9.35433134e-02, -1.19500160e-01,\n",
       "           -1.46971837e-01, -8.96256119e-02, -2.47784108e-02,\n",
       "            1.29558444e-01, -1.47427723e-01,  3.77465039e-02,\n",
       "            7.50012100e-02,  1.16382331e-01,  1.12726092e-02,\n",
       "            7.99832642e-02, -3.32536921e-02,  6.79967850e-02,\n",
       "            1.47848934e-01,  4.83508408e-03,  1.41692400e-01,\n",
       "           -1.31014854e-01, -9.88852382e-02,  3.72228622e-02,\n",
       "           -7.64229968e-02,  8.80558640e-02,  7.34870285e-02,\n",
       "           -1.14582822e-01,  8.80863667e-02,  1.23273194e-01,\n",
       "            1.13548905e-01, -1.50380090e-01, -4.76218089e-02,\n",
       "           -3.45710590e-02,  1.17008835e-01, -6.18292689e-02,\n",
       "           -7.29800761e-02, -8.30781907e-02,  1.13641262e-01,\n",
       "            1.39961928e-01]],\n",
       " \n",
       "         [[ 2.44365484e-02, -1.35671914e-01,  9.66695100e-02,\n",
       "           -1.07830778e-01,  1.34133011e-01, -7.27483481e-02,\n",
       "            4.51057553e-02,  6.26145899e-02,  1.09445512e-01,\n",
       "           -1.32085904e-01,  1.20994300e-01,  5.78132272e-02,\n",
       "           -6.97809756e-02,  5.40361255e-02, -1.29021898e-01,\n",
       "           -4.56164703e-02,  8.38574618e-02,  1.09200418e-01,\n",
       "           -9.50253308e-02,  4.96361703e-02,  6.57180697e-02,\n",
       "           -6.58800378e-02,  1.22351021e-01, -1.35581478e-01,\n",
       "            1.11496985e-01,  1.50382817e-01,  1.48885578e-01,\n",
       "            5.61077744e-02, -5.28082475e-02, -1.34445742e-01,\n",
       "           -6.28463849e-02,  8.86003077e-02,  8.00743550e-02,\n",
       "           -1.10521987e-01, -1.23438835e-02, -8.28901827e-02,\n",
       "           -4.78796512e-02,  1.92281902e-02, -9.03353095e-04,\n",
       "           -1.45978183e-01, -5.75883463e-02,  5.43201417e-02,\n",
       "           -1.10435933e-02, -4.24485207e-02,  1.28254324e-01,\n",
       "            4.90906835e-03, -1.02734059e-01,  1.15405917e-01,\n",
       "           -1.40183032e-01, -9.88949835e-02, -1.05736271e-01,\n",
       "            5.79480380e-02, -2.07005739e-02, -1.07934430e-01,\n",
       "           -1.20057419e-01,  1.37526482e-01,  9.29107666e-02,\n",
       "           -4.87494320e-02,  3.96890789e-02, -6.05243221e-02,\n",
       "           -5.02382964e-02, -6.30725324e-02,  1.10591501e-01,\n",
       "            1.04820192e-01]]]], dtype=float32),\n",
       " array([0., 0., 0., 0., 0., 0., 0., 0., 0., 0., 0., 0., 0., 0., 0., 0., 0.,\n",
       "        0., 0., 0., 0., 0., 0., 0., 0., 0., 0., 0., 0., 0., 0., 0., 0., 0.,\n",
       "        0., 0., 0., 0., 0., 0., 0., 0., 0., 0., 0., 0., 0., 0., 0., 0., 0.,\n",
       "        0., 0., 0., 0., 0., 0., 0., 0., 0., 0., 0., 0., 0.], dtype=float32)]"
      ]
     },
     "execution_count": 135,
     "metadata": {},
     "output_type": "execute_result"
    }
   ],
   "source": [
    "## Wagi w naszej warstwie zostały zainicjalizowane losowo\n",
    "model_5.layers[0].get_weights()"
   ]
  },
  {
   "cell_type": "code",
   "execution_count": 68,
   "metadata": {},
   "outputs": [],
   "source": [
    "weights_start_CNN = model_5.layers[0].get_weights()\n",
    "weights_start_pooling = model_5.layers[3].get_weights()\n",
    "weights_start_dense = model_5.layers[5].get_weights()"
   ]
  },
  {
   "cell_type": "code",
   "execution_count": 150,
   "metadata": {},
   "outputs": [
    {
     "data": {
      "text/plain": [
       "[<tensorflow.python.keras.layers.convolutional.Conv2D at 0x1b173ce55c0>,\n",
       " <tensorflow.python.keras.layers.pooling.MaxPooling2D at 0x1b16e940198>,\n",
       " <tensorflow.python.keras.layers.convolutional.Conv2D at 0x1b173975978>,\n",
       " <tensorflow.python.keras.layers.pooling.MaxPooling2D at 0x1b16ea36cf8>,\n",
       " <tensorflow.python.keras.layers.core.Flatten at 0x1b16fcea630>,\n",
       " <tensorflow.python.keras.layers.core.Dense at 0x1b16fceada0>,\n",
       " <tensorflow.python.keras.layers.core.Dense at 0x1b173975278>]"
      ]
     },
     "execution_count": 150,
     "metadata": {},
     "output_type": "execute_result"
    }
   ],
   "source": [
    "model_5.layers"
   ]
  },
  {
   "cell_type": "markdown",
   "metadata": {},
   "source": [
    "Przećwiczmy nasz model na oryginalnym zbiorze treningowym, a następnie podmieńmy wagi wyćwiczone z wagami ze stanu początkowego i sprawdźmy nasz model na zbiorze testowym!"
   ]
  },
  {
   "cell_type": "code",
   "execution_count": 69,
   "metadata": {},
   "outputs": [
    {
     "name": "stdout",
     "output_type": "stream",
     "text": [
      "Epoch 1/5\n",
      "1875/1875 [==============================] - 66s 35ms/step - loss: 0.3138 - accuracy: 0.9014\n",
      "Epoch 2/5\n",
      "1875/1875 [==============================] - 66s 35ms/step - loss: 0.0467 - accuracy: 0.9851\n",
      "Epoch 3/5\n",
      "1875/1875 [==============================] - 66s 35ms/step - loss: 0.0321 - accuracy: 0.9898\n",
      "Epoch 4/5\n",
      "1875/1875 [==============================] - 66s 35ms/step - loss: 0.0236 - accuracy: 0.9925\n",
      "Epoch 5/5\n",
      "1875/1875 [==============================] - 66s 35ms/step - loss: 0.0173 - accuracy: 0.9945\n"
     ]
    },
    {
     "data": {
      "text/plain": [
       "<tensorflow.python.keras.callbacks.History at 0x21f775b2358>"
      ]
     },
     "execution_count": 69,
     "metadata": {},
     "output_type": "execute_result"
    }
   ],
   "source": [
    "model_5.compile(optimizer = 'adam', loss = 'sparse_categorical_crossentropy',metrics=['accuracy'])\n",
    "model_5.fit(x_train,y_train,epochs = 5)"
   ]
  },
  {
   "cell_type": "code",
   "execution_count": 70,
   "metadata": {},
   "outputs": [],
   "source": [
    "#Podmiana, ale najpierw zachowajmy model dla dalszych testów (z wagami!!!)\n",
    "model_5_prim = model_5\n",
    "model_5_bis = model_5\n",
    "model_5_ter = model_5\n",
    "model_5_quadr = model_5"
   ]
  },
  {
   "cell_type": "code",
   "execution_count": 158,
   "metadata": {},
   "outputs": [],
   "source": [
    "#Podmianka\n",
    "model_5.layers[0].set_weights(weights_start_CNN)"
   ]
  },
  {
   "cell_type": "code",
   "execution_count": 159,
   "metadata": {},
   "outputs": [
    {
     "name": "stdout",
     "output_type": "stream",
     "text": [
      "313/313 [==============================] - 3s 10ms/step - loss: 1.6734 - accuracy: 0.4731\n"
     ]
    },
    {
     "data": {
      "text/plain": [
       "[1.673365831375122, 0.4731000065803528]"
      ]
     },
     "execution_count": 159,
     "metadata": {},
     "output_type": "execute_result"
    }
   ],
   "source": [
    "model_5.evaluate(x_test,y_test)"
   ]
  },
  {
   "cell_type": "markdown",
   "metadata": {},
   "source": [
    "Jak widzimy w powyższym przykładzie, podmiana wag w warstwie CNN zaskutkowało spadkiem o 50 punktów procentowych accuracy naszego modelu, tudzież początkowa warstwa CNN ma duże znaczenie w ustalaniu następnych wag i końcowego wyniku!"
   ]
  },
  {
   "cell_type": "markdown",
   "metadata": {},
   "source": [
    "Teraz sprawdźmy osobno podmienienie dla innych warstw, a na końcu dla wszystkich jednocześnie (choć zakładam, iż skutek będzie katastrofalny)"
   ]
  },
  {
   "cell_type": "code",
   "execution_count": 164,
   "metadata": {},
   "outputs": [],
   "source": [
    "model_5_prim.layers[3].set_weights(weights_start_pooling)"
   ]
  },
  {
   "cell_type": "code",
   "execution_count": 165,
   "metadata": {},
   "outputs": [
    {
     "name": "stdout",
     "output_type": "stream",
     "text": [
      "313/313 [==============================] - 4s 11ms/step - loss: 1.6734 - accuracy: 0.4731\n"
     ]
    },
    {
     "data": {
      "text/plain": [
       "[1.673365831375122, 0.4731000065803528]"
      ]
     },
     "execution_count": 165,
     "metadata": {},
     "output_type": "execute_result"
    }
   ],
   "source": [
    "model_5_prim.evaluate(x_test,y_test)"
   ]
  },
  {
   "cell_type": "markdown",
   "metadata": {},
   "source": [
    "Skutek podobny co dla warstwy konwolucji."
   ]
  },
  {
   "cell_type": "code",
   "execution_count": 166,
   "metadata": {},
   "outputs": [],
   "source": [
    "model_5_bis.layers[5].set_weights(weights_start_dense)"
   ]
  },
  {
   "cell_type": "code",
   "execution_count": 167,
   "metadata": {},
   "outputs": [
    {
     "name": "stdout",
     "output_type": "stream",
     "text": [
      "313/313 [==============================] - 3s 10ms/step - loss: 2.3132 - accuracy: 0.1376\n"
     ]
    },
    {
     "data": {
      "text/plain": [
       "[2.3131885528564453, 0.13760000467300415]"
      ]
     },
     "execution_count": 167,
     "metadata": {},
     "output_type": "execute_result"
    }
   ],
   "source": [
    "model_5_bis.evaluate(x_test,y_test)"
   ]
  },
  {
   "cell_type": "markdown",
   "metadata": {},
   "source": [
    "Dla zresetowanych wag w warstwie Dense, zmiana była najbardziej dotkliwa z pośród wszystkich poprzednich.  \n",
    "Jednakże co się stanie dla zresetowania wszystkich trzech?"
   ]
  },
  {
   "cell_type": "code",
   "execution_count": 175,
   "metadata": {},
   "outputs": [],
   "source": [
    "model_5_ter.layers[0].set_weights(weights_start_CNN)\n",
    "model_5_ter.layers[3].set_weights(weights_start_pooling)\n",
    "model_5_ter.layers[5].set_weights(weights_start_dense)"
   ]
  },
  {
   "cell_type": "code",
   "execution_count": 173,
   "metadata": {},
   "outputs": [
    {
     "name": "stdout",
     "output_type": "stream",
     "text": [
      "313/313 [==============================] - 3s 10ms/step - loss: 2.3132 - accuracy: 0.1376\n"
     ]
    },
    {
     "data": {
      "text/plain": [
       "[2.3131885528564453, 0.13760000467300415]"
      ]
     },
     "execution_count": 173,
     "metadata": {},
     "output_type": "execute_result"
    }
   ],
   "source": [
    "model_5_ter.evaluate(x_test,y_test)"
   ]
  },
  {
   "cell_type": "markdown",
   "metadata": {},
   "source": [
    "### Procentowe odchylenie dla wag\n",
    "Dokonaliśmy już \"hard resetu\" dla wag, jednakże co jeżeli zastosujemy (jak narazie) stałe odchylenie dla wag w postaci odchylenia w skali 10% wartości wag w dół lub górę, zobaczmy jak systematyczne odchylenie wpływa na dane? Sprawdźmy to!  \n",
    "Dopowiedzieć muszę jeszcze, iż przy implementacji tego \"problemu\" również posługiwałem się informacjami zawartymi w tym artykule : https://www.intechopen.com/books/artificial-neural-networks-models-and-applications/advanced-methods-in-neural-networks-based-sensitivity-analysis-with-their-applications-in-civil-engi"
   ]
  },
  {
   "cell_type": "markdown",
   "metadata": {},
   "source": [
    "Zdefiniujmy funkcje pomocniczą do modyfikacji naszych wag."
   ]
  },
  {
   "cell_type": "code",
   "execution_count": 191,
   "metadata": {},
   "outputs": [],
   "source": [
    "def weights_mod(wages_list,change_val,random = False):\n",
    "    new_wages = wages_list.copy()\n",
    "    if random == True:\n",
    "        rn.seed(7331)\n",
    "        try:\n",
    "            for i in len(new_wages[0]):\n",
    "                a = rn.uniform(-change_val,change_val)\n",
    "                new_wages[0][i] = new_wages[0][i] * (1+a)\n",
    "        except Exception:\n",
    "            pass\n",
    "        try:\n",
    "            for j in len(new_wages[1]):\n",
    "                a = rn.uniform(-change_val,change_val)\n",
    "                new_wages[0][j] = new_wages[0][j] * (1+a)\n",
    "        except Exception:\n",
    "            pass\n",
    "        return new_wages\n",
    "    else:\n",
    "        try:\n",
    "            new_wages[0] = new_wages[0] * (1+change_val)\n",
    "            new_wages[1] = new_wages[1] * (1+change_val)\n",
    "        except Exception:\n",
    "            pass\n",
    "    return new_wages"
   ]
  },
  {
   "cell_type": "markdown",
   "metadata": {},
   "source": [
    "Na początku zajmijmy się wagami warstwy CNN, gdyż jak wiemy z poprzedniego punktu były najbardziej znaczące."
   ]
  },
  {
   "cell_type": "code",
   "execution_count": 84,
   "metadata": {},
   "outputs": [],
   "source": [
    "CNN_weights_mod = weights_mod(model_5.layers[0].get_weights(),0.1)"
   ]
  },
  {
   "cell_type": "code",
   "execution_count": 87,
   "metadata": {},
   "outputs": [
    {
     "name": "stdout",
     "output_type": "stream",
     "text": [
      "313/313 [==============================] - 3s 10ms/step - loss: 0.0403 - accuracy: 0.9882\n"
     ]
    },
    {
     "data": {
      "text/plain": [
       "[0.0403343066573143, 0.9882000088691711]"
      ]
     },
     "execution_count": 87,
     "metadata": {},
     "output_type": "execute_result"
    }
   ],
   "source": [
    "model_5_quadr.layers[0].set_weights(CNN_weights_mod)\n",
    "model_5_quadr.evaluate(x_test,y_test)"
   ]
  },
  {
   "cell_type": "markdown",
   "metadata": {},
   "source": [
    "Jak widzimy 10% zmiana wag pogorszyła nieznacznie wyniki naszej ewaluacji, zobaczmy co się stanie dla bardziej drastycznej zmiany, tudzież 50% wzrostu."
   ]
  },
  {
   "cell_type": "code",
   "execution_count": 94,
   "metadata": {},
   "outputs": [
    {
     "name": "stdout",
     "output_type": "stream",
     "text": [
      "313/313 [==============================] - 3s 10ms/step - loss: 0.1005 - accuracy: 0.9696\n"
     ]
    },
    {
     "data": {
      "text/plain": [
       "[0.10046955943107605, 0.9696000218391418]"
      ]
     },
     "execution_count": 94,
     "metadata": {},
     "output_type": "execute_result"
    }
   ],
   "source": [
    "CNN_weights_mod = weights_mod(weights_start_CNN,0.5)\n",
    "model_5_quadr.layers[0].set_weights(CNN_weights_mod)\n",
    "model_5_quadr.evaluate(x_test,y_test)"
   ]
  },
  {
   "cell_type": "markdown",
   "metadata": {},
   "source": [
    "Ponownie nastąpiła zmiana, lecz ogólne wyniki są nadal dość wysokie, dobrze teraz ostatecznie sprawdźmy zmianę dla 10000% zmienionych wag, tym razem w przeciwnym kierunku względem osi OX."
   ]
  },
  {
   "cell_type": "code",
   "execution_count": 95,
   "metadata": {},
   "outputs": [
    {
     "name": "stdout",
     "output_type": "stream",
     "text": [
      "313/313 [==============================] - 3s 10ms/step - loss: 1406.9655 - accuracy: 0.2641: 0s - loss: 1397.3093 - accurac\n"
     ]
    },
    {
     "data": {
      "text/plain": [
       "[1406.9654541015625, 0.26409998536109924]"
      ]
     },
     "execution_count": 95,
     "metadata": {},
     "output_type": "execute_result"
    }
   ],
   "source": [
    "CNN_weights_mod = weights_mod(weights_start_CNN,-1001)\n",
    "model_5_quadr.layers[0].set_weights(CNN_weights_mod)\n",
    "model_5_quadr.evaluate(x_test,y_test)"
   ]
  },
  {
   "cell_type": "markdown",
   "metadata": {},
   "source": [
    "Trafiony, zatopiony, dopiero dla tak drastycznej zmiany nasz model wreszcie uległ, chociaż dla identycznego dodatniego ochylenia nadal radził sobie bardzo dobrze, jak pokazano poniżej, jednakże w ogólności okazał się dość odporny na ustandaryzowany błąd, co będzie gdy błąd ten nie będzie ustandaryzowany a losowy, przykonajmy się!"
   ]
  },
  {
   "cell_type": "code",
   "execution_count": 96,
   "metadata": {},
   "outputs": [
    {
     "name": "stdout",
     "output_type": "stream",
     "text": [
      "313/313 [==============================] - 3s 10ms/step - loss: 63.8142 - accuracy: 0.9651\n"
     ]
    },
    {
     "data": {
      "text/plain": [
       "[63.81422424316406, 0.9650999903678894]"
      ]
     },
     "execution_count": 96,
     "metadata": {},
     "output_type": "execute_result"
    }
   ],
   "source": [
    "CNN_weights_mod = weights_mod(weights_start_CNN,999)\n",
    "model_5_quadr.layers[0].set_weights(CNN_weights_mod)\n",
    "model_5_quadr.evaluate(x_test,y_test)"
   ]
  },
  {
   "cell_type": "markdown",
   "metadata": {},
   "source": [
    "### Losowa zmiana wag\n",
    "Dokonajmy identycznego \"ataku\", tym razem każda wartość wag we warstwie ulegnie innej zmianie z podanego zakresu, znowu przyjrzymy się wyłącznie warstwie CNN w celach zwięzłości poniższej pracy domowej oraz z faktu, iż ów warstwa najwięcej \"znaczy\" w naszym modelu."
   ]
  },
  {
   "cell_type": "code",
   "execution_count": 164,
   "metadata": {},
   "outputs": [],
   "source": [
    "model_6 = model\n",
    "CNN_weights_mod = weights_mod(model_5.layers[0].get_weights(),0.1,random = True)"
   ]
  },
  {
   "cell_type": "code",
   "execution_count": 165,
   "metadata": {},
   "outputs": [],
   "source": [
    "model_6.compile(optimizer = 'adam', loss = 'sparse_categorical_crossentropy',metrics=['accuracy'])"
   ]
  },
  {
   "cell_type": "code",
   "execution_count": 166,
   "metadata": {},
   "outputs": [
    {
     "name": "stdout",
     "output_type": "stream",
     "text": [
      "313/313 [==============================] - 3s 10ms/step - loss: 1254.5720 - accuracy: 0.3628\n"
     ]
    },
    {
     "data": {
      "text/plain": [
       "[1296.724853515625, 0.35260000824928284]"
      ]
     },
     "execution_count": 166,
     "metadata": {},
     "output_type": "execute_result"
    }
   ],
   "source": [
    "model_6.layers[0].set_weights(CNN_weights_mod)\n",
    "model_6.evaluate(x_test,y_test)"
   ]
  },
  {
   "cell_type": "markdown",
   "metadata": {},
   "source": [
    "Tak jak wewnętrznie przypuszczałem, losowe zmiany mają katastrofalne skutki jeżeli chodzi o accuracy w przeciwieństwie do uporządkowanych, choć nasz model i tak trafiał lepiej niż wskazywałoby to prawdopodobieństwo. No dobrze, a co będzie dla drastyczniejszej zmiany niż tylko 10%, np. 200%?"
   ]
  },
  {
   "cell_type": "code",
   "execution_count": 167,
   "metadata": {},
   "outputs": [
    {
     "name": "stdout",
     "output_type": "stream",
     "text": [
      "313/313 [==============================] - 3s 10ms/step - loss: 1296.7249 - accuracy: 0.3526\n"
     ]
    },
    {
     "data": {
      "text/plain": [
       "[1296.724853515625, 0.35260000824928284]"
      ]
     },
     "execution_count": 167,
     "metadata": {},
     "output_type": "execute_result"
    }
   ],
   "source": [
    "CNN_weights_mod = weights_mod(model_5.layers[0].get_weights(),1,random = True)\n",
    "model_6.layers[0].set_weights(CNN_weights_mod)\n",
    "model_6.evaluate(x_test,y_test)"
   ]
  },
  {
   "cell_type": "markdown",
   "metadata": {},
   "source": [
    "Nie było już znacznych zmian w funkcjonowaniu modelu, już poprzednio został zneutralizowany toteż ciężko by było jeszcze bardziej dogłębnie pogorszyć ten wynik."
   ]
  },
  {
   "cell_type": "markdown",
   "metadata": {},
   "source": [
    "## Perturbacja we wszystkich warstwach modelu\n",
    "Dotarliśmy do ostatniego punktu naszej analizy, mianowicie zmieńmy globalnie wszystkie wagi w pewnym stopniu, jak domyślamy się losowa zmiana wag prawdopowodnie całkowicie zneutralizuje model, dlatego zacznijmy od zmian wag w sposób standardowy, z pewnym przesunięciem."
   ]
  },
  {
   "cell_type": "code",
   "execution_count": 168,
   "metadata": {},
   "outputs": [],
   "source": [
    "model_7 = model"
   ]
  },
  {
   "cell_type": "code",
   "execution_count": 169,
   "metadata": {},
   "outputs": [],
   "source": [
    "for i in range(len(model_7.layers)):\n",
    "    weights_modified = weights_mod(model_5.layers[i].get_weights(),0.1)\n",
    "    model_7.layers[i].set_weights(weights_modified)"
   ]
  },
  {
   "cell_type": "code",
   "execution_count": 170,
   "metadata": {},
   "outputs": [
    {
     "name": "stdout",
     "output_type": "stream",
     "text": [
      "313/313 [==============================] - 3s 10ms/step - loss: 93.7770 - accuracy: 0.9631\n"
     ]
    },
    {
     "data": {
      "text/plain": [
       "[93.43367767333984, 0.9650999903678894]"
      ]
     },
     "execution_count": 170,
     "metadata": {},
     "output_type": "execute_result"
    }
   ],
   "source": [
    "model_7.compile(optimizer = 'adam', loss = 'sparse_categorical_crossentropy',metrics=['accuracy'])\n",
    "model_7.evaluate(x_test,y_test)"
   ]
  },
  {
   "cell_type": "markdown",
   "metadata": {},
   "source": [
    "Teraz może bardziej drastyczna zmiana, lecz ciągle przesunięta w pewnym kierunku?"
   ]
  },
  {
   "cell_type": "code",
   "execution_count": 171,
   "metadata": {},
   "outputs": [
    {
     "name": "stdout",
     "output_type": "stream",
     "text": [
      "313/313 [==============================] - 3s 10ms/step - loss: 938018.4112 - accuracy: 0.9631\n"
     ]
    },
    {
     "data": {
      "text/plain": [
       "[934629.8125, 0.9652000069618225]"
      ]
     },
     "execution_count": 171,
     "metadata": {},
     "output_type": "execute_result"
    }
   ],
   "source": [
    "model_8 = model\n",
    "for i in range(len(model_8.layers)):\n",
    "    weights_modified = weights_mod(model_5.layers[i].get_weights(),10)\n",
    "    model_8.layers[i].set_weights(weights_modified)\n",
    "model_8.compile(optimizer = 'adam', loss = 'sparse_categorical_crossentropy',metrics=['accuracy'])\n",
    "model_8.evaluate(x_test,y_test)"
   ]
  },
  {
   "cell_type": "markdown",
   "metadata": {},
   "source": [
    "Jak widać skalowanie przez pewną liczbę wag praktycznie nie zmienia wyniku naszego modelu, lecz przypuszczam, iż przeskalowanie przez liczbę o przeciwnym znaku zakłóci nasz wynik, sprawdźmy to."
   ]
  },
  {
   "cell_type": "code",
   "execution_count": 172,
   "metadata": {},
   "outputs": [
    {
     "name": "stdout",
     "output_type": "stream",
     "text": [
      "313/313 [==============================] - 4s 11ms/step - loss: 391085049.3758 - accuracy: 0.2077\n"
     ]
    },
    {
     "data": {
      "text/plain": [
       "[402218624.0, 0.19059999287128448]"
      ]
     },
     "execution_count": 172,
     "metadata": {},
     "output_type": "execute_result"
    }
   ],
   "source": [
    "model_9 = model\n",
    "for i in range(len(model_9.layers)):\n",
    "    weights_modified = weights_mod(model_5.layers[i].get_weights(),-11)\n",
    "    model_9.layers[i].set_weights(weights_modified)\n",
    "model_9.compile(optimizer = 'adam', loss = 'sparse_categorical_crossentropy',metrics=['accuracy'])\n",
    "model_9.evaluate(x_test,y_test)"
   ]
  },
  {
   "cell_type": "markdown",
   "metadata": {},
   "source": [
    "Przypuszczenie było prawidłowe i nasz model został zatopiony, chociaż nadal był lepszy niż całkowite zgadywanie."
   ]
  },
  {
   "cell_type": "markdown",
   "metadata": {},
   "source": [
    "Jeżeli chodzi o przypadek losowej inicjalizacji w obrębie całej sieci neuronowej to byłoby to równoznaczne z zresetowaniem wszystkich wag, zatem nie będę analizować takiego przypadku, gdyż wiadomo, iż zneutralizuje całkowicie nasz model."
   ]
  },
  {
   "cell_type": "markdown",
   "metadata": {},
   "source": [
    "## Wnioski\n",
    "Nasza siec okazała się być dość odporna na perturbacje danych wejściowych, czego możnabyło się spodziewać, gdyż zbiór MNIST nie jest dość wymagającym zbiorem pod względem powłok i różnorodności wartości pikseli, zatem nawet dość zmodyfikowane obrazy okazały się być rozróżnialne przez model.  \n",
    "W przypadku zmiany wag w pewnych warstwach, to najważniejszymi wagami okazały się te z pierwszej warstwy konwolucyjnej. Dokonanie całkowitej losowej zmiany, bądź resetu, w obrębie tej warstwy znacząco obniżało accuracy naszego modelu (o około 80 punktów procentowych). Jednakże stała zmiana dla wszystkich wag, tudzież przeskalowanie ich przez pewną liczbę. Takie zmiany powodowały pewne \"przesunięcie\" od optimum, lecz modele nadal operowały z dużą accuacy.  \n",
    "W przypadku zmiany stałej dla wszystkich warstw, błąd okzywał się jeszcze mniejszy, tudzież dokonanie takiego przesunięcia dla wszystkich warstw nie dokonuje zmian dla modelu, chociaż w tym przypadku zależy to także od funkcji optymalizacyjnej.  \n",
    "Losowa perturbacja dla każdej osobnej wagi w obrębie całej sieci, wiązałoby się z jej resetem, zatem zneutralizowałoby to naszą sieć."
   ]
  }
 ],
 "metadata": {
  "kernelspec": {
   "display_name": "Python 3",
   "language": "python",
   "name": "python3"
  },
  "language_info": {
   "codemirror_mode": {
    "name": "ipython",
    "version": 3
   },
   "file_extension": ".py",
   "mimetype": "text/x-python",
   "name": "python",
   "nbconvert_exporter": "python",
   "pygments_lexer": "ipython3",
   "version": "3.7.3"
  }
 },
 "nbformat": 4,
 "nbformat_minor": 2
}
