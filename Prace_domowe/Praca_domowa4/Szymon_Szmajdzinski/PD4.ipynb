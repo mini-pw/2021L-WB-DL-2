{
  "nbformat": 4,
  "nbformat_minor": 0,
  "metadata": {
    "colab": {
      "name": "PD4.ipynb",
      "provenance": []
    },
    "kernelspec": {
      "name": "python3",
      "display_name": "Python 3"
    },
    "language_info": {
      "name": "python"
    },
    "accelerator": "GPU"
  },
  "cells": [
    {
      "cell_type": "markdown",
      "metadata": {
        "id": "U1UjZ6DbIM49"
      },
      "source": [
        "# Pd 4\n",
        "\n",
        "Tematem tej pracy domowej jest zbadanie wrażliwości sieci na perturbacje\n",
        "# Wrażliwośc sieci \n",
        "Wrażliwość sieci oznacza wpływ małych zmian w modelu na wyniki predykcji. W naszym przypadku badanie wrażliwości sieci sprowadza się do przeprowadzenia perturbacji w obrębie danych wejściowych, wag w pojedyńczej warstwie, oraz wag w całym modelu. Sprawdzimy jak wpłyną one na wyniki naszej sieci.\n",
        "\n",
        "Źródło:[Hai Shu, Hongtu Zhu, Sensitivity Analysis of Deep Neural Networks, AAAI Conference on Artificial Intelligence](https://arxiv.org/abs/1901.07152)"
      ]
    },
    {
      "cell_type": "markdown",
      "metadata": {
        "id": "PGOmv4KIuZA3"
      },
      "source": [
        ""
      ]
    },
    {
      "cell_type": "code",
      "metadata": {
        "id": "1EMtG6UHfMGJ"
      },
      "source": [
        "import matplotlib.pyplot as plt\n",
        "import numpy as np\n",
        "from tensorflow import keras\n",
        "from keras.models import Sequential\n",
        "from keras.layers import Dense\n",
        "from keras.layers import Dropout\n",
        "from keras.layers import Flatten\n",
        "from keras.constraints import maxnorm\n",
        "from keras.optimizers import SGD\n",
        "from keras.layers import Activation\n",
        "from keras.layers.convolutional import Conv2D\n",
        "from keras.layers.convolutional import MaxPooling2D\n",
        "from keras.layers.normalization import BatchNormalization\n",
        "from keras.utils import np_utils\n",
        "from matplotlib import pyplot\n",
        "import copy"
      ],
      "execution_count": 1,
      "outputs": []
    },
    {
      "cell_type": "markdown",
      "metadata": {
        "id": "fMVW9fefIZiU"
      },
      "source": [
        "## Zbiór danych \n",
        "\n",
        "Jako zbiór danych i bazowy model użyje danych i modelu z ostatniej pracy domowej. Będziemy mieć więc do czynienia ze zbiorem MNIST.\n",
        "źródło kodu: https://keras.io/examples/vision/mnist_convnet/"
      ]
    },
    {
      "cell_type": "code",
      "metadata": {
        "colab": {
          "base_uri": "https://localhost:8080/"
        },
        "id": "HfbseOv6esPb",
        "outputId": "5c55ba2b-52dc-4c14-c03d-169ff70a13ce"
      },
      "source": [
        "batch_size = 32\n",
        "epochs = 20\n",
        "num_classes = 10\n",
        "input_shape = (28, 28, 1)\n",
        "\n",
        "(x_train, y_train), (x_test, y_test) = keras.datasets.mnist.load_data()\n",
        "x_train = x_train.astype(\"float32\") / 255\n",
        "x_test = x_test.astype(\"float32\") / 255\n",
        "x_train = np.expand_dims(x_train, -1)\n",
        "x_test = np.expand_dims(x_test, -1)\n",
        "print(\"x_train shape:\", x_train.shape)\n",
        "print(x_train.shape[0], \"train samples\")\n",
        "print(x_test.shape[0], \"test samples\")\n",
        "# convert class vectors to binary class matrices\n",
        "y_train = keras.utils.to_categorical(y_train, num_classes)\n",
        "y_test = keras.utils.to_categorical(y_test, num_classes)"
      ],
      "execution_count": 2,
      "outputs": [
        {
          "output_type": "stream",
          "text": [
            "x_train shape: (60000, 28, 28, 1)\n",
            "60000 train samples\n",
            "10000 test samples\n"
          ],
          "name": "stdout"
        }
      ]
    },
    {
      "cell_type": "code",
      "metadata": {
        "id": "btHBhZ_f9iW2"
      },
      "source": [
        "def draw(k, im):\n",
        "  for i in range(k):\n",
        "    pyplot.subplot(330 + 1 + i)\n",
        "    x = im[:, :, :, 0]\n",
        "    pyplot.imshow(x[i], cmap=pyplot.get_cmap('gray'))\n",
        "  # show the figure\n",
        "  pyplot.show()"
      ],
      "execution_count": 3,
      "outputs": []
    },
    {
      "cell_type": "code",
      "metadata": {
        "id": "ps9cjVO5e1fy",
        "colab": {
          "base_uri": "https://localhost:8080/"
        },
        "outputId": "d4dbb7c1-0d2c-4683-b7d7-880256e4e93c"
      },
      "source": [
        "def base_model():\n",
        "    model = Sequential()\n",
        "\n",
        "    model.add(Conv2D(32, (3, 3), padding='same', activation='relu', input_shape=x_train.shape[1:]))\n",
        "    model.add(MaxPooling2D(pool_size=(2, 2)))\n",
        "    model.add(Conv2D(64,(3,3),padding='same',activation='relu'))\n",
        "    model.add(MaxPooling2D(pool_size=(2,2)))\n",
        "    model.add(Flatten())\n",
        "    model.add(Dropout(0.2))\n",
        "    model.add(Dense(32,activation='relu',kernel_constraint=maxnorm(3)))\n",
        "    model.add(Dropout(0.2))\n",
        "    model.add(Dense(num_classes, activation='softmax'))\n",
        "\n",
        "    model.compile(loss='categorical_crossentropy', optimizer=\"adam\", metrics=['accuracy'])\n",
        "    return model\n",
        "cnn_n = base_model()\n",
        "cnn_n.summary()"
      ],
      "execution_count": 4,
      "outputs": [
        {
          "output_type": "stream",
          "text": [
            "Model: \"sequential\"\n",
            "_________________________________________________________________\n",
            "Layer (type)                 Output Shape              Param #   \n",
            "=================================================================\n",
            "conv2d (Conv2D)              (None, 28, 28, 32)        320       \n",
            "_________________________________________________________________\n",
            "max_pooling2d (MaxPooling2D) (None, 14, 14, 32)        0         \n",
            "_________________________________________________________________\n",
            "conv2d_1 (Conv2D)            (None, 14, 14, 64)        18496     \n",
            "_________________________________________________________________\n",
            "max_pooling2d_1 (MaxPooling2 (None, 7, 7, 64)          0         \n",
            "_________________________________________________________________\n",
            "flatten (Flatten)            (None, 3136)              0         \n",
            "_________________________________________________________________\n",
            "dropout (Dropout)            (None, 3136)              0         \n",
            "_________________________________________________________________\n",
            "dense (Dense)                (None, 32)                100384    \n",
            "_________________________________________________________________\n",
            "dropout_1 (Dropout)          (None, 32)                0         \n",
            "_________________________________________________________________\n",
            "dense_1 (Dense)              (None, 10)                330       \n",
            "=================================================================\n",
            "Total params: 119,530\n",
            "Trainable params: 119,530\n",
            "Non-trainable params: 0\n",
            "_________________________________________________________________\n"
          ],
          "name": "stdout"
        }
      ]
    },
    {
      "cell_type": "markdown",
      "metadata": {
        "id": "Xw9aw4XDlFz_"
      },
      "source": [
        "Tak wyglądają metryki dla naszego modelu. Zobaczymy jaki wpływ na nie będą miały zmiany w danych wejściowych i wagach."
      ]
    },
    {
      "cell_type": "code",
      "metadata": {
        "id": "YuH7YHpJfXqt",
        "colab": {
          "base_uri": "https://localhost:8080/"
        },
        "outputId": "ce0f163d-970d-4c58-f07a-5f426b23e2d3"
      },
      "source": [
        "cnn = cnn_n.fit(x_train, y_train, batch_size=batch_size, epochs=epochs, validation_data=(x_test,y_test),shuffle=True, verbose=0)\n",
        "score = cnn_n.evaluate(x_test, y_test, verbose=0)\n",
        "print(\"Test loss:\", score[0])\n",
        "print(\"Test accuracy:\", score[1])"
      ],
      "execution_count": 5,
      "outputs": [
        {
          "output_type": "stream",
          "text": [
            "Test loss: 0.0250687338411808\n",
            "Test accuracy: 0.9922999739646912\n"
          ],
          "name": "stdout"
        }
      ]
    },
    {
      "cell_type": "markdown",
      "metadata": {
        "id": "_2WHX5q27ynq"
      },
      "source": [
        "## Perturbacje zbioru danych \n",
        "Zgodnie z treścią artukułu do iryginalnych danych dodaje wektor perturbacji. Jest to po prostu losowa macierz o wartościach z przedziału [0,1]. Dodatkowo wprowadziłem dzielnik, czyli po prostu wartość przez którą dziele macierz perturbacji. Im większy dzielnik tym mniejszy szum.\n",
        "\n",
        "Poniżej narysowane są przykłądowe obrazki z różnym natężeniem szumu."
      ]
    },
    {
      "cell_type": "code",
      "metadata": {
        "colab": {
          "base_uri": "https://localhost:8080/",
          "height": 409
        },
        "id": "pNzX63GSvemZ",
        "outputId": "f02f0219-54ba-4488-b613-357466bc5b30"
      },
      "source": [
        "delta_x_test5 = x_test + np.random.rand(10000, 28, 28, 1) / 5\n",
        "delta_x_test2 = x_test + np.random.rand(10000, 28, 28, 1) / 2\n",
        "delta_x_test1 = x_test + np.random.rand(10000, 28, 28, 1)\n",
        "draw(3, x_test)\n",
        "draw(3, delta_x_test5)\n",
        "draw(3, delta_x_test2)\n",
        "draw(3, delta_x_test1)"
      ],
      "execution_count": 6,
      "outputs": [
        {
          "output_type": "display_data",
          "data": {
            "image/png": "[encoded data removed]",
            "text/plain": [
              "<Figure size 432x288 with 3 Axes>"
            ]
          },
          "metadata": {
            "tags": [],
            "needs_background": "light"
          }
        },
        {
          "output_type": "display_data",
          "data": {
            "image/png": "[encoded data removed]",
            "text/plain": [
              "<Figure size 432x288 with 3 Axes>"
            ]
          },
          "metadata": {
            "tags": [],
            "needs_background": "light"
          }
        },
        {
          "output_type": "display_data",
          "data": {
            "image/png": "[encoded data removed]",
            "text/plain": [
              "<Figure size 432x288 with 3 Axes>"
            ]
          },
          "metadata": {
            "tags": [],
            "needs_background": "light"
          }
        },
        {
          "output_type": "display_data",
          "data": {
            "image/png": "[encoded data removed]",
            "text/plain": [
              "<Figure size 432x288 with 3 Axes>"
            ]
          },
          "metadata": {
            "tags": [],
            "needs_background": "light"
          }
        }
      ]
    },
    {
      "cell_type": "code",
      "metadata": {
        "id": "_EXn5E8DDf3a"
      },
      "source": [
        "def check_score(x, y, k, dzielnik):\n",
        "  acc = []\n",
        "  loss = []\n",
        "  for i in range(k):\n",
        "    # tworzymy wektor z szumem i testujemy go na sieci \n",
        "    delta_x = x + np.random.rand(10000, 28, 28, 1) / dzielnik\n",
        "    score = cnn_n.evaluate(delta_x, y_test, verbose=0)\n",
        "    acc.append(score[1])\n",
        "    loss.append(score[0])\n",
        "  print(\"Test average loss:\", sum(loss)/ k, \"standard deviation: \", np.std(loss))\n",
        "  print(\"Test average accuracy:\", sum(acc) / k, \"standard deviation: \", np.std(acc))\n"
      ],
      "execution_count": 7,
      "outputs": []
    },
    {
      "cell_type": "code",
      "metadata": {
        "colab": {
          "base_uri": "https://localhost:8080/"
        },
        "id": "hble5-vvBWnW",
        "outputId": "28433644-bda9-4ea7-ee94-0d3983bda176"
      },
      "source": [
        "print(\"Wynik dla szymu z dzielnikem 1\")\n",
        "check_score(x_test, y_test, 5, 1)\n",
        "print(\"Wynik dla szymu z dzielnikem 1.3\")\n",
        "check_score(x_test, y_test, 5, 1.3)\n",
        "print(\"Wynik dla szymu z dzielnikem 2\")\n",
        "check_score(x_test, y_test, 5, 2)\n",
        "print(\"Wynik dla szymu z dzielnikem 5\")\n",
        "check_score(x_test, y_test, 5, 5)"
      ],
      "execution_count": 8,
      "outputs": [
        {
          "output_type": "stream",
          "text": [
            "Wynik dla szymu z dzielnikem 1\n",
            "Test average loss: 6.5142333030700685 standard deviation:  0.02246220506835774\n",
            "Test average accuracy: 0.22161999940872193 standard deviation:  0.0011142730207613842\n",
            "Wynik dla szymu z dzielnikem 1.3\n",
            "Test average loss: 1.9800097465515136 standard deviation:  0.022178233711441443\n",
            "Test average accuracy: 0.5476400017738342 standard deviation:  0.002627992416462931\n",
            "Wynik dla szymu z dzielnikem 2\n",
            "Test average loss: 0.14363373219966888 standard deviation:  0.0022250853904188725\n",
            "Test average accuracy: 0.9555399894714356 standard deviation:  0.0006280064755932859\n",
            "Wynik dla szymu z dzielnikem 5\n",
            "Test average loss: 0.028990302607417105 standard deviation:  0.0007017476823668545\n",
            "Test average accuracy: 0.9912199974060059 standard deviation:  0.0003709471629349829\n"
          ],
          "name": "stdout"
        }
      ]
    },
    {
      "cell_type": "markdown",
      "metadata": {
        "id": "_FBXZAuboWCW"
      },
      "source": [
        "Sieć mocno pogarsza swoje wyniki, gdy dzielnik jest równy 1, a więc gdy szumy są największe. Wystarczy jednak delikatnie zmniejszyć natężenie szumu i już wynik sieci robi się dużo lepszy. Po zmianie dzielnika z 1 na 1.3 wynik sieci podskoczył z 0.24 na 0.85. Dla wyższych dizlników, czyli dla delikatnych perturbacji sieć prawie nie zmienia swojego wyniku."
      ]
    },
    {
      "cell_type": "markdown",
      "metadata": {
        "id": "I-b4UPe-74Ms"
      },
      "source": [
        "## Perturbacje wag\n",
        "Na początku zmodyfikujemy wagi w poszczególnych warstwach, następnie zobaczymy jak zmienią się wyniki sieci gdy zmienione zostaną wszystkie wagi \n",
        "\n",
        "Zapisujemy oryginalne wagi modelu, aby nie musieć ich od nowa trenować "
      ]
    },
    {
      "cell_type": "code",
      "metadata": {
        "id": "fcTLzU96OWbU"
      },
      "source": [
        "wagi_l1 = copy.deepcopy(cnn_n.layers[0].get_weights()[0])\n",
        "wagi_l2 = copy.deepcopy(cnn_n.layers[2].get_weights()[0])\n",
        "wagi_l3 = copy.deepcopy(cnn_n.layers[6].get_weights()[0])\n",
        "wagi_l4 = copy.deepcopy(cnn_n.layers[8].get_weights()[0])"
      ],
      "execution_count": 9,
      "outputs": []
    },
    {
      "cell_type": "markdown",
      "metadata": {
        "id": "_X8gnkivO66C"
      },
      "source": [
        "### Zmiany w warstwach konwolucyjnych\n",
        "\n",
        "Modyfikując wagi dodajemy do odpowiednich macierzy macierz losową o wartościach z przedziału 0-1. Dodatkowo wprowadziłem dzielnik, czyli wartość przez którą dzielimy całą macierz perturbacji. W zależności od dzielnika szum będzie sie zmieniał. Im większy dzielnik tym mniejszy szum.\n",
        "\n",
        "\n"
      ]
    },
    {
      "cell_type": "code",
      "metadata": {
        "id": "EbRpjOos24Mv"
      },
      "source": [
        "def change_conv(layer, weight,  dzielnki, k):\n",
        "  a, b, c, d = cnn_n.layers[layer].get_weights()[0].shape\n",
        "  for dziel in dzielnki:\n",
        "    acc = []\n",
        "    print(\"Szum z dzielnikem \", dziel)\n",
        "    for i in range(k):\n",
        "      # Tworzymy wektor z szumem \n",
        "      delta_weights = cnn_n.layers[layer].get_weights()[0] + np.random.rand(a, b, c, d) / dziel\n",
        "      cnn_n.layers[layer].set_weights([delta_weights, cnn_n.layers[layer].get_weights()[1]]) \n",
        "\n",
        "      # Testujemy sieć na zmienionych wagach, a następnie ustawiamy znowu włąściwe wagi \n",
        "      score = cnn_n.evaluate(x_test, y_test, verbose=0)\n",
        "      acc.append(score[1])\n",
        "      cnn_n.layers[layer].set_weights([weight, cnn_n.layers[layer].get_weights()[1]])\n",
        "    print(\"Average accuracy: \", sum(acc)/k, \"standard deviation: \", np.std(acc))\n"
      ],
      "execution_count": 10,
      "outputs": []
    },
    {
      "cell_type": "code",
      "metadata": {
        "colab": {
          "base_uri": "https://localhost:8080/"
        },
        "id": "1SnI0qY0f3Sv",
        "outputId": "ab75607c-d6e3-4bb4-83e6-e8347e5404d2"
      },
      "source": [
        "change_conv(0, wagi_l1, [1, 5, 10], 5)"
      ],
      "execution_count": 11,
      "outputs": [
        {
          "output_type": "stream",
          "text": [
            "Szum z dzielnikem  1\n",
            "Average accuracy:  0.25073999762535093 standard deviation:  0.02704407841633448\n",
            "Szum z dzielnikem  5\n",
            "Average accuracy:  0.7562000155448914 standard deviation:  0.021802654076011726\n",
            "Szum z dzielnikem  10\n",
            "Average accuracy:  0.9651399970054626 standard deviation:  0.007883034998619226\n"
          ],
          "name": "stdout"
        }
      ]
    },
    {
      "cell_type": "code",
      "metadata": {
        "colab": {
          "base_uri": "https://localhost:8080/"
        },
        "id": "TXA3eE3Kf2Wa",
        "outputId": "4a283516-f6b1-4b66-b6bf-68dfd19fd6df"
      },
      "source": [
        "change_conv(2, wagi_l2, [1, 5, 10], 5)"
      ],
      "execution_count": 12,
      "outputs": [
        {
          "output_type": "stream",
          "text": [
            "Szum z dzielnikem  1\n",
            "Average accuracy:  0.3570800006389618 standard deviation:  0.009786809785284626\n",
            "Szum z dzielnikem  5\n",
            "Average accuracy:  0.6971799969673157 standard deviation:  0.0033582084302031757\n",
            "Szum z dzielnikem  10\n",
            "Average accuracy:  0.9690999984741211 standard deviation:  0.0014142223289617987\n"
          ],
          "name": "stdout"
        }
      ]
    },
    {
      "cell_type": "markdown",
      "metadata": {
        "id": "wk497gF9mM2S"
      },
      "source": [
        "Szumy w warstwach konwolucyjnych wpłyneły znacząco na wyniki sieci. Druga warstwa wydaje się być bardziej czuła na zmiany. Ma natomiast nieco lepsze wyniki gdy zmiany są niewielkie. "
      ]
    },
    {
      "cell_type": "markdown",
      "metadata": {
        "id": "q87LufF8W2Nt"
      },
      "source": [
        "## Perturbacje dla warstw gęstych "
      ]
    },
    {
      "cell_type": "code",
      "metadata": {
        "id": "uw8EALMnha3L"
      },
      "source": [
        "def change_dense(layer, weight,  dzielnki, k):\n",
        "  a, b = cnn_n.layers[layer].get_weights()[0].shape\n",
        "  for dziel in dzielnki:\n",
        "    acc = []\n",
        "    print(\"Szum z dzielnikem \", dziel)\n",
        "    for i in range(k):\n",
        "      delta_weights = cnn_n.layers[layer].get_weights()[0] + np.random.rand(a, b) / dziel\n",
        "      cnn_n.layers[layer].set_weights([delta_weights, cnn_n.layers[layer].get_weights()[1]]) \n",
        "\n",
        "      score = cnn_n.evaluate(x_test, y_test, verbose=0)\n",
        "      acc.append(score[1])\n",
        "      cnn_n.layers[layer].set_weights([weight, cnn_n.layers[layer].get_weights()[1]])\n",
        "    print(\"Average accuracy: \", sum(acc)/k, \"standard deviation: \", np.std(acc))"
      ],
      "execution_count": 13,
      "outputs": []
    },
    {
      "cell_type": "code",
      "metadata": {
        "colab": {
          "base_uri": "https://localhost:8080/"
        },
        "id": "LMWabW7vhnuL",
        "outputId": "926b4c45-e15e-427c-c3f9-3d078d746ec8"
      },
      "source": [
        "change_dense(6, wagi_l3, [1, 2, 5, 10, 15], 6)"
      ],
      "execution_count": 14,
      "outputs": [
        {
          "output_type": "stream",
          "text": [
            "Szum z dzielnikem  1\n",
            "Average accuracy:  0.10090000182390213 standard deviation:  0.0\n",
            "Szum z dzielnikem  2\n",
            "Average accuracy:  0.10091666877269745 standard deviation:  3.726843048384063e-05\n",
            "Szum z dzielnikem  5\n",
            "Average accuracy:  0.19695000102122626 standard deviation:  0.016082783348899725\n",
            "Szum z dzielnikem  10\n",
            "Average accuracy:  0.7238333423932394 standard deviation:  0.011431637146038513\n",
            "Szum z dzielnikem  15\n",
            "Average accuracy:  0.8603666623433431 standard deviation:  0.004213329568969608\n"
          ],
          "name": "stdout"
        }
      ]
    },
    {
      "cell_type": "code",
      "metadata": {
        "colab": {
          "base_uri": "https://localhost:8080/"
        },
        "id": "Q6apKuQ6h37l",
        "outputId": "0db21fea-b2ab-4161-f72b-ed03c73515c4"
      },
      "source": [
        "change_dense(8, wagi_l4, [1, 2, 5, 10], 6)"
      ],
      "execution_count": 15,
      "outputs": [
        {
          "output_type": "stream",
          "text": [
            "Szum z dzielnikem  1\n",
            "Average accuracy:  0.9731166561444601 standard deviation:  0.013278983105768674\n",
            "Szum z dzielnikem  2\n",
            "Average accuracy:  0.9898833334445953 standard deviation:  0.0014937946519565687\n",
            "Szum z dzielnikem  5\n",
            "Average accuracy:  0.991866668065389 standard deviation:  0.0002560392929711884\n",
            "Szum z dzielnikem  10\n",
            "Average accuracy:  0.9923500021298727 standard deviation:  0.00016072946139876\n"
          ],
          "name": "stdout"
        }
      ]
    },
    {
      "cell_type": "markdown",
      "metadata": {
        "id": "amdo4lxSpUCf"
      },
      "source": [
        "Dla warst gęstych dostajemy bardzo ciekawe informację. Przedostatnia warstwa jest bardzo wrażliwa na zmiane wag dawet nieduże perturbacje znacząco obniżąją wynik sieci. Wagi w ostatniej warstwie natomiast są bardzo odporne na zakłucenia. Przy dużym dzielniku różnice są niemal niezauważalne, natomiast przy małym dzielniku, a więc i przy dużym szumie wynik spada nieznacznie. Można przypuszczać że na tym etapie sieć juz jest \"zdecydowana\", więc zmiany wag na tym etapie nie wpływają znacząco na jej wynik. Jest to oczywiście tylko moja intuicja."
      ]
    },
    {
      "cell_type": "markdown",
      "metadata": {
        "id": "ZjJSYpugiF87"
      },
      "source": [
        "## Perturbacje dla wszytkich wag modelu"
      ]
    },
    {
      "cell_type": "code",
      "metadata": {
        "id": "Iewt2Zw5PDVe"
      },
      "source": [
        "def test_all_wegihts(dzielnik, k):\n",
        "  for dziel in dzielnik:\n",
        "    acc = []\n",
        "    print(\"Szum z dzielnikem \", dziel)\n",
        "    for i in range(k):\n",
        "      a, b, c, d = cnn_n.layers[0].get_weights()[0].shape\n",
        "      delta_weights = cnn_n.layers[0].get_weights()[0] + np.random.rand(a, b, c, d) / dziel\n",
        "      cnn_n.layers[0].set_weights([delta_weights, cnn_n.layers[0].get_weights()[1]]) \n",
        "      a, b, c, d = cnn_n.layers[2].get_weights()[0].shape\n",
        "      delta_weights = cnn_n.layers[2].get_weights()[0] + np.random.rand(a, b, c, d) / dziel\n",
        "      cnn_n.layers[2].set_weights([delta_weights, cnn_n.layers[2].get_weights()[1]])\n",
        "      a, b = cnn_n.layers[6].get_weights()[0].shape\n",
        "      delta_weights = cnn_n.layers[6].get_weights()[0] + np.random.rand(a, b) / dziel\n",
        "      cnn_n.layers[6].set_weights([delta_weights, cnn_n.layers[6].get_weights()[1]])\n",
        "      a, b = cnn_n.layers[8].get_weights()[0].shape\n",
        "      delta_weights = cnn_n.layers[8].get_weights()[0] + np.random.rand(a, b) / dziel\n",
        "      cnn_n.layers[8].set_weights([delta_weights, cnn_n.layers[8].get_weights()[1]])\n",
        "\n",
        "      # Wyliczanie wyniku\n",
        "      score = cnn_n.evaluate(x_test, y_test, verbose=0)\n",
        "      acc.append(score[1])\n",
        "      cnn_n.layers[0].set_weights([wagi_l1, cnn_n.layers[0].get_weights()[1]])\n",
        "      cnn_n.layers[2].set_weights([wagi_l2, cnn_n.layers[2].get_weights()[1]])\n",
        "      cnn_n.layers[6].set_weights([wagi_l3, cnn_n.layers[6].get_weights()[1]])\n",
        "      cnn_n.layers[8].set_weights([wagi_l4, cnn_n.layers[8].get_weights()[1]])\n",
        "    print(\"Average accuracy: \", sum(acc)/k, \"standard deviation: \", np.std(acc))"
      ],
      "execution_count": 16,
      "outputs": []
    },
    {
      "cell_type": "code",
      "metadata": {
        "colab": {
          "base_uri": "https://localhost:8080/"
        },
        "id": "ylMDTytfjshO",
        "outputId": "33e39a6c-6234-4f12-9467-3313f00ca86f"
      },
      "source": [
        "test_all_wegihts([5, 10, 12, 15, 20, 60], 3)"
      ],
      "execution_count": 17,
      "outputs": [
        {
          "output_type": "stream",
          "text": [
            "Szum z dzielnikem  5\n",
            "Average accuracy:  0.11863333483537038 standard deviation:  0.01938149448753716\n",
            "Szum z dzielnikem  10\n",
            "Average accuracy:  0.19933333496252695 standard deviation:  0.0028429240285538205\n",
            "Szum z dzielnikem  12\n",
            "Average accuracy:  0.4240333338578542 standard deviation:  0.04253346785760322\n",
            "Szum z dzielnikem  15\n",
            "Average accuracy:  0.7086333235104879 standard deviation:  0.01839516733349231\n",
            "Szum z dzielnikem  20\n",
            "Average accuracy:  0.8396000067392985 standard deviation:  0.0037478920992934646\n",
            "Szum z dzielnikem  60\n",
            "Average accuracy:  0.9900333484013876 standard deviation:  4.714827453418679e-05\n"
          ],
          "name": "stdout"
        }
      ]
    },
    {
      "cell_type": "markdown",
      "metadata": {
        "id": "7v1rXy8UqF40"
      },
      "source": [
        "Dla zmian we wszystkich wagach rezultaty sa dużo gorsze. Wyniki zaczynają się poprawiać dopiero gdy dzielnik jest równy 15. Nawet dleikatne zmiany, ale przeprowadzone na wszystkich wagach modelu mają duży wpływ na koncowy wynik sieci."
      ]
    },
    {
      "cell_type": "markdown",
      "metadata": {
        "id": "FQ9pkpeeqyb6"
      },
      "source": [
        "## Wnioski \n",
        "Warstwy konwolucyjne okazały się być bardziej odporne na perturbacje niż warstwa gęsta. Szokujące było natomiast, że ostatnia warstwa gęsta była bardzo odporna na szumy, w przeciwieństwie od wewnętrznej warstwy gęstej. Zmiany w danych również wpłyneły znacząco na wyniki sieci. Jednak rezultaty w przypadku perturbacji danych wejściowych wahały się znacząco w zależności od natężenia szumów."
      ]
    }
  ]
}