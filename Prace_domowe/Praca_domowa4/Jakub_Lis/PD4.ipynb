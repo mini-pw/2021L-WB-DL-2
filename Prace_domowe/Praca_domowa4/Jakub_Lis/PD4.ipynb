{
 "cells": [
  {
   "cell_type": "markdown",
   "id": "superior-dynamics",
   "metadata": {},
   "source": [
    "# Praca domowa nr 4\n",
    "#### Jakub Lis"
   ]
  },
  {
   "cell_type": "code",
   "execution_count": 1,
   "id": "logical-cincinnati",
   "metadata": {},
   "outputs": [],
   "source": [
    "import numpy as np\n",
    "import pandas as pd\n",
    "import random\n",
    "random.seed(123)\n",
    "from keras import metrics, models, layers, Sequential\n",
    "from keras.datasets import mnist\n",
    "from keras.utils import to_categorical\n",
    "from keras.callbacks import LambdaCallback\n",
    "from sklearn.metrics import accuracy_score\n",
    "from sklearn.metrics import precision_recall_fscore_support\n",
    "from matplotlib import pyplot as plt\n",
    "from copy import deepcopy\n",
    "import tensorflow as tf"
   ]
  },
  {
   "cell_type": "markdown",
   "id": "whole-garage",
   "metadata": {},
   "source": [
    "Podobnie jak w pracy domowej nr 3 zajmuję się zbiorem Mnist."
   ]
  },
  {
   "cell_type": "code",
   "execution_count": 2,
   "id": "hearing-chester",
   "metadata": {},
   "outputs": [],
   "source": [
    "(train_images, train_labels), (test_images, test_labels) = mnist.load_data()"
   ]
  },
  {
   "cell_type": "code",
   "execution_count": 3,
   "id": "structured-switch",
   "metadata": {},
   "outputs": [],
   "source": [
    "model = models.Sequential()\n",
    "model.add(layers.Conv2D(32, (3, 3), activation='relu', input_shape=(28, 28, 1)))\n",
    "model.add(layers.MaxPooling2D((2, 2)))\n",
    "model.add(layers.Conv2D(64, (3, 3), activation='relu'))\n",
    "model.add(layers.Flatten())\n",
    "model.add(layers.Dense(64, activation='relu'))\n",
    "model.add(layers.Dense(10, activation='softmax'))"
   ]
  },
  {
   "cell_type": "code",
   "execution_count": 4,
   "id": "talented-opinion",
   "metadata": {},
   "outputs": [
    {
     "name": "stdout",
     "output_type": "stream",
     "text": [
      "Model: \"sequential\"\n",
      "_________________________________________________________________\n",
      "Layer (type)                 Output Shape              Param #   \n",
      "=================================================================\n",
      "conv2d (Conv2D)              (None, 26, 26, 32)        320       \n",
      "_________________________________________________________________\n",
      "max_pooling2d (MaxPooling2D) (None, 13, 13, 32)        0         \n",
      "_________________________________________________________________\n",
      "conv2d_1 (Conv2D)            (None, 11, 11, 64)        18496     \n",
      "_________________________________________________________________\n",
      "flatten (Flatten)            (None, 7744)              0         \n",
      "_________________________________________________________________\n",
      "dense (Dense)                (None, 64)                495680    \n",
      "_________________________________________________________________\n",
      "dense_1 (Dense)              (None, 10)                650       \n",
      "=================================================================\n",
      "Total params: 515,146\n",
      "Trainable params: 515,146\n",
      "Non-trainable params: 0\n",
      "_________________________________________________________________\n"
     ]
    }
   ],
   "source": [
    "model.summary()"
   ]
  },
  {
   "cell_type": "code",
   "execution_count": 5,
   "id": "delayed-connecticut",
   "metadata": {},
   "outputs": [],
   "source": [
    "train_images = train_images.reshape((60000, 28, 28, 1))\n",
    "train_images = train_images.astype('float32') / 255\n",
    "\n",
    "test_images = test_images.reshape((10000, 28, 28, 1))\n",
    "test_images = test_images.astype('float32') / 255\n",
    "\n",
    "train_labels = to_categorical(train_labels)\n",
    "test_labels = to_categorical(test_labels)"
   ]
  },
  {
   "cell_type": "code",
   "execution_count": 6,
   "id": "alpha-google",
   "metadata": {},
   "outputs": [
    {
     "name": "stdout",
     "output_type": "stream",
     "text": [
      "Epoch 1/10\n",
      "469/469 [==============================] - 60s 123ms/step - loss: 0.4164 - accuracy: 0.8711 - precision: 0.9392 - recall: 0.8153 - val_loss: 0.0542 - val_accuracy: 0.9836 - val_precision: 0.9860 - val_recall: 0.9819\n",
      "Epoch 2/10\n",
      "469/469 [==============================] - 49s 105ms/step - loss: 0.0570 - accuracy: 0.9828 - precision: 0.9849 - recall: 0.9808 - val_loss: 0.0411 - val_accuracy: 0.9867 - val_precision: 0.9887 - val_recall: 0.9851\n",
      "Epoch 3/10\n",
      "469/469 [==============================] - 53s 113ms/step - loss: 0.0336 - accuracy: 0.9905 - precision: 0.9912 - recall: 0.9893 - val_loss: 0.0364 - val_accuracy: 0.9877 - val_precision: 0.9886 - val_recall: 0.9874\n",
      "Epoch 4/10\n",
      "469/469 [==============================] - 52s 112ms/step - loss: 0.0216 - accuracy: 0.9929 - precision: 0.9935 - recall: 0.9923 - val_loss: 0.0305 - val_accuracy: 0.9897 - val_precision: 0.9907 - val_recall: 0.9891\n",
      "Epoch 5/10\n",
      "469/469 [==============================] - 51s 109ms/step - loss: 0.0176 - accuracy: 0.9945 - precision: 0.9949 - recall: 0.9943 - val_loss: 0.0336 - val_accuracy: 0.9903 - val_precision: 0.9915 - val_recall: 0.9896\n",
      "Epoch 6/10\n",
      "469/469 [==============================] - 54s 114ms/step - loss: 0.0126 - accuracy: 0.9963 - precision: 0.9964 - recall: 0.9962 - val_loss: 0.0326 - val_accuracy: 0.9907 - val_precision: 0.9910 - val_recall: 0.9904\n",
      "Epoch 7/10\n",
      "469/469 [==============================] - 53s 112ms/step - loss: 0.0100 - accuracy: 0.9969 - precision: 0.9972 - recall: 0.9967 - val_loss: 0.0304 - val_accuracy: 0.9908 - val_precision: 0.9911 - val_recall: 0.9906\n",
      "Epoch 8/10\n",
      "469/469 [==============================] - 55s 117ms/step - loss: 0.0067 - accuracy: 0.9979 - precision: 0.9979 - recall: 0.9979 - val_loss: 0.0316 - val_accuracy: 0.9911 - val_precision: 0.9918 - val_recall: 0.9910\n",
      "Epoch 9/10\n",
      "469/469 [==============================] - 50s 106ms/step - loss: 0.0054 - accuracy: 0.9982 - precision: 0.9983 - recall: 0.9982 - val_loss: 0.0398 - val_accuracy: 0.9904 - val_precision: 0.9909 - val_recall: 0.9902\n",
      "Epoch 10/10\n",
      "469/469 [==============================] - 54s 114ms/step - loss: 0.0045 - accuracy: 0.9987 - precision: 0.9987 - recall: 0.9986 - val_loss: 0.0473 - val_accuracy: 0.9904 - val_precision: 0.9907 - val_recall: 0.9903\n"
     ]
    },
    {
     "data": {
      "text/plain": [
       "<tensorflow.python.keras.callbacks.History at 0x7fad66203430>"
      ]
     },
     "execution_count": 6,
     "metadata": {},
     "output_type": "execute_result"
    }
   ],
   "source": [
    "model.compile(optimizer='rmsprop',\n",
    "                loss='categorical_crossentropy',\n",
    "                metrics=['accuracy',\n",
    "                        metrics.Precision(),\n",
    "                        metrics.Recall()])\n",
    "\n",
    "model.fit(train_images, train_labels, epochs = 10,\n",
    "          batch_size = 128, validation_data = (test_images, test_labels))"
   ]
  },
  {
   "cell_type": "markdown",
   "id": "remarkable-departure",
   "metadata": {},
   "source": [
    "W tym momencie możemy wyznaczyć miary jakości jakie nasz model osiąga na zbiorze testowym."
   ]
  },
  {
   "cell_type": "code",
   "execution_count": 7,
   "id": "sudden-rubber",
   "metadata": {},
   "outputs": [
    {
     "name": "stdout",
     "output_type": "stream",
     "text": [
      "Accuracy:    99.04\n",
      "Precision:   99.07\n",
      "Recall:     99.03\n"
     ]
    }
   ],
   "source": [
    "def print_scores(scores):\n",
    "    s = f'Accuracy:  {scores[1]*100 : 7.2f}\\n'\n",
    "    s += f'Precision:  {scores[2]*100 : 6.2f}\\n'\n",
    "    s += f'Recall: {scores[3]*100 : 9.2f}'\n",
    "    print(s)\n",
    "    \n",
    "scores = model.evaluate(x = test_images, y = test_labels, verbose = 0)\n",
    "print_scores(scores)"
   ]
  },
  {
   "cell_type": "markdown",
   "id": "alternative-greensboro",
   "metadata": {},
   "source": [
    "## Peturbacje w obrębie danych wejściowych"
   ]
  },
  {
   "cell_type": "code",
   "execution_count": 8,
   "id": "occupied-lithuania",
   "metadata": {},
   "outputs": [],
   "source": [
    "def adversarial_pattern(image, label):\n",
    "    image = tf.cast(image, tf.float32)\n",
    "    \n",
    "    with tf.GradientTape() as tape:\n",
    "        tape.watch(image)\n",
    "        prediction = model(image)\n",
    "        loss = tf.keras.losses.MSE(label, prediction)\n",
    "    \n",
    "    gradient = tape.gradient(loss, image)\n",
    "    \n",
    "    signed_grad = tf.sign(gradient)\n",
    "    \n",
    "    return signed_grad"
   ]
  },
  {
   "cell_type": "markdown",
   "id": "known-chosen",
   "metadata": {},
   "source": [
    "Funkcję powyżej (adversarial_pattern) skopiowałem gotową z https://medium.com/analytics-vidhya/implementing-adversarial-attacks-and-defenses-in-keras-tensorflow-2-0-cab6120c5715.\n",
    "\n",
    "Na początku wygenerujemy nowy zbiór testowy stosując FGSM (Fast Gradient Sign Method) na naszym początkowym zbiorze testowym."
   ]
  },
  {
   "cell_type": "code",
   "execution_count": 9,
   "id": "filled-community",
   "metadata": {},
   "outputs": [],
   "source": [
    "test_images_modified = deepcopy(test_images)\n",
    "for i, image in enumerate(test_images):\n",
    "    image_label = test_labels[i]\n",
    "    perturbations = adversarial_pattern(image.reshape((1, 28, 28, 1)), image_label).numpy()\n",
    "    test_images_modified[i] = image + perturbations * 0.1"
   ]
  },
  {
   "cell_type": "markdown",
   "id": "asian-humidity",
   "metadata": {},
   "source": [
    "Teraz możemy podejrzeć w jaki sposób zmieniliśmy ten zbiór."
   ]
  },
  {
   "cell_type": "code",
   "execution_count": 10,
   "id": "certified-original",
   "metadata": {},
   "outputs": [
    {
     "data": {
      "image/png": "[encoded data removed]",
      "text/plain": [
       "<Figure size 792x288 with 10 Axes>"
      ]
     },
     "metadata": {
      "needs_background": "light"
     },
     "output_type": "display_data"
    }
   ],
   "source": [
    "n = 5\n",
    "\n",
    "f, axarr = plt.subplots(2, n, figsize=(11, 4))\n",
    "for i in range(n):\n",
    "    axarr[0,i].imshow(np.array(test_images[i], dtype='float').reshape((28, 28)))\n",
    "    axarr[1,i].imshow(np.array(test_images_modified[i], dtype='float').reshape((28, 28)))"
   ]
  },
  {
   "cell_type": "markdown",
   "id": "active-adaptation",
   "metadata": {},
   "source": [
    "Dla naszego oka zmiany są niewielkie, wciąz jesteśmy w stanie dosyć łatwo zaklasyfikować każdy z obrazów do liczby, która jest przedstawiana. Sprawdzimy jednak, czy te zmiany są 'niewielkie' dla naszego modelu."
   ]
  },
  {
   "cell_type": "code",
   "execution_count": 11,
   "id": "convinced-saver",
   "metadata": {},
   "outputs": [
    {
     "name": "stdout",
     "output_type": "stream",
     "text": [
      "Accuracy:    62.98\n",
      "Precision:   63.09\n",
      "Recall:     62.80\n"
     ]
    }
   ],
   "source": [
    "scores_2 = model.evaluate(x = test_images_modified, y = test_labels, verbose = 0)\n",
    "print_scores(scores_2)"
   ]
  },
  {
   "cell_type": "markdown",
   "id": "flush-westminster",
   "metadata": {},
   "source": [
    "Widać, że wszystkie miary jakości spadły o ponad 30 punktów procentowych, rzeczywiście nasz model jest wrażliwy na peturbacje w obrębie danych wejściowych."
   ]
  },
  {
   "cell_type": "markdown",
   "id": "stainless-motor",
   "metadata": {},
   "source": [
    "## Peturbacje w obrębie wszystkich wag modelu"
   ]
  },
  {
   "cell_type": "code",
   "execution_count": 12,
   "id": "obvious-wellington",
   "metadata": {},
   "outputs": [],
   "source": [
    "# Stworzymy sobie funkcje pomocnicze, które modyfikują (przemnażają) każdą\n",
    "# wagę o losową wartość z przedziału interval\n",
    "\n",
    "def changed_weights(layer_weights, interval = [0, 2]):\n",
    "    layer = deepcopy(layer_weights)\n",
    "    for i in range(len(layer[0])):\n",
    "        for j in range(len(layer[0][i])):\n",
    "            for k in range(len(layer[0][i][j])):\n",
    "                for l in range(len(layer[0][i][j][k])):\n",
    "                    layer[0][i][j][k][l] *= random.uniform(interval[0], interval[1])\n",
    "    return layer\n",
    "\n",
    "def changed_weights_2(layer_weights, interval = [0, 2]):\n",
    "    layer = deepcopy(layer_weights)\n",
    "    for i in range(2):\n",
    "        for j in range(len(layer[0][i])):\n",
    "            layer[0][i][j] *= random.uniform(interval[0], interval[1])\n",
    "    return layer"
   ]
  },
  {
   "cell_type": "code",
   "execution_count": 13,
   "id": "public-motion",
   "metadata": {},
   "outputs": [],
   "source": [
    "def change_all_weights(model, interval=[0, 2]):\n",
    "    new_model = models.clone_model(model)\n",
    "    new_model.build((None, 10))\n",
    "    new_model.compile(optimizer='rmsprop',\n",
    "                loss='categorical_crossentropy',\n",
    "                metrics=['accuracy', metrics.Precision(), metrics.Recall()])\n",
    "    new_model.set_weights(model.get_weights())\n",
    "    layer_0 = deepcopy(new_model.layers[0].get_weights())\n",
    "    new_model.layers[0].set_weights(changed_weights(layer_0, interval))\n",
    "    layer_2 = deepcopy(new_model.layers[2].get_weights())\n",
    "    new_model.layers[2].set_weights(changed_weights(layer_2, interval))\n",
    "    layer_4 = deepcopy(new_model.layers[4].get_weights())\n",
    "    new_model.layers[4].set_weights(changed_weights_2(layer_4, interval))\n",
    "    layer_5 = deepcopy(new_model.layers[5].get_weights())\n",
    "    new_model.layers[5].set_weights(changed_weights_2(layer_5, interval))\n",
    "    return new_model"
   ]
  },
  {
   "cell_type": "code",
   "execution_count": 14,
   "id": "tired-bandwidth",
   "metadata": {},
   "outputs": [],
   "source": [
    "def add_score(scores_data, scores):\n",
    "    d = {'accuracy': scores[1],\n",
    "        'precision': scores[2],\n",
    "        'recall': scores[3]}\n",
    "    return scores_data.append(d, ignore_index=True)"
   ]
  },
  {
   "cell_type": "markdown",
   "id": "handmade-tissue",
   "metadata": {},
   "source": [
    "Pora wykonać takie modyfikacje 10-krotnie, sprawdzimy jak modyfikacja wag wpłynęła na nasze miary jakości. Ponieważ 10 wierszy to nie dużo, to na początku wyświetlimy wszystkie uzyskane wyniki."
   ]
  },
  {
   "cell_type": "code",
   "execution_count": 15,
   "id": "virtual-campus",
   "metadata": {},
   "outputs": [
    {
     "data": {
      "text/html": [
       "<div>\n",
       "<style scoped>\n",
       "    .dataframe tbody tr th:only-of-type {\n",
       "        vertical-align: middle;\n",
       "    }\n",
       "\n",
       "    .dataframe tbody tr th {\n",
       "        vertical-align: top;\n",
       "    }\n",
       "\n",
       "    .dataframe thead th {\n",
       "        text-align: right;\n",
       "    }\n",
       "</style>\n",
       "<table border=\"1\" class=\"dataframe\">\n",
       "  <thead>\n",
       "    <tr style=\"text-align: right;\">\n",
       "      <th></th>\n",
       "      <th>accuracy</th>\n",
       "      <th>precision</th>\n",
       "      <th>recall</th>\n",
       "    </tr>\n",
       "  </thead>\n",
       "  <tbody>\n",
       "    <tr>\n",
       "      <th>0</th>\n",
       "      <td>0.9832</td>\n",
       "      <td>0.983490</td>\n",
       "      <td>0.9829</td>\n",
       "    </tr>\n",
       "    <tr>\n",
       "      <th>1</th>\n",
       "      <td>0.9858</td>\n",
       "      <td>0.986192</td>\n",
       "      <td>0.9856</td>\n",
       "    </tr>\n",
       "    <tr>\n",
       "      <th>2</th>\n",
       "      <td>0.9878</td>\n",
       "      <td>0.987996</td>\n",
       "      <td>0.9877</td>\n",
       "    </tr>\n",
       "    <tr>\n",
       "      <th>3</th>\n",
       "      <td>0.9853</td>\n",
       "      <td>0.985786</td>\n",
       "      <td>0.9848</td>\n",
       "    </tr>\n",
       "    <tr>\n",
       "      <th>4</th>\n",
       "      <td>0.9866</td>\n",
       "      <td>0.986796</td>\n",
       "      <td>0.9865</td>\n",
       "    </tr>\n",
       "    <tr>\n",
       "      <th>5</th>\n",
       "      <td>0.9849</td>\n",
       "      <td>0.985387</td>\n",
       "      <td>0.9845</td>\n",
       "    </tr>\n",
       "    <tr>\n",
       "      <th>6</th>\n",
       "      <td>0.9891</td>\n",
       "      <td>0.989297</td>\n",
       "      <td>0.9890</td>\n",
       "    </tr>\n",
       "    <tr>\n",
       "      <th>7</th>\n",
       "      <td>0.9827</td>\n",
       "      <td>0.983285</td>\n",
       "      <td>0.9824</td>\n",
       "    </tr>\n",
       "    <tr>\n",
       "      <th>8</th>\n",
       "      <td>0.9836</td>\n",
       "      <td>0.984189</td>\n",
       "      <td>0.9835</td>\n",
       "    </tr>\n",
       "    <tr>\n",
       "      <th>9</th>\n",
       "      <td>0.9744</td>\n",
       "      <td>0.975160</td>\n",
       "      <td>0.9736</td>\n",
       "    </tr>\n",
       "  </tbody>\n",
       "</table>\n",
       "</div>"
      ],
      "text/plain": [
       "   accuracy  precision  recall\n",
       "0    0.9832   0.983490  0.9829\n",
       "1    0.9858   0.986192  0.9856\n",
       "2    0.9878   0.987996  0.9877\n",
       "3    0.9853   0.985786  0.9848\n",
       "4    0.9866   0.986796  0.9865\n",
       "5    0.9849   0.985387  0.9845\n",
       "6    0.9891   0.989297  0.9890\n",
       "7    0.9827   0.983285  0.9824\n",
       "8    0.9836   0.984189  0.9835\n",
       "9    0.9744   0.975160  0.9736"
      ]
     },
     "execution_count": 15,
     "metadata": {},
     "output_type": "execute_result"
    }
   ],
   "source": [
    "scores_data = pd.DataFrame(columns=['accuracy', 'precision', 'recall'])\n",
    "\n",
    "for i in range(10):\n",
    "    scores_i = change_all_weights(model).evaluate(x = test_images, y = test_labels, verbose = 0)\n",
    "    scores_data = add_score(scores_data, scores_i)\n",
    "    \n",
    "scores_data"
   ]
  },
  {
   "cell_type": "code",
   "execution_count": 16,
   "id": "seventh-track",
   "metadata": {},
   "outputs": [
    {
     "data": {
      "text/html": [
       "<div>\n",
       "<style scoped>\n",
       "    .dataframe tbody tr th:only-of-type {\n",
       "        vertical-align: middle;\n",
       "    }\n",
       "\n",
       "    .dataframe tbody tr th {\n",
       "        vertical-align: top;\n",
       "    }\n",
       "\n",
       "    .dataframe thead th {\n",
       "        text-align: right;\n",
       "    }\n",
       "</style>\n",
       "<table border=\"1\" class=\"dataframe\">\n",
       "  <thead>\n",
       "    <tr style=\"text-align: right;\">\n",
       "      <th></th>\n",
       "      <th>accuracy</th>\n",
       "      <th>precision</th>\n",
       "      <th>recall</th>\n",
       "    </tr>\n",
       "  </thead>\n",
       "  <tbody>\n",
       "    <tr>\n",
       "      <th>mean</th>\n",
       "      <td>0.984340</td>\n",
       "      <td>0.984758</td>\n",
       "      <td>0.984050</td>\n",
       "    </tr>\n",
       "    <tr>\n",
       "      <th>std</th>\n",
       "      <td>0.004034</td>\n",
       "      <td>0.003873</td>\n",
       "      <td>0.004224</td>\n",
       "    </tr>\n",
       "    <tr>\n",
       "      <th>min</th>\n",
       "      <td>0.974400</td>\n",
       "      <td>0.975160</td>\n",
       "      <td>0.973600</td>\n",
       "    </tr>\n",
       "    <tr>\n",
       "      <th>25%</th>\n",
       "      <td>0.983300</td>\n",
       "      <td>0.983665</td>\n",
       "      <td>0.983050</td>\n",
       "    </tr>\n",
       "    <tr>\n",
       "      <th>50%</th>\n",
       "      <td>0.985100</td>\n",
       "      <td>0.985586</td>\n",
       "      <td>0.984650</td>\n",
       "    </tr>\n",
       "    <tr>\n",
       "      <th>75%</th>\n",
       "      <td>0.986400</td>\n",
       "      <td>0.986645</td>\n",
       "      <td>0.986275</td>\n",
       "    </tr>\n",
       "    <tr>\n",
       "      <th>max</th>\n",
       "      <td>0.989100</td>\n",
       "      <td>0.989297</td>\n",
       "      <td>0.989000</td>\n",
       "    </tr>\n",
       "  </tbody>\n",
       "</table>\n",
       "</div>"
      ],
      "text/plain": [
       "      accuracy  precision    recall\n",
       "mean  0.984340   0.984758  0.984050\n",
       "std   0.004034   0.003873  0.004224\n",
       "min   0.974400   0.975160  0.973600\n",
       "25%   0.983300   0.983665  0.983050\n",
       "50%   0.985100   0.985586  0.984650\n",
       "75%   0.986400   0.986645  0.986275\n",
       "max   0.989100   0.989297  0.989000"
      ]
     },
     "execution_count": 16,
     "metadata": {},
     "output_type": "execute_result"
    }
   ],
   "source": [
    "scores_data.describe().drop('count')"
   ]
  },
  {
   "cell_type": "markdown",
   "id": "southwest-recipient",
   "metadata": {},
   "source": [
    "Właściwie nasz model wciąż osiąga dobre wyniki. Oczywiście dobranie przediału [0, 2] nie jest mocno ingerujące w te wagi (w końcu te losowane wartości są blisko 1). Możemy jeszcze spróbować pogorszyć wyniki korzystając z przedziału [0, 4]."
   ]
  },
  {
   "cell_type": "code",
   "execution_count": 18,
   "id": "curious-metro",
   "metadata": {},
   "outputs": [
    {
     "data": {
      "text/html": [
       "<div>\n",
       "<style scoped>\n",
       "    .dataframe tbody tr th:only-of-type {\n",
       "        vertical-align: middle;\n",
       "    }\n",
       "\n",
       "    .dataframe tbody tr th {\n",
       "        vertical-align: top;\n",
       "    }\n",
       "\n",
       "    .dataframe thead th {\n",
       "        text-align: right;\n",
       "    }\n",
       "</style>\n",
       "<table border=\"1\" class=\"dataframe\">\n",
       "  <thead>\n",
       "    <tr style=\"text-align: right;\">\n",
       "      <th></th>\n",
       "      <th>accuracy</th>\n",
       "      <th>precision</th>\n",
       "      <th>recall</th>\n",
       "    </tr>\n",
       "  </thead>\n",
       "  <tbody>\n",
       "    <tr>\n",
       "      <th>0</th>\n",
       "      <td>0.9525</td>\n",
       "      <td>0.952500</td>\n",
       "      <td>0.9525</td>\n",
       "    </tr>\n",
       "    <tr>\n",
       "      <th>1</th>\n",
       "      <td>0.9810</td>\n",
       "      <td>0.981000</td>\n",
       "      <td>0.9810</td>\n",
       "    </tr>\n",
       "    <tr>\n",
       "      <th>2</th>\n",
       "      <td>0.9805</td>\n",
       "      <td>0.980500</td>\n",
       "      <td>0.9805</td>\n",
       "    </tr>\n",
       "    <tr>\n",
       "      <th>3</th>\n",
       "      <td>0.9825</td>\n",
       "      <td>0.982500</td>\n",
       "      <td>0.9825</td>\n",
       "    </tr>\n",
       "    <tr>\n",
       "      <th>4</th>\n",
       "      <td>0.9788</td>\n",
       "      <td>0.978800</td>\n",
       "      <td>0.9788</td>\n",
       "    </tr>\n",
       "    <tr>\n",
       "      <th>5</th>\n",
       "      <td>0.9550</td>\n",
       "      <td>0.955191</td>\n",
       "      <td>0.9550</td>\n",
       "    </tr>\n",
       "    <tr>\n",
       "      <th>6</th>\n",
       "      <td>0.9545</td>\n",
       "      <td>0.954500</td>\n",
       "      <td>0.9545</td>\n",
       "    </tr>\n",
       "    <tr>\n",
       "      <th>7</th>\n",
       "      <td>0.9766</td>\n",
       "      <td>0.976600</td>\n",
       "      <td>0.9766</td>\n",
       "    </tr>\n",
       "    <tr>\n",
       "      <th>8</th>\n",
       "      <td>0.9848</td>\n",
       "      <td>0.984800</td>\n",
       "      <td>0.9848</td>\n",
       "    </tr>\n",
       "    <tr>\n",
       "      <th>9</th>\n",
       "      <td>0.9734</td>\n",
       "      <td>0.973497</td>\n",
       "      <td>0.9734</td>\n",
       "    </tr>\n",
       "  </tbody>\n",
       "</table>\n",
       "</div>"
      ],
      "text/plain": [
       "   accuracy  precision  recall\n",
       "0    0.9525   0.952500  0.9525\n",
       "1    0.9810   0.981000  0.9810\n",
       "2    0.9805   0.980500  0.9805\n",
       "3    0.9825   0.982500  0.9825\n",
       "4    0.9788   0.978800  0.9788\n",
       "5    0.9550   0.955191  0.9550\n",
       "6    0.9545   0.954500  0.9545\n",
       "7    0.9766   0.976600  0.9766\n",
       "8    0.9848   0.984800  0.9848\n",
       "9    0.9734   0.973497  0.9734"
      ]
     },
     "execution_count": 18,
     "metadata": {},
     "output_type": "execute_result"
    }
   ],
   "source": [
    "scores_data_2 = pd.DataFrame(columns=['accuracy', 'precision', 'recall'])\n",
    "\n",
    "for i in range(10):\n",
    "    scores_i = change_all_weights(model, [0, 4]).evaluate(x = test_images, y = test_labels, verbose = 0)\n",
    "    scores_data_2 = add_score(scores_data_2, scores_i)\n",
    "    \n",
    "scores_data_2"
   ]
  },
  {
   "cell_type": "code",
   "execution_count": 19,
   "id": "organized-script",
   "metadata": {},
   "outputs": [
    {
     "data": {
      "text/html": [
       "<div>\n",
       "<style scoped>\n",
       "    .dataframe tbody tr th:only-of-type {\n",
       "        vertical-align: middle;\n",
       "    }\n",
       "\n",
       "    .dataframe tbody tr th {\n",
       "        vertical-align: top;\n",
       "    }\n",
       "\n",
       "    .dataframe thead th {\n",
       "        text-align: right;\n",
       "    }\n",
       "</style>\n",
       "<table border=\"1\" class=\"dataframe\">\n",
       "  <thead>\n",
       "    <tr style=\"text-align: right;\">\n",
       "      <th></th>\n",
       "      <th>accuracy</th>\n",
       "      <th>precision</th>\n",
       "      <th>recall</th>\n",
       "    </tr>\n",
       "  </thead>\n",
       "  <tbody>\n",
       "    <tr>\n",
       "      <th>mean</th>\n",
       "      <td>0.971960</td>\n",
       "      <td>0.971989</td>\n",
       "      <td>0.971960</td>\n",
       "    </tr>\n",
       "    <tr>\n",
       "      <th>std</th>\n",
       "      <td>0.012790</td>\n",
       "      <td>0.012763</td>\n",
       "      <td>0.012790</td>\n",
       "    </tr>\n",
       "    <tr>\n",
       "      <th>min</th>\n",
       "      <td>0.952500</td>\n",
       "      <td>0.952500</td>\n",
       "      <td>0.952500</td>\n",
       "    </tr>\n",
       "    <tr>\n",
       "      <th>25%</th>\n",
       "      <td>0.959600</td>\n",
       "      <td>0.959768</td>\n",
       "      <td>0.959600</td>\n",
       "    </tr>\n",
       "    <tr>\n",
       "      <th>50%</th>\n",
       "      <td>0.977700</td>\n",
       "      <td>0.977700</td>\n",
       "      <td>0.977700</td>\n",
       "    </tr>\n",
       "    <tr>\n",
       "      <th>75%</th>\n",
       "      <td>0.980875</td>\n",
       "      <td>0.980875</td>\n",
       "      <td>0.980875</td>\n",
       "    </tr>\n",
       "    <tr>\n",
       "      <th>max</th>\n",
       "      <td>0.984800</td>\n",
       "      <td>0.984800</td>\n",
       "      <td>0.984800</td>\n",
       "    </tr>\n",
       "  </tbody>\n",
       "</table>\n",
       "</div>"
      ],
      "text/plain": [
       "      accuracy  precision    recall\n",
       "mean  0.971960   0.971989  0.971960\n",
       "std   0.012790   0.012763  0.012790\n",
       "min   0.952500   0.952500  0.952500\n",
       "25%   0.959600   0.959768  0.959600\n",
       "50%   0.977700   0.977700  0.977700\n",
       "75%   0.980875   0.980875  0.980875\n",
       "max   0.984800   0.984800  0.984800"
      ]
     },
     "execution_count": 19,
     "metadata": {},
     "output_type": "execute_result"
    }
   ],
   "source": [
    "scores_data_2.describe().drop('count')"
   ]
  },
  {
   "cell_type": "markdown",
   "id": "material-minutes",
   "metadata": {},
   "source": [
    "Ponownie wyniki nie pogorszyły się aż tak bardzo. Wydaje się, że w tym obrębie nasza sieć nie jest aż tak wrażliwa. Można oczywiście pogrszyć wagi losując np. wartości z przedziału [-1, 1], ale wówczas byśmy zmieniali znak wag, a to już raczej jest zbyt dużą ingerencją w ich wartości (wówczas model nie ma prawa przewidywać poprawnie)."
   ]
  },
  {
   "cell_type": "markdown",
   "id": "suited-preference",
   "metadata": {},
   "source": [
    "## Peturbacje w obrębie wag określonej warstwy"
   ]
  },
  {
   "cell_type": "markdown",
   "id": "white-retailer",
   "metadata": {},
   "source": [
    "### Warstwa conv2d\n",
    "\n",
    "Na początku spróbujemy manipulacji wagami w obrębie warstwy conv2d i sprawdzimy jakie wyniki osiągnie nasz model. Później spróbujemy także wysnuć wnioski, czy istnieje w naszym modelu warstwa, która jest najbardziej wrażliwa."
   ]
  },
  {
   "cell_type": "code",
   "execution_count": 21,
   "id": "identified-thomson",
   "metadata": {},
   "outputs": [],
   "source": [
    "def change_weights_conv2d(model, interval=[0, 2]):\n",
    "    new_model = models.clone_model(model)\n",
    "    new_model.build((None, 10))\n",
    "    new_model.compile(optimizer='rmsprop',\n",
    "                loss='categorical_crossentropy',\n",
    "                metrics=['accuracy', metrics.Precision(), metrics.Recall()])\n",
    "    new_model.set_weights(model.get_weights())\n",
    "    layer_0 = deepcopy(new_model.layers[0].get_weights())\n",
    "    new_model.layers[0].set_weights(changed_weights(layer_0, interval))\n",
    "    return new_model"
   ]
  },
  {
   "cell_type": "code",
   "execution_count": 22,
   "id": "undefined-niger",
   "metadata": {},
   "outputs": [
    {
     "data": {
      "text/html": [
       "<div>\n",
       "<style scoped>\n",
       "    .dataframe tbody tr th:only-of-type {\n",
       "        vertical-align: middle;\n",
       "    }\n",
       "\n",
       "    .dataframe tbody tr th {\n",
       "        vertical-align: top;\n",
       "    }\n",
       "\n",
       "    .dataframe thead th {\n",
       "        text-align: right;\n",
       "    }\n",
       "</style>\n",
       "<table border=\"1\" class=\"dataframe\">\n",
       "  <thead>\n",
       "    <tr style=\"text-align: right;\">\n",
       "      <th></th>\n",
       "      <th>accuracy</th>\n",
       "      <th>precision</th>\n",
       "      <th>recall</th>\n",
       "    </tr>\n",
       "  </thead>\n",
       "  <tbody>\n",
       "    <tr>\n",
       "      <th>mean</th>\n",
       "      <td>0.983060</td>\n",
       "      <td>0.983613</td>\n",
       "      <td>0.982750</td>\n",
       "    </tr>\n",
       "    <tr>\n",
       "      <th>std</th>\n",
       "      <td>0.005074</td>\n",
       "      <td>0.004770</td>\n",
       "      <td>0.005288</td>\n",
       "    </tr>\n",
       "    <tr>\n",
       "      <th>min</th>\n",
       "      <td>0.973500</td>\n",
       "      <td>0.974842</td>\n",
       "      <td>0.972600</td>\n",
       "    </tr>\n",
       "    <tr>\n",
       "      <th>25%</th>\n",
       "      <td>0.979850</td>\n",
       "      <td>0.980480</td>\n",
       "      <td>0.979500</td>\n",
       "    </tr>\n",
       "    <tr>\n",
       "      <th>50%</th>\n",
       "      <td>0.985250</td>\n",
       "      <td>0.985642</td>\n",
       "      <td>0.985100</td>\n",
       "    </tr>\n",
       "    <tr>\n",
       "      <th>75%</th>\n",
       "      <td>0.986875</td>\n",
       "      <td>0.987094</td>\n",
       "      <td>0.986625</td>\n",
       "    </tr>\n",
       "    <tr>\n",
       "      <th>max</th>\n",
       "      <td>0.988400</td>\n",
       "      <td>0.988597</td>\n",
       "      <td>0.988300</td>\n",
       "    </tr>\n",
       "  </tbody>\n",
       "</table>\n",
       "</div>"
      ],
      "text/plain": [
       "      accuracy  precision    recall\n",
       "mean  0.983060   0.983613  0.982750\n",
       "std   0.005074   0.004770  0.005288\n",
       "min   0.973500   0.974842  0.972600\n",
       "25%   0.979850   0.980480  0.979500\n",
       "50%   0.985250   0.985642  0.985100\n",
       "75%   0.986875   0.987094  0.986625\n",
       "max   0.988400   0.988597  0.988300"
      ]
     },
     "execution_count": 22,
     "metadata": {},
     "output_type": "execute_result"
    }
   ],
   "source": [
    "scores_data_3 = pd.DataFrame(columns=['accuracy', 'precision', 'recall'])\n",
    "\n",
    "for i in range(10):\n",
    "    scores_i = change_weights_conv2d(model).evaluate(x = test_images, y = test_labels, verbose = 0)\n",
    "    scores_data_3 = add_score(scores_data_3, scores_i)\n",
    "    \n",
    "scores_data_3.describe().drop('count')"
   ]
  },
  {
   "cell_type": "markdown",
   "id": "first-active",
   "metadata": {},
   "source": [
    "Przy peturbacjach w obrębie jednej warstwy wydaje się już bardziej uzasadnione ustawienie przedziału na np. [-1, 1]. Sprawdzimy jak bardzo wpłynie to na nasz model."
   ]
  },
  {
   "cell_type": "code",
   "execution_count": 23,
   "id": "complicated-radical",
   "metadata": {},
   "outputs": [
    {
     "data": {
      "text/html": [
       "<div>\n",
       "<style scoped>\n",
       "    .dataframe tbody tr th:only-of-type {\n",
       "        vertical-align: middle;\n",
       "    }\n",
       "\n",
       "    .dataframe tbody tr th {\n",
       "        vertical-align: top;\n",
       "    }\n",
       "\n",
       "    .dataframe thead th {\n",
       "        text-align: right;\n",
       "    }\n",
       "</style>\n",
       "<table border=\"1\" class=\"dataframe\">\n",
       "  <thead>\n",
       "    <tr style=\"text-align: right;\">\n",
       "      <th></th>\n",
       "      <th>accuracy</th>\n",
       "      <th>precision</th>\n",
       "      <th>recall</th>\n",
       "    </tr>\n",
       "  </thead>\n",
       "  <tbody>\n",
       "    <tr>\n",
       "      <th>mean</th>\n",
       "      <td>0.918064</td>\n",
       "      <td>0.929211</td>\n",
       "      <td>0.893882</td>\n",
       "    </tr>\n",
       "    <tr>\n",
       "      <th>std</th>\n",
       "      <td>0.215622</td>\n",
       "      <td>0.180490</td>\n",
       "      <td>0.294785</td>\n",
       "    </tr>\n",
       "    <tr>\n",
       "      <th>min</th>\n",
       "      <td>0.268100</td>\n",
       "      <td>0.385185</td>\n",
       "      <td>0.005200</td>\n",
       "    </tr>\n",
       "    <tr>\n",
       "      <th>25%</th>\n",
       "      <td>0.978300</td>\n",
       "      <td>0.979074</td>\n",
       "      <td>0.977850</td>\n",
       "    </tr>\n",
       "    <tr>\n",
       "      <th>50%</th>\n",
       "      <td>0.984800</td>\n",
       "      <td>0.985193</td>\n",
       "      <td>0.984700</td>\n",
       "    </tr>\n",
       "    <tr>\n",
       "      <th>75%</th>\n",
       "      <td>0.986750</td>\n",
       "      <td>0.986993</td>\n",
       "      <td>0.986450</td>\n",
       "    </tr>\n",
       "    <tr>\n",
       "      <th>max</th>\n",
       "      <td>0.988400</td>\n",
       "      <td>0.988597</td>\n",
       "      <td>0.988300</td>\n",
       "    </tr>\n",
       "  </tbody>\n",
       "</table>\n",
       "</div>"
      ],
      "text/plain": [
       "      accuracy  precision    recall\n",
       "mean  0.918064   0.929211  0.893882\n",
       "std   0.215622   0.180490  0.294785\n",
       "min   0.268100   0.385185  0.005200\n",
       "25%   0.978300   0.979074  0.977850\n",
       "50%   0.984800   0.985193  0.984700\n",
       "75%   0.986750   0.986993  0.986450\n",
       "max   0.988400   0.988597  0.988300"
      ]
     },
     "execution_count": 23,
     "metadata": {},
     "output_type": "execute_result"
    }
   ],
   "source": [
    "scores_data_4 = pd.DataFrame(columns=['accuracy', 'precision', 'recall'])\n",
    "\n",
    "for i in range(10):\n",
    "    scores_i = change_weights_conv2d(model, [-1, 1]).evaluate(x = test_images, y = test_labels, verbose = 0)\n",
    "    scores_data_4 = add_score(scores_data_3, scores_i)\n",
    "    \n",
    "scores_data_4.describe().drop('count')"
   ]
  },
  {
   "cell_type": "markdown",
   "id": "fluid-journey",
   "metadata": {},
   "source": [
    "Widać, że zmiana wag w obrębie jednej warstwy może bardzo znacząco wpłynąć na model - mamy bardzo niskie minimalne wyniki. Wysokie odchylenie standardowe pokazuje, że w tym przypadku wielkie znaczenie mają wylosowane wartości, co nie było aż tak widoczne przy poprzednich ewaluacjach. Oczywiście takie wyniki są także głównie spowodowane tym, że prezentowany model nie ma dużej liczby warstw (więc naturalnym wydaje się duże pogorszenie wyników modelu przy takiej ingerencji w jedną z warstw)."
   ]
  },
  {
   "cell_type": "markdown",
   "id": "matched-expense",
   "metadata": {},
   "source": [
    "### Warstwa dense"
   ]
  },
  {
   "cell_type": "code",
   "execution_count": 25,
   "id": "optimum-purpose",
   "metadata": {},
   "outputs": [],
   "source": [
    "def change_weights_dense(model, interval=[0, 2]):\n",
    "    new_model = models.clone_model(model)\n",
    "    new_model.build((None, 10))\n",
    "    new_model.compile(optimizer='rmsprop',\n",
    "                loss='categorical_crossentropy',\n",
    "                metrics=['accuracy', metrics.Precision(), metrics.Recall()])\n",
    "    new_model.set_weights(model.get_weights())\n",
    "    layer_5 = deepcopy(new_model.layers[5].get_weights())\n",
    "    new_model.layers[5].set_weights(changed_weights_2(layer_5, interval))\n",
    "    return new_model"
   ]
  },
  {
   "cell_type": "code",
   "execution_count": 26,
   "id": "fifth-drove",
   "metadata": {},
   "outputs": [
    {
     "data": {
      "text/html": [
       "<div>\n",
       "<style scoped>\n",
       "    .dataframe tbody tr th:only-of-type {\n",
       "        vertical-align: middle;\n",
       "    }\n",
       "\n",
       "    .dataframe tbody tr th {\n",
       "        vertical-align: top;\n",
       "    }\n",
       "\n",
       "    .dataframe thead th {\n",
       "        text-align: right;\n",
       "    }\n",
       "</style>\n",
       "<table border=\"1\" class=\"dataframe\">\n",
       "  <thead>\n",
       "    <tr style=\"text-align: right;\">\n",
       "      <th></th>\n",
       "      <th>accuracy</th>\n",
       "      <th>precision</th>\n",
       "      <th>recall</th>\n",
       "    </tr>\n",
       "  </thead>\n",
       "  <tbody>\n",
       "    <tr>\n",
       "      <th>mean</th>\n",
       "      <td>0.989900</td>\n",
       "      <td>0.990057</td>\n",
       "      <td>0.989800</td>\n",
       "    </tr>\n",
       "    <tr>\n",
       "      <th>std</th>\n",
       "      <td>0.000542</td>\n",
       "      <td>0.000532</td>\n",
       "      <td>0.000533</td>\n",
       "    </tr>\n",
       "    <tr>\n",
       "      <th>min</th>\n",
       "      <td>0.988700</td>\n",
       "      <td>0.988799</td>\n",
       "      <td>0.988700</td>\n",
       "    </tr>\n",
       "    <tr>\n",
       "      <th>25%</th>\n",
       "      <td>0.989725</td>\n",
       "      <td>0.989897</td>\n",
       "      <td>0.989525</td>\n",
       "    </tr>\n",
       "    <tr>\n",
       "      <th>50%</th>\n",
       "      <td>0.989850</td>\n",
       "      <td>0.990046</td>\n",
       "      <td>0.989850</td>\n",
       "    </tr>\n",
       "    <tr>\n",
       "      <th>75%</th>\n",
       "      <td>0.990250</td>\n",
       "      <td>0.990373</td>\n",
       "      <td>0.990150</td>\n",
       "    </tr>\n",
       "    <tr>\n",
       "      <th>max</th>\n",
       "      <td>0.990600</td>\n",
       "      <td>0.990698</td>\n",
       "      <td>0.990500</td>\n",
       "    </tr>\n",
       "  </tbody>\n",
       "</table>\n",
       "</div>"
      ],
      "text/plain": [
       "      accuracy  precision    recall\n",
       "mean  0.989900   0.990057  0.989800\n",
       "std   0.000542   0.000532  0.000533\n",
       "min   0.988700   0.988799  0.988700\n",
       "25%   0.989725   0.989897  0.989525\n",
       "50%   0.989850   0.990046  0.989850\n",
       "75%   0.990250   0.990373  0.990150\n",
       "max   0.990600   0.990698  0.990500"
      ]
     },
     "execution_count": 26,
     "metadata": {},
     "output_type": "execute_result"
    }
   ],
   "source": [
    "scores_data_5 = pd.DataFrame(columns=['accuracy', 'precision', 'recall'])\n",
    "\n",
    "for i in range(10):\n",
    "    scores_i = change_weights_dense(model).evaluate(x = test_images, y = test_labels, verbose = 0)\n",
    "    scores_data_5 = add_score(scores_data_5, scores_i)\n",
    "    \n",
    "scores_data_5.describe().drop('count')"
   ]
  },
  {
   "cell_type": "markdown",
   "id": "going-client",
   "metadata": {},
   "source": [
    "Uzyskaliśmy dobre wyniki i małe odchylenie standardowe. Widać, że ta warstwa jest znacznie mniej wrażliwa od warstwy conv2d (porównując oczywiście z wynikami przy ustalonych przedziałach [0, 2]), może to być spowodowane na przykład tym, że warstawa conv2d jest pierwszą warstwą."
   ]
  },
  {
   "cell_type": "markdown",
   "id": "retired-container",
   "metadata": {},
   "source": [
    "## Zjawisko niepewności w sieciach neuronowych"
   ]
  },
  {
   "cell_type": "markdown",
   "id": "spoken-plain",
   "metadata": {},
   "source": [
    "Niepewność w ogólności pomaga ocenić jak model jest pewny swojej predykcji. W sieciach neuronowych jest to zadanie bardzo trudne (na przykładach podczas zajęć widzieliśmy sytuacje, w których modele były na 99% pewne swoich złych decyzji ze względu na peturbacje danych). Sieci neuronowe są często bardzo wrażliwe na zaprezentowane wcześniej peturbacje, a przy ich występowaniu często niepewność modelu jest bardzo myląca. Wiążą się z tym takie metody jak na przykłada data augmentation, czyli przekształcenie zbioru treningowego dodając właśnie różne peturbacje w procesie uczenia i w ten sposób zwiększając ilość danych."
   ]
  },
  {
   "cell_type": "markdown",
   "id": "progressive-spouse",
   "metadata": {},
   "source": [
    "#### Źródła\n",
    "\n",
    "* https://arxiv.org/abs/1901.07152\n",
    "* https://cs.adelaide.edu.au/~javen/talk/ML05_Uncertainty_in_DL.pdf"
   ]
  }
 ],
 "metadata": {
  "kernelspec": {
   "display_name": "Python 3",
   "language": "python",
   "name": "python3"
  },
  "language_info": {
   "codemirror_mode": {
    "name": "ipython",
    "version": 3
   },
   "file_extension": ".py",
   "mimetype": "text/x-python",
   "name": "python",
   "nbconvert_exporter": "python",
   "pygments_lexer": "ipython3",
   "version": "3.8.3"
  }
 },
 "nbformat": 4,
 "nbformat_minor": 5
}
