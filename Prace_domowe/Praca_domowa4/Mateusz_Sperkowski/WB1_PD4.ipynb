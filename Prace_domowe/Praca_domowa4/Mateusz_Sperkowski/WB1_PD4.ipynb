{
 "cells": [
  {
   "cell_type": "markdown",
   "metadata": {
    "id": "SXnMmCYz_Ivj"
   },
   "source": [
    "# PD4 - *Sensitive analysis*\n"
   ]
  },
  {
   "cell_type": "code",
   "execution_count": 1,
   "metadata": {
    "id": "k2PmhT-N_C8Z"
   },
   "outputs": [],
   "source": [
    "from tensorflow.keras.datasets import cifar10\n",
    "from tensorflow.keras.models import Sequential\n",
    "from tensorflow.keras.layers import Dense, Flatten, Conv2D, MaxPooling2D\n",
    "from tensorflow.keras.losses import sparse_categorical_crossentropy\n",
    "from tensorflow.keras.optimizers import Adam\n",
    "from tensorflow.keras.models import load_model\n",
    "from sklearn.preprocessing import StandardScaler\n",
    "import matplotlib.pyplot as plt\n",
    "import numpy as np"
   ]
  },
  {
   "cell_type": "markdown",
   "metadata": {
    "id": "2VGjYrSAhAn7"
   },
   "source": [
    "## Cifar10 Model\n",
    "Source: Christian Versloot at https://www.machinecurve.com/index.php/2020/02/09/how-to-build-a-convnet-for-cifar-10-and-cifar-100-classification-with-keras/"
   ]
  },
  {
   "cell_type": "code",
   "execution_count": 2,
   "metadata": {
    "id": "jf_9rgKy2MC7"
   },
   "outputs": [],
   "source": [
    "(input_train, target_train), (input_test, target_test) = cifar10.load_data()\n",
    "input_train = input_train.astype('float32')\n",
    "input_test = input_test.astype('float32')\n",
    "\n",
    "input_train = input_train / 255\n",
    "input_test = input_test / 255\n",
    "def train_model(input_train=input_train, target_train=target_train):\n",
    "  batch_size = 50\n",
    "  img_width, img_height, img_num_channels = 32, 32, 3\n",
    "  loss_function = sparse_categorical_crossentropy\n",
    "  no_classes = 10\n",
    "  no_epochs = 100\n",
    "  optimizer = Adam()\n",
    "  validation_split = 0.2\n",
    "  verbosity = 1\n",
    "\n",
    "  input_shape = (img_width, img_height, img_num_channels)\n",
    "\n",
    "  model_ = Sequential()\n",
    "  model_.add(Conv2D(32, kernel_size=(3, 3), activation='relu', input_shape=input_shape))\n",
    "  model_.add(MaxPooling2D(pool_size=(2, 2)))\n",
    "  model_.add(Conv2D(64, kernel_size=(3, 3), activation='relu'))\n",
    "  model_.add(MaxPooling2D(pool_size=(2, 2)))\n",
    "  model_.add(Conv2D(128, kernel_size=(3, 3), activation='relu'))\n",
    "  model_.add(MaxPooling2D(pool_size=(2, 2)))\n",
    "  model_.add(Flatten())\n",
    "  model_.add(Dense(256, activation='relu'))\n",
    "  model_.add(Dense(128, activation='relu'))\n",
    "  model_.add(Dense(no_classes, activation='softmax'))\n",
    "  # Compile the model\n",
    "  model_.compile(loss=loss_function,\n",
    "                optimizer=optimizer,\n",
    "                metrics=['accuracy'])\n",
    "\n",
    "  # Fit data to model\n",
    "  history_ = model_.fit(input_train, target_train,\n",
    "              batch_size=batch_size,\n",
    "              epochs=no_epochs,\n",
    "              verbose=verbosity,\n",
    "              validation_split=validation_split)\n",
    "  return model_, history_"
   ]
  },
  {
   "cell_type": "code",
   "execution_count": 3,
   "metadata": {
    "id": "8HaBYsMU5xl0"
   },
   "outputs": [],
   "source": [
    "img_width, img_height, img_num_channels = 32, 32, 3"
   ]
  },
  {
   "cell_type": "markdown",
   "metadata": {
    "id": "Fpv8Ele6jdPF"
   },
   "source": [
    "## Perturbacja Danych Testowych"
   ]
  },
  {
   "cell_type": "code",
   "execution_count": 4,
   "metadata": {
    "id": "gdNRwvLZ2c-l"
   },
   "outputs": [],
   "source": [
    "#My Code\n",
    "#model, history = train_model()\n",
    "#mode.save('./model.keras')"
   ]
  },
  {
   "cell_type": "code",
   "execution_count": 5,
   "metadata": {
    "id": "D2kgzbnCT-dZ"
   },
   "outputs": [],
   "source": [
    "model = load_model(\"./model.keras\")"
   ]
  },
  {
   "cell_type": "code",
   "execution_count": 6,
   "metadata": {
    "id": "5Mn3oLt0xbWh"
   },
   "outputs": [],
   "source": [
    "def perturb(data, fraction=0.1):\n",
    "  noise = np.random.random(np.prod(data.shape))*fraction\n",
    "  noise = noise.reshape(data.shape)\n",
    "  data_perturbed = (data + noise)/(1+fraction)\n",
    "  return data_perturbed, noise"
   ]
  },
  {
   "cell_type": "code",
   "execution_count": 7,
   "metadata": {
    "id": "LjDtfjMLZ1Hk"
   },
   "outputs": [],
   "source": [
    "def print_mean_var(arr, fraction = 0.1):\n",
    "  print()\n",
    "  print(f\"Fraction = {fraction}\")\n",
    "  print(f\"Mean accuracy is equal to: {np.mean(arr)}\")\n",
    "  print(f\"Accuracy variance is equal to: {np.var(arr)}\")\n",
    "  print(f\"Accuracy standard deviance is equal to: {np.std(arr)}\")"
   ]
  },
  {
   "cell_type": "code",
   "execution_count": 8,
   "metadata": {
    "id": "0CN3l27JK5zj"
   },
   "outputs": [],
   "source": [
    "cifar10 = {0:\"Airplane\",\n",
    "          1:\"Automobile\",\n",
    "          2:\"Bird\",\n",
    "          3:\"Cat\",\n",
    "          4:\"Dee\",\n",
    "          5:\"Dog\",\n",
    "          6:\"Frog\",\n",
    "          7:\"Horse\",\n",
    "          8:\"Ship\",\n",
    "          9:\"Truck\"}"
   ]
  },
  {
   "cell_type": "code",
   "execution_count": 9,
   "metadata": {
    "id": "lz7_6ULmSZ73"
   },
   "outputs": [],
   "source": [
    "def get_predictions(predic_arr, threshold = 1.0e-2):\n",
    "  global cifar10\n",
    "  predic_arr = predic_arr[0]\n",
    "  indices = np.nonzero(predic_arr > threshold)\n",
    "  for i in indices[0]:\n",
    "    print(f\"{cifar10[i]} with prob. of: {predic_arr[i]}\")"
   ]
  },
  {
   "cell_type": "code",
   "execution_count": 10,
   "metadata": {
    "colab": {
     "base_uri": "https://localhost:8080/",
     "height": 281
    },
    "id": "8zdmlEu7LaBU",
    "outputId": "1d35cd3d-abc6-48cf-d97c-458f5627801b"
   },
   "outputs": [
    {
     "data": {
      "image/png": "[encoded data removed]",
      "text/plain": [
       "<Figure size 432x288 with 1 Axes>"
      ]
     },
     "metadata": {
      "needs_background": "light",
      "tags": []
     },
     "output_type": "display_data"
    }
   ],
   "source": [
    "i = np.random.randint(0,10000)\n",
    "plt.imshow(input_test[i])\n",
    "plt.title(cifar10[target_test[i][0]])\n",
    "plt.show()"
   ]
  },
  {
   "cell_type": "code",
   "execution_count": 11,
   "metadata": {
    "colab": {
     "base_uri": "https://localhost:8080/"
    },
    "id": "8zFQBmW_arFm",
    "outputId": "68b139e2-4a22-4e80-9af1-7386eeed7b73"
   },
   "outputs": [
    {
     "name": "stdout",
     "output_type": "stream",
     "text": [
      "(10000, 32, 32, 3)\n",
      "(32, 32, 3)\n"
     ]
    }
   ],
   "source": [
    "index = 6\n",
    "photo = input_test[index]\n",
    "test_len = input_test.shape[0]\n",
    "print(input_test.shape)\n",
    "print(photo.shape)"
   ]
  },
  {
   "cell_type": "code",
   "execution_count": 12,
   "metadata": {
    "id": "qT1dz86mbKuX"
   },
   "outputs": [],
   "source": [
    "photo_perturbed, photo_noise = perturb(photo, fraction=0.1)"
   ]
  },
  {
   "cell_type": "code",
   "execution_count": 13,
   "metadata": {
    "colab": {
     "base_uri": "https://localhost:8080/",
     "height": 310
    },
    "id": "cZNXKULmkB71",
    "outputId": "a463982d-e749-4c4f-82f3-3af486f85faa"
   },
   "outputs": [
    {
     "data": {
      "image/png": "[encoded data removed]",
      "text/plain": [
       "<Figure size 1080x1080 with 3 Axes>"
      ]
     },
     "metadata": {
      "needs_background": "light",
      "tags": []
     },
     "output_type": "display_data"
    }
   ],
   "source": [
    "f, (ax1, ax2, ax3) = plt.subplots(ncols=3, figsize = (15,15))\n",
    "name_photo = cifar10[target_test[index][0]]\n",
    "ax1.imshow(photo)\n",
    "ax1.set_title(name_photo)\n",
    "ax2.imshow(photo_noise)\n",
    "ax2.set_title('Noise')\n",
    "ax3.imshow(photo_perturbed)\n",
    "ax3.set_title(f'{name_photo} perturbed')\n",
    "plt.show()"
   ]
  },
  {
   "cell_type": "code",
   "execution_count": 14,
   "metadata": {
    "colab": {
     "base_uri": "https://localhost:8080/"
    },
    "id": "Z-CRslDhvvkb",
    "outputId": "5caeed61-5acb-4b7b-ebc2-11d40e4fa0aa"
   },
   "outputs": [
    {
     "name": "stdout",
     "output_type": "stream",
     "text": [
      "Automobile with prob. of: 1.0\n"
     ]
    }
   ],
   "source": [
    "get_predictions(model.predict(photo.reshape(1,32,32,3)))"
   ]
  },
  {
   "cell_type": "code",
   "execution_count": 15,
   "metadata": {
    "colab": {
     "base_uri": "https://localhost:8080/"
    },
    "id": "TOwZejbYkr1Q",
    "outputId": "1bec6ba3-9891-4b0c-d3e1-04bb70520380"
   },
   "outputs": [
    {
     "name": "stdout",
     "output_type": "stream",
     "text": [
      "Automobile with prob. of: 0.9999934434890747\n"
     ]
    }
   ],
   "source": [
    "get_predictions(model.predict(photo_perturbed.reshape(1,32,32,3)))"
   ]
  },
  {
   "cell_type": "code",
   "execution_count": 16,
   "metadata": {
    "id": "mt4Zq6sP4Cpg"
   },
   "outputs": [],
   "source": [
    "input_test_perturbed, noise = perturb(input_test)"
   ]
  },
  {
   "cell_type": "code",
   "execution_count": 17,
   "metadata": {
    "colab": {
     "base_uri": "https://localhost:8080/"
    },
    "id": "MajOMAiZ16BC",
    "outputId": "d71cb50a-a9c4-4526-8316-7ddb5e533cbd"
   },
   "outputs": [
    {
     "name": "stdout",
     "output_type": "stream",
     "text": [
      "Original loss: 3.2502965927124023 / Test accuracy: 0.6865000128746033\n",
      "Noise-Test loss: 3.1293702125549316 / Test accuracy: 0.6748999953269958\n"
     ]
    }
   ],
   "source": [
    "score_org = model.evaluate(input_test, target_test, verbose=0)\n",
    "print(f'Original loss: {score_org[0]} / Test accuracy: {score_org[1]}')\n",
    "score = model.evaluate(input_test_perturbed, target_test, verbose=0)\n",
    "print(f'Noise-Test loss: {score[0]} / Test accuracy: {score[1]}')"
   ]
  },
  {
   "cell_type": "code",
   "execution_count": 18,
   "metadata": {
    "colab": {
     "base_uri": "https://localhost:8080/"
    },
    "id": "tYZKC6NmdP0x",
    "outputId": "8c1668d6-9fec-4979-ff54-557da0f83858"
   },
   "outputs": [
    {
     "name": "stdout",
     "output_type": "stream",
     "text": [
      "\n",
      "Fraction = 0.1\n",
      "Mean accuracy is equal to: 0.6732599973678589\n",
      "Accuracy variance is equal to: 1.5904109284292647e-06\n",
      "Accuracy standard deviance is equal to: 0.0012611149544864118\n",
      "\n",
      "Fraction = 0.2\n",
      "Mean accuracy is equal to: 0.6388200044631958\n",
      "Accuracy variance is equal to: 8.621613176842401e-06\n",
      "Accuracy standard deviance is equal to: 0.002936258363435071\n",
      "\n",
      "Fraction = 0.3\n",
      "Mean accuracy is equal to: 0.5798799991607666\n",
      "Accuracy variance is equal to: 1.9615872560052596e-06\n",
      "Accuracy standard deviance is equal to: 0.0014005667624234339\n",
      "\n",
      "Fraction = 0.4\n",
      "Mean accuracy is equal to: 0.500979995727539\n",
      "Accuracy variance is equal to: 1.271354023600679e-05\n",
      "Accuracy standard deviance is equal to: 0.003565605171076404\n",
      "\n",
      "Fraction = 0.5\n",
      "Mean accuracy is equal to: 0.4283600032329559\n",
      "Accuracy variance is equal to: 8.47443847241891e-06\n",
      "Accuracy standard deviance is equal to: 0.0029110888808861384\n"
     ]
    }
   ],
   "source": [
    "for frac in range(1,6):\n",
    "  frac = frac/10\n",
    "  res = []\n",
    "  for i in range(5):\n",
    "    input_test_perturbed, noise = perturb(input_test, fraction=frac)\n",
    "    acc = model.evaluate(input_test_perturbed, target_test, verbose=0)[1]\n",
    "    res.append(acc)\n",
    "  print_mean_var(res, fraction = frac)"
   ]
  },
  {
   "cell_type": "markdown",
   "metadata": {
    "id": "RhtizTJ0qi01"
   },
   "source": [
    "## Modyfikacja wag jednej warstwy\n",
    "\n",
    "https://keras.io/api/layers/base_layer/"
   ]
  },
  {
   "cell_type": "code",
   "execution_count": 19,
   "metadata": {
    "id": "AHQsegPQ9gdN"
   },
   "outputs": [],
   "source": [
    "def perturb_test_reset(layer, model, to_perturb = True, perturb_fraction=0.1, reset=True, verbose=False):\n",
    "  global input_test, input_train\n",
    "  prev_weights = layer.get_weights()\n",
    "  conv_weights = prev_weights[0]\n",
    "  bias_weights = prev_weights[1]\n",
    "  if to_perturb:\n",
    "    (bias_perturbed, _), (conv_perturbed, _)  = (perturb(bias_weights, fraction=perturb_fraction), \n",
    "                                                perturb(conv_weights, fraction=perturb_fraction))\n",
    "    layer.set_weights([conv_perturbed, bias_perturbed])\n",
    "\n",
    "  score = model.evaluate(input_test, target_test, verbose=0)\n",
    "  name = layer.get_config()['name']\n",
    "  if verbose:\n",
    "    print(f'{\"Noise-\" if to_perturb else \"Org-\"}Test loss for {name}: {score[0]} / Test accuracy: {score[1]}')\n",
    "  if reset:\n",
    "    layer.set_weights(prev_weights)\n",
    "  return score, name"
   ]
  },
  {
   "cell_type": "code",
   "execution_count": 31,
   "metadata": {
    "id": "bSFLG29eNNBU"
   },
   "outputs": [],
   "source": [
    "def reload_model():\n",
    "  model = load_model('model.keras')\n",
    "  layers_conv = model.layers[0:5:2]\n",
    "  layers_dens = model.layers[-3:]\n",
    "  layers_to_perturb = layers_conv + layers_dens\n",
    "  return model, layers_to_perturb"
   ]
  },
  {
   "cell_type": "code",
   "execution_count": 20,
   "metadata": {
    "colab": {
     "base_uri": "https://localhost:8080/"
    },
    "id": "JEpHwQo5rrB4",
    "outputId": "ac1a98ec-2407-4a5c-b49a-afd77157f977"
   },
   "outputs": [
    {
     "name": "stdout",
     "output_type": "stream",
     "text": [
      "Model: \"sequential\"\n",
      "_________________________________________________________________\n",
      "Layer (type)                 Output Shape              Param #   \n",
      "=================================================================\n",
      "conv2d (Conv2D)              (None, 30, 30, 32)        896       \n",
      "_________________________________________________________________\n",
      "max_pooling2d (MaxPooling2D) (None, 15, 15, 32)        0         \n",
      "_________________________________________________________________\n",
      "conv2d_1 (Conv2D)            (None, 13, 13, 64)        18496     \n",
      "_________________________________________________________________\n",
      "max_pooling2d_1 (MaxPooling2 (None, 6, 6, 64)          0         \n",
      "_________________________________________________________________\n",
      "conv2d_2 (Conv2D)            (None, 4, 4, 128)         73856     \n",
      "_________________________________________________________________\n",
      "max_pooling2d_2 (MaxPooling2 (None, 2, 2, 128)         0         \n",
      "_________________________________________________________________\n",
      "flatten (Flatten)            (None, 512)               0         \n",
      "_________________________________________________________________\n",
      "dense (Dense)                (None, 256)               131328    \n",
      "_________________________________________________________________\n",
      "dense_1 (Dense)              (None, 128)               32896     \n",
      "_________________________________________________________________\n",
      "dense_2 (Dense)              (None, 10)                1290      \n",
      "=================================================================\n",
      "Total params: 258,762\n",
      "Trainable params: 258,762\n",
      "Non-trainable params: 0\n",
      "_________________________________________________________________\n",
      "None\n"
     ]
    },
    {
     "data": {
      "text/plain": [
       "[<tensorflow.python.keras.layers.convolutional.Conv2D at 0x7f0a8bccc050>,\n",
       " <tensorflow.python.keras.layers.pooling.MaxPooling2D at 0x7f0a45161e10>,\n",
       " <tensorflow.python.keras.layers.convolutional.Conv2D at 0x7f0a41985450>,\n",
       " <tensorflow.python.keras.layers.pooling.MaxPooling2D at 0x7f0a419bb690>,\n",
       " <tensorflow.python.keras.layers.convolutional.Conv2D at 0x7f0a419ac250>,\n",
       " <tensorflow.python.keras.layers.pooling.MaxPooling2D at 0x7f0a4194a890>,\n",
       " <tensorflow.python.keras.layers.core.Flatten at 0x7f0a41950750>,\n",
       " <tensorflow.python.keras.layers.core.Dense at 0x7f0a419f2950>,\n",
       " <tensorflow.python.keras.layers.core.Dense at 0x7f0a4194a0d0>,\n",
       " <tensorflow.python.keras.layers.core.Dense at 0x7f0a4196b650>]"
      ]
     },
     "execution_count": 20,
     "metadata": {
      "tags": []
     },
     "output_type": "execute_result"
    }
   ],
   "source": [
    "print(model.summary())\n",
    "model.layers"
   ]
  },
  {
   "cell_type": "code",
   "execution_count": 38,
   "metadata": {
    "id": "o2CF2-G7qnIu"
   },
   "outputs": [],
   "source": [
    "model, layers_to_perturb = reload_model()"
   ]
  },
  {
   "cell_type": "code",
   "execution_count": 39,
   "metadata": {
    "colab": {
     "base_uri": "https://localhost:8080/"
    },
    "id": "QlyR43LJqSnl",
    "outputId": "65b170a8-b9f5-4b5c-f066-3db091607b91"
   },
   "outputs": [
    {
     "name": "stdout",
     "output_type": "stream",
     "text": [
      "(3, 3, 3, 32)\n",
      "Original loss: 3.2502965927124023 / Test accuracy: 0.6865000128746033\n",
      "Noise-Test loss for conv2d: 15.44432544708252 / Test accuracy: 0.15129999816417694\n"
     ]
    }
   ],
   "source": [
    "first = model.layers[0]\n",
    "all_weights = first.get_weights()\n",
    "print(all_weights[0].shape)\n",
    "print(f'Original loss: {score_org[0]} / Test accuracy: {score_org[1]}')\n",
    "tmp = perturb_test_reset(first, model, verbose = 1)"
   ]
  },
  {
   "cell_type": "code",
   "execution_count": 40,
   "metadata": {
    "colab": {
     "base_uri": "https://localhost:8080/"
    },
    "id": "qy-Oa1GhFHYi",
    "outputId": "906f551d-fb34-45fd-b099-b26482a519c7"
   },
   "outputs": [
    {
     "name": "stdout",
     "output_type": "stream",
     "text": [
      "(128, 10)\n",
      "Original loss: 3.2502965927124023 / Test accuracy: 0.6865000128746033\n",
      "Noise-Test loss for dense_2: 2.995616912841797 / Test accuracy: 0.6804999709129333\n"
     ]
    }
   ],
   "source": [
    "last = model.layers[-1]\n",
    "all_weights = last.get_weights()\n",
    "print(all_weights[0].shape)\n",
    "print(f'Original loss: {score_org[0]} / Test accuracy: {score_org[1]}')\n",
    "tmp = perturb_test_reset(last, model, verbose = True)"
   ]
  },
  {
   "cell_type": "markdown",
   "metadata": {
    "id": "Mw6fiLQx-qZf"
   },
   "source": [
    "Najpierw badam dla jak wpływają różne perturbacje dla kolejnych warstw oddzielnie."
   ]
  },
  {
   "cell_type": "code",
   "execution_count": 41,
   "metadata": {
    "colab": {
     "base_uri": "https://localhost:8080/"
    },
    "id": "80HPWmIUFbcW",
    "outputId": "87c457c8-c3e9-4707-f6da-5b19b722617f"
   },
   "outputs": [
    {
     "name": "stdout",
     "output_type": "stream",
     "text": [
      "Noise-Test loss for conv2d: 17.170639038085938 / Test accuracy: 0.14390000700950623\n",
      "Noise-Test loss for conv2d_1: 4.800327301025391 / Test accuracy: 0.5077000260353088\n",
      "Noise-Test loss for conv2d_2: 5.180874347686768 / Test accuracy: 0.47110000252723694\n",
      "Noise-Test loss for dense: 5.395436763763428 / Test accuracy: 0.6449000239372253\n",
      "Noise-Test loss for dense_1: 6.2662224769592285 / Test accuracy: 0.6807000041007996\n",
      "Noise-Test loss for dense_2: 3.060359239578247 / Test accuracy: 0.6798999905586243\n"
     ]
    }
   ],
   "source": [
    "for layer_ in layers_to_perturb:\n",
    "  tmp = perturb_test_reset(layer_, model, verbose = True)"
   ]
  },
  {
   "cell_type": "code",
   "execution_count": 25,
   "metadata": {
    "colab": {
     "base_uri": "https://localhost:8080/"
    },
    "id": "HkNH2G9zJgfg",
    "outputId": "f709a002-b7b3-4cc2-ad3a-1b2b5335d0bc"
   },
   "outputs": [
    {
     "name": "stdout",
     "output_type": "stream",
     "text": [
      "Noise-Test loss for conv2d: 3.7470953464508057 / Test accuracy: 0.656000018119812\n",
      "Noise-Test loss for conv2d_1: 3.3526711463928223 / Test accuracy: 0.6890000104904175\n",
      "Noise-Test loss for conv2d_2: 3.389786720275879 / Test accuracy: 0.683899998664856\n",
      "Noise-Test loss for dense: 3.4541289806365967 / Test accuracy: 0.6908000111579895\n",
      "Noise-Test loss for dense_1: 3.524454355239868 / Test accuracy: 0.6863999962806702\n",
      "Noise-Test loss for dense_2: 3.220364809036255 / Test accuracy: 0.6858999729156494\n"
     ]
    }
   ],
   "source": [
    "for layer_ in layers_to_perturb:\n",
    "  tmp = perturb_test_reset(layer_, model, verbose = True, perturb_fraction=0.01)"
   ]
  },
  {
   "cell_type": "code",
   "execution_count": 26,
   "metadata": {
    "colab": {
     "base_uri": "https://localhost:8080/"
    },
    "id": "sNQMs8uXKujN",
    "outputId": "6c0d0473-3ab1-41a9-cd84-fb5314157482"
   },
   "outputs": [
    {
     "name": "stdout",
     "output_type": "stream",
     "text": [
      "Noise-Test loss for conv2d: 35.39017868041992 / Test accuracy: 0.11389999836683273\n",
      "Noise-Test loss for conv2d_1: 5.092393398284912 / Test accuracy: 0.11829999834299088\n",
      "Noise-Test loss for conv2d_2: 53.33842468261719 / Test accuracy: 0.11749999970197678\n",
      "Noise-Test loss for dense: 42.70233917236328 / Test accuracy: 0.2623000144958496\n",
      "Noise-Test loss for dense_1: 29.112707138061523 / Test accuracy: 0.4083000123500824\n",
      "Noise-Test loss for dense_2: 4.032018661499023 / Test accuracy: 0.5781000256538391\n"
     ]
    }
   ],
   "source": [
    "for layer_ in layers_to_perturb:\n",
    "  tmp = perturb_test_reset(layer_, model, verbose = True, perturb_fraction=0.5)"
   ]
  },
  {
   "cell_type": "code",
   "execution_count": 27,
   "metadata": {
    "colab": {
     "base_uri": "https://localhost:8080/"
    },
    "id": "3Ac02V7gH53P",
    "outputId": "cbac6847-1ef1-424c-cd00-3796a5fe837e"
   },
   "outputs": [
    {
     "name": "stdout",
     "output_type": "stream",
     "text": [
      "Noise-Test loss for conv2d_1: 4.790613651275635 / Test accuracy: 0.5074999928474426\n",
      "Noise-Test loss for conv2d_1: 4.862574577331543 / Test accuracy: 0.498199999332428\n",
      "Noise-Test loss for conv2d_1: 4.679265022277832 / Test accuracy: 0.5153999924659729\n",
      "Noise-Test loss for conv2d_1: 4.68638801574707 / Test accuracy: 0.5142999887466431\n",
      "Noise-Test loss for conv2d_1: 4.712646007537842 / Test accuracy: 0.5139999985694885\n",
      "\n",
      "Fraction = 0.1\n",
      "Mean accuracy is equal to: 0.5098799943923951\n",
      "Accuracy variance is equal to: 4.181357103959727e-05\n",
      "Accuracy standard deviance is equal to: 0.006466341395224758\n"
     ]
    }
   ],
   "source": [
    "res = []\n",
    "for i in range(5):\n",
    "  accuracy = perturb_test_reset(model.layers[2], model, verbose = True)[0][1]\n",
    "  res.append(accuracy)\n",
    "print_mean_var(res)"
   ]
  },
  {
   "cell_type": "code",
   "execution_count": 28,
   "metadata": {
    "colab": {
     "base_uri": "https://localhost:8080/"
    },
    "id": "G2gns2vIItUK",
    "outputId": "7f97b063-d2fd-42f5-c4ab-766c275ae341"
   },
   "outputs": [
    {
     "name": "stdout",
     "output_type": "stream",
     "text": [
      "Noise-Test loss for conv2d_1: 3.3647007942199707 / Test accuracy: 0.6876999735832214\n",
      "Noise-Test loss for conv2d_1: 3.36139178276062 / Test accuracy: 0.6883000135421753\n",
      "Noise-Test loss for conv2d_1: 3.3624844551086426 / Test accuracy: 0.6884999871253967\n",
      "Noise-Test loss for conv2d_1: 3.3538007736206055 / Test accuracy: 0.6888999938964844\n",
      "Noise-Test loss for conv2d_1: 3.356595277786255 / Test accuracy: 0.6884999871253967\n",
      "\n",
      "Fraction = 0.01\n",
      "Mean accuracy is equal to: 0.688379991054535\n",
      "Accuracy variance is equal to: 1.5360424669097485e-07\n",
      "Accuracy standard deviance is equal to: 0.00039192377663389453\n"
     ]
    }
   ],
   "source": [
    "res = []\n",
    "frac = 0.01\n",
    "for i in range(5):\n",
    "  accuracy = perturb_test_reset(model.layers[2], model, verbose = True, perturb_fraction=frac)[0][1]\n",
    "  res.append(accuracy)\n",
    "print_mean_var(res, fraction = frac)"
   ]
  },
  {
   "cell_type": "code",
   "execution_count": 29,
   "metadata": {
    "colab": {
     "base_uri": "https://localhost:8080/"
    },
    "id": "vUUkQ_J2LqQc",
    "outputId": "37c6e511-c1cb-4b5b-ddcb-daa8ae1d3d0e"
   },
   "outputs": [
    {
     "name": "stdout",
     "output_type": "stream",
     "text": [
      "Noise-Test loss for dense_2: 3.125653028488159 / Test accuracy: 0.6830999851226807\n",
      "Noise-Test loss for dense_2: 3.139719247817993 / Test accuracy: 0.6845999956130981\n",
      "Noise-Test loss for dense_2: 3.0971479415893555 / Test accuracy: 0.6830999851226807\n",
      "Noise-Test loss for dense_2: 3.1046931743621826 / Test accuracy: 0.6863999962806702\n",
      "Noise-Test loss for dense_2: 3.1400206089019775 / Test accuracy: 0.6851999759674072\n",
      "\n",
      "Fraction = 0.05\n",
      "Mean accuracy is equal to: 0.6844799876213074\n",
      "Accuracy variance is equal to: 1.6056064362146574e-06\n",
      "Accuracy standard deviance is equal to: 0.0012671252646106687\n"
     ]
    }
   ],
   "source": [
    "res = []\n",
    "frac = 0.05\n",
    "for i in range(5):\n",
    "  accuracy = perturb_test_reset(model.layers[-1], model, verbose = True, perturb_fraction=frac)[0][1]\n",
    "  res.append(accuracy)\n",
    "print_mean_var(res, fraction = frac)"
   ]
  },
  {
   "cell_type": "code",
   "execution_count": 30,
   "metadata": {
    "colab": {
     "base_uri": "https://localhost:8080/"
    },
    "id": "RShy6InjLrIY",
    "outputId": "3b92b273-b7de-4671-9a4b-7e6dcd17fa3d"
   },
   "outputs": [
    {
     "name": "stdout",
     "output_type": "stream",
     "text": [
      "Noise-Test loss for dense_1: 28.808237075805664 / Test accuracy: 0.4025000035762787\n",
      "Noise-Test loss for dense_1: 29.09221839904785 / Test accuracy: 0.39730000495910645\n",
      "Noise-Test loss for dense_1: 26.815881729125977 / Test accuracy: 0.41670000553131104\n",
      "Noise-Test loss for dense_1: 27.025115966796875 / Test accuracy: 0.40790000557899475\n",
      "Noise-Test loss for dense_1: 30.309499740600586 / Test accuracy: 0.38019999861717224\n",
      "\n",
      "Fraction = 0.5\n",
      "Mean accuracy is equal to: 0.40092000365257263\n",
      "Accuracy variance is equal to: 0.00014852965703049392\n",
      "Accuracy standard deviance is equal to: 0.012187274388906402\n"
     ]
    }
   ],
   "source": [
    "res = []\n",
    "frac = 0.5\n",
    "for i in range(5):\n",
    "  accuracy = perturb_test_reset(model.layers[-2], model, verbose = True, perturb_fraction=frac)[0][1]\n",
    "  res.append(accuracy)\n",
    "print_mean_var(res, fraction = frac)"
   ]
  },
  {
   "cell_type": "markdown",
   "metadata": {
    "id": "DvQSAFMUqlPR"
   },
   "source": [
    "## Modyfikacja wag wszystkich warstw"
   ]
  },
  {
   "cell_type": "code",
   "execution_count": 32,
   "metadata": {
    "colab": {
     "base_uri": "https://localhost:8080/"
    },
    "id": "0HEWeVrVJHAK",
    "outputId": "3063868f-d1cd-4550-94a6-ec1f0815f43c"
   },
   "outputs": [
    {
     "name": "stdout",
     "output_type": "stream",
     "text": [
      "\n",
      "Fraction = 0.1\n",
      "Mean accuracy is equal to: 0.15864000022411345\n",
      "Accuracy variance is equal to: 0.0006038305942913348\n",
      "Accuracy standard deviance is equal to: 0.024572964702927785\n"
     ]
    }
   ],
   "source": [
    "model, layers_to_perturb = reload_model()\n",
    "res = []\n",
    "for i in range(5):\n",
    "  for layer_ in layers_to_perturb:\n",
    "    perturb_test_reset(layer_, model, reset=False)\n",
    "  acc = model.evaluate(input_test, target_test, verbose=0)[1]\n",
    "  res.append(acc)\n",
    "  model, layers_to_perturb = reload_model()\n",
    "print_mean_var(res)"
   ]
  },
  {
   "cell_type": "code",
   "execution_count": 33,
   "metadata": {
    "colab": {
     "base_uri": "https://localhost:8080/"
    },
    "id": "12lxofeBOzvn",
    "outputId": "ba3530ee-6e30-4d0e-e1f9-6f0c0919afb7"
   },
   "outputs": [
    {
     "name": "stdout",
     "output_type": "stream",
     "text": [
      "\n",
      "Fraction = 0.01\n",
      "Mean accuracy is equal to: 0.6762799978256225\n",
      "Accuracy variance is equal to: 7.241643465647485e-06\n",
      "Accuracy standard deviance is equal to: 0.0026910301866845503\n"
     ]
    }
   ],
   "source": [
    "model, layers_to_perturb = reload_model()\n",
    "res = []\n",
    "frac = 0.01\n",
    "for i in range(5):\n",
    "  for layer_ in layers_to_perturb:\n",
    "    perturb_test_reset(layer_, model, reset=False, perturb_fraction=frac)\n",
    "  acc = model.evaluate(input_test, target_test, verbose=0)[1]\n",
    "  res.append(acc)\n",
    "  model, layers_to_perturb = reload_model()\n",
    "print_mean_var(res, fraction = frac)"
   ]
  },
  {
   "cell_type": "code",
   "execution_count": 34,
   "metadata": {
    "colab": {
     "base_uri": "https://localhost:8080/"
    },
    "id": "ZKMYtAHAO5QR",
    "outputId": "3d608f17-7760-4cb0-99f4-cb361c39fb6b"
   },
   "outputs": [
    {
     "name": "stdout",
     "output_type": "stream",
     "text": [
      "\n",
      "Fraction = 0.05\n",
      "Mean accuracy is equal to: 0.31546000242233274\n",
      "Accuracy variance is equal to: 0.0003181985330788706\n",
      "Accuracy standard deviance is equal to: 0.017838120222682396\n"
     ]
    }
   ],
   "source": [
    "model, layers_to_perturb = reload_model()\n",
    "res = []\n",
    "frac = 0.05\n",
    "for i in range(5):\n",
    "  for layer_ in layers_to_perturb:\n",
    "    perturb_test_reset(layer_, model, reset=False, perturb_fraction=frac)\n",
    "  acc = model.evaluate(input_test, target_test, verbose=0)[1]\n",
    "  res.append(acc)\n",
    "  model, layers_to_perturb = reload_model()\n",
    "print_mean_var(res, fraction = frac)"
   ]
  },
  {
   "cell_type": "code",
   "execution_count": 37,
   "metadata": {
    "colab": {
     "base_uri": "https://localhost:8080/"
    },
    "id": "uppoRq8f8xsI",
    "outputId": "f83af0d8-7a89-481b-c8ea-e41d280a2964"
   },
   "outputs": [
    {
     "name": "stdout",
     "output_type": "stream",
     "text": [
      "\n",
      "Fraction = [0.02, 0.04, 0.06, 0.08, 0.1, 0.12]\n",
      "Mean accuracy is equal to: 0.5378599882125854\n",
      "Accuracy variance is equal to: 0.0003807381677452781\n",
      "Accuracy standard deviance is equal to: 0.019512513106857303\n"
     ]
    }
   ],
   "source": [
    "#increasing perturbation for each layer\n",
    "model, layers_to_perturb = reload_model()\n",
    "res = []\n",
    "fracs = [0.02*(i+1) for i in range(len(layers_to_perturb))]\n",
    "for i in range(5):\n",
    "  for layer_, frac in zip(layers_to_perturb, fracs):\n",
    "    perturb_test_reset(layer_, model, reset=False, perturb_fraction=frac)\n",
    "  acc = model.evaluate(input_test, target_test, verbose=0)[1]\n",
    "  res.append(acc)\n",
    "  model, layers_to_perturb = reload_model()\n",
    "print_mean_var(res, fraction = fracs)"
   ]
  },
  {
   "cell_type": "code",
   "execution_count": 35,
   "metadata": {
    "id": "Ux2mmDo3PndE"
   },
   "outputs": [],
   "source": [
    "model, layers_to_perturb = reload_model()"
   ]
  },
  {
   "cell_type": "markdown",
   "metadata": {
    "id": "KkfsG9R6aslq"
   },
   "source": [
    "## Zjawisko Niepewności\n",
    "\n",
    "Predykcje sieci neuronowej oczywiście wprost zależą od wag wyliczonych w trakcie trenowania oraz danych wejściowych. Zjawisko niepewności oznacza wpływ małych zmian w danych na końcowy wynik. Znając metodę działania sieci neuronowych (DNN, CNN i RNN), możemy postawić hipoteze że zmiany w pierwszej warstwie będą miały największy wpływ na wynik końcowy. Podstawą tego jest że kolejne warstwy korzystają z wyników poprzednich, więc zmiana pierwszej nakładałaby na siebie coraz to większe zmiany kolejnych warstw. W powyższym badaniu założenie to potwierdziło się na prostym modelu. Najprostsze metody odnoszą się do perturbacji danych testowych, wag jednej lub wielu warstw. (Shu, Hai, and Hongtu Zhu. \"Sensitivity analysis of deep neural networks.\" Proceedings of the AAAI Conference on Artificial Intelligence. Vol. 33. No. 01. 2019. [https://arxiv.org/abs/1901.07152])"
   ]
  }
 ],
 "metadata": {
  "colab": {
   "collapsed_sections": [],
   "name": "WB1-PD4.ipynb",
   "provenance": [],
   "toc_visible": true
  },
  "kernelspec": {
   "display_name": "Python 3",
   "language": "python",
   "name": "python3"
  },
  "language_info": {
   "codemirror_mode": {
    "name": "ipython",
    "version": 3
   },
   "file_extension": ".py",
   "mimetype": "text/x-python",
   "name": "python",
   "nbconvert_exporter": "python",
   "pygments_lexer": "ipython3",
   "version": "3.7.4"
  }
 },
 "nbformat": 4,
 "nbformat_minor": 4
}
