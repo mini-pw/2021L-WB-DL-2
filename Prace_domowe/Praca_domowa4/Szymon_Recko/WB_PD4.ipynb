{
  "nbformat": 4,
  "nbformat_minor": 0,
  "metadata": {
    "colab": {
      "name": "WB PD4.ipynb",
      "provenance": [],
      "collapsed_sections": []
    },
    "kernelspec": {
      "name": "python3",
      "display_name": "Python 3"
    },
    "language_info": {
      "name": "python"
    },
    "accelerator": "GPU"
  },
  "cells": [
    {
      "cell_type": "markdown",
      "metadata": {
        "id": "oR39BvkMmVIU"
      },
      "source": [
        "# Zjawisko niepewności w sieciach neuronowych\n",
        "Dotyczy wpływu małych perturbacji na działanie i skuteczne przewidywania naszego modelu. W artykule https://arxiv.org/abs/1901.07152 przedstawione są 3 sposoby wprowadzania takowych zniekształceń. Należą do nich zmiany trenowalnych parametrów jednej lub wszystkich warstw oraz 'zaszumienie' danych wejściowych."
      ]
    },
    {
      "cell_type": "code",
      "metadata": {
        "id": "unmre3Gv97wQ"
      },
      "source": [
        "import numpy as np\n",
        "import keras\n",
        "import tensorflow as tf\n",
        "from keras.metrics import TruePositives\n",
        "from keras.datasets import cifar10\n",
        "from keras.models import Sequential\n",
        "from keras.layers import Conv2D\n",
        "from keras.layers import MaxPooling2D\n",
        "from keras.layers import Dense\n",
        "from keras.layers import Flatten\n",
        "from keras.layers import Dropout\n",
        "from keras.layers import BatchNormalization\n",
        "from keras.utils.vis_utils import plot_model\n",
        "from keras import backend as K\n",
        "import pandas as pd\n",
        "import seaborn as sns\n",
        "import matplotlib.pyplot as plt"
      ],
      "execution_count": 45,
      "outputs": []
    },
    {
      "cell_type": "markdown",
      "metadata": {
        "id": "VCAiAxVla1VQ"
      },
      "source": [
        "# Dane i model\n",
        "Dane którymi będę się posługiwać jest dobrze znany i lubiany zbiór CIFAR10"
      ]
    },
    {
      "cell_type": "code",
      "metadata": {
        "id": "H6sUfncA_Hpk"
      },
      "source": [
        "(X_train,y_train), (X_test,y_test) = cifar10.load_data()\n",
        "\n",
        "y_train = y_train.reshape(-1)\n",
        "y_test = y_test.reshape(-1)\n",
        "X_test = X_test /255\n",
        "X_train = X_train /255"
      ],
      "execution_count": 46,
      "outputs": []
    },
    {
      "cell_type": "markdown",
      "metadata": {
        "id": "MTwRfNWtaZLp"
      },
      "source": [
        "Źródło modelu: https://machinelearningmastery.com/how-to-develop-a-cnn-from-scratch-for-cifar-10-photo-classification/"
      ]
    },
    {
      "cell_type": "code",
      "metadata": {
        "colab": {
          "base_uri": "https://localhost:8080/"
        },
        "id": "k3eP5gxVCMCm",
        "outputId": "c721db18-1418-425b-f250-9f4d43013a01"
      },
      "source": [
        "model = Sequential()\n",
        "model.add(Conv2D(32, (3, 3), activation='relu', kernel_initializer='he_uniform', padding='same', input_shape=(32, 32, 3)))\n",
        "model.add(BatchNormalization())\n",
        "model.add(Conv2D(32, (3, 3), activation='relu', kernel_initializer='he_uniform', padding='same'))\n",
        "model.add(BatchNormalization())\n",
        "model.add(MaxPooling2D((2, 2)))\n",
        "model.add(Dropout(0.2))\n",
        "model.add(Conv2D(64, (3, 3), activation='relu', kernel_initializer='he_uniform', padding='same'))\n",
        "model.add(BatchNormalization())\n",
        "model.add(Conv2D(64, (3, 3), activation='relu', kernel_initializer='he_uniform', padding='same'))\n",
        "model.add(BatchNormalization())\n",
        "model.add(MaxPooling2D((2, 2)))\n",
        "model.add(Dropout(0.3))\n",
        "model.add(Conv2D(128, (3, 3), activation='relu', kernel_initializer='he_uniform', padding='same'))\n",
        "model.add(BatchNormalization())\n",
        "model.add(Conv2D(128, (3, 3), activation='relu', kernel_initializer='he_uniform', padding='same'))\n",
        "model.add(BatchNormalization())\n",
        "model.add(MaxPooling2D((2, 2)))\n",
        "model.add(Dropout(0.4))\n",
        "model.add(Flatten())\n",
        "model.add(Dense(128, activation='relu', kernel_initializer='he_uniform'))\n",
        "model.add(BatchNormalization())\n",
        "model.add(Dropout(0.5))\n",
        "model.add(Dense(10, activation='softmax'))\n",
        "model.summary()"
      ],
      "execution_count": 47,
      "outputs": [
        {
          "output_type": "stream",
          "text": [
            "Model: \"sequential_1\"\n",
            "_________________________________________________________________\n",
            "Layer (type)                 Output Shape              Param #   \n",
            "=================================================================\n",
            "conv2d_6 (Conv2D)            (None, 32, 32, 32)        896       \n",
            "_________________________________________________________________\n",
            "batch_normalization_7 (Batch (None, 32, 32, 32)        128       \n",
            "_________________________________________________________________\n",
            "conv2d_7 (Conv2D)            (None, 32, 32, 32)        9248      \n",
            "_________________________________________________________________\n",
            "batch_normalization_8 (Batch (None, 32, 32, 32)        128       \n",
            "_________________________________________________________________\n",
            "max_pooling2d_3 (MaxPooling2 (None, 16, 16, 32)        0         \n",
            "_________________________________________________________________\n",
            "dropout_4 (Dropout)          (None, 16, 16, 32)        0         \n",
            "_________________________________________________________________\n",
            "conv2d_8 (Conv2D)            (None, 16, 16, 64)        18496     \n",
            "_________________________________________________________________\n",
            "batch_normalization_9 (Batch (None, 16, 16, 64)        256       \n",
            "_________________________________________________________________\n",
            "conv2d_9 (Conv2D)            (None, 16, 16, 64)        36928     \n",
            "_________________________________________________________________\n",
            "batch_normalization_10 (Batc (None, 16, 16, 64)        256       \n",
            "_________________________________________________________________\n",
            "max_pooling2d_4 (MaxPooling2 (None, 8, 8, 64)          0         \n",
            "_________________________________________________________________\n",
            "dropout_5 (Dropout)          (None, 8, 8, 64)          0         \n",
            "_________________________________________________________________\n",
            "conv2d_10 (Conv2D)           (None, 8, 8, 128)         73856     \n",
            "_________________________________________________________________\n",
            "batch_normalization_11 (Batc (None, 8, 8, 128)         512       \n",
            "_________________________________________________________________\n",
            "conv2d_11 (Conv2D)           (None, 8, 8, 128)         147584    \n",
            "_________________________________________________________________\n",
            "batch_normalization_12 (Batc (None, 8, 8, 128)         512       \n",
            "_________________________________________________________________\n",
            "max_pooling2d_5 (MaxPooling2 (None, 4, 4, 128)         0         \n",
            "_________________________________________________________________\n",
            "dropout_6 (Dropout)          (None, 4, 4, 128)         0         \n",
            "_________________________________________________________________\n",
            "flatten_1 (Flatten)          (None, 2048)              0         \n",
            "_________________________________________________________________\n",
            "dense_2 (Dense)              (None, 128)               262272    \n",
            "_________________________________________________________________\n",
            "batch_normalization_13 (Batc (None, 128)               512       \n",
            "_________________________________________________________________\n",
            "dropout_7 (Dropout)          (None, 128)               0         \n",
            "_________________________________________________________________\n",
            "dense_3 (Dense)              (None, 10)                1290      \n",
            "=================================================================\n",
            "Total params: 552,874\n",
            "Trainable params: 551,722\n",
            "Non-trainable params: 1,152\n",
            "_________________________________________________________________\n"
          ],
          "name": "stdout"
        }
      ]
    },
    {
      "cell_type": "code",
      "metadata": {
        "colab": {
          "base_uri": "https://localhost:8080/"
        },
        "id": "yFDlbBtoC756",
        "outputId": "e46117e9-e63c-4015-bfd9-2b5bc0e5f444"
      },
      "source": [
        "model.compile(optimizer = 'adam', loss = 'sparse_categorical_crossentropy',metrics=['accuracy'])\n",
        "model.fit(X_train,y_train,epochs = 10)"
      ],
      "execution_count": 48,
      "outputs": [
        {
          "output_type": "stream",
          "text": [
            "Epoch 1/10\n",
            "1563/1563 [==============================] - 11s 6ms/step - loss: 1.9549 - accuracy: 0.3635\n",
            "Epoch 2/10\n",
            "1563/1563 [==============================] - 10s 6ms/step - loss: 1.1180 - accuracy: 0.6081\n",
            "Epoch 3/10\n",
            "1563/1563 [==============================] - 10s 6ms/step - loss: 0.9225 - accuracy: 0.6805\n",
            "Epoch 4/10\n",
            "1563/1563 [==============================] - 10s 6ms/step - loss: 0.8140 - accuracy: 0.7192\n",
            "Epoch 5/10\n",
            "1563/1563 [==============================] - 10s 6ms/step - loss: 0.7316 - accuracy: 0.7491\n",
            "Epoch 6/10\n",
            "1563/1563 [==============================] - 10s 6ms/step - loss: 0.6736 - accuracy: 0.7704\n",
            "Epoch 7/10\n",
            "1563/1563 [==============================] - 10s 6ms/step - loss: 0.6299 - accuracy: 0.7840\n",
            "Epoch 8/10\n",
            "1563/1563 [==============================] - 10s 6ms/step - loss: 0.5859 - accuracy: 0.7997\n",
            "Epoch 9/10\n",
            "1563/1563 [==============================] - 10s 6ms/step - loss: 0.5525 - accuracy: 0.8111\n",
            "Epoch 10/10\n",
            "1563/1563 [==============================] - 10s 6ms/step - loss: 0.5168 - accuracy: 0.8217\n"
          ],
          "name": "stdout"
        },
        {
          "output_type": "execute_result",
          "data": {
            "text/plain": [
              "<tensorflow.python.keras.callbacks.History at 0x7f70d23f0410>"
            ]
          },
          "metadata": {
            "tags": []
          },
          "execution_count": 48
        }
      ]
    },
    {
      "cell_type": "markdown",
      "metadata": {
        "id": "syrp7fkIoATU"
      },
      "source": [
        "Tutaj sprawdzamy jak nasz model sobie radzi przed wprowadzeniem jakichkolwiek zmian oraz zapisujemy wszystie wytrenowane parametry."
      ]
    },
    {
      "cell_type": "code",
      "metadata": {
        "colab": {
          "base_uri": "https://localhost:8080/",
          "height": 99
        },
        "id": "H8vQeMqVDr6b",
        "outputId": "083ea2e1-996f-4538-9a0a-dcdb5491f22c"
      },
      "source": [
        "layers_weights=[]\n",
        "for layer in model.layers:\n",
        "  layers_weights.append(layer.get_weights())\n",
        "row=model.evaluate(X_test,y_test)\n",
        "data=pd.DataFrame(data=[row],columns=[\"Loss\",\"Accuracy\"])\n",
        "data"
      ],
      "execution_count": 64,
      "outputs": [
        {
          "output_type": "stream",
          "text": [
            "313/313 [==============================] - 1s 3ms/step - loss: 0.5160 - accuracy: 0.8260\n"
          ],
          "name": "stdout"
        },
        {
          "output_type": "execute_result",
          "data": {
            "text/html": [
              "<div>\n",
              "<style scoped>\n",
              "    .dataframe tbody tr th:only-of-type {\n",
              "        vertical-align: middle;\n",
              "    }\n",
              "\n",
              "    .dataframe tbody tr th {\n",
              "        vertical-align: top;\n",
              "    }\n",
              "\n",
              "    .dataframe thead th {\n",
              "        text-align: right;\n",
              "    }\n",
              "</style>\n",
              "<table border=\"1\" class=\"dataframe\">\n",
              "  <thead>\n",
              "    <tr style=\"text-align: right;\">\n",
              "      <th></th>\n",
              "      <th>Loss</th>\n",
              "      <th>Accuracy</th>\n",
              "    </tr>\n",
              "  </thead>\n",
              "  <tbody>\n",
              "    <tr>\n",
              "      <th>0</th>\n",
              "      <td>0.516018</td>\n",
              "      <td>0.826</td>\n",
              "    </tr>\n",
              "  </tbody>\n",
              "</table>\n",
              "</div>"
            ],
            "text/plain": [
              "       Loss  Accuracy\n",
              "0  0.516018     0.826"
            ]
          },
          "metadata": {
            "tags": []
          },
          "execution_count": 64
        }
      ]
    },
    {
      "cell_type": "markdown",
      "metadata": {
        "id": "3XWDnP73agnp"
      },
      "source": [
        "Funkcja do wczytania oryginalnych wag modelu"
      ]
    },
    {
      "cell_type": "code",
      "metadata": {
        "id": "UFBkhPYDSCA5"
      },
      "source": [
        "def original_model(layers_weights):\n",
        "  for j in range(0,23):\n",
        "    if j in [4,5,10,11,16,17,18,21]: #warstwy bez parametrów\n",
        "      continue\n",
        "    elif j in [1,3,7,9,13,15,20]: #batch normalization\n",
        "      model.layers[j].set_weights([layers_weights[j][0],\n",
        "                                   layers_weights[j][1],\n",
        "                                   layers_weights[j][2],\n",
        "                                   layers_weights[j][3]])\n",
        "    else:                         #conv2D i dense\n",
        "      model.layers[j].set_weights([layers_weights[j][0],\n",
        "                                   layers_weights[j][1]])"
      ],
      "execution_count": 50,
      "outputs": []
    },
    {
      "cell_type": "markdown",
      "metadata": {
        "id": "jA9WbtMSaq8L"
      },
      "source": [
        "# Zmiana wag jednej warstwy"
      ]
    },
    {
      "cell_type": "markdown",
      "metadata": {
        "id": "fMk_xLQEb2Pv"
      },
      "source": [
        "Pierwszy test bedzie dotyczył zmian w wagach i biasach warstwy Dense. Każda z nich zostanie losowo pomnożona przez liczbę z zakresu [0.1,10]. Eksperyment zostanie powtórzony 50 razy."
      ]
    },
    {
      "cell_type": "code",
      "metadata": {
        "colab": {
          "base_uri": "https://localhost:8080/"
        },
        "id": "_-ZuBBrGJuzh",
        "outputId": "ba287350-b423-45ef-de5d-b3a487817ca3"
      },
      "source": [
        "original_model(layers_weights)\n",
        "rows=[]\n",
        "for i in range(1,51):\n",
        "  model.layers[19].set_weights([layers_weights[19][0]*np.random.uniform(low=0.1,high=10,size=(2048,128)),\n",
        "                                layers_weights[19][1]*np.random.uniform(low=0.1,high=10,size=128)])\n",
        "  print(i)\n",
        "  row=model.evaluate(X_test,y_test)\n",
        "  rows.append(row)\n",
        "data=pd.DataFrame(data=rows,columns=[\"Loss\",\"Accuracy\"])"
      ],
      "execution_count": 51,
      "outputs": [
        {
          "output_type": "stream",
          "text": [
            "1\n",
            "313/313 [==============================] - 1s 3ms/step - loss: 1.9828 - accuracy: 0.7948\n",
            "2\n",
            "313/313 [==============================] - 1s 3ms/step - loss: 1.9961 - accuracy: 0.7952\n",
            "3\n",
            "313/313 [==============================] - 1s 3ms/step - loss: 1.9434 - accuracy: 0.7974\n",
            "4\n",
            "313/313 [==============================] - 1s 3ms/step - loss: 1.9913 - accuracy: 0.7959\n",
            "5\n",
            "313/313 [==============================] - 1s 3ms/step - loss: 1.9586 - accuracy: 0.7982\n",
            "6\n",
            "313/313 [==============================] - 1s 3ms/step - loss: 1.9397 - accuracy: 0.7984\n",
            "7\n",
            "313/313 [==============================] - 1s 3ms/step - loss: 1.9821 - accuracy: 0.7958\n",
            "8\n",
            "313/313 [==============================] - 1s 3ms/step - loss: 2.0035 - accuracy: 0.7939\n",
            "9\n",
            "313/313 [==============================] - 1s 3ms/step - loss: 2.0055 - accuracy: 0.7969\n",
            "10\n",
            "313/313 [==============================] - 1s 3ms/step - loss: 1.9457 - accuracy: 0.7963\n",
            "11\n",
            "313/313 [==============================] - 1s 3ms/step - loss: 2.0182 - accuracy: 0.7934\n",
            "12\n",
            "313/313 [==============================] - 1s 3ms/step - loss: 2.0364 - accuracy: 0.7947\n",
            "13\n",
            "313/313 [==============================] - 1s 3ms/step - loss: 1.9722 - accuracy: 0.7959\n",
            "14\n",
            "313/313 [==============================] - 1s 3ms/step - loss: 1.9837 - accuracy: 0.7936\n",
            "15\n",
            "313/313 [==============================] - 1s 3ms/step - loss: 1.9812 - accuracy: 0.7964\n",
            "16\n",
            "313/313 [==============================] - 1s 3ms/step - loss: 1.9832 - accuracy: 0.7953\n",
            "17\n",
            "313/313 [==============================] - 1s 3ms/step - loss: 1.9770 - accuracy: 0.7956\n",
            "18\n",
            "313/313 [==============================] - 1s 3ms/step - loss: 2.0322 - accuracy: 0.7917\n",
            "19\n",
            "313/313 [==============================] - 1s 3ms/step - loss: 2.0238 - accuracy: 0.7947\n",
            "20\n",
            "313/313 [==============================] - 1s 3ms/step - loss: 1.9635 - accuracy: 0.7954\n",
            "21\n",
            "313/313 [==============================] - 1s 3ms/step - loss: 1.9493 - accuracy: 0.7968\n",
            "22\n",
            "313/313 [==============================] - 1s 3ms/step - loss: 1.9575 - accuracy: 0.7967\n",
            "23\n",
            "313/313 [==============================] - 1s 3ms/step - loss: 1.9987 - accuracy: 0.7933\n",
            "24\n",
            "313/313 [==============================] - 1s 3ms/step - loss: 1.9772 - accuracy: 0.7960\n",
            "25\n",
            "313/313 [==============================] - 1s 3ms/step - loss: 1.9930 - accuracy: 0.7959\n",
            "26\n",
            "313/313 [==============================] - 1s 3ms/step - loss: 1.9895 - accuracy: 0.7940\n",
            "27\n",
            "313/313 [==============================] - 1s 3ms/step - loss: 1.9540 - accuracy: 0.7969\n",
            "28\n",
            "313/313 [==============================] - 1s 3ms/step - loss: 1.9930 - accuracy: 0.7940\n",
            "29\n",
            "313/313 [==============================] - 1s 3ms/step - loss: 1.9492 - accuracy: 0.7977\n",
            "30\n",
            "313/313 [==============================] - 1s 3ms/step - loss: 1.9708 - accuracy: 0.7961\n",
            "31\n",
            "313/313 [==============================] - 1s 3ms/step - loss: 1.9930 - accuracy: 0.7947\n",
            "32\n",
            "313/313 [==============================] - 1s 3ms/step - loss: 2.0480 - accuracy: 0.7926\n",
            "33\n",
            "313/313 [==============================] - 1s 3ms/step - loss: 1.9903 - accuracy: 0.7949\n",
            "34\n",
            "313/313 [==============================] - 1s 3ms/step - loss: 1.9669 - accuracy: 0.7972\n",
            "35\n",
            "313/313 [==============================] - 1s 3ms/step - loss: 1.9855 - accuracy: 0.7938\n",
            "36\n",
            "313/313 [==============================] - 1s 3ms/step - loss: 1.9728 - accuracy: 0.7964\n",
            "37\n",
            "313/313 [==============================] - 1s 3ms/step - loss: 1.9420 - accuracy: 0.7997\n",
            "38\n",
            "313/313 [==============================] - 1s 3ms/step - loss: 2.0071 - accuracy: 0.7925\n",
            "39\n",
            "313/313 [==============================] - 1s 3ms/step - loss: 1.9763 - accuracy: 0.7971\n",
            "40\n",
            "313/313 [==============================] - 1s 3ms/step - loss: 1.9991 - accuracy: 0.7940\n",
            "41\n",
            "313/313 [==============================] - 1s 3ms/step - loss: 1.9732 - accuracy: 0.7965\n",
            "42\n",
            "313/313 [==============================] - 1s 3ms/step - loss: 1.9466 - accuracy: 0.7956\n",
            "43\n",
            "313/313 [==============================] - 1s 3ms/step - loss: 1.9852 - accuracy: 0.7961\n",
            "44\n",
            "313/313 [==============================] - 1s 3ms/step - loss: 2.0036 - accuracy: 0.7948\n",
            "45\n",
            "313/313 [==============================] - 1s 3ms/step - loss: 1.9719 - accuracy: 0.7972\n",
            "46\n",
            "313/313 [==============================] - 1s 3ms/step - loss: 1.9826 - accuracy: 0.7963\n",
            "47\n",
            "313/313 [==============================] - 1s 3ms/step - loss: 2.0033 - accuracy: 0.7927\n",
            "48\n",
            "313/313 [==============================] - 1s 3ms/step - loss: 1.9878 - accuracy: 0.7955\n",
            "49\n",
            "313/313 [==============================] - 1s 3ms/step - loss: 1.9884 - accuracy: 0.7964\n",
            "50\n",
            "313/313 [==============================] - 1s 3ms/step - loss: 1.9442 - accuracy: 0.7973\n"
          ],
          "name": "stdout"
        }
      ]
    },
    {
      "cell_type": "code",
      "metadata": {
        "colab": {
          "base_uri": "https://localhost:8080/",
          "height": 112
        },
        "id": "vV89kJ64P40y",
        "outputId": "f4e48f40-5d5a-4701-e339-d53ec62837a6"
      },
      "source": [
        "a=data.std(axis=0).to_numpy()\n",
        "b=data.mean(axis=0).to_numpy()\n",
        "pd.DataFrame([a,b],index=[\"Std\",\"Mean\"],columns=[\"Loss\",\"Accuracy\"])"
      ],
      "execution_count": 52,
      "outputs": [
        {
          "output_type": "execute_result",
          "data": {
            "text/html": [
              "<div>\n",
              "<style scoped>\n",
              "    .dataframe tbody tr th:only-of-type {\n",
              "        vertical-align: middle;\n",
              "    }\n",
              "\n",
              "    .dataframe tbody tr th {\n",
              "        vertical-align: top;\n",
              "    }\n",
              "\n",
              "    .dataframe thead th {\n",
              "        text-align: right;\n",
              "    }\n",
              "</style>\n",
              "<table border=\"1\" class=\"dataframe\">\n",
              "  <thead>\n",
              "    <tr style=\"text-align: right;\">\n",
              "      <th></th>\n",
              "      <th>Loss</th>\n",
              "      <th>Accuracy</th>\n",
              "    </tr>\n",
              "  </thead>\n",
              "  <tbody>\n",
              "    <tr>\n",
              "      <th>Std</th>\n",
              "      <td>0.025147</td>\n",
              "      <td>0.001658</td>\n",
              "    </tr>\n",
              "    <tr>\n",
              "      <th>Mean</th>\n",
              "      <td>1.982403</td>\n",
              "      <td>0.795564</td>\n",
              "    </tr>\n",
              "  </tbody>\n",
              "</table>\n",
              "</div>"
            ],
            "text/plain": [
              "          Loss  Accuracy\n",
              "Std   0.025147  0.001658\n",
              "Mean  1.982403  0.795564"
            ]
          },
          "metadata": {
            "tags": []
          },
          "execution_count": 52
        }
      ]
    },
    {
      "cell_type": "markdown",
      "metadata": {
        "id": "HAQv2-h9cci6"
      },
      "source": [
        "Mimo możliwych dużych różnic w wagach i biasach accuracy tylko trochę się pogorszyło."
      ]
    },
    {
      "cell_type": "markdown",
      "metadata": {
        "id": "oIBcPM0zc_Nu"
      },
      "source": [
        "Sprawdźmy teraz czy otrzymamy podobny wynik zmieniając w ten sam sposób parametry warstwy konwolucyjnej."
      ]
    },
    {
      "cell_type": "code",
      "metadata": {
        "colab": {
          "base_uri": "https://localhost:8080/"
        },
        "id": "iPKNI9o4TzzL",
        "outputId": "c3447631-9085-4846-aa4a-2e9771845077"
      },
      "source": [
        "original_model(layers_weights)\n",
        "rows=[]\n",
        "low=0.1\n",
        "high=10\n",
        "for i in range(1,51):\n",
        "  size1=layers_weights[2][0].shape\n",
        "  size2=layers_weights[2][1].shape\n",
        "  model.layers[2].set_weights([layers_weights[2][0]*np.random.uniform(low=low,high=high,size=size1),\n",
        "                               layers_weights[2][1]*np.random.uniform(low=low,high=high,size=size2)])\n",
        "  print(i)\n",
        "  row=model.evaluate(X_test,y_test)\n",
        "  rows.append(row)\n",
        "data=pd.DataFrame(data=rows,columns=[\"Loss\",\"Accuracy\"])"
      ],
      "execution_count": 53,
      "outputs": [
        {
          "output_type": "stream",
          "text": [
            "1\n",
            "313/313 [==============================] - 1s 3ms/step - loss: 2.4623 - accuracy: 0.4864\n",
            "2\n",
            "313/313 [==============================] - 1s 3ms/step - loss: 2.3922 - accuracy: 0.5356\n",
            "3\n",
            "313/313 [==============================] - 1s 3ms/step - loss: 2.2830 - accuracy: 0.5252\n",
            "4\n",
            "313/313 [==============================] - 1s 3ms/step - loss: 2.2892 - accuracy: 0.5198\n",
            "5\n",
            "313/313 [==============================] - 1s 3ms/step - loss: 2.6273 - accuracy: 0.5013\n",
            "6\n",
            "313/313 [==============================] - 1s 3ms/step - loss: 2.3530 - accuracy: 0.5235\n",
            "7\n",
            "313/313 [==============================] - 1s 3ms/step - loss: 3.7184 - accuracy: 0.4171\n",
            "8\n",
            "313/313 [==============================] - 1s 3ms/step - loss: 2.3994 - accuracy: 0.4919\n",
            "9\n",
            "313/313 [==============================] - 1s 3ms/step - loss: 2.6893 - accuracy: 0.4778\n",
            "10\n",
            "313/313 [==============================] - 1s 3ms/step - loss: 2.4973 - accuracy: 0.5072\n",
            "11\n",
            "313/313 [==============================] - 1s 3ms/step - loss: 2.6419 - accuracy: 0.4885\n",
            "12\n",
            "313/313 [==============================] - 1s 3ms/step - loss: 3.0326 - accuracy: 0.4523\n",
            "13\n",
            "313/313 [==============================] - 1s 3ms/step - loss: 2.4827 - accuracy: 0.5085\n",
            "14\n",
            "313/313 [==============================] - 1s 3ms/step - loss: 2.7463 - accuracy: 0.4965\n",
            "15\n",
            "313/313 [==============================] - 1s 3ms/step - loss: 2.2767 - accuracy: 0.5228\n",
            "16\n",
            "313/313 [==============================] - 1s 3ms/step - loss: 3.3646 - accuracy: 0.4446\n",
            "17\n",
            "313/313 [==============================] - 1s 3ms/step - loss: 2.6066 - accuracy: 0.5108\n",
            "18\n",
            "313/313 [==============================] - 1s 3ms/step - loss: 2.8844 - accuracy: 0.4704\n",
            "19\n",
            "313/313 [==============================] - 1s 3ms/step - loss: 2.3646 - accuracy: 0.5189\n",
            "20\n",
            "313/313 [==============================] - 1s 3ms/step - loss: 2.3793 - accuracy: 0.5029\n",
            "21\n",
            "313/313 [==============================] - 1s 3ms/step - loss: 2.5978 - accuracy: 0.4888\n",
            "22\n",
            "313/313 [==============================] - 1s 3ms/step - loss: 2.7978 - accuracy: 0.4701\n",
            "23\n",
            "313/313 [==============================] - 1s 3ms/step - loss: 1.9302 - accuracy: 0.5499\n",
            "24\n",
            "313/313 [==============================] - 1s 3ms/step - loss: 2.4089 - accuracy: 0.5001\n",
            "25\n",
            "313/313 [==============================] - 1s 3ms/step - loss: 3.5081 - accuracy: 0.4227\n",
            "26\n",
            "313/313 [==============================] - 1s 3ms/step - loss: 3.1136 - accuracy: 0.4461\n",
            "27\n",
            "313/313 [==============================] - 1s 3ms/step - loss: 2.4319 - accuracy: 0.5230\n",
            "28\n",
            "313/313 [==============================] - 1s 3ms/step - loss: 2.3616 - accuracy: 0.5107\n",
            "29\n",
            "313/313 [==============================] - 1s 3ms/step - loss: 2.4335 - accuracy: 0.4955\n",
            "30\n",
            "313/313 [==============================] - 1s 3ms/step - loss: 2.7798 - accuracy: 0.4655\n",
            "31\n",
            "313/313 [==============================] - 1s 3ms/step - loss: 2.2445 - accuracy: 0.5322\n",
            "32\n",
            "313/313 [==============================] - 1s 3ms/step - loss: 2.6296 - accuracy: 0.5085\n",
            "33\n",
            "313/313 [==============================] - 1s 3ms/step - loss: 2.4218 - accuracy: 0.5091\n",
            "34\n",
            "313/313 [==============================] - 1s 3ms/step - loss: 2.3738 - accuracy: 0.5228\n",
            "35\n",
            "313/313 [==============================] - 1s 3ms/step - loss: 2.6643 - accuracy: 0.4896\n",
            "36\n",
            "313/313 [==============================] - 1s 3ms/step - loss: 3.0892 - accuracy: 0.4490\n",
            "37\n",
            "313/313 [==============================] - 1s 3ms/step - loss: 2.5956 - accuracy: 0.4790\n",
            "38\n",
            "313/313 [==============================] - 1s 3ms/step - loss: 3.0234 - accuracy: 0.4559\n",
            "39\n",
            "313/313 [==============================] - 1s 3ms/step - loss: 2.6455 - accuracy: 0.5003\n",
            "40\n",
            "313/313 [==============================] - 1s 3ms/step - loss: 2.4239 - accuracy: 0.4998\n",
            "41\n",
            "313/313 [==============================] - 1s 3ms/step - loss: 2.7178 - accuracy: 0.4901\n",
            "42\n",
            "313/313 [==============================] - 1s 3ms/step - loss: 2.7564 - accuracy: 0.4713\n",
            "43\n",
            "313/313 [==============================] - 1s 3ms/step - loss: 3.2003 - accuracy: 0.4526\n",
            "44\n",
            "313/313 [==============================] - 1s 3ms/step - loss: 2.2228 - accuracy: 0.5236\n",
            "45\n",
            "313/313 [==============================] - 1s 3ms/step - loss: 2.7206 - accuracy: 0.5006\n",
            "46\n",
            "313/313 [==============================] - 1s 3ms/step - loss: 2.3186 - accuracy: 0.5204\n",
            "47\n",
            "313/313 [==============================] - 1s 3ms/step - loss: 2.6681 - accuracy: 0.4893\n",
            "48\n",
            "313/313 [==============================] - 1s 3ms/step - loss: 2.4103 - accuracy: 0.5134\n",
            "49\n",
            "313/313 [==============================] - 1s 3ms/step - loss: 2.2420 - accuracy: 0.5338\n",
            "50\n",
            "313/313 [==============================] - 1s 3ms/step - loss: 3.2251 - accuracy: 0.4548\n"
          ],
          "name": "stdout"
        }
      ]
    },
    {
      "cell_type": "code",
      "metadata": {
        "id": "8EC43G0VT1hG",
        "colab": {
          "base_uri": "https://localhost:8080/",
          "height": 112
        },
        "outputId": "1f3a2c0f-180f-4812-9a5e-49e821ec0bb8"
      },
      "source": [
        "a=data.std(axis=0).to_numpy()\n",
        "b=data.mean(axis=0).to_numpy()\n",
        "pd.DataFrame([a,b],index=[\"Std\",\"Mean\"],columns=[\"Loss\",\"Accuracy\"])"
      ],
      "execution_count": 54,
      "outputs": [
        {
          "output_type": "execute_result",
          "data": {
            "text/html": [
              "<div>\n",
              "<style scoped>\n",
              "    .dataframe tbody tr th:only-of-type {\n",
              "        vertical-align: middle;\n",
              "    }\n",
              "\n",
              "    .dataframe tbody tr th {\n",
              "        vertical-align: top;\n",
              "    }\n",
              "\n",
              "    .dataframe thead th {\n",
              "        text-align: right;\n",
              "    }\n",
              "</style>\n",
              "<table border=\"1\" class=\"dataframe\">\n",
              "  <thead>\n",
              "    <tr style=\"text-align: right;\">\n",
              "      <th></th>\n",
              "      <th>Loss</th>\n",
              "      <th>Accuracy</th>\n",
              "    </tr>\n",
              "  </thead>\n",
              "  <tbody>\n",
              "    <tr>\n",
              "      <th>Std</th>\n",
              "      <td>0.358715</td>\n",
              "      <td>0.030121</td>\n",
              "    </tr>\n",
              "    <tr>\n",
              "      <th>Mean</th>\n",
              "      <td>2.628953</td>\n",
              "      <td>0.493410</td>\n",
              "    </tr>\n",
              "  </tbody>\n",
              "</table>\n",
              "</div>"
            ],
            "text/plain": [
              "          Loss  Accuracy\n",
              "Std   0.358715  0.030121\n",
              "Mean  2.628953  0.493410"
            ]
          },
          "metadata": {
            "tags": []
          },
          "execution_count": 54
        }
      ]
    },
    {
      "cell_type": "markdown",
      "metadata": {
        "id": "ft1SWPG2dMT4"
      },
      "source": [
        "Średnie accuracy pogorszyło się tym razem znacząco. Również odchylenie standardowe wzrosło w porównaniu do poprzedniego przykładu. Różnica może wynikać z umiejscowienia tych warstw w sieci. Mam przez to na myśli, że znaczenie błędów powstałych w warstwie konwolucyjnej na początku urosło wraz z każdą kolejną warstwą powodując duże różnice na wyjściu."
      ]
    },
    {
      "cell_type": "markdown",
      "metadata": {
        "id": "j43rdqzKeHxP"
      },
      "source": [
        "# Zmiana wag wszystkich warstwy"
      ]
    },
    {
      "cell_type": "markdown",
      "metadata": {
        "id": "VFbZJmwKeNd2"
      },
      "source": [
        "Tym razem będziemy mnożyć wszystkie trenowalne parametry przez liczby losowane z zakresu [0.7,1.2]. Zakres został znacznie zmniejszony ponieważ ilość parametrów, na które wpływamy tym razem jest dużo większa."
      ]
    },
    {
      "cell_type": "code",
      "metadata": {
        "id": "Q4SUTUjMEFvB",
        "colab": {
          "base_uri": "https://localhost:8080/"
        },
        "outputId": "9c914bdb-2fba-4a0a-e087-b87f604cc32a"
      },
      "source": [
        "original_model(layers_weights)\n",
        "rows=[]\n",
        "low=0.7\n",
        "high=1.2\n",
        "for i in range(1,51):\n",
        "  original_model(layers_weights)\n",
        "  for j in range(0,23):\n",
        "    if j in [4,5,10,11,16,17,18,21]: #warstwy bez parametrów\n",
        "      continue\n",
        "\n",
        "    elif j in [1,3,7,9,13,15,20]: #batch normalization\n",
        "      size1=layers_weights[j][0].shape\n",
        "      size2=layers_weights[j][1].shape\n",
        "      size3=layers_weights[j][2].shape\n",
        "      size4=layers_weights[j][3].shape\n",
        "      model.layers[j].set_weights([layers_weights[j][0]*np.random.uniform(low=low,high=high,size=size1),\n",
        "                                   layers_weights[j][1]*np.random.uniform(low=low,high=high,size=size2),\n",
        "                                   layers_weights[j][2]*np.random.uniform(low=low,high=high,size=size3),\n",
        "                                   layers_weights[j][3]*np.random.uniform(low=low,high=high,size=size4)])\n",
        "      \n",
        "    else:                         #conv2D i dense\n",
        "      size1=layers_weights[j][0].shape\n",
        "      size2=layers_weights[j][1].shape\n",
        "      model.layers[j].set_weights([layers_weights[j][0]*np.random.uniform(low=low,high=high,size=size1),\n",
        "                                   layers_weights[j][1]*np.random.uniform(low=low,high=high,size=size2)])\n",
        "  print(i)\n",
        "  row=model.evaluate(X_test,y_test)\n",
        "  rows.append(row)\n",
        "data=pd.DataFrame(data=rows,columns=[\"Loss\",\"Accuracy\"])"
      ],
      "execution_count": 55,
      "outputs": [
        {
          "output_type": "stream",
          "text": [
            "1\n",
            "313/313 [==============================] - 1s 3ms/step - loss: 1.0117 - accuracy: 0.6517\n",
            "2\n",
            "313/313 [==============================] - 1s 3ms/step - loss: 0.7819 - accuracy: 0.7313\n",
            "3\n",
            "313/313 [==============================] - 1s 3ms/step - loss: 1.0617 - accuracy: 0.6365\n",
            "4\n",
            "313/313 [==============================] - 1s 3ms/step - loss: 1.4278 - accuracy: 0.5183\n",
            "5\n",
            "313/313 [==============================] - 1s 3ms/step - loss: 0.9721 - accuracy: 0.6672\n",
            "6\n",
            "313/313 [==============================] - 1s 3ms/step - loss: 1.9674 - accuracy: 0.4092\n",
            "7\n",
            "313/313 [==============================] - 1s 3ms/step - loss: 1.1241 - accuracy: 0.6216\n",
            "8\n",
            "313/313 [==============================] - 1s 3ms/step - loss: 0.7508 - accuracy: 0.7512\n",
            "9\n",
            "313/313 [==============================] - 1s 3ms/step - loss: 1.0746 - accuracy: 0.6338\n",
            "10\n",
            "313/313 [==============================] - 1s 3ms/step - loss: 1.3939 - accuracy: 0.5766\n",
            "11\n",
            "313/313 [==============================] - 1s 3ms/step - loss: 2.4086 - accuracy: 0.3562\n",
            "12\n",
            "313/313 [==============================] - 1s 3ms/step - loss: 0.8712 - accuracy: 0.7060\n",
            "13\n",
            "313/313 [==============================] - 1s 3ms/step - loss: 0.9364 - accuracy: 0.6665\n",
            "14\n",
            "313/313 [==============================] - 1s 3ms/step - loss: 1.1136 - accuracy: 0.6307\n",
            "15\n",
            "313/313 [==============================] - 1s 3ms/step - loss: 1.5982 - accuracy: 0.4595\n",
            "16\n",
            "313/313 [==============================] - 1s 3ms/step - loss: 1.2138 - accuracy: 0.5973\n",
            "17\n",
            "313/313 [==============================] - 1s 3ms/step - loss: 0.9821 - accuracy: 0.6680\n",
            "18\n",
            "313/313 [==============================] - 1s 3ms/step - loss: 0.8176 - accuracy: 0.7331\n",
            "19\n",
            "313/313 [==============================] - 1s 3ms/step - loss: 0.8780 - accuracy: 0.6894\n",
            "20\n",
            "313/313 [==============================] - 1s 3ms/step - loss: 1.2677 - accuracy: 0.5742\n",
            "21\n",
            "313/313 [==============================] - 1s 3ms/step - loss: 1.5826 - accuracy: 0.4653\n",
            "22\n",
            "313/313 [==============================] - 1s 3ms/step - loss: 0.6876 - accuracy: 0.7730\n",
            "23\n",
            "313/313 [==============================] - 1s 3ms/step - loss: 0.7097 - accuracy: 0.7630\n",
            "24\n",
            "313/313 [==============================] - 1s 3ms/step - loss: 1.4401 - accuracy: 0.5092\n",
            "25\n",
            "313/313 [==============================] - 1s 3ms/step - loss: 1.1265 - accuracy: 0.6366\n",
            "26\n",
            "313/313 [==============================] - 1s 3ms/step - loss: 1.0808 - accuracy: 0.6465\n",
            "27\n",
            "313/313 [==============================] - 1s 3ms/step - loss: 0.9857 - accuracy: 0.6664\n",
            "28\n",
            "313/313 [==============================] - 1s 3ms/step - loss: 0.8212 - accuracy: 0.7317\n",
            "29\n",
            "313/313 [==============================] - 1s 3ms/step - loss: 1.2352 - accuracy: 0.5652\n",
            "30\n",
            "313/313 [==============================] - 1s 3ms/step - loss: 0.8474 - accuracy: 0.7044\n",
            "31\n",
            "313/313 [==============================] - 1s 3ms/step - loss: 1.0613 - accuracy: 0.6305\n",
            "32\n",
            "313/313 [==============================] - 1s 3ms/step - loss: 0.7905 - accuracy: 0.7362\n",
            "33\n",
            "313/313 [==============================] - 1s 3ms/step - loss: 1.8658 - accuracy: 0.4234\n",
            "34\n",
            "313/313 [==============================] - 1s 3ms/step - loss: 0.9408 - accuracy: 0.6737\n",
            "35\n",
            "313/313 [==============================] - 1s 3ms/step - loss: 0.9525 - accuracy: 0.6787\n",
            "36\n",
            "313/313 [==============================] - 1s 3ms/step - loss: 0.7982 - accuracy: 0.7209\n",
            "37\n",
            "313/313 [==============================] - 1s 3ms/step - loss: 1.7480 - accuracy: 0.4338\n",
            "38\n",
            "313/313 [==============================] - 1s 3ms/step - loss: 0.7446 - accuracy: 0.7484\n",
            "39\n",
            "313/313 [==============================] - 1s 3ms/step - loss: 1.6248 - accuracy: 0.4741\n",
            "40\n",
            "313/313 [==============================] - 1s 3ms/step - loss: 0.8960 - accuracy: 0.6928\n",
            "41\n",
            "313/313 [==============================] - 1s 3ms/step - loss: 1.0564 - accuracy: 0.6260\n",
            "42\n",
            "313/313 [==============================] - 1s 3ms/step - loss: 0.7881 - accuracy: 0.7315\n",
            "43\n",
            "313/313 [==============================] - 1s 3ms/step - loss: 1.2817 - accuracy: 0.5911\n",
            "44\n",
            "313/313 [==============================] - 1s 3ms/step - loss: 0.9797 - accuracy: 0.6639\n",
            "45\n",
            "313/313 [==============================] - 1s 3ms/step - loss: 1.4750 - accuracy: 0.4737\n",
            "46\n",
            "313/313 [==============================] - 1s 3ms/step - loss: 1.0879 - accuracy: 0.6275\n",
            "47\n",
            "313/313 [==============================] - 1s 3ms/step - loss: 1.7321 - accuracy: 0.4789\n",
            "48\n",
            "313/313 [==============================] - 1s 3ms/step - loss: 0.9777 - accuracy: 0.6623\n",
            "49\n",
            "313/313 [==============================] - 1s 3ms/step - loss: 1.0846 - accuracy: 0.6325\n",
            "50\n",
            "313/313 [==============================] - 1s 3ms/step - loss: 1.1476 - accuracy: 0.6089\n"
          ],
          "name": "stdout"
        }
      ]
    },
    {
      "cell_type": "code",
      "metadata": {
        "id": "YQOk77JU2DWu",
        "colab": {
          "base_uri": "https://localhost:8080/",
          "height": 112
        },
        "outputId": "8a08e17d-6a0e-4d50-f487-60b401d4c49c"
      },
      "source": [
        "a=data.std(axis=0).to_numpy()\n",
        "b=data.mean(axis=0).to_numpy()\n",
        "pd.DataFrame([a,b],index=[\"Std\",\"Mean\"],columns=[\"Loss\",\"Accuracy\"])"
      ],
      "execution_count": 56,
      "outputs": [
        {
          "output_type": "execute_result",
          "data": {
            "text/html": [
              "<div>\n",
              "<style scoped>\n",
              "    .dataframe tbody tr th:only-of-type {\n",
              "        vertical-align: middle;\n",
              "    }\n",
              "\n",
              "    .dataframe tbody tr th {\n",
              "        vertical-align: top;\n",
              "    }\n",
              "\n",
              "    .dataframe thead th {\n",
              "        text-align: right;\n",
              "    }\n",
              "</style>\n",
              "<table border=\"1\" class=\"dataframe\">\n",
              "  <thead>\n",
              "    <tr style=\"text-align: right;\">\n",
              "      <th></th>\n",
              "      <th>Loss</th>\n",
              "      <th>Accuracy</th>\n",
              "    </tr>\n",
              "  </thead>\n",
              "  <tbody>\n",
              "    <tr>\n",
              "      <th>Std</th>\n",
              "      <td>0.365832</td>\n",
              "      <td>0.103849</td>\n",
              "    </tr>\n",
              "    <tr>\n",
              "      <th>Mean</th>\n",
              "      <td>1.144072</td>\n",
              "      <td>0.620968</td>\n",
              "    </tr>\n",
              "  </tbody>\n",
              "</table>\n",
              "</div>"
            ],
            "text/plain": [
              "          Loss  Accuracy\n",
              "Std   0.365832  0.103849\n",
              "Mean  1.144072  0.620968"
            ]
          },
          "metadata": {
            "tags": []
          },
          "execution_count": 56
        }
      ]
    },
    {
      "cell_type": "markdown",
      "metadata": {
        "id": "mMk9-H0de3Ow"
      },
      "source": [
        "W tym przypadku również widzimy spory spadek accuracy oraz większe niż w poprzednich przypadkach odchylenie standardowe."
      ]
    },
    {
      "cell_type": "markdown",
      "metadata": {
        "id": "tWT9YS4PfF13"
      },
      "source": [
        "# Perturbacja danych wejściowych"
      ]
    },
    {
      "cell_type": "markdown",
      "metadata": {
        "id": "7fZCk3g6iaZj"
      },
      "source": [
        "Każdy piksel zostanie pomnożony przez losową liczbę z zakresu [0.7,1.2]."
      ]
    },
    {
      "cell_type": "code",
      "metadata": {
        "id": "OSVo_wftELc6",
        "colab": {
          "base_uri": "https://localhost:8080/"
        },
        "outputId": "7c3d19c1-6141-4f2e-8c45-6066fe2053f5"
      },
      "source": [
        "rows=[]\n",
        "original_model(layers_weights)\n",
        "for i in range(1,50):\n",
        "  original_model(layers_weights)\n",
        "  test_images = [img*np.random.uniform(low=0.7,high=1.2,size=(10000, 32, 32, 3)) for img in [X_test]]\n",
        "  row=[i/10]+model.evaluate(test_images,y_test)\n",
        "  rows.append(row)\n",
        "data=pd.DataFrame(data=rows,columns=['i','Loss','Accuracy'])"
      ],
      "execution_count": 57,
      "outputs": [
        {
          "output_type": "stream",
          "text": [
            "313/313 [==============================] - 1s 4ms/step - loss: 2.1351 - accuracy: 0.4203\n",
            "313/313 [==============================] - 1s 4ms/step - loss: 2.1445 - accuracy: 0.4176\n",
            "313/313 [==============================] - 1s 4ms/step - loss: 2.1472 - accuracy: 0.4193\n",
            "313/313 [==============================] - 1s 4ms/step - loss: 2.1387 - accuracy: 0.4156\n",
            "313/313 [==============================] - 1s 4ms/step - loss: 2.1488 - accuracy: 0.4145\n",
            "313/313 [==============================] - 1s 4ms/step - loss: 2.1418 - accuracy: 0.4159\n",
            "313/313 [==============================] - 1s 4ms/step - loss: 2.1395 - accuracy: 0.4208\n",
            "313/313 [==============================] - 1s 4ms/step - loss: 2.1432 - accuracy: 0.4198\n",
            "313/313 [==============================] - 1s 4ms/step - loss: 2.1482 - accuracy: 0.4175\n",
            "313/313 [==============================] - 1s 4ms/step - loss: 2.1431 - accuracy: 0.4203\n",
            "313/313 [==============================] - 1s 4ms/step - loss: 2.1554 - accuracy: 0.4175\n",
            "313/313 [==============================] - 1s 4ms/step - loss: 2.1426 - accuracy: 0.4171\n",
            "313/313 [==============================] - 1s 4ms/step - loss: 2.1415 - accuracy: 0.4166\n",
            "313/313 [==============================] - 1s 4ms/step - loss: 2.1548 - accuracy: 0.4143\n",
            "313/313 [==============================] - 1s 4ms/step - loss: 2.1375 - accuracy: 0.4190\n",
            "313/313 [==============================] - 1s 4ms/step - loss: 2.1453 - accuracy: 0.4156\n",
            "313/313 [==============================] - 1s 4ms/step - loss: 2.1442 - accuracy: 0.4221\n",
            "313/313 [==============================] - 1s 4ms/step - loss: 2.1460 - accuracy: 0.4184\n",
            "313/313 [==============================] - 1s 4ms/step - loss: 2.1407 - accuracy: 0.4177\n",
            "313/313 [==============================] - 1s 4ms/step - loss: 2.1470 - accuracy: 0.4193\n",
            "313/313 [==============================] - 1s 4ms/step - loss: 2.1414 - accuracy: 0.4140\n",
            "313/313 [==============================] - 1s 4ms/step - loss: 2.1382 - accuracy: 0.4189\n",
            "313/313 [==============================] - 1s 4ms/step - loss: 2.1397 - accuracy: 0.4199\n",
            "313/313 [==============================] - 1s 4ms/step - loss: 2.1397 - accuracy: 0.4182\n",
            "313/313 [==============================] - 1s 4ms/step - loss: 2.1340 - accuracy: 0.4228\n",
            "313/313 [==============================] - 1s 4ms/step - loss: 2.1458 - accuracy: 0.4153\n",
            "313/313 [==============================] - 1s 4ms/step - loss: 2.1410 - accuracy: 0.4208\n",
            "313/313 [==============================] - 1s 4ms/step - loss: 2.1510 - accuracy: 0.4184\n",
            "313/313 [==============================] - 1s 4ms/step - loss: 2.1466 - accuracy: 0.4169\n",
            "313/313 [==============================] - 1s 4ms/step - loss: 2.1434 - accuracy: 0.4186\n",
            "313/313 [==============================] - 1s 4ms/step - loss: 2.1511 - accuracy: 0.4156\n",
            "313/313 [==============================] - 1s 4ms/step - loss: 2.1521 - accuracy: 0.4154\n",
            "313/313 [==============================] - 1s 4ms/step - loss: 2.1468 - accuracy: 0.4186\n",
            "313/313 [==============================] - 1s 4ms/step - loss: 2.1420 - accuracy: 0.4216\n",
            "313/313 [==============================] - 1s 4ms/step - loss: 2.1447 - accuracy: 0.4202\n",
            "313/313 [==============================] - 1s 4ms/step - loss: 2.1423 - accuracy: 0.4185\n",
            "313/313 [==============================] - 1s 4ms/step - loss: 2.1471 - accuracy: 0.4187\n",
            "313/313 [==============================] - 1s 4ms/step - loss: 2.1446 - accuracy: 0.4169\n",
            "313/313 [==============================] - 1s 4ms/step - loss: 2.1364 - accuracy: 0.4163\n",
            "313/313 [==============================] - 1s 4ms/step - loss: 2.1435 - accuracy: 0.4182\n",
            "313/313 [==============================] - 1s 4ms/step - loss: 2.1446 - accuracy: 0.4194\n",
            "313/313 [==============================] - 1s 4ms/step - loss: 2.1457 - accuracy: 0.4169\n",
            "313/313 [==============================] - 1s 4ms/step - loss: 2.1380 - accuracy: 0.4186\n",
            "313/313 [==============================] - 1s 4ms/step - loss: 2.1458 - accuracy: 0.4194\n",
            "313/313 [==============================] - 1s 4ms/step - loss: 2.1496 - accuracy: 0.4157\n",
            "313/313 [==============================] - 1s 4ms/step - loss: 2.1363 - accuracy: 0.4170\n",
            "313/313 [==============================] - 1s 4ms/step - loss: 2.1434 - accuracy: 0.4187\n",
            "313/313 [==============================] - 1s 4ms/step - loss: 2.1432 - accuracy: 0.4188\n",
            "313/313 [==============================] - 1s 4ms/step - loss: 2.1378 - accuracy: 0.4183\n"
          ],
          "name": "stdout"
        }
      ]
    },
    {
      "cell_type": "markdown",
      "metadata": {
        "id": "m4SeXzbwjybz"
      },
      "source": [
        "Porównanie obrazków."
      ]
    },
    {
      "cell_type": "code",
      "metadata": {
        "colab": {
          "base_uri": "https://localhost:8080/",
          "height": 302
        },
        "id": "gkVL-ybViKl_",
        "outputId": "6d47369e-8a8b-4d2a-eca0-a58caec15ea7"
      },
      "source": [
        "plt.imshow(test_images[0][0])"
      ],
      "execution_count": 58,
      "outputs": [
        {
          "output_type": "stream",
          "text": [
            "Clipping input data to the valid range for imshow with RGB data ([0..1] for floats or [0..255] for integers).\n"
          ],
          "name": "stderr"
        },
        {
          "output_type": "execute_result",
          "data": {
            "text/plain": [
              "<matplotlib.image.AxesImage at 0x7f70fe0c3490>"
            ]
          },
          "metadata": {
            "tags": []
          },
          "execution_count": 58
        },
        {
          "output_type": "display_data",
          "data": {
            "image/png": "[encoded data removed]",
            "text/plain": [
              "<Figure size 432x288 with 1 Axes>"
            ]
          },
          "metadata": {
            "tags": [],
            "needs_background": "light"
          }
        }
      ]
    },
    {
      "cell_type": "code",
      "metadata": {
        "colab": {
          "base_uri": "https://localhost:8080/",
          "height": 284
        },
        "id": "8gfHmPvMiL6H",
        "outputId": "0a4fb73c-c0bc-4213-e10f-42ef6cf6cf38"
      },
      "source": [
        "plt.imshow(X_test[0])"
      ],
      "execution_count": 59,
      "outputs": [
        {
          "output_type": "execute_result",
          "data": {
            "text/plain": [
              "<matplotlib.image.AxesImage at 0x7f70d3ddcbd0>"
            ]
          },
          "metadata": {
            "tags": []
          },
          "execution_count": 59
        },
        {
          "output_type": "display_data",
          "data": {
            "image/png": "[encoded data removed]",
            "text/plain": [
              "<Figure size 432x288 with 1 Axes>"
            ]
          },
          "metadata": {
            "tags": [],
            "needs_background": "light"
          }
        }
      ]
    },
    {
      "cell_type": "code",
      "metadata": {
        "id": "NDW4EkmkR6nP",
        "colab": {
          "base_uri": "https://localhost:8080/",
          "height": 112
        },
        "outputId": "bea55a07-ab7a-4f89-8e28-474a73dd7a2a"
      },
      "source": [
        "a=data.std(axis=0).to_numpy()[1:]\n",
        "b=data.mean(axis=0).to_numpy()[1:]\n",
        "pd.DataFrame([a,b],index=[\"Std\",\"Mean\"],columns=[\"Loss\",\"Accuracy\"])"
      ],
      "execution_count": 60,
      "outputs": [
        {
          "output_type": "execute_result",
          "data": {
            "text/html": [
              "<div>\n",
              "<style scoped>\n",
              "    .dataframe tbody tr th:only-of-type {\n",
              "        vertical-align: middle;\n",
              "    }\n",
              "\n",
              "    .dataframe tbody tr th {\n",
              "        vertical-align: top;\n",
              "    }\n",
              "\n",
              "    .dataframe thead th {\n",
              "        text-align: right;\n",
              "    }\n",
              "</style>\n",
              "<table border=\"1\" class=\"dataframe\">\n",
              "  <thead>\n",
              "    <tr style=\"text-align: right;\">\n",
              "      <th></th>\n",
              "      <th>Loss</th>\n",
              "      <th>Accuracy</th>\n",
              "    </tr>\n",
              "  </thead>\n",
              "  <tbody>\n",
              "    <tr>\n",
              "      <th>Std</th>\n",
              "      <td>0.004829</td>\n",
              "      <td>0.002026</td>\n",
              "    </tr>\n",
              "    <tr>\n",
              "      <th>Mean</th>\n",
              "      <td>2.143682</td>\n",
              "      <td>0.418078</td>\n",
              "    </tr>\n",
              "  </tbody>\n",
              "</table>\n",
              "</div>"
            ],
            "text/plain": [
              "          Loss  Accuracy\n",
              "Std   0.004829  0.002026\n",
              "Mean  2.143682  0.418078"
            ]
          },
          "metadata": {
            "tags": []
          },
          "execution_count": 60
        }
      ]
    },
    {
      "cell_type": "markdown",
      "metadata": {
        "id": "J3uodNoZkjJZ"
      },
      "source": [
        "Wprowadzone perturbacje wyraźnie pogorszyły trafność modelu ale ciekawe jest to, że tym razem odchylenie standardowe nie jest zauważalnie duże."
      ]
    },
    {
      "cell_type": "markdown",
      "metadata": {
        "id": "sJjAjgd1pEtE"
      },
      "source": [
        "# Podsumowanie\n",
        "Największą różnicę w wynikach uzyskałem wprowadzjąc szum do danych wejściowych. Jeśli model nie uczył się na zaszumionych danych to ma to jak najbardziej sens. Również perturbację w początkowych warstwach bardzo negatywnie odbijają się na całym modelu, ponieważ tak jak wspomniałem wcześniej znaczenie tego błędu może nabierać na sile przy przechodzeniu przez kolejne warstwy"
      ]
    },
    {
      "cell_type": "code",
      "metadata": {
        "id": "LZoG7qIipoTM"
      },
      "source": [
        ""
      ],
      "execution_count": null,
      "outputs": []
    }
  ]
}