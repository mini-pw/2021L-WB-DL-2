{
 "cells": [
  {
   "cell_type": "markdown",
   "id": "unlike-korea",
   "metadata": {},
   "source": [
    "# Praca domowa nr 4\n",
    "\n",
    "Adrianna Grudzień\\\n",
    "22 kwietnia 2021 r. \n",
    "\n",
    "W ramach pracy domowej z przedmiotu Warsztaty badawcze zbadałam `wrażliwość sieci neuronowej` zbudowanej dla zbioru CIFAR-10. Dokonałam perturbacji w obrębie:\n",
    "\n",
    "1. danych wejściowych\n",
    "2. wszystkich wag modelu\n",
    "3. wag w określonej warstwie\n"
   ]
  },
  {
   "cell_type": "code",
   "execution_count": 2,
   "id": "southern-utilization",
   "metadata": {},
   "outputs": [],
   "source": [
    "import time\n",
    "import matplotlib.pyplot as plt\n",
    "import numpy as np\n",
    "import pandas as pd\n",
    "\n",
    "from keras.models import Sequential\n",
    "from keras.layers.convolutional import Convolution2D, MaxPooling2D\n",
    "from keras.layers import Dropout, Flatten, Dense\n",
    "\n",
    "from keras.utils import np_utils"
   ]
  },
  {
   "cell_type": "code",
   "execution_count": 3,
   "id": "original-petite",
   "metadata": {},
   "outputs": [],
   "source": [
    "from keras.datasets import cifar10"
   ]
  },
  {
   "cell_type": "code",
   "execution_count": 4,
   "id": "cleared-journalist",
   "metadata": {},
   "outputs": [],
   "source": [
    "(X_train, y_train), (X_test, y_test) = cifar10.load_data()\n",
    "\n",
    "num_classes = len(np.unique(y_train)) # liczba klas (10)\n",
    "X_train = X_train.astype('float32')/255 # normalizujemy; dzielimy przez 255, bo jest to największa występująca wartość\n",
    "X_test = X_test.astype('float32')/255\n",
    "y_train = np_utils.to_categorical(y_train, num_classes) # one-hot enc.\n",
    "y_test = np_utils.to_categorical(y_test, num_classes)"
   ]
  },
  {
   "cell_type": "markdown",
   "id": "structural-postcard",
   "metadata": {},
   "source": [
    "### Przykładowy obrazek\n",
    "\n",
    "Klasy występujące w zbiorze to `['airplane','automobile','bird','cat','deer','dog','frog','horse','ship','truck']`"
   ]
  },
  {
   "cell_type": "code",
   "execution_count": 4,
   "id": "veterinary-newman",
   "metadata": {},
   "outputs": [
    {
     "data": {
      "image/png": "[encoded data removed]",
      "text/plain": [
       "<Figure size 432x288 with 1 Axes>"
      ]
     },
     "metadata": {
      "needs_background": "light"
     },
     "output_type": "display_data"
    }
   ],
   "source": [
    "plt.imshow(X_test[163])\n",
    "plt.title('frog')\n",
    "plt.show()"
   ]
  },
  {
   "cell_type": "markdown",
   "id": "suspended-notice",
   "metadata": {},
   "source": [
    "### Funkcje pomocnicze"
   ]
  },
  {
   "cell_type": "code",
   "execution_count": 5,
   "id": "impossible-supplement",
   "metadata": {},
   "outputs": [],
   "source": [
    "def miary_jakosci(model, X_test, y_test):\n",
    "    score = model.evaluate(X_test, y_test, verbose=0)\n",
    "    return score\n",
    "\n",
    "def wielokrotny_trening(model, X_train, y_train, X_test, y_test, n=3):\n",
    "    wektor_acc = []\n",
    "    wektor_loss = []\n",
    "    for i in range(n):\n",
    "        results = model.fit(X_train, y_train, epochs=10, batch_size=64, validation_data=(X_test, y_test), verbose=0)\n",
    "        score = miary_jakosci(model, X_test, y_test)\n",
    "        wektor_loss.append(score[0])\n",
    "        wektor_acc.append(score[1])\n",
    "    print('Accuracy\\n mean:', np.mean(wektor_acc), '\\n std:', np.std(wektor_acc))\n",
    "    print('Loss\\n mean:', np.mean(wektor_loss), '\\n std:', np.std(wektor_loss))"
   ]
  },
  {
   "cell_type": "markdown",
   "id": "spatial-mailman",
   "metadata": {},
   "source": [
    "# Model"
   ]
  },
  {
   "cell_type": "code",
   "execution_count": 6,
   "id": "single-reynolds",
   "metadata": {},
   "outputs": [],
   "source": [
    "def buduj_model():\n",
    "    model = Sequential()\n",
    "\n",
    "    model.add(Convolution2D(48,(3, 3),activation='relu',input_shape=(32,32,3)))\n",
    "    model.add(MaxPooling2D((2, 2)))\n",
    "    model.add(Dropout(0.27))\n",
    "\n",
    "    model.add(Convolution2D(192,(3, 3),activation='relu'))\n",
    "    model.add(MaxPooling2D((2, 2)))\n",
    "    model.add(Dropout(0.28))\n",
    "\n",
    "    model.add(Flatten())\n",
    "    model.add(Dense(512,activation = 'relu'))\n",
    "    model.add(Dropout(0.4))\n",
    "\n",
    "    model.add(Dense(256,activation = 'relu'))\n",
    "    model.add(Dropout(0.5))\n",
    "    model.add(Dense(num_classes, activation='softmax'))\n",
    "    model.compile(optimizer='adam', loss='categorical_crossentropy', metrics=['accuracy'])\n",
    "    \n",
    "    return model\n",
    "\n",
    "model = buduj_model()"
   ]
  },
  {
   "cell_type": "code",
   "execution_count": 7,
   "id": "southern-tribute",
   "metadata": {},
   "outputs": [
    {
     "name": "stdout",
     "output_type": "stream",
     "text": [
      "Accuracy\n",
      " mean: 0.7441333532333374 \n",
      " std: 0.007023940891734534\n",
      "Loss\n",
      " mean: 0.7707138856252035 \n",
      " std: 0.010700586374148412\n"
     ]
    }
   ],
   "source": [
    "wielokrotny_trening(model, X_train, y_train, X_test, y_test, n=3)buduj_model"
   ]
  },
  {
   "cell_type": "markdown",
   "id": "proved-prairie",
   "metadata": {},
   "source": [
    "# Perturbacja danych wejściowych\n",
    "\n",
    "W każdym obrazku wybieram średnio 10% wszystkich pikseli i losowo zmieniam ich wartość."
   ]
  },
  {
   "cell_type": "markdown",
   "id": "historical-college",
   "metadata": {},
   "source": [
    "### Obrazek przed modyfikacją"
   ]
  },
  {
   "cell_type": "code",
   "execution_count": 8,
   "id": "vulnerable-macro",
   "metadata": {},
   "outputs": [
    {
     "data": {
      "text/plain": [
       "<matplotlib.image.AxesImage at 0x7fac4d5e3310>"
      ]
     },
     "execution_count": 8,
     "metadata": {},
     "output_type": "execute_result"
    },
    {
     "data": {
      "image/png": "[encoded data removed]",
      "text/plain": [
       "<Figure size 432x288 with 1 Axes>"
      ]
     },
     "metadata": {
      "needs_background": "light"
     },
     "output_type": "display_data"
    }
   ],
   "source": [
    "plt.imshow(X_train[120])"
   ]
  },
  {
   "cell_type": "code",
   "execution_count": 7,
   "id": "other-uganda",
   "metadata": {},
   "outputs": [],
   "source": [
    "def zaszum(dataset):\n",
    "    number =  dataset.shape[0]\n",
    "    p = 0.9 # prawdopodobieństwo niewybrania piksela\n",
    "    for i in range(number):\n",
    "        im = dataset[i]\n",
    "        wybrane_piksele = np.random.choice(a=[False, True], size=im.shape, p=[p, 1-p])\n",
    "        nowa_macierz = np.random.random(im.shape)\n",
    "        im[wybrane_piksele] = nowa_macierz[wybrane_piksele]\n",
    "\n",
    "zaszum(X_train)\n",
    "zaszum(X_test)"
   ]
  },
  {
   "cell_type": "markdown",
   "id": "cubic-manufacturer",
   "metadata": {},
   "source": [
    "### Obrazek po modyfikacji"
   ]
  },
  {
   "cell_type": "code",
   "execution_count": 10,
   "id": "scenic-times",
   "metadata": {},
   "outputs": [
    {
     "data": {
      "text/plain": [
       "<matplotlib.image.AxesImage at 0x7fac4d3bcb50>"
      ]
     },
     "execution_count": 10,
     "metadata": {},
     "output_type": "execute_result"
    },
    {
     "data": {
      "image/png": "[encoded data removed]",
      "text/plain": [
       "<Figure size 432x288 with 1 Axes>"
      ]
     },
     "metadata": {
      "needs_background": "light"
     },
     "output_type": "display_data"
    }
   ],
   "source": [
    "plt.imshow(X_train[120])"
   ]
  },
  {
   "cell_type": "code",
   "execution_count": 8,
   "id": "academic-latvia",
   "metadata": {},
   "outputs": [
    {
     "name": "stdout",
     "output_type": "stream",
     "text": [
      "Accuracy\n",
      " mean: 0.6791666746139526 \n",
      " std: 0.012047772491502396\n",
      "Loss\n",
      " mean: 0.939781387646993 \n",
      " std: 0.013655611878869265\n"
     ]
    }
   ],
   "source": [
    "wielokrotny_trening(model,X_train, y_train, X_test, y_test, n=3)"
   ]
  },
  {
   "cell_type": "markdown",
   "id": "designing-thickness",
   "metadata": {},
   "source": [
    "Dla przypomnienia - dla początkowego modelu otrzymaliśmy następujące wyniki:\n",
    "\n",
    "```R\n",
    "Accuracy\n",
    " mean: 0.7441333532333374 \n",
    " std: 0.007023940891734534\n",
    "Loss\n",
    " mean: 0.7707138856252035 \n",
    " std: 0.010700586374148412\n",
    "```\n",
    "Jak widzimy, wyniki znacząco się pogorszyły. Średnie accuracy zmalało, a jego odchylenie standardowe zwiększyło się. Średnie loss oraz jego odchylenie standardowe zwiększyło się.\n",
    "\n",
    "Wynika z tego, że zaszumienie obrazków jest niewskazane."
   ]
  },
  {
   "cell_type": "markdown",
   "id": "subtle-cliff",
   "metadata": {},
   "source": [
    "# Perturbacja wszystkich wag modelu\n",
    "\n",
    "Modyfikujemy wszystkie wagi modelu. Dla uproszczenia do każdej wartości dodajemy 0.01."
   ]
  },
  {
   "cell_type": "code",
   "execution_count": 19,
   "id": "tutorial-ukraine",
   "metadata": {},
   "outputs": [],
   "source": [
    "#  Przygotowujemy zbiory od nowa\n",
    "(X_train, y_train), (X_test, y_test) = cifar10.load_data()\n",
    "num_classes = len(np.unique(y_train)) # liczba klas (10)\n",
    "X_train = X_train.astype('float32')/255\n",
    "X_test = X_test.astype('float32')/255\n",
    "y_train = np_utils.to_categorical(y_train, num_classes)\n",
    "y_test = np_utils.to_categorical(y_test, num_classes)"
   ]
  },
  {
   "cell_type": "code",
   "execution_count": 20,
   "id": "intense-surgery",
   "metadata": {},
   "outputs": [],
   "source": [
    "# funkcja tworząca model ze zmodyfikowanymi wagami we wszystkich warstwach\n",
    "def zmiana_wag(): \n",
    "    #  Przygotowujemy zbiory od nowa\n",
    "    (X_train, y_train), (X_test, y_test) = cifar10.load_data()\n",
    "    num_classes = len(np.unique(y_train)) # liczba klas (10)\n",
    "    X_train = X_train.astype('float32')/255\n",
    "    X_test = X_test.astype('float32')/255\n",
    "    y_train = np_utils.to_categorical(y_train, num_classes)\n",
    "    y_test = np_utils.to_categorical(y_test, num_classes)\n",
    "    # Przygotowujemy model od nowa\n",
    "    model = buduj_model()\n",
    "    # Trenujemy model\n",
    "    model.fit(X_train, y_train, epochs=10, batch_size=64, validation_data=(X_test, y_test), verbose=0)\n",
    "    # Zmieniamy wagi\n",
    "    wagi = np.array(model.get_weights())\n",
    "    model.set_weights(wagi + 0.01)\n",
    "    return model\n",
    "\n",
    "def zmieniaj_wielokrotnie(n=3):\n",
    "    wektor_acc = []\n",
    "    wektor_loss = []\n",
    "    for i in range(n):\n",
    "        model = zmiana_wag()\n",
    "        score = miary_jakosci(model, X_test, y_test)\n",
    "        wektor_loss.append(score[0])\n",
    "        wektor_acc.append(score[1])\n",
    "    print('Accuracy\\n mean:', np.mean(wektor_acc), '\\n std:', np.std(wektor_acc))\n",
    "    print('Loss\\n mean:', np.mean(wektor_loss), '\\n std:', np.std(wektor_loss))        "
   ]
  },
  {
   "cell_type": "code",
   "execution_count": 21,
   "id": "handled-liability",
   "metadata": {},
   "outputs": [
    {
     "name": "stderr",
     "output_type": "stream",
     "text": [
      "/home/ada/anaconda3/lib/python3.7/site-packages/ipykernel_launcher.py:15: VisibleDeprecationWarning: Creating an ndarray from ragged nested sequences (which is a list-or-tuple of lists-or-tuples-or ndarrays with different lengths or shapes) is deprecated. If you meant to do this, you must specify 'dtype=object' when creating the ndarray\n",
      "  from ipykernel import kernelapp as app\n"
     ]
    },
    {
     "name": "stdout",
     "output_type": "stream",
     "text": [
      "Accuracy\n",
      " mean: 0.23526667058467865 \n",
      " std: 0.025273087236045853\n",
      "Loss\n",
      " mean: 21.108353932698567 \n",
      " std: 4.367065232855363\n"
     ]
    }
   ],
   "source": [
    "zmieniaj_wielokrotnie(3)"
   ]
  },
  {
   "cell_type": "markdown",
   "id": "outside-stack",
   "metadata": {},
   "source": [
    "Dla przypomnienia - dla początkowego modelu otrzymaliśmy następujące wyniki:\n",
    "\n",
    "```R\n",
    "Accuracy\n",
    " mean: 0.7441333532333374 \n",
    " std: 0.007023940891734534\n",
    "Loss\n",
    " mean: 0.7707138856252035 \n",
    " std: 0.010700586374148412\n",
    "```\n",
    "Jak widzimy, wyniki dramatycznie się pogorszyły. W celach badawczych można by poeksperymentować z modyfikacją pojedynczych wag wybieranych losowo z każdej warstwy, ale w tym przypadku zostaniemy przy zmiane wszystkich wag na raz.\n",
    "\n",
    "Średnie accuracy zmalało ponad trzykrotnie, a jego odchylenie standardowe znacząco się zwiększyło (a chcemy, żeby było jak najmniejsze). Średnie loss rozpaczliwie wzrosło - z niecałego 1 do ponad 21, jego odchylenie standardowe również wzrosło. \n",
    "\n",
    "Wyniki są zatrważające - wagi lepiej zostawić samym sobie, ewentualnie nie zmieniać wszystkich na raz."
   ]
  },
  {
   "cell_type": "markdown",
   "id": "little-directory",
   "metadata": {},
   "source": [
    "# Perturbacja wag w określonej warstwie\n",
    "\n",
    "Modyfikujemy wagi w warstwie `Dense(512,activation = 'relu')` poprzez dodanie do każdej wartości 0.01."
   ]
  },
  {
   "cell_type": "code",
   "execution_count": 23,
   "id": "verified-dating",
   "metadata": {},
   "outputs": [],
   "source": [
    "# funkcja tworząca model ze zmodyfikowanymi wagami:\n",
    "def zmiana_wag(): \n",
    "    #  Przygotowujemy zbiory od nowa\n",
    "    (X_train, y_train), (X_test, y_test) = cifar10.load_data()\n",
    "    num_classes = len(np.unique(y_train)) # liczba klas (10)\n",
    "    X_train = X_train.astype('float32')/255\n",
    "    X_test = X_test.astype('float32')/255\n",
    "    y_train = np_utils.to_categorical(y_train, num_classes)\n",
    "    y_test = np_utils.to_categorical(y_test, num_classes)\n",
    "    # Przygotowujemy model od nowa\n",
    "    model = buduj_model()\n",
    "    # Trenujemy model\n",
    "    model.fit(X_train, y_train, epochs=10, batch_size=64, validation_data=(X_test, y_test), verbose=0)\n",
    "    \n",
    "    wagi = model.layers[7].get_weights()\n",
    "    model.layers[7].set_weights([wagi[0]+0.01, wagi[1]+0.01])\n",
    "    return model\n",
    "\n",
    "def zmieniaj_wielokrotnie(n=3):\n",
    "    wektor_acc = []\n",
    "    wektor_loss = []\n",
    "    for i in range(n):\n",
    "        model = zmiana_wag()\n",
    "        score = miary_jakosci(model, X_test, y_test)\n",
    "        wektor_loss.append(score[0])\n",
    "        wektor_acc.append(score[1])\n",
    "    print('Accuracy\\n mean:', np.mean(wektor_acc), '\\n std:', np.std(wektor_acc))\n",
    "    print('Loss\\n mean:', np.mean(wektor_loss), '\\n std:', np.std(wektor_loss))        "
   ]
  },
  {
   "cell_type": "code",
   "execution_count": null,
   "id": "incomplete-boost",
   "metadata": {},
   "outputs": [],
   "source": [
    "# żeby nie wyświetlały się błędy...\n",
    "np.warnings.filterwarnings('ignore', category=np.VisibleDeprecationWarning)                 "
   ]
  },
  {
   "cell_type": "code",
   "execution_count": 24,
   "id": "ignored-girlfriend",
   "metadata": {},
   "outputs": [
    {
     "name": "stdout",
     "output_type": "stream",
     "text": [
      "Accuracy\n",
      " mean: 0.7125333348910013 \n",
      " std: 0.01065623014715914\n",
      "Loss\n",
      " mean: 0.9471496939659119 \n",
      " std: 0.015754252560089655\n"
     ]
    }
   ],
   "source": [
    "zmieniaj_wielokrotnie(3)"
   ]
  },
  {
   "cell_type": "markdown",
   "id": "sacred-annual",
   "metadata": {},
   "source": [
    "Dla przypomnienia - dla `pierwotnego modelu` otrzymaliśmy następujące wyniki:\n",
    "\n",
    "```R\n",
    "Accuracy\n",
    " mean: 0.7441333532333374 \n",
    " std: 0.007023940891734534\n",
    "Loss\n",
    " mean: 0.7707138856252035 \n",
    " std: 0.010700586374148412\n",
    "```\n",
    "oraz dla zmodyfikowanych wag `we wszystkich warstwach`:\n",
    "\n",
    "```R\n",
    "Accuracy\n",
    " mean: 0.23526667058467865 \n",
    " std: 0.025273087236045853\n",
    "Loss\n",
    " mean: 21.108353932698567 \n",
    " std: 4.367065232855363\n",
    "```\n",
    "to jeszcze wypiszemy ładnie dla wag zmienionych `w jednej warstwie`:\n",
    "```R\n",
    "Accuracy\n",
    " mean: 0.7125333348910013 \n",
    " std: 0.01065623014715914\n",
    "Loss\n",
    " mean: 0.9471496939659119 \n",
    " std: 0.015754252560089655\n",
    "```\n",
    "\n",
    "Jak widzimy, wyniki, w porówaniu do pierwotnego modelu, nieznacznie się zmieniły. Średnie accuracy zmalało o 0.03, a jego odchylenie standardowe wzrosło (to źle). Średnie loss wzrosło z 0.77 do 0.95, a jego odchylenie standardowe zwiększyło się o 0.005.\n",
    "\n",
    "Intuicyjnie, perturbacje wag z tylko jednej warstwy powinny powodować mniejsze pogorszenie modelu niż perturbacje wag wszystkich warstw. Czy rzeczywiście tak jest? Tak, różnica wyników jest kolosalnie przytłaczająca."
   ]
  },
  {
   "cell_type": "markdown",
   "id": "photographic-gothic",
   "metadata": {},
   "source": [
    "### Wnioski"
   ]
  },
  {
   "cell_type": "markdown",
   "id": "saved-future",
   "metadata": {},
   "source": [
    "Wnioski są takie, że nawet małe zmiany wagowe i danych wejściowych mają wpływ na końcowy wynik modelu i jego miary jakości. Dobrze jest mieć obrazki dobrej jakości (bez żadnych szumów) oraz dobrze jest nie zmieniać wag ręcznie."
   ]
  },
  {
   "cell_type": "markdown",
   "id": "romantic-basement",
   "metadata": {},
   "source": [
    "# Niepewność\n",
    "\n",
    "Istnieją dwa główne typy niepewności w uczeniu głębokim: niepewność opisująca, czego model nie wie, ponieważ dane treningowe nie były odpowiednie oraz niepewność wynikająca z ograniczonych danych i wiedzy.\n",
    "\n",
    "Z niepewnością można sobie poradzić przy pomocy prawdopodobieństwa i statystyki. Przykładowo, jeśli chodzi o błąd modelu, prawdopodobieństwo pomaga zrozumieć i określić ilościowo oczekiwaną zdolność i wariancję działania modelu predykcyjnych w zastosowaniu do nowych danych."
   ]
  }
 ],
 "metadata": {
  "kernelspec": {
   "display_name": "Python 3",
   "language": "python",
   "name": "python3"
  },
  "language_info": {
   "codemirror_mode": {
    "name": "ipython",
    "version": 3
   },
   "file_extension": ".py",
   "mimetype": "text/x-python",
   "name": "python",
   "nbconvert_exporter": "python",
   "pygments_lexer": "ipython3",
   "version": "3.7.6"
  }
 },
 "nbformat": 4,
 "nbformat_minor": 5
}
