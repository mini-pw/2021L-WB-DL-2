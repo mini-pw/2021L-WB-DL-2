{
 "cells": [
  {
   "cell_type": "code",
   "execution_count": 86,
   "id": "educational-stress",
   "metadata": {},
   "outputs": [],
   "source": [
    "import pandas as pd\n",
    "import numpy as np\n",
    "import matplotlib.pyplot as plt\n",
    "from tensorflow import keras\n",
    "import seaborn as sns\n",
    "import tensorflow as tf\n",
    "import random"
   ]
  },
  {
   "cell_type": "markdown",
   "id": "coordinated-luxembourg",
   "metadata": {},
   "source": [
    "# PD 4 - Analiza wrażliwości modelu\n",
    "Celem zadania jest przeanalizowanie wrażliwości sieci neuronowej na zaburzenia danyc wejściowych i wartości wag. Analiza wrażliwości jest ważnym elementem badania jakości modelu, zwłaszcza badanie odporności na zaburzenia danych wejściowych. Ma to duże znaczenie w szczególności w sytuacjach gdzie od modelu zależy bezpieczeństwo np. system prowadzenia autonomicznego prowadzenia samochodu. \n",
    "\n",
    "Analizę przeprowadzimy na przykładzie prostej sieci konwolucyjnej klasyfikującej zbiór danych MNIST.\n",
    "\n",
    "## Model wyjściowy"
   ]
  },
  {
   "cell_type": "code",
   "execution_count": 2,
   "id": "metropolitan-savage",
   "metadata": {},
   "outputs": [],
   "source": [
    "(x_train, y_train), (x_test, y_test) = tf.keras.datasets.mnist.load_data()\n",
    "x_train = x_train.reshape((-1,28,28,1))\n",
    "x_test = x_test.reshape((-1,28,28,1))\n",
    "x_train = x_train.astype('float32')/255.0\n",
    "x_test = x_test.astype('float32')/255.0"
   ]
  },
  {
   "cell_type": "code",
   "execution_count": 99,
   "id": "hispanic-passenger",
   "metadata": {},
   "outputs": [],
   "source": [
    "model = keras.models.Sequential([\n",
    "    keras.layers.Input(shape=(28,28,1)),\n",
    "    keras.layers.Conv2D(32, (3,3), activation='relu'),\n",
    "    keras.layers.MaxPooling2D(3),\n",
    "    keras.layers.Flatten(),\n",
    "    keras.layers.Dense(16, activation='relu'),\n",
    "    keras.layers.Dense(10, activation='softmax')\n",
    "])\n",
    "\n",
    "model.compile(optimizer='adam', loss='sparse_categorical_crossentropy', metrics=['accuracy'])"
   ]
  },
  {
   "cell_type": "code",
   "execution_count": 7,
   "id": "stretch-consolidation",
   "metadata": {},
   "outputs": [
    {
     "name": "stdout",
     "output_type": "stream",
     "text": [
      "Model: \"sequential_1\"\n",
      "_________________________________________________________________\n",
      "Layer (type)                 Output Shape              Param #   \n",
      "=================================================================\n",
      "conv2d_1 (Conv2D)            (None, 26, 26, 32)        320       \n",
      "_________________________________________________________________\n",
      "max_pooling2d_1 (MaxPooling2 (None, 8, 8, 32)          0         \n",
      "_________________________________________________________________\n",
      "flatten_1 (Flatten)          (None, 2048)              0         \n",
      "_________________________________________________________________\n",
      "dense_2 (Dense)              (None, 16)                32784     \n",
      "_________________________________________________________________\n",
      "dense_3 (Dense)              (None, 10)                170       \n",
      "=================================================================\n",
      "Total params: 33,274\n",
      "Trainable params: 33,274\n",
      "Non-trainable params: 0\n",
      "_________________________________________________________________\n",
      "None\n",
      "Epoch 1/10\n",
      "1594/1594 [==============================] - 9s 6ms/step - loss: 0.6184 - accuracy: 0.8049 - val_loss: 0.1174 - val_accuracy: 0.9661\n",
      "Epoch 2/10\n",
      "1594/1594 [==============================] - 9s 6ms/step - loss: 0.1096 - accuracy: 0.9670 - val_loss: 0.0865 - val_accuracy: 0.9757\n",
      "Epoch 3/10\n",
      "1594/1594 [==============================] - 9s 6ms/step - loss: 0.0756 - accuracy: 0.9769 - val_loss: 0.0635 - val_accuracy: 0.9829\n",
      "Epoch 4/10\n",
      "1594/1594 [==============================] - 9s 6ms/step - loss: 0.0583 - accuracy: 0.9823 - val_loss: 0.0678 - val_accuracy: 0.9814\n",
      "Epoch 5/10\n",
      "1594/1594 [==============================] - 10s 6ms/step - loss: 0.0545 - accuracy: 0.9831 - val_loss: 0.0602 - val_accuracy: 0.9831\n",
      "Epoch 6/10\n",
      "1594/1594 [==============================] - 9s 6ms/step - loss: 0.0480 - accuracy: 0.9854 - val_loss: 0.0565 - val_accuracy: 0.9844\n",
      "Epoch 7/10\n",
      "1594/1594 [==============================] - 9s 6ms/step - loss: 0.0386 - accuracy: 0.9880 - val_loss: 0.0523 - val_accuracy: 0.9847\n",
      "Epoch 8/10\n",
      "1594/1594 [==============================] - 9s 6ms/step - loss: 0.0326 - accuracy: 0.9895 - val_loss: 0.0532 - val_accuracy: 0.9866\n",
      "Epoch 9/10\n",
      "1594/1594 [==============================] - 13s 8ms/step - loss: 0.0281 - accuracy: 0.9916 - val_loss: 0.0527 - val_accuracy: 0.9857\n",
      "Epoch 10/10\n",
      "1594/1594 [==============================] - 10s 6ms/step - loss: 0.0254 - accuracy: 0.9921 - val_loss: 0.0564 - val_accuracy: 0.9858\n"
     ]
    }
   ],
   "source": [
    "print(model.summary())\n",
    "history = model.fit(x_train, y_train, epochs=10, validation_split=0.15)"
   ]
  },
  {
   "cell_type": "code",
   "execution_count": 10,
   "id": "electrical-exchange",
   "metadata": {},
   "outputs": [],
   "source": [
    "#model.save_weights('base_weights.h5')"
   ]
  },
  {
   "cell_type": "markdown",
   "id": "registered-praise",
   "metadata": {},
   "source": [
    "## Zaburzanie danych wejściowych\n",
    "Na początku zbadajmy wpływ zaburzenia danych wejściowych na działanie sieci. Zaburzenie będzie polegało na nastawieniu wartości `0.75` losowym pikselom każdego obrazka. Ile takich pikseli ma być zaburzonych ustawimy parametrem na `image_fraction` na wartość `0.05`, czyli 5% pikseli zostanie zmienionych."
   ]
  },
  {
   "cell_type": "code",
   "execution_count": 4,
   "id": "reserved-starter",
   "metadata": {},
   "outputs": [],
   "source": [
    "# funkcja zaburzająca dane w calym podanym zbiorze\n",
    "def perturbate_data(X_source, data_fraction, image_fraction):\n",
    "    X = X_source.copy()\n",
    "    x_length = X.shape[0]\n",
    "    \n",
    "    for i_sample in np.random.choice(x_length, int(data_fraction*x_length)):\n",
    "        image = X[i_sample].copy()\n",
    "        image = np.reshape(image, (-1))\n",
    "        pixel_indexes = np.random.choice(784, int(784*image_fraction), replace=False)\n",
    "        image[pixel_indexes] = 0.75\n",
    "        image = np.reshape(image, (28,28,1))\n",
    "        X[i_sample] = image\n",
    "    \n",
    "    return X"
   ]
  },
  {
   "cell_type": "code",
   "execution_count": 52,
   "id": "equivalent-fiction",
   "metadata": {},
   "outputs": [],
   "source": [
    "x_changed = perturbate_data(x_test, 1, 0.05)"
   ]
  },
  {
   "cell_type": "code",
   "execution_count": 64,
   "id": "married-document",
   "metadata": {},
   "outputs": [
    {
     "data": {
      "image/png": "[encoded data removed]",
      "text/plain": [
       "<Figure size 640x480 with 2 Axes>"
      ]
     },
     "metadata": {},
     "output_type": "display_data"
    }
   ],
   "source": [
    "fig, (ax1, ax2) = plt.subplots(1,2)\n",
    "ax1.imshow(x_test[1][:,:,0], cmap='gray') \n",
    "ax2.imshow(x_changed[1][:,:,0], cmap='gray')\n",
    "#fig.set_size_inches(10,5)\n",
    "fig.suptitle('Przykładowe zaburzenie obrazka')\n",
    "fig.subplots_adjust(top=1.25)\n",
    "plt.show()"
   ]
  },
  {
   "cell_type": "markdown",
   "id": "continuous-building",
   "metadata": {},
   "source": [
    "Model na oryginalnych danych testowych uzyskał dokładność 98.6%. Podczas 20 prób na zaburzoncych danych testowych, dokładność spadała średnio do  82.5%. Co ciekawe, odchylenie standardowe jest bardzo małe (0.00229), wszystkie próby dały prawie identyczne wyniki."
   ]
  },
  {
   "cell_type": "code",
   "execution_count": 44,
   "id": "varied-resort",
   "metadata": {},
   "outputs": [
    {
     "name": "stdout",
     "output_type": "stream",
     "text": [
      "0.9861\n"
     ]
    }
   ],
   "source": [
    "# wynik na zbiorze testowym, bedzie to nasz punkt odniesienia\n",
    "from sklearn.metrics import accuracy_score\n",
    "y_pred = np.argmax(model.predict(x_test), axis=-1)\n",
    "print(accuracy_score(y_test, y_pred))"
   ]
  },
  {
   "cell_type": "code",
   "execution_count": 46,
   "id": "saving-energy",
   "metadata": {},
   "outputs": [
    {
     "name": "stdout",
     "output_type": "stream",
     "text": [
      "Mean accuracy:  0.825005\n",
      "std:  0.002288753970360746\n"
     ]
    }
   ],
   "source": [
    "results = []\n",
    "for i in range(20):\n",
    "    x_changed = perturbate_data(x_test, 1, 0.05)\n",
    "    y_pred = np.argmax(model.predict(x_changed), axis=-1)\n",
    "    results.append(accuracy_score(y_test, y_pred))\n",
    "results = pd.Series(results)\n",
    "print('Mean accuracy: ', results.mean())\n",
    "print('std: ', results.std())"
   ]
  },
  {
   "cell_type": "markdown",
   "id": "accessible-fancy",
   "metadata": {},
   "source": [
    "Ponieważ wyniki na zaburzonych danych mają małe odchylenie standardowe, można małym kosztem (bez konieczności wielokrotnego powtarzania) sprawdzić jak liczba zmienionych pikseli (sprawdzimy dla zakresu od 0% do 80% zmienionych pikseli) będzie wpływać na wyniki predykcji."
   ]
  },
  {
   "cell_type": "code",
   "execution_count": 92,
   "id": "sharing-reducing",
   "metadata": {},
   "outputs": [],
   "source": [
    "results = []\n",
    "for image_fraction in np.linspace(0,0.8, num = 80):\n",
    "    for _ in range(3):\n",
    "        x_changed = perturbate_data(x_test, 1, image_fraction)\n",
    "        y_pred = np.argmax(model.predict(x_changed), axis=-1)\n",
    "        results.append({'changed_pixel_rate':image_fraction, 'accuracy':accuracy_score(y_test, y_pred)})\n",
    "results = pd.DataFrame(results)"
   ]
  },
  {
   "cell_type": "code",
   "execution_count": 98,
   "id": "radio-finding",
   "metadata": {},
   "outputs": [
    {
     "data": {
      "text/plain": [
       "[(0.0, 1.0)]"
      ]
     },
     "execution_count": 98,
     "metadata": {},
     "output_type": "execute_result"
    },
    {
     "data": {
      "image/png": "[encoded data removed]",
      "text/plain": [
       "<Figure size 800x600 with 1 Axes>"
      ]
     },
     "metadata": {},
     "output_type": "display_data"
    }
   ],
   "source": [
    "sns.set_style(\"whitegrid\")\n",
    "g = sns.lineplot(data=results, x='changed_pixel_rate', y='accuracy')\n",
    "g.figure.set_size_inches(8,6)\n",
    "g.set(ylim=(0,1))"
   ]
  },
  {
   "cell_type": "markdown",
   "id": "forward-african",
   "metadata": {},
   "source": [
    "Największe spadki dokładnośći następują przy zwiększaniu liczby zmienionych pikseli do 20%. Dalsze zmienianie wartości pikseli nie ma aż takiego wpływu, zbiegając do wartości około 42%. Można również zauważyć, że małe odchylenie standardowe występuje również dla wszystkich innych odsetków zmienionych pikseli (dla każdej liczby zmienionych pikseli test przeprowadzono trzy razy, a wykres posiada zakresy niepewności)."
   ]
  },
  {
   "cell_type": "markdown",
   "id": "delayed-village",
   "metadata": {},
   "source": [
    "## Zaburzanie wag modelu\n",
    "Teraz sprawdźmy jak zaburzenie wag modelu wpłynie na jego wyniki klasyfikacji. Zaburzenie będzie polegało na przemnożeniu wag przez losowy mnożnik z zakresu `[1/a, a]` gdzie `a` podajemy jako parametr funkcji dokonującej zaburzenia (`factor_range`)."
   ]
  },
  {
   "cell_type": "code",
   "execution_count": 79,
   "id": "higher-newspaper",
   "metadata": {},
   "outputs": [],
   "source": [
    "# funkcja zmieniajaca losowe elementy wielowymiarowej macierzy\n",
    "def perturbate_matrix(X_input, fraction, factor_range=2):\n",
    "    X = X_input.copy()\n",
    "    shape = X.shape\n",
    "    X = np.reshape(X, (-1))\n",
    "    indexes = np.random.choice(len(X), int(len(X)*fraction), replace=False)\n",
    "    X[indexes] *= random.uniform(1/factor_range, factor_range)\n",
    "    X = np.reshape(X, shape)\n",
    "    return X\n",
    "\n",
    "# funkcja zmieniajaca losowo wagi podanej warstwy modelu\n",
    "def perturbate_layer(model, layer_i, factor_range):\n",
    "    if len(model.layers[layer_i].get_weights()) != 0:\n",
    "            weights = model.layers[layer_i].get_weights()\n",
    "            weights[0] = perturbate_matrix(weights[0], 1, factor_range)\n",
    "            weights[1] = perturbate_matrix(weights[1], 1, factor_range)\n",
    "            model.layers[layer_i].set_weights(weights)\n",
    "            \n",
    "# funkcja zmieniajaca losowo wszystkie wagi modelu\n",
    "def perturbate_all_weights(model,factor_range):\n",
    "    for layer_i in range(len(model.layers)):\n",
    "        perturbate_layer(model, layer_i, factor_range)\n",
    "            "
   ]
  },
  {
   "cell_type": "markdown",
   "id": "dirty-amendment",
   "metadata": {},
   "source": [
    "### Zaburzenie wszystkich wag\n",
    "Rozregulujmy teraz wagi wszystkich warstw i sprawdźmy dokładność modelu na zbiorze testowym. Każdą wagę przemnożymy przez losowy mnożnik z zakresu `[0.333, 3]`. Powtórzmy to 20 razy aby zmierzyć odchylenie standardowe."
   ]
  },
  {
   "cell_type": "code",
   "execution_count": 80,
   "id": "advance-theorem",
   "metadata": {},
   "outputs": [
    {
     "name": "stdout",
     "output_type": "stream",
     "text": [
      "Mean accuracy:  0.7184250000000001\n",
      "std:  0.26509602803314003\n"
     ]
    }
   ],
   "source": [
    "results = []\n",
    "for i in range(20):\n",
    "    model.load_weights('base_weights.h5')\n",
    "    perturbate_all_weights(model, 3)\n",
    "    y_pred = np.argmax(model.predict(x_test), axis=-1)\n",
    "    results.append(accuracy_score(y_test, y_pred))\n",
    "results = pd.Series(results)\n",
    "print('Mean accuracy: ', results.mean())\n",
    "print('std: ', results.std())"
   ]
  },
  {
   "cell_type": "markdown",
   "id": "suffering-railway",
   "metadata": {},
   "source": [
    "Podczas prób, dokładność spadła średnio do 71.8% (z pierwotnych 98.6%). Odchylenie standardowe w tym przypadku jest już znacznie większe (0.265) niż w przypadku perturbacji danych wejściowych.\n",
    "\n",
    "### Zaburzanie wag warstwy gęstej\n",
    "Zróbmy to samo ale tylko w przypadku przedostatniej warstwy gęstej. Jako że będziemy zmieniać wagi tylko jednej warstwy, zwiększmy zakres możliwych mnożników do `[0.2, 5]`."
   ]
  },
  {
   "cell_type": "code",
   "execution_count": 83,
   "id": "daily-ferry",
   "metadata": {},
   "outputs": [
    {
     "data": {
      "text/plain": [
       "[<tensorflow.python.keras.layers.convolutional.Conv2D at 0x13955dbb0>,\n",
       " <tensorflow.python.keras.layers.pooling.MaxPooling2D at 0x13957e6d0>,\n",
       " <tensorflow.python.keras.layers.core.Flatten at 0x13957ea00>,\n",
       " <tensorflow.python.keras.layers.core.Dense at 0x13957ebb0>,\n",
       " <tensorflow.python.keras.layers.core.Dense at 0x13957eee0>]"
      ]
     },
     "execution_count": 83,
     "metadata": {},
     "output_type": "execute_result"
    }
   ],
   "source": [
    "model.layers"
   ]
  },
  {
   "cell_type": "code",
   "execution_count": 82,
   "id": "broad-peter",
   "metadata": {},
   "outputs": [
    {
     "name": "stdout",
     "output_type": "stream",
     "text": [
      "Mean accuracy:  0.9837200000000001\n",
      "std:  0.009530262049746689\n"
     ]
    }
   ],
   "source": [
    "results = []\n",
    "for i in range(20):\n",
    "    model.load_weights('base_weights.h5')\n",
    "    perturbate_layer(model, 3, 5)\n",
    "    y_pred = np.argmax(model.predict(x_test), axis=-1)\n",
    "    results.append(accuracy_score(y_test, y_pred))\n",
    "results = pd.Series(results)\n",
    "print('Mean accuracy: ', results.mean())\n",
    "print('std: ', results.std())"
   ]
  },
  {
   "cell_type": "markdown",
   "id": "dynamic-gathering",
   "metadata": {},
   "source": [
    "Zaburzenia wag warstwy gęstej najmniej wpłynęły na wyniki osiągane przez model. Dokładność spadała średnio do 98.3% co jest wynikiem gorszym tylko o 0.03% od pierwotnej niezaburzonej sieci. Małe odchylenie standardowe (0.009) wskazuje że jest to całkiem powatrzalny rezultat."
   ]
  },
  {
   "cell_type": "markdown",
   "id": "useful-track",
   "metadata": {},
   "source": [
    "### Źródła\n",
    "* [Hai Shu, Hongtu Zhu, Sensitivity Analysis of Deep Neural Networks](https://arxiv.org/abs/1901.07152)"
   ]
  }
 ],
 "metadata": {
  "kernelspec": {
   "display_name": "Python 3",
   "language": "python",
   "name": "python3"
  },
  "language_info": {
   "codemirror_mode": {
    "name": "ipython",
    "version": 3
   },
   "file_extension": ".py",
   "mimetype": "text/x-python",
   "name": "python",
   "nbconvert_exporter": "python",
   "pygments_lexer": "ipython3",
   "version": "3.8.2"
  }
 },
 "nbformat": 4,
 "nbformat_minor": 5
}
